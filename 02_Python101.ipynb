{
  "cells": [
    {
      "cell_type": "markdown",
      "metadata": {
        "id": "view-in-github",
        "colab_type": "text"
      },
      "source": [
        "<a href=\"https://colab.research.google.com/github/ananyapoonsawat/Python_dataviz2023/blob/main/02_Python101.ipynb\" target=\"_parent\"><img src=\"https://colab.research.google.com/assets/colab-badge.svg\" alt=\"Open In Colab\"/></a>"
      ]
    },
    {
      "cell_type": "markdown",
      "id": "b34f60d4",
      "metadata": {
        "id": "b34f60d4"
      },
      "source": [
        "# Introduction to Python Coding 🐍"
      ]
    },
    {
      "cell_type": "code",
      "execution_count": 1,
      "id": "a65d6619",
      "metadata": {
        "id": "a65d6619",
        "outputId": "63c3340c-83fd-46c6-83db-abf08f99e750",
        "colab": {
          "base_uri": "https://localhost:8080/"
        }
      },
      "outputs": [
        {
          "output_type": "stream",
          "name": "stdout",
          "text": [
            "My first Python code!\n",
            "Python is easier than I expected!!!\n"
          ]
        }
      ],
      "source": [
        "print (\"My first Python code!\")\n",
        "print (\"Python is easier than I expected!!!\")"
      ]
    },
    {
      "cell_type": "markdown",
      "id": "c23476ec",
      "metadata": {
        "id": "c23476ec"
      },
      "source": [
        "To check your Python version and other extensions' version"
      ]
    },
    {
      "cell_type": "code",
      "execution_count": 2,
      "id": "4570fc63",
      "metadata": {
        "scrolled": false,
        "id": "4570fc63",
        "outputId": "797e05e7-ee40-40d9-b970-34bfb37d48ff",
        "colab": {
          "base_uri": "https://localhost:8080/"
        }
      },
      "outputs": [
        {
          "output_type": "stream",
          "name": "stdout",
          "text": [
            "Python 3.10.12\n"
          ]
        }
      ],
      "source": [
        "!python --version"
      ]
    },
    {
      "cell_type": "code",
      "execution_count": 3,
      "id": "c587b2ce",
      "metadata": {
        "scrolled": true,
        "id": "c587b2ce",
        "outputId": "93cb7efb-bfdc-486e-c43a-b22c0f97dc79",
        "colab": {
          "base_uri": "https://localhost:8080/",
          "height": 428
        }
      },
      "outputs": [
        {
          "output_type": "stream",
          "name": "stdout",
          "text": [
            "Collecting version_information\n",
            "  Downloading version_information-1.0.4.tar.gz (3.8 kB)\n",
            "  Preparing metadata (setup.py) ... \u001b[?25l\u001b[?25hdone\n",
            "Building wheels for collected packages: version_information\n",
            "  Building wheel for version_information (setup.py) ... \u001b[?25l\u001b[?25hdone\n",
            "  Created wheel for version_information: filename=version_information-1.0.4-py3-none-any.whl size=3894 sha256=e65a9ce8979d5f1d4ca654b1a5d14132c91605795b4a09c26b469fc34645410d\n",
            "  Stored in directory: /root/.cache/pip/wheels/81/48/43/91109adffe66267dfa0c5c27c05269409bc131d850c0fd386b\n",
            "Successfully built version_information\n",
            "Installing collected packages: version_information\n",
            "Successfully installed version_information-1.0.4\n"
          ]
        },
        {
          "output_type": "execute_result",
          "data": {
            "text/plain": [
              "Software versions\n",
              "Python 3.10.12 64bit [GCC 11.4.0]\n",
              "IPython 7.34.0\n",
              "OS Linux 5.15.109+ x86_64 with glibc2.35\n",
              "numpy 1.23.5\n",
              "scipy 1.10.1\n",
              "matplotlib 3.7.1\n",
              "sympy 1.12\n",
              "version_information 1.0.4\n",
              "Thu Sep 07 03:21:48 2023 UTC"
            ],
            "text/html": [
              "<table><tr><th>Software</th><th>Version</th></tr><tr><td>Python</td><td>3.10.12 64bit [GCC 11.4.0]</td></tr><tr><td>IPython</td><td>7.34.0</td></tr><tr><td>OS</td><td>Linux 5.15.109+ x86\\_64 with glibc2.35</td></tr><tr><td>numpy</td><td>1.23.5</td></tr><tr><td>scipy</td><td>1.10.1</td></tr><tr><td>matplotlib</td><td>3.7.1</td></tr><tr><td>sympy</td><td>1.12</td></tr><tr><td>version_information</td><td>1.0.4</td></tr><tr><td colspan='2'>Thu Sep 07 03:21:48 2023 UTC</td></tr></table>"
            ],
            "text/latex": "\\begin{tabular}{|l|l|}\\hline\n{\\bf Software} & {\\bf Version} \\\\ \\hline\\hline\nPython & 3.10.12 64bit [GCC 11.4.0] \\\\ \\hline\nIPython & 7.34.0 \\\\ \\hline\nOS & Linux 5.15.109+ x86\\_64 with glibc2.35 \\\\ \\hline\nnumpy & 1.23.5 \\\\ \\hline\nscipy & 1.10.1 \\\\ \\hline\nmatplotlib & 3.7.1 \\\\ \\hline\nsympy & 1.12 \\\\ \\hline\nversion_information & 1.0.4 \\\\ \\hline\n\\hline \\multicolumn{2}{|l|}{Thu Sep 07 03:21:48 2023 UTC} \\\\ \\hline\n\\end{tabular}\n",
            "application/json": {
              "Software versions": [
                {
                  "module": "Python",
                  "version": "3.10.12 64bit [GCC 11.4.0]"
                },
                {
                  "module": "IPython",
                  "version": "7.34.0"
                },
                {
                  "module": "OS",
                  "version": "Linux 5.15.109+ x86_64 with glibc2.35"
                },
                {
                  "module": "numpy",
                  "version": "1.23.5"
                },
                {
                  "module": "scipy",
                  "version": "1.10.1"
                },
                {
                  "module": "matplotlib",
                  "version": "3.7.1"
                },
                {
                  "module": "sympy",
                  "version": "1.12"
                },
                {
                  "module": "version_information",
                  "version": "1.0.4"
                }
              ]
            }
          },
          "metadata": {},
          "execution_count": 3
        }
      ],
      "source": [
        "!pip install --upgrade version_information\n",
        "%load_ext version_information\n",
        "%version_information numpy, scipy, matplotlib, sympy, version_information"
      ]
    },
    {
      "cell_type": "markdown",
      "id": "91821147",
      "metadata": {
        "id": "91821147"
      },
      "source": [
        "To install this IPython extension"
      ]
    },
    {
      "cell_type": "code",
      "execution_count": 4,
      "id": "2623a94c",
      "metadata": {
        "id": "2623a94c",
        "outputId": "4db17992-5dd6-4711-d33d-76b28d98ff3e",
        "colab": {
          "base_uri": "https://localhost:8080/"
        }
      },
      "outputs": [
        {
          "output_type": "stream",
          "name": "stdout",
          "text": [
            "Requirement already satisfied: version_information in /usr/local/lib/python3.10/dist-packages (1.0.4)\n"
          ]
        }
      ],
      "source": [
        "# you only need to do this once\n",
        "!pip install --upgrade version_information"
      ]
    },
    {
      "cell_type": "markdown",
      "id": "37ed3673",
      "metadata": {
        "id": "37ed3673"
      },
      "source": [
        "You may sometimes encounter this error. \\\n",
        "`ModuleNotFoundError: No module named 'pandas' in Python`"
      ]
    },
    {
      "cell_type": "markdown",
      "id": "28559d2e",
      "metadata": {
        "id": "28559d2e"
      },
      "source": [
        "If you cannot import due to your computer cannot find, try installing the library using `pip install <library-name>`.\n",
        "\n",
        "Begin the line with `!` to direct your code to command line"
      ]
    },
    {
      "cell_type": "code",
      "execution_count": 5,
      "id": "25a1a572",
      "metadata": {
        "scrolled": false,
        "id": "25a1a572",
        "outputId": "4123f1aa-8325-4df8-f95c-5355d9d16707",
        "colab": {
          "base_uri": "https://localhost:8080/"
        }
      },
      "outputs": [
        {
          "output_type": "stream",
          "name": "stdout",
          "text": [
            "Requirement already satisfied: pandas in /usr/local/lib/python3.10/dist-packages (1.5.3)\n",
            "Requirement already satisfied: python-dateutil>=2.8.1 in /usr/local/lib/python3.10/dist-packages (from pandas) (2.8.2)\n",
            "Requirement already satisfied: pytz>=2020.1 in /usr/local/lib/python3.10/dist-packages (from pandas) (2023.3)\n",
            "Requirement already satisfied: numpy>=1.21.0 in /usr/local/lib/python3.10/dist-packages (from pandas) (1.23.5)\n",
            "Requirement already satisfied: six>=1.5 in /usr/local/lib/python3.10/dist-packages (from python-dateutil>=2.8.1->pandas) (1.16.0)\n"
          ]
        }
      ],
      "source": [
        "!pip install pandas"
      ]
    },
    {
      "cell_type": "markdown",
      "id": "0ff30d71",
      "metadata": {
        "id": "0ff30d71"
      },
      "source": [
        "Help with functions"
      ]
    },
    {
      "cell_type": "code",
      "execution_count": 6,
      "id": "645cf28d",
      "metadata": {
        "id": "645cf28d",
        "outputId": "ed69e5f1-0d84-4118-f3d6-076f8ed326e3",
        "colab": {
          "base_uri": "https://localhost:8080/"
        }
      },
      "outputs": [
        {
          "output_type": "stream",
          "name": "stdout",
          "text": [
            "Help on built-in function abs in module builtins:\n",
            "\n",
            "abs(x, /)\n",
            "    Return the absolute value of the argument.\n",
            "\n"
          ]
        }
      ],
      "source": [
        "help(abs)"
      ]
    },
    {
      "cell_type": "code",
      "execution_count": null,
      "id": "2fc29811",
      "metadata": {
        "scrolled": true,
        "id": "2fc29811",
        "outputId": "878e4f79-f77b-416d-87fc-4a0129e31cab",
        "colab": {
          "base_uri": "https://localhost:8080/"
        }
      },
      "outputs": [
        {
          "output_type": "stream",
          "name": "stdout",
          "text": [
            "Return the absolute value of the argument.\n"
          ]
        }
      ],
      "source": [
        "print(abs.__doc__)"
      ]
    },
    {
      "cell_type": "markdown",
      "id": "3ad5d97b",
      "metadata": {
        "id": "3ad5d97b"
      },
      "source": [
        "## Variables"
      ]
    },
    {
      "cell_type": "markdown",
      "id": "3d17d89b",
      "metadata": {
        "id": "3d17d89b"
      },
      "source": [
        "ข้อกำหนดในการตั้งชื่อตัวแปร\n",
        "\n",
        "* ชื่อห้ามมีเว้นวรรค\n",
        "* (พยายาม)ใช้ภาษาอังกฤษ\n",
        "* ตัวเล็กกับตัวใหญ่ แตกต่างกัน (case sensitive)\n",
        "* ห้ามใช้ตัวเลขเป็นตัวหน้า"
      ]
    },
    {
      "cell_type": "code",
      "execution_count": 7,
      "id": "1cbef2b9",
      "metadata": {
        "id": "1cbef2b9"
      },
      "outputs": [],
      "source": [
        "variable_a = 12\n",
        "variable_b = 3.14\n",
        "variable_c = \"1\" # ' (quote) หรือ \" (double quote)\n",
        "variable_d = 'Learning Pandas'\n",
        "variable_e = True\n",
        "variable_f = None"
      ]
    },
    {
      "cell_type": "code",
      "execution_count": 8,
      "id": "e3d01094",
      "metadata": {
        "id": "e3d01094",
        "outputId": "f0e971e0-1c25-4be2-c914-d848fa07ffbf",
        "colab": {
          "base_uri": "https://localhost:8080/"
        }
      },
      "outputs": [
        {
          "output_type": "stream",
          "name": "stdout",
          "text": [
            "15.14\n"
          ]
        }
      ],
      "source": [
        "variable_ab = variable_a + variable_b\n",
        "print(variable_ab)"
      ]
    },
    {
      "cell_type": "code",
      "execution_count": 9,
      "id": "8abfe56c",
      "metadata": {
        "id": "8abfe56c",
        "outputId": "e4ab979b-2ffc-4090-8f13-cf4ce52974de",
        "colab": {
          "base_uri": "https://localhost:8080/"
        }
      },
      "outputs": [
        {
          "output_type": "stream",
          "name": "stdout",
          "text": [
            "<class 'int'>\n",
            "<class 'float'>\n",
            "<class 'str'>\n",
            "<class 'str'>\n",
            "<class 'bool'>\n",
            "<class 'NoneType'>\n"
          ]
        }
      ],
      "source": [
        "print(type(variable_a))\n",
        "print(type(variable_b))\n",
        "print(type(variable_c))\n",
        "print(type(variable_d))\n",
        "print(type(variable_e))\n",
        "print(type(variable_f))"
      ]
    },
    {
      "cell_type": "markdown",
      "id": "65599e83",
      "metadata": {
        "id": "65599e83"
      },
      "source": [
        "Use functions: `int()`, `float()`, `str()`, `list()`, `tuple()`, `set()`, `complex()`, `ord()`, `hex()`, `oct()`, `dict()`, etc. to change type of object (type casting) in Python"
      ]
    },
    {
      "cell_type": "code",
      "source": [
        "print( float(variable_c), type(float(variable_c)) )"
      ],
      "metadata": {
        "colab": {
          "base_uri": "https://localhost:8080/"
        },
        "id": "c-GEDozis-Td",
        "outputId": "f304bcfb-afd5-44d9-f27d-8cd391fdb638"
      },
      "id": "c-GEDozis-Td",
      "execution_count": 10,
      "outputs": [
        {
          "output_type": "stream",
          "name": "stdout",
          "text": [
            "1.0 <class 'float'>\n"
          ]
        }
      ]
    },
    {
      "cell_type": "code",
      "execution_count": 11,
      "id": "91104de1",
      "metadata": {
        "id": "91104de1",
        "outputId": "cb5cfc12-340a-4136-b0ca-333e3f8015ee",
        "colab": {
          "base_uri": "https://localhost:8080/"
        }
      },
      "outputs": [
        {
          "output_type": "stream",
          "name": "stdout",
          "text": [
            "1 <class 'str'>\n",
            "1 <class 'int'>\n"
          ]
        }
      ],
      "source": [
        "print(variable_c, type(variable_c))\n",
        "new_c = int(variable_c)\n",
        "print(new_c, type(new_c))"
      ]
    },
    {
      "cell_type": "code",
      "execution_count": 12,
      "id": "997c9e27",
      "metadata": {
        "id": "997c9e27",
        "outputId": "950e640a-41e9-4dd2-df3e-e9e67633be6f",
        "colab": {
          "base_uri": "https://localhost:8080/",
          "height": 143
        }
      },
      "outputs": [
        {
          "output_type": "error",
          "ename": "SyntaxError",
          "evalue": "ignored",
          "traceback": [
            "\u001b[0;36m  File \u001b[0;32m\"<ipython-input-12-ec5a2d0ae2f7>\"\u001b[0;36m, line \u001b[0;32m1\u001b[0m\n\u001b[0;31m    variable g = 1\u001b[0m\n\u001b[0m             ^\u001b[0m\n\u001b[0;31mSyntaxError\u001b[0m\u001b[0;31m:\u001b[0m invalid syntax\n"
          ]
        }
      ],
      "source": [
        "variable g = 1"
      ]
    },
    {
      "cell_type": "code",
      "execution_count": 13,
      "id": "fa62aca5",
      "metadata": {
        "id": "fa62aca5",
        "outputId": "07be236b-a61c-44c9-eca4-c3bf3bcf4b41",
        "colab": {
          "base_uri": "https://localhost:8080/"
        }
      },
      "outputs": [
        {
          "output_type": "execute_result",
          "data": {
            "text/plain": [
              "False"
            ]
          },
          "metadata": {},
          "execution_count": 13
        }
      ],
      "source": [
        "x = 8\n",
        "X = 1e-02\n",
        "x == X"
      ]
    },
    {
      "cell_type": "code",
      "execution_count": 14,
      "id": "829e716a",
      "metadata": {
        "id": "829e716a",
        "outputId": "0868d480-4b50-4a7c-8cc2-8b8a675875b0",
        "colab": {
          "base_uri": "https://localhost:8080/",
          "height": 179
        }
      },
      "outputs": [
        {
          "output_type": "error",
          "ename": "NameError",
          "evalue": "ignored",
          "traceback": [
            "\u001b[0;31m---------------------------------------------------------------------------\u001b[0m",
            "\u001b[0;31mNameError\u001b[0m                                 Traceback (most recent call last)",
            "\u001b[0;32m<ipython-input-14-9063a9f0e032>\u001b[0m in \u001b[0;36m<cell line: 1>\u001b[0;34m()\u001b[0m\n\u001b[0;32m----> 1\u001b[0;31m \u001b[0my\u001b[0m\u001b[0;34m\u001b[0m\u001b[0;34m\u001b[0m\u001b[0m\n\u001b[0m",
            "\u001b[0;31mNameError\u001b[0m: name 'y' is not defined"
          ]
        }
      ],
      "source": [
        "y"
      ]
    },
    {
      "cell_type": "markdown",
      "id": "e1c36d58",
      "metadata": {
        "id": "e1c36d58"
      },
      "source": [
        "## Operations"
      ]
    },
    {
      "cell_type": "markdown",
      "id": "2ad68831",
      "metadata": {
        "id": "2ad68831"
      },
      "source": [
        "| Operator | Operation | Example |\n",
        "|---|---|---|\n",
        "| + | Addition | 5 + 2 = 7 |\n",
        "| - | Subtraction | 4 - 2 = 2 |\n",
        "| * | Multiplication | 2 * 3 = 6 |\n",
        "| / | Division | 4 / 2 = 2 |\n",
        "| // | Floor Division | 10 // 3 = 3 |\n",
        "| % | Modulo | 5 % 2 = 1 |\n",
        "| ** | Power | 4 ** 2 = 16 |"
      ]
    },
    {
      "cell_type": "code",
      "execution_count": null,
      "id": "99d38648",
      "metadata": {
        "id": "99d38648",
        "outputId": "df43a727-c77b-4ded-f98e-52faebe242b6",
        "colab": {
          "base_uri": "https://localhost:8080/"
        }
      },
      "outputs": [
        {
          "output_type": "stream",
          "name": "stdout",
          "text": [
            "-1 5 1 3.5 3 16\n"
          ]
        }
      ],
      "source": [
        "print(-1, 2+3, 7%3, 7/2, 7//2, 2**4)"
      ]
    },
    {
      "cell_type": "markdown",
      "id": "8477d0de",
      "metadata": {
        "id": "8477d0de"
      },
      "source": [
        "![order of operations](https://s3.amazonaws.com/cloudxlab/static/images/course/python-foundation-course/pemdas.png)"
      ]
    },
    {
      "cell_type": "code",
      "execution_count": 15,
      "id": "16517ac6",
      "metadata": {
        "scrolled": true,
        "id": "16517ac6",
        "outputId": "a3240e91-c430-4cfc-8129-804da5df62a3",
        "colab": {
          "base_uri": "https://localhost:8080/"
        }
      },
      "outputs": [
        {
          "output_type": "execute_result",
          "data": {
            "text/plain": [
              "35.0"
            ]
          },
          "metadata": {},
          "execution_count": 15
        }
      ],
      "source": [
        "43 + 13 - 9 / 3 * 7"
      ]
    },
    {
      "cell_type": "markdown",
      "id": "6be7f124",
      "metadata": {
        "id": "6be7f124"
      },
      "source": [
        "| Operator | Name | Example |\n",
        "|---|---|---|\n",
        "| = | Assignment Operator | a = 7 |\n",
        "| += | Addition Assignment | a += 1 # a = a + 1 |\n",
        "| -= | Subtraction Assignment | a -= 3 # a = a - 3 |\n",
        "| *= | Multiplication Assignment | a *= 4 # a = a * 4 |\n",
        "| /= | Division Assignment | a /= 3 # a = a / 3 |\n",
        "| %= | Remainder Assignment | a %= 10 # a = a % 10 |\n",
        "| **= | Exponent Assignment | a **= 10 # a = a ** 10 |"
      ]
    },
    {
      "cell_type": "code",
      "execution_count": 16,
      "id": "8ed8defa",
      "metadata": {
        "id": "8ed8defa"
      },
      "outputs": [],
      "source": [
        "a = 10\n",
        "b = 5"
      ]
    },
    {
      "cell_type": "code",
      "execution_count": 17,
      "id": "ae1e081f",
      "metadata": {
        "id": "ae1e081f",
        "outputId": "51de60df-7277-40c9-d867-be1f19f9fdb0",
        "colab": {
          "base_uri": "https://localhost:8080/"
        }
      },
      "outputs": [
        {
          "output_type": "stream",
          "name": "stdout",
          "text": [
            "15\n"
          ]
        }
      ],
      "source": [
        "a += b      # a = a + b\n",
        "print(a)"
      ]
    },
    {
      "cell_type": "code",
      "source": [
        "a *= b\n",
        "print(a)"
      ],
      "metadata": {
        "colab": {
          "base_uri": "https://localhost:8080/"
        },
        "id": "S2TPvrqIvaUF",
        "outputId": "5b29484c-5cbc-41c1-f94d-df98c192f91e"
      },
      "id": "S2TPvrqIvaUF",
      "execution_count": 18,
      "outputs": [
        {
          "output_type": "stream",
          "name": "stdout",
          "text": [
            "75\n"
          ]
        }
      ]
    },
    {
      "cell_type": "markdown",
      "id": "523a0821",
      "metadata": {
        "id": "523a0821"
      },
      "source": [
        "| Operator | Meaning | Example |\n",
        "| --- | --- | --- |\n",
        "| == | Is Equal To | 3 == 5 results in False |\n",
        "| != | Not Equal To | 3 != 5 results in True |\n",
        "| > | Greater Than | 3 > 5 results in False |\n",
        "| < | Less Than | 3 < 5 results in True |\n",
        "| >= | Greater Than or Equal To | 3 >= 5 results in False |\n",
        "| <= | Less Than or Equal To | 3 <= 5 results in True |"
      ]
    },
    {
      "cell_type": "code",
      "execution_count": 19,
      "id": "a445caa4",
      "metadata": {
        "scrolled": true,
        "id": "a445caa4",
        "outputId": "ddbd8f6a-ff26-402a-bc2f-4ba849b1b32a",
        "colab": {
          "base_uri": "https://localhost:8080/"
        }
      },
      "outputs": [
        {
          "output_type": "stream",
          "name": "stdout",
          "text": [
            "True False True False\n"
          ]
        }
      ],
      "source": [
        "print(3 <= 4, 3 == 4, 3 != 4, 3 > 4)"
      ]
    },
    {
      "cell_type": "code",
      "execution_count": 20,
      "id": "eedf9db8",
      "metadata": {
        "id": "eedf9db8",
        "outputId": "abf5de7f-1fb2-4f3c-f42c-4aab074d5dea",
        "colab": {
          "base_uri": "https://localhost:8080/"
        }
      },
      "outputs": [
        {
          "output_type": "execute_result",
          "data": {
            "text/plain": [
              "True"
            ]
          },
          "metadata": {},
          "execution_count": 20
        }
      ],
      "source": [
        "True == 1"
      ]
    },
    {
      "cell_type": "code",
      "execution_count": 21,
      "id": "19dc7e6c",
      "metadata": {
        "id": "19dc7e6c",
        "outputId": "2f9372b1-73a4-4e90-8201-2aa388fd967a",
        "colab": {
          "base_uri": "https://localhost:8080/"
        }
      },
      "outputs": [
        {
          "output_type": "execute_result",
          "data": {
            "text/plain": [
              "True"
            ]
          },
          "metadata": {},
          "execution_count": 21
        }
      ],
      "source": [
        "False == 0"
      ]
    },
    {
      "cell_type": "code",
      "execution_count": 22,
      "id": "43d38646",
      "metadata": {
        "id": "43d38646",
        "outputId": "792001cf-d55c-4a2c-9cc6-5f847f6c5e58",
        "colab": {
          "base_uri": "https://localhost:8080/"
        }
      },
      "outputs": [
        {
          "output_type": "execute_result",
          "data": {
            "text/plain": [
              "True"
            ]
          },
          "metadata": {},
          "execution_count": 22
        }
      ],
      "source": [
        "2 == 2.000000"
      ]
    },
    {
      "cell_type": "code",
      "execution_count": 23,
      "id": "3fff9d16",
      "metadata": {
        "scrolled": true,
        "id": "3fff9d16",
        "outputId": "fbe665fa-0c0a-4c33-aee1-675a701aa2f5",
        "colab": {
          "base_uri": "https://localhost:8080/"
        }
      },
      "outputs": [
        {
          "output_type": "execute_result",
          "data": {
            "text/plain": [
              "True"
            ]
          },
          "metadata": {},
          "execution_count": 23
        }
      ],
      "source": [
        "2 == 2.0000000000000000001"
      ]
    },
    {
      "cell_type": "code",
      "execution_count": 24,
      "id": "1f41ce1b",
      "metadata": {
        "id": "1f41ce1b",
        "outputId": "0cc6d698-07f6-4009-a55c-0c816c5dd774",
        "colab": {
          "base_uri": "https://localhost:8080/"
        }
      },
      "outputs": [
        {
          "output_type": "execute_result",
          "data": {
            "text/plain": [
              "False"
            ]
          },
          "metadata": {},
          "execution_count": 24
        }
      ],
      "source": [
        "2 == 2.001"
      ]
    },
    {
      "cell_type": "code",
      "execution_count": 25,
      "id": "a68ce781",
      "metadata": {
        "id": "a68ce781",
        "outputId": "f3bd8491-0041-4e49-d094-e336169ccf80",
        "colab": {
          "base_uri": "https://localhost:8080/"
        }
      },
      "outputs": [
        {
          "output_type": "stream",
          "name": "stdout",
          "text": [
            "Help on built-in function isclose in module math:\n",
            "\n",
            "isclose(a, b, *, rel_tol=1e-09, abs_tol=0.0)\n",
            "    Determine whether two floating point numbers are close in value.\n",
            "    \n",
            "      rel_tol\n",
            "        maximum difference for being considered \"close\", relative to the\n",
            "        magnitude of the input values\n",
            "      abs_tol\n",
            "        maximum difference for being considered \"close\", regardless of the\n",
            "        magnitude of the input values\n",
            "    \n",
            "    Return True if a is close in value to b, and False otherwise.\n",
            "    \n",
            "    For the values to be considered close, the difference between them\n",
            "    must be smaller than at least one of the tolerances.\n",
            "    \n",
            "    -inf, inf and NaN behave similarly to the IEEE 754 Standard.  That\n",
            "    is, NaN is not close to anything, even itself.  inf and -inf are\n",
            "    only close to themselves.\n",
            "\n"
          ]
        }
      ],
      "source": [
        "import math\n",
        "help(math.isclose)"
      ]
    },
    {
      "cell_type": "code",
      "execution_count": 26,
      "id": "bd2d4aca",
      "metadata": {
        "id": "bd2d4aca",
        "outputId": "0d699622-9ce1-4166-803c-11bdb904ac28",
        "colab": {
          "base_uri": "https://localhost:8080/"
        }
      },
      "outputs": [
        {
          "output_type": "execute_result",
          "data": {
            "text/plain": [
              "True"
            ]
          },
          "metadata": {},
          "execution_count": 26
        }
      ],
      "source": [
        "math.isclose(2, 2.001, rel_tol=1e-03)"
      ]
    },
    {
      "cell_type": "markdown",
      "id": "b72999fc",
      "metadata": {
        "id": "b72999fc"
      },
      "source": [
        "| Operator | Example | Meaning |\n",
        "|---|---|---|\n",
        "| and | a and b | True only if both the operands are True |\n",
        "| or | a or b | True if at least one of the operands is True |\n",
        "| not | not a | True if the operand is False and vice-versa |\n",
        "| is | x is True | True if the operands are identical |\n",
        "| is not | x is not True | True if the operands are not identical |\n",
        "| in | 5 in x | True if value/variable is found in the sequence |\n",
        "| not in | 5 not in x | True if value/variable is not found in the sequence |"
      ]
    },
    {
      "cell_type": "code",
      "source": [
        "(3 < 8) is True"
      ],
      "metadata": {
        "colab": {
          "base_uri": "https://localhost:8080/"
        },
        "id": "YeJiZeYQfNiX",
        "outputId": "9bce01cb-23df-4270-93fe-571cb6ab98c3"
      },
      "id": "YeJiZeYQfNiX",
      "execution_count": 27,
      "outputs": [
        {
          "output_type": "execute_result",
          "data": {
            "text/plain": [
              "True"
            ]
          },
          "metadata": {},
          "execution_count": 27
        }
      ]
    },
    {
      "cell_type": "code",
      "execution_count": 28,
      "id": "ebc45479",
      "metadata": {
        "id": "ebc45479",
        "outputId": "5774a642-3f55-4fcb-a348-ad0c04b85af4",
        "colab": {
          "base_uri": "https://localhost:8080/"
        }
      },
      "outputs": [
        {
          "output_type": "stream",
          "name": "stdout",
          "text": [
            "True True\n"
          ]
        }
      ],
      "source": [
        "print(True and True, False or True)"
      ]
    },
    {
      "cell_type": "markdown",
      "id": "dd51580b",
      "metadata": {
        "id": "dd51580b"
      },
      "source": [
        "`x = 10` (0000 1010 in binary) and `y = 4` (0000 0100 in binary)\n",
        "\n",
        "| Operator | Meaning | Example |\n",
        "| --- | --- | --- |\n",
        "| & | Bitwise AND | x & y = 0 (0000 0000) |\n",
        "| \\| | Bitwise OR | x \\| y = 14 (0000 1110) |\n",
        "| ~ | Bitwise NOT | ~x = -11 (1111 0101) |\n",
        "| ^ | Bitwise XOR | x ^ y = 14 (0000 1110) |\n",
        "| >> | Bitwise right shift | x >> 2 = 2 (0000 0010) |\n",
        "| << | Bitwise left shift | x << 2 = 40 (0010 1000) |"
      ]
    },
    {
      "cell_type": "code",
      "execution_count": 29,
      "id": "fc753ae7",
      "metadata": {
        "id": "fc753ae7",
        "outputId": "4f2799c6-fcba-4547-e809-5e6d6f214e30",
        "colab": {
          "base_uri": "https://localhost:8080/"
        }
      },
      "outputs": [
        {
          "output_type": "stream",
          "name": "stdout",
          "text": [
            "False True\n"
          ]
        }
      ],
      "source": [
        "print(True & False, True | False)"
      ]
    },
    {
      "cell_type": "markdown",
      "id": "2c0f4a51",
      "metadata": {
        "id": "2c0f4a51"
      },
      "source": [
        "## Containers (Collections)"
      ]
    },
    {
      "cell_type": "code",
      "execution_count": 30,
      "id": "bc4d8759",
      "metadata": {
        "id": "bc4d8759"
      },
      "outputs": [],
      "source": [
        "a_tuple = (1, 2, 3, 4)\n",
        "a_list = ['a', 'b', 'c', 'd']\n",
        "a_set = {1, 2, 2, 3, 3, 3}\n",
        "a_dict = {'c': 1, 'b': 2, 'a': 3}"
      ]
    },
    {
      "cell_type": "markdown",
      "id": "fb494f7c",
      "metadata": {
        "id": "fb494f7c"
      },
      "source": [
        "### Tuple"
      ]
    },
    {
      "cell_type": "code",
      "execution_count": null,
      "id": "b0f86dfc",
      "metadata": {
        "id": "b0f86dfc",
        "outputId": "c1b99e3f-cdbf-47dd-bf03-777ab751a144",
        "colab": {
          "base_uri": "https://localhost:8080/"
        }
      },
      "outputs": [
        {
          "output_type": "stream",
          "name": "stdout",
          "text": [
            "The length of a_tuple: (1, 2, 3, 4) is 4\n"
          ]
        }
      ],
      "source": [
        "print(\"The length of a_tuple:\", a_tuple, \"is\", len(a_tuple))"
      ]
    },
    {
      "cell_type": "markdown",
      "id": "b0e3dc8a",
      "metadata": {
        "id": "b0e3dc8a"
      },
      "source": [
        "Access element in tuple or list using the name of tuple or list variable following by *square brackets* <p>\n",
        "<center>`tuple_or_list_var[index]`</center>\n",
        "\n",
        "* Index starts with zero\n",
        "* Final feasible index is (length - 1)\n",
        "* Negative index reverses the position from -1 to -(length)"
      ]
    },
    {
      "cell_type": "code",
      "execution_count": 31,
      "id": "3d5ee5e8",
      "metadata": {
        "scrolled": true,
        "id": "3d5ee5e8",
        "outputId": "9f834385-2bfa-43f0-f5e7-af2189697c86",
        "colab": {
          "base_uri": "https://localhost:8080/",
          "height": 288
        }
      },
      "outputs": [
        {
          "output_type": "stream",
          "name": "stdout",
          "text": [
            "a_tuple: (1, 2, 3, 4)\n",
            "values in each index 1 2 3 4\n",
            "values in each reverse index 4 3 2 1\n",
            "length of a_tuple 4\n"
          ]
        },
        {
          "output_type": "error",
          "ename": "IndexError",
          "evalue": "ignored",
          "traceback": [
            "\u001b[0;31m---------------------------------------------------------------------------\u001b[0m",
            "\u001b[0;31mIndexError\u001b[0m                                Traceback (most recent call last)",
            "\u001b[0;32m<ipython-input-31-705b8f166667>\u001b[0m in \u001b[0;36m<cell line: 5>\u001b[0;34m()\u001b[0m\n\u001b[1;32m      3\u001b[0m \u001b[0mprint\u001b[0m\u001b[0;34m(\u001b[0m\u001b[0;34m\"values in each reverse index\"\u001b[0m\u001b[0;34m,\u001b[0m \u001b[0ma_tuple\u001b[0m\u001b[0;34m[\u001b[0m\u001b[0;34m-\u001b[0m\u001b[0;36m1\u001b[0m\u001b[0;34m]\u001b[0m\u001b[0;34m,\u001b[0m \u001b[0ma_tuple\u001b[0m\u001b[0;34m[\u001b[0m\u001b[0;34m-\u001b[0m\u001b[0;36m2\u001b[0m\u001b[0;34m]\u001b[0m\u001b[0;34m,\u001b[0m \u001b[0ma_tuple\u001b[0m\u001b[0;34m[\u001b[0m\u001b[0;34m-\u001b[0m\u001b[0;36m3\u001b[0m\u001b[0;34m]\u001b[0m\u001b[0;34m,\u001b[0m \u001b[0ma_tuple\u001b[0m\u001b[0;34m[\u001b[0m\u001b[0;34m-\u001b[0m\u001b[0;36m4\u001b[0m\u001b[0;34m]\u001b[0m\u001b[0;34m)\u001b[0m\u001b[0;34m\u001b[0m\u001b[0;34m\u001b[0m\u001b[0m\n\u001b[1;32m      4\u001b[0m \u001b[0mprint\u001b[0m\u001b[0;34m(\u001b[0m\u001b[0;34m\"length of a_tuple\"\u001b[0m\u001b[0;34m,\u001b[0m \u001b[0mlen\u001b[0m\u001b[0;34m(\u001b[0m\u001b[0ma_tuple\u001b[0m\u001b[0;34m)\u001b[0m\u001b[0;34m)\u001b[0m\u001b[0;34m\u001b[0m\u001b[0;34m\u001b[0m\u001b[0m\n\u001b[0;32m----> 5\u001b[0;31m \u001b[0mprint\u001b[0m\u001b[0;34m(\u001b[0m\u001b[0ma_tuple\u001b[0m\u001b[0;34m[\u001b[0m\u001b[0mlen\u001b[0m\u001b[0;34m(\u001b[0m\u001b[0ma_tuple\u001b[0m\u001b[0;34m)\u001b[0m\u001b[0;34m]\u001b[0m\u001b[0;34m)\u001b[0m\u001b[0;34m\u001b[0m\u001b[0;34m\u001b[0m\u001b[0m\n\u001b[0m",
            "\u001b[0;31mIndexError\u001b[0m: tuple index out of range"
          ]
        }
      ],
      "source": [
        "print(\"a_tuple:\", a_tuple)\n",
        "print(\"values in each index\", a_tuple[0], a_tuple[1], a_tuple[2], a_tuple[3])\n",
        "print(\"values in each reverse index\", a_tuple[-1], a_tuple[-2], a_tuple[-3], a_tuple[-4])\n",
        "print(\"length of a_tuple\", len(a_tuple))\n",
        "print(a_tuple[len(a_tuple)])"
      ]
    },
    {
      "cell_type": "markdown",
      "source": [
        "<font color='red'><h4>📝 Your turn</h4></font>\n",
        "```\n",
        "myTuple = (1,12,123,1234,12345)\n",
        "```\n",
        "Get the element `123` from `myTuple`\n"
      ],
      "metadata": {
        "id": "ZF-gYwPVywmV"
      },
      "id": "ZF-gYwPVywmV"
    },
    {
      "cell_type": "code",
      "source": [
        "myTuple = (1,12,123,1234,12345)\n",
        "myTuple"
      ],
      "metadata": {
        "colab": {
          "base_uri": "https://localhost:8080/"
        },
        "id": "L0Spt9YcyxJc",
        "outputId": "c357d778-0515-4f7c-feee-7909a94abdfb"
      },
      "id": "L0Spt9YcyxJc",
      "execution_count": 32,
      "outputs": [
        {
          "output_type": "execute_result",
          "data": {
            "text/plain": [
              "(1, 12, 123, 1234, 12345)"
            ]
          },
          "metadata": {},
          "execution_count": 32
        }
      ]
    },
    {
      "cell_type": "code",
      "source": [
        "# Get the element 123 from myTuple\n",
        "myTuple[2]"
      ],
      "metadata": {
        "id": "QhIFBs2-zbWP",
        "colab": {
          "base_uri": "https://localhost:8080/"
        },
        "outputId": "f931f977-febc-4277-c6cb-54de8d9f9613"
      },
      "id": "QhIFBs2-zbWP",
      "execution_count": 33,
      "outputs": [
        {
          "output_type": "execute_result",
          "data": {
            "text/plain": [
              "123"
            ]
          },
          "metadata": {},
          "execution_count": 33
        }
      ]
    },
    {
      "cell_type": "code",
      "source": [
        "# Last element\n",
        "myTuple[4]\n",
        "myTuple[-1]"
      ],
      "metadata": {
        "colab": {
          "base_uri": "https://localhost:8080/"
        },
        "id": "fc7RIpC5y07M",
        "outputId": "9487ae07-cda1-4a6c-a30a-de28df7ffc70"
      },
      "id": "fc7RIpC5y07M",
      "execution_count": 34,
      "outputs": [
        {
          "output_type": "execute_result",
          "data": {
            "text/plain": [
              "12345"
            ]
          },
          "metadata": {},
          "execution_count": 34
        }
      ]
    },
    {
      "cell_type": "markdown",
      "id": "e567d2d2",
      "metadata": {
        "id": "e567d2d2"
      },
      "source": [
        "### List"
      ]
    },
    {
      "cell_type": "markdown",
      "id": "4ab25c96",
      "metadata": {
        "id": "4ab25c96"
      },
      "source": [
        "Working with list is similar to tuple"
      ]
    },
    {
      "cell_type": "code",
      "execution_count": 35,
      "id": "ea5ffb0e",
      "metadata": {
        "scrolled": true,
        "id": "ea5ffb0e",
        "outputId": "be0863cd-932c-47e4-8ab5-5f3f5bc0e8f0",
        "colab": {
          "base_uri": "https://localhost:8080/"
        }
      },
      "outputs": [
        {
          "output_type": "stream",
          "name": "stdout",
          "text": [
            "a_list: ['a', 'b', 'c', 'd']\n"
          ]
        }
      ],
      "source": [
        "print(\"a_list:\", a_list)"
      ]
    },
    {
      "cell_type": "code",
      "execution_count": 37,
      "id": "913171ef",
      "metadata": {
        "id": "913171ef",
        "outputId": "0a620fa0-bbfd-4831-b241-0808b49259b7",
        "colab": {
          "base_uri": "https://localhost:8080/"
        }
      },
      "outputs": [
        {
          "output_type": "execute_result",
          "data": {
            "text/plain": [
              "4"
            ]
          },
          "metadata": {},
          "execution_count": 37
        }
      ],
      "source": [
        "len(a_list)"
      ]
    },
    {
      "cell_type": "code",
      "execution_count": 36,
      "id": "52ad6742",
      "metadata": {
        "id": "52ad6742",
        "outputId": "8f1f22f5-1402-4743-e3ec-786cf5b6e152",
        "colab": {
          "base_uri": "https://localhost:8080/",
          "height": 36
        }
      },
      "outputs": [
        {
          "output_type": "execute_result",
          "data": {
            "text/plain": [
              "'a'"
            ],
            "application/vnd.google.colaboratory.intrinsic+json": {
              "type": "string"
            }
          },
          "metadata": {},
          "execution_count": 36
        }
      ],
      "source": [
        "a_list[0]"
      ]
    },
    {
      "cell_type": "code",
      "execution_count": null,
      "id": "be66b0ee",
      "metadata": {
        "id": "be66b0ee"
      },
      "outputs": [],
      "source": [
        "a_list[-1]"
      ]
    },
    {
      "cell_type": "code",
      "source": [
        "a_list.index('b')"
      ],
      "metadata": {
        "colab": {
          "base_uri": "https://localhost:8080/"
        },
        "id": "8LFLFK0ZlTlZ",
        "outputId": "23393759-63e9-49d5-9452-d9b1aed4317e"
      },
      "id": "8LFLFK0ZlTlZ",
      "execution_count": 39,
      "outputs": [
        {
          "output_type": "execute_result",
          "data": {
            "text/plain": [
              "1"
            ]
          },
          "metadata": {},
          "execution_count": 39
        }
      ]
    },
    {
      "cell_type": "code",
      "source": [
        "[i for i in range(len(a_list)) if a_list[i]=='b' ]"
      ],
      "metadata": {
        "colab": {
          "base_uri": "https://localhost:8080/"
        },
        "id": "WzsvhgRXiYQQ",
        "outputId": "6c02e396-d663-4ae5-8451-1a05e6a61bf2"
      },
      "id": "WzsvhgRXiYQQ",
      "execution_count": 38,
      "outputs": [
        {
          "output_type": "execute_result",
          "data": {
            "text/plain": [
              "[1]"
            ]
          },
          "metadata": {},
          "execution_count": 38
        }
      ]
    },
    {
      "cell_type": "code",
      "source": [
        "[i if a_list[i]=='b' else a_list[i] for i in range(len(a_list))]"
      ],
      "metadata": {
        "colab": {
          "base_uri": "https://localhost:8080/"
        },
        "id": "C9RBS7c1is_-",
        "outputId": "12646c9e-79f5-4619-b789-cbd9a04796f7"
      },
      "id": "C9RBS7c1is_-",
      "execution_count": null,
      "outputs": [
        {
          "output_type": "execute_result",
          "data": {
            "text/plain": [
              "['a', 1, 'c', 'd']"
            ]
          },
          "metadata": {},
          "execution_count": 52
        }
      ]
    },
    {
      "cell_type": "markdown",
      "id": "4b81a564",
      "metadata": {
        "id": "4b81a564"
      },
      "source": [
        "To display multiple elements:\n",
        "* Using `list[i:j]` to display element i$^\\text{th}$ to (j-1)$^\\text{th}$"
      ]
    },
    {
      "cell_type": "code",
      "execution_count": 40,
      "id": "a27e88fd",
      "metadata": {
        "id": "a27e88fd",
        "outputId": "6a212a5e-88f6-4d3d-a8ed-0a167fe9a423",
        "colab": {
          "base_uri": "https://localhost:8080/"
        }
      },
      "outputs": [
        {
          "output_type": "execute_result",
          "data": {
            "text/plain": [
              "['b', 'c']"
            ]
          },
          "metadata": {},
          "execution_count": 40
        }
      ],
      "source": [
        "a_list[1:3]"
      ]
    },
    {
      "cell_type": "markdown",
      "id": "cebb4bae",
      "metadata": {
        "id": "cebb4bae"
      },
      "source": [
        "* Iterating over a list"
      ]
    },
    {
      "cell_type": "code",
      "execution_count": null,
      "id": "d87ebe88",
      "metadata": {
        "id": "d87ebe88",
        "outputId": "eacb4f7f-73ac-4d0b-9eea-9c6860e94042",
        "colab": {
          "base_uri": "https://localhost:8080/"
        }
      },
      "outputs": [
        {
          "output_type": "execute_result",
          "data": {
            "text/plain": [
              "['a', 'c']"
            ]
          },
          "metadata": {},
          "execution_count": 55
        }
      ],
      "source": [
        "[a_list[i] for i in [0,2]]"
      ]
    },
    {
      "cell_type": "markdown",
      "id": "4d0ff26b",
      "metadata": {
        "id": "4d0ff26b"
      },
      "source": [
        "Adding an element to a list"
      ]
    },
    {
      "cell_type": "code",
      "execution_count": 41,
      "id": "eb4bc0d8",
      "metadata": {
        "id": "eb4bc0d8",
        "outputId": "6767a80a-3582-4982-ebe6-241299a97cf9",
        "colab": {
          "base_uri": "https://localhost:8080/"
        }
      },
      "outputs": [
        {
          "output_type": "execute_result",
          "data": {
            "text/plain": [
              "['a', 'b', 'c', 'd', 'e']"
            ]
          },
          "metadata": {},
          "execution_count": 41
        }
      ],
      "source": [
        "a_list.append('e')\n",
        "a_list"
      ]
    },
    {
      "cell_type": "markdown",
      "id": "8df824d3",
      "metadata": {
        "id": "8df824d3"
      },
      "source": [
        "Adding two lists concatenates them together"
      ]
    },
    {
      "cell_type": "code",
      "execution_count": 42,
      "id": "0ba26899",
      "metadata": {
        "id": "0ba26899",
        "outputId": "26dbedb6-4898-4f28-ede0-749ce230cca6",
        "colab": {
          "base_uri": "https://localhost:8080/"
        }
      },
      "outputs": [
        {
          "output_type": "execute_result",
          "data": {
            "text/plain": [
              "['a', 'b', 'c', 'd', 'e', 'a', 'b', 'c', 'd', 'e']"
            ]
          },
          "metadata": {},
          "execution_count": 42
        }
      ],
      "source": [
        "a_list + a_list"
      ]
    },
    {
      "cell_type": "code",
      "source": [
        "a_list + ['u', 'i']"
      ],
      "metadata": {
        "colab": {
          "base_uri": "https://localhost:8080/"
        },
        "id": "KkAYKohJ0HM0",
        "outputId": "6e4c8117-5b17-459f-b9a6-804efd5ccaa7"
      },
      "id": "KkAYKohJ0HM0",
      "execution_count": 43,
      "outputs": [
        {
          "output_type": "execute_result",
          "data": {
            "text/plain": [
              "['a', 'b', 'c', 'd', 'e', 'u', 'i']"
            ]
          },
          "metadata": {},
          "execution_count": 43
        }
      ]
    },
    {
      "cell_type": "markdown",
      "id": "8792ebff",
      "metadata": {
        "id": "8792ebff"
      },
      "source": [
        "Multiplying a list with an integer `n` creates a repeatation of a list `n` times"
      ]
    },
    {
      "cell_type": "code",
      "execution_count": 44,
      "id": "e2b3c7ef",
      "metadata": {
        "scrolled": true,
        "id": "e2b3c7ef",
        "outputId": "af511387-95db-49bb-e25f-1bc8e6c7844c",
        "colab": {
          "base_uri": "https://localhost:8080/"
        }
      },
      "outputs": [
        {
          "output_type": "execute_result",
          "data": {
            "text/plain": [
              "[1, 3, 1, 3, 1, 3]"
            ]
          },
          "metadata": {},
          "execution_count": 44
        }
      ],
      "source": [
        "[1,3]*3"
      ]
    },
    {
      "cell_type": "markdown",
      "id": "3b3ddb23",
      "metadata": {
        "id": "3b3ddb23"
      },
      "source": [
        "String is a list of characters. Therefore, working with string is similar to list."
      ]
    },
    {
      "cell_type": "code",
      "execution_count": 45,
      "id": "da55af88",
      "metadata": {
        "id": "da55af88",
        "outputId": "4189c409-a6a9-4702-ada0-6e6a93e07645",
        "colab": {
          "base_uri": "https://localhost:8080/",
          "height": 36
        }
      },
      "outputs": [
        {
          "output_type": "execute_result",
          "data": {
            "text/plain": [
              "'Learning Pandas'"
            ],
            "application/vnd.google.colaboratory.intrinsic+json": {
              "type": "string"
            }
          },
          "metadata": {},
          "execution_count": 45
        }
      ],
      "source": [
        "variable_d"
      ]
    },
    {
      "cell_type": "code",
      "execution_count": null,
      "id": "2c130af5",
      "metadata": {
        "id": "2c130af5",
        "outputId": "aee5a095-ff25-4101-f638-4623419124ad",
        "colab": {
          "base_uri": "https://localhost:8080/"
        }
      },
      "outputs": [
        {
          "output_type": "stream",
          "name": "stdout",
          "text": [
            "L\n",
            "earning\n",
            "earning\n",
            "s\n",
            "earning Pandas\n"
          ]
        }
      ],
      "source": [
        "print(variable_d[0])\n",
        "print(variable_d[1:8])\n",
        "print(variable_d[1:(variable_d.index('g')+1)])\n",
        "print(variable_d[-1])\n",
        "print(variable_d[1:])"
      ]
    },
    {
      "cell_type": "code",
      "source": [
        "print(variable_d[:8])"
      ],
      "metadata": {
        "colab": {
          "base_uri": "https://localhost:8080/"
        },
        "id": "tt6ulYDH1BT7",
        "outputId": "13f4faaf-9973-4f48-c1a1-523750e6f205"
      },
      "id": "tt6ulYDH1BT7",
      "execution_count": 46,
      "outputs": [
        {
          "output_type": "stream",
          "name": "stdout",
          "text": [
            "Learning\n"
          ]
        }
      ]
    },
    {
      "cell_type": "code",
      "execution_count": null,
      "id": "cebadef3",
      "metadata": {
        "id": "cebadef3",
        "outputId": "10909f92-0d31-4e23-8c73-f468ac0563a8",
        "colab": {
          "base_uri": "https://localhost:8080/",
          "height": 37
        }
      },
      "outputs": [
        {
          "output_type": "execute_result",
          "data": {
            "text/plain": [
              "'Le'"
            ],
            "application/vnd.google.colaboratory.intrinsic+json": {
              "type": "string"
            }
          },
          "metadata": {},
          "execution_count": 64
        }
      ],
      "source": [
        "variable_d[0:2]"
      ]
    },
    {
      "cell_type": "code",
      "execution_count": 47,
      "id": "a0b03268",
      "metadata": {
        "id": "a0b03268",
        "outputId": "d9b59ecb-0057-4341-f709-433cc53e6e17",
        "colab": {
          "base_uri": "https://localhost:8080/",
          "height": 36
        }
      },
      "outputs": [
        {
          "output_type": "execute_result",
          "data": {
            "text/plain": [
              "'Keep Learning Pandas'"
            ],
            "application/vnd.google.colaboratory.intrinsic+json": {
              "type": "string"
            }
          },
          "metadata": {},
          "execution_count": 47
        }
      ],
      "source": [
        "'Keep ' + variable_d"
      ]
    },
    {
      "cell_type": "markdown",
      "source": [
        "<font color='red'><h4>📝 Your turn</h4></font>\n",
        "```\n",
        "variable_f = \"Walking a corgi in the park\"\n",
        "```\n"
      ],
      "metadata": {
        "id": "yz_5vyuX1Gea"
      },
      "id": "yz_5vyuX1Gea"
    },
    {
      "cell_type": "code",
      "source": [
        "variable_f = \"Walking a corgi in the park\""
      ],
      "metadata": {
        "id": "oxpZfhX0opty"
      },
      "id": "oxpZfhX0opty",
      "execution_count": 48,
      "outputs": []
    },
    {
      "cell_type": "code",
      "source": [
        "variable_f[10:15]"
      ],
      "metadata": {
        "colab": {
          "base_uri": "https://localhost:8080/",
          "height": 36
        },
        "id": "AzY2dunnowqC",
        "outputId": "7a2f672d-27db-46c4-cb90-514d23b28079"
      },
      "id": "AzY2dunnowqC",
      "execution_count": 49,
      "outputs": [
        {
          "output_type": "execute_result",
          "data": {
            "text/plain": [
              "'corgi'"
            ],
            "application/vnd.google.colaboratory.intrinsic+json": {
              "type": "string"
            }
          },
          "metadata": {},
          "execution_count": 49
        }
      ]
    },
    {
      "cell_type": "code",
      "source": [
        "# get the character \"P\" from variable_d\n",
        "variable_d[9]\n",
        "Pindex = variable_d.index(\"P\")\n",
        "Pindex\n",
        "variable_d[Pindex]"
      ],
      "metadata": {
        "id": "-N9BalLZ2Pap",
        "colab": {
          "base_uri": "https://localhost:8080/",
          "height": 36
        },
        "outputId": "0636007a-ee71-499d-d7d1-545181eaa199"
      },
      "id": "-N9BalLZ2Pap",
      "execution_count": 50,
      "outputs": [
        {
          "output_type": "execute_result",
          "data": {
            "text/plain": [
              "'P'"
            ],
            "application/vnd.google.colaboratory.intrinsic+json": {
              "type": "string"
            }
          },
          "metadata": {},
          "execution_count": 50
        }
      ]
    },
    {
      "cell_type": "code",
      "source": [
        "# get the word \"Pandas\" from variable_d\n",
        "variable_d[9:]\n",
        "variable_d[9:15]\n"
      ],
      "metadata": {
        "colab": {
          "base_uri": "https://localhost:8080/",
          "height": 36
        },
        "id": "4Aztk_a01UPm",
        "outputId": "746f8023-3e60-48f4-a296-5afc34231db7"
      },
      "id": "4Aztk_a01UPm",
      "execution_count": 51,
      "outputs": [
        {
          "output_type": "execute_result",
          "data": {
            "text/plain": [
              "'Pandas'"
            ],
            "application/vnd.google.colaboratory.intrinsic+json": {
              "type": "string"
            }
          },
          "metadata": {},
          "execution_count": 51
        }
      ]
    },
    {
      "cell_type": "markdown",
      "id": "81a5221e",
      "metadata": {
        "id": "81a5221e"
      },
      "source": [
        "#### Advance list slicing\n",
        "* Using [start_index:end_index:step]"
      ]
    },
    {
      "cell_type": "code",
      "execution_count": 52,
      "id": "a4598cb0",
      "metadata": {
        "id": "a4598cb0",
        "outputId": "848e5203-516a-45b2-f053-dfa77dc6af53",
        "colab": {
          "base_uri": "https://localhost:8080/",
          "height": 36
        }
      },
      "outputs": [
        {
          "output_type": "execute_result",
          "data": {
            "text/plain": [
              "'Learning Pandas'"
            ],
            "application/vnd.google.colaboratory.intrinsic+json": {
              "type": "string"
            }
          },
          "metadata": {},
          "execution_count": 52
        }
      ],
      "source": [
        "variable_d"
      ]
    },
    {
      "cell_type": "code",
      "execution_count": 53,
      "id": "82d822a4",
      "metadata": {
        "id": "82d822a4",
        "outputId": "d8ce6908-c518-4b79-c232-b0f538ed30e2",
        "colab": {
          "base_uri": "https://localhost:8080/",
          "height": 36
        }
      },
      "outputs": [
        {
          "output_type": "execute_result",
          "data": {
            "text/plain": [
              "'Learning Pandas'"
            ],
            "application/vnd.google.colaboratory.intrinsic+json": {
              "type": "string"
            }
          },
          "metadata": {},
          "execution_count": 53
        }
      ],
      "source": [
        "variable_d[::]"
      ]
    },
    {
      "cell_type": "code",
      "execution_count": 54,
      "id": "450c16c3",
      "metadata": {
        "id": "450c16c3",
        "outputId": "4e2454a2-846f-41f1-c62f-24225b542723",
        "colab": {
          "base_uri": "https://localhost:8080/",
          "height": 36
        }
      },
      "outputs": [
        {
          "output_type": "execute_result",
          "data": {
            "text/plain": [
              "'Lann ads'"
            ],
            "application/vnd.google.colaboratory.intrinsic+json": {
              "type": "string"
            }
          },
          "metadata": {},
          "execution_count": 54
        }
      ],
      "source": [
        "variable_d[::2] # display using step of 2"
      ]
    },
    {
      "cell_type": "code",
      "execution_count": 55,
      "id": "7f697de1",
      "metadata": {
        "scrolled": false,
        "id": "7f697de1",
        "outputId": "a76356ac-7d1e-47b1-ee61-d42e9c8229a2",
        "colab": {
          "base_uri": "https://localhost:8080/",
          "height": 36
        }
      },
      "outputs": [
        {
          "output_type": "execute_result",
          "data": {
            "text/plain": [
              "'sadnaP gninraeL'"
            ],
            "application/vnd.google.colaboratory.intrinsic+json": {
              "type": "string"
            }
          },
          "metadata": {},
          "execution_count": 55
        }
      ],
      "source": [
        "variable_d[::-1] # reversing a list"
      ]
    },
    {
      "cell_type": "code",
      "source": [
        "variable_d[::3]"
      ],
      "metadata": {
        "id": "7bRjj6TDp5Yx",
        "outputId": "ed3bdf2f-fe24-460a-df25-9d587f7341d7",
        "colab": {
          "base_uri": "https://localhost:8080/",
          "height": 36
        }
      },
      "id": "7bRjj6TDp5Yx",
      "execution_count": 56,
      "outputs": [
        {
          "output_type": "execute_result",
          "data": {
            "text/plain": [
              "'LrnPd'"
            ],
            "application/vnd.google.colaboratory.intrinsic+json": {
              "type": "string"
            }
          },
          "metadata": {},
          "execution_count": 56
        }
      ]
    },
    {
      "cell_type": "code",
      "source": [
        "list(range(0.4))"
      ],
      "metadata": {
        "id": "NwLUSF_aqto7",
        "outputId": "231e922a-d349-49a0-c8c3-0d57aed2b106",
        "colab": {
          "base_uri": "https://localhost:8080/",
          "height": 179
        }
      },
      "id": "NwLUSF_aqto7",
      "execution_count": 59,
      "outputs": [
        {
          "output_type": "error",
          "ename": "TypeError",
          "evalue": "ignored",
          "traceback": [
            "\u001b[0;31m---------------------------------------------------------------------------\u001b[0m",
            "\u001b[0;31mTypeError\u001b[0m                                 Traceback (most recent call last)",
            "\u001b[0;32m<ipython-input-59-65d3059a8ff5>\u001b[0m in \u001b[0;36m<cell line: 1>\u001b[0;34m()\u001b[0m\n\u001b[0;32m----> 1\u001b[0;31m \u001b[0mlist\u001b[0m\u001b[0;34m(\u001b[0m\u001b[0mrange\u001b[0m\u001b[0;34m(\u001b[0m\u001b[0;36m0.4\u001b[0m\u001b[0;34m)\u001b[0m\u001b[0;34m)\u001b[0m\u001b[0;34m\u001b[0m\u001b[0;34m\u001b[0m\u001b[0m\n\u001b[0m",
            "\u001b[0;31mTypeError\u001b[0m: 'float' object cannot be interpreted as an integer"
          ]
        }
      ]
    },
    {
      "cell_type": "markdown",
      "id": "4d312677",
      "metadata": {
        "id": "4d312677"
      },
      "source": [
        "* `range(start_value, final_value, step)`"
      ]
    },
    {
      "cell_type": "code",
      "source": [
        "range(0,4)"
      ],
      "metadata": {
        "colab": {
          "base_uri": "https://localhost:8080/"
        },
        "id": "dCDqGYOs3zAT",
        "outputId": "833f7e0a-999f-406d-90df-f11c1eca24b4"
      },
      "id": "dCDqGYOs3zAT",
      "execution_count": 58,
      "outputs": [
        {
          "output_type": "execute_result",
          "data": {
            "text/plain": [
              "range(0, 4)"
            ]
          },
          "metadata": {},
          "execution_count": 58
        }
      ]
    },
    {
      "cell_type": "code",
      "source": [],
      "metadata": {
        "id": "ubUd6EBGrAGC"
      },
      "id": "ubUd6EBGrAGC",
      "execution_count": null,
      "outputs": []
    },
    {
      "cell_type": "code",
      "execution_count": null,
      "id": "0f6c1f5f",
      "metadata": {
        "id": "0f6c1f5f",
        "outputId": "1818cb86-2f9f-4d96-b1e3-c35828ad485f",
        "colab": {
          "base_uri": "https://localhost:8080/"
        }
      },
      "outputs": [
        {
          "output_type": "execute_result",
          "data": {
            "text/plain": [
              "[1, 2, 3, 4]"
            ]
          },
          "metadata": {},
          "execution_count": 81
        }
      ],
      "source": [
        "list(range(1,5,1))"
      ]
    },
    {
      "cell_type": "code",
      "execution_count": null,
      "id": "8d24e48c",
      "metadata": {
        "id": "8d24e48c",
        "outputId": "72e88e72-f511-4b72-fa98-54ece6983c5b",
        "colab": {
          "base_uri": "https://localhost:8080/"
        }
      },
      "outputs": [
        {
          "output_type": "execute_result",
          "data": {
            "text/plain": [
              "[0, 2, 4, 6, 8]"
            ]
          },
          "metadata": {},
          "execution_count": 82
        }
      ],
      "source": [
        "list(range(0,10,2))"
      ]
    },
    {
      "cell_type": "markdown",
      "id": "4a6a5364",
      "metadata": {
        "id": "4a6a5364"
      },
      "source": [
        "* `range(n)` = `range(0, n, 1)`"
      ]
    },
    {
      "cell_type": "code",
      "execution_count": null,
      "id": "50f5ea89",
      "metadata": {
        "id": "50f5ea89",
        "outputId": "e93b9b18-7717-4728-f93e-51378c4709e0",
        "colab": {
          "base_uri": "https://localhost:8080/"
        }
      },
      "outputs": [
        {
          "output_type": "execute_result",
          "data": {
            "text/plain": [
              "[0, 1, 2, 3, 4]"
            ]
          },
          "metadata": {},
          "execution_count": 83
        }
      ],
      "source": [
        "list(range(5))"
      ]
    },
    {
      "cell_type": "markdown",
      "id": "c7c99b5c",
      "metadata": {
        "id": "c7c99b5c"
      },
      "source": [
        "`map(func, *iterables)` --> Make an iterator that computes the function using arguments from each of the iterables.  Stops when the shortest iterable is exhausted. ##เรียกว่าแลมด้า"
      ]
    },
    {
      "cell_type": "code",
      "execution_count": 60,
      "id": "d2650dea",
      "metadata": {
        "id": "d2650dea",
        "outputId": "d8a52972-1fb2-4b93-f5fe-f47681e6f479",
        "colab": {
          "base_uri": "https://localhost:8080/"
        }
      },
      "outputs": [
        {
          "output_type": "execute_result",
          "data": {
            "text/plain": [
              "[0, 1, 4, 9, 16]"
            ]
          },
          "metadata": {},
          "execution_count": 60
        }
      ],
      "source": [
        "list(map(lambda x: x**2, range(5)))"
      ]
    },
    {
      "cell_type": "markdown",
      "id": "16a472b0",
      "metadata": {
        "id": "16a472b0"
      },
      "source": [
        "### Set"
      ]
    },
    {
      "cell_type": "code",
      "execution_count": 62,
      "id": "ebfc0c5e",
      "metadata": {
        "id": "ebfc0c5e",
        "outputId": "29f36d4f-8e69-4fed-dae1-8aa74e047370",
        "colab": {
          "base_uri": "https://localhost:8080/"
        }
      },
      "outputs": [
        {
          "output_type": "stream",
          "name": "stdout",
          "text": [
            "a_set = {1, 2, 2, 3, 3, 3}\n",
            "a_set: {1, 2, 3}\n"
          ]
        }
      ],
      "source": [
        "print(\"a_set = {1, 2, 2, 3, 3, 3}\")\n",
        "print(\"a_set:\", a_set) #ปกติกับไม่มีค่าซ้ำ"
      ]
    },
    {
      "cell_type": "code",
      "execution_count": 63,
      "id": "9bc00285",
      "metadata": {
        "id": "9bc00285",
        "outputId": "80ecb8b9-5e9c-4de3-cbe2-b6c78d3fa8cc",
        "colab": {
          "base_uri": "https://localhost:8080/"
        }
      },
      "outputs": [
        {
          "output_type": "execute_result",
          "data": {
            "text/plain": [
              "3"
            ]
          },
          "metadata": {},
          "execution_count": 63
        }
      ],
      "source": [
        "len(a_set)"
      ]
    },
    {
      "cell_type": "markdown",
      "id": "fa290645",
      "metadata": {
        "id": "fa290645"
      },
      "source": [
        "Casting set ot list"
      ]
    },
    {
      "cell_type": "code",
      "execution_count": 64,
      "id": "ff7af21f",
      "metadata": {
        "id": "ff7af21f",
        "outputId": "5f615d67-84d3-4287-85c6-b08bdad32708",
        "colab": {
          "base_uri": "https://localhost:8080/"
        }
      },
      "outputs": [
        {
          "output_type": "execute_result",
          "data": {
            "text/plain": [
              "[1, 2, 3]"
            ]
          },
          "metadata": {},
          "execution_count": 64
        }
      ],
      "source": [
        "list(a_set)"
      ]
    },
    {
      "cell_type": "code",
      "execution_count": 65,
      "id": "1290cfa9",
      "metadata": {
        "id": "1290cfa9",
        "outputId": "87e3bbe1-a47c-4425-f63b-403bd6c5eb12",
        "colab": {
          "base_uri": "https://localhost:8080/"
        }
      },
      "outputs": [
        {
          "output_type": "execute_result",
          "data": {
            "text/plain": [
              "1"
            ]
          },
          "metadata": {},
          "execution_count": 65
        }
      ],
      "source": [
        "list(a_set)[0]"
      ]
    },
    {
      "cell_type": "markdown",
      "id": "4f09edaa",
      "metadata": {
        "id": "4f09edaa"
      },
      "source": [
        "### Dict"
      ]
    },
    {
      "cell_type": "markdown",
      "id": "0e3c90a9",
      "metadata": {
        "id": "0e3c90a9"
      },
      "source": [
        "Python dictionary stores data in key-value format"
      ]
    },
    {
      "cell_type": "code",
      "execution_count": 66,
      "id": "169cce80",
      "metadata": {
        "id": "169cce80",
        "outputId": "392b6b20-0191-4a0d-edae-4adea577be3b",
        "colab": {
          "base_uri": "https://localhost:8080/"
        }
      },
      "outputs": [
        {
          "output_type": "stream",
          "name": "stdout",
          "text": [
            "a_dict = {'c': 1, 'b': 2, 'a': 3}\n",
            "a_dict: {'c': 1, 'b': 2, 'a': 3}\n"
          ]
        }
      ],
      "source": [
        "print(\"a_dict = {'c': 1, 'b': 2, 'a': 3}\")\n",
        "print(\"a_dict:\", a_dict)"
      ]
    },
    {
      "cell_type": "code",
      "execution_count": 67,
      "id": "0dcbcd65",
      "metadata": {
        "id": "0dcbcd65",
        "outputId": "6ab74146-c211-46b7-f148-2fa586e49e15",
        "colab": {
          "base_uri": "https://localhost:8080/"
        }
      },
      "outputs": [
        {
          "output_type": "execute_result",
          "data": {
            "text/plain": [
              "dict_keys(['c', 'b', 'a'])"
            ]
          },
          "metadata": {},
          "execution_count": 67
        }
      ],
      "source": [
        "a_dict.keys()"
      ]
    },
    {
      "cell_type": "code",
      "execution_count": 68,
      "id": "ab538225",
      "metadata": {
        "id": "ab538225",
        "outputId": "8faad66f-818f-49c6-d5c3-4d373039675c",
        "colab": {
          "base_uri": "https://localhost:8080/"
        }
      },
      "outputs": [
        {
          "output_type": "execute_result",
          "data": {
            "text/plain": [
              "dict_values([1, 2, 3])"
            ]
          },
          "metadata": {},
          "execution_count": 68
        }
      ],
      "source": [
        "a_dict.values()"
      ]
    },
    {
      "cell_type": "code",
      "execution_count": 69,
      "id": "fe16f81c",
      "metadata": {
        "id": "fe16f81c",
        "outputId": "daf1ce09-688e-49fd-85b3-064513482a97",
        "colab": {
          "base_uri": "https://localhost:8080/"
        }
      },
      "outputs": [
        {
          "output_type": "execute_result",
          "data": {
            "text/plain": [
              "3"
            ]
          },
          "metadata": {},
          "execution_count": 69
        }
      ],
      "source": [
        "len(a_dict)"
      ]
    },
    {
      "cell_type": "code",
      "execution_count": 70,
      "id": "ce5b9ce4",
      "metadata": {
        "id": "ce5b9ce4",
        "outputId": "66cafc7b-8dc9-4a30-d02c-70c846aba719",
        "colab": {
          "base_uri": "https://localhost:8080/"
        }
      },
      "outputs": [
        {
          "output_type": "execute_result",
          "data": {
            "text/plain": [
              "dict_items([('c', 1), ('b', 2), ('a', 3)])"
            ]
          },
          "metadata": {},
          "execution_count": 70
        }
      ],
      "source": [
        "a_dict.items()"
      ]
    },
    {
      "cell_type": "code",
      "source": [
        "for item in a_dict.items():\n",
        "  print(item) #อจพาเขียน"
      ],
      "metadata": {
        "id": "kedh-NAVsmrZ",
        "outputId": "4846e362-da42-465e-babd-ea9b56f6630d",
        "colab": {
          "base_uri": "https://localhost:8080/"
        }
      },
      "id": "kedh-NAVsmrZ",
      "execution_count": 73,
      "outputs": [
        {
          "output_type": "stream",
          "name": "stdout",
          "text": [
            "('c', 1)\n",
            "('b', 2)\n",
            "('a', 3)\n"
          ]
        }
      ]
    },
    {
      "cell_type": "code",
      "execution_count": 74,
      "id": "f3b5544a",
      "metadata": {
        "id": "f3b5544a",
        "outputId": "a04ec248-7f15-41da-9221-b782f09e99bd",
        "colab": {
          "base_uri": "https://localhost:8080/"
        }
      },
      "outputs": [
        {
          "output_type": "stream",
          "name": "stdout",
          "text": [
            "key of c gives value of 1\n",
            "key of b gives value of 2\n",
            "key of a gives value of 3\n"
          ]
        }
      ],
      "source": [
        "for key,val in a_dict.items():\n",
        "    print(\"key of\", key, \"gives value of\", val)"
      ]
    },
    {
      "cell_type": "code",
      "execution_count": 75,
      "id": "757a863f",
      "metadata": {
        "id": "757a863f",
        "outputId": "5a40da08-fa75-4d22-e4ce-f359c4972995",
        "colab": {
          "base_uri": "https://localhost:8080/"
        }
      },
      "outputs": [
        {
          "output_type": "execute_result",
          "data": {
            "text/plain": [
              "1"
            ]
          },
          "metadata": {},
          "execution_count": 75
        }
      ],
      "source": [
        "a_dict['c']"
      ]
    },
    {
      "cell_type": "code",
      "execution_count": 76,
      "id": "f0f6b03b",
      "metadata": {
        "scrolled": true,
        "id": "f0f6b03b",
        "outputId": "c736c630-1194-44b9-fc1c-ee2cd3e155c0",
        "colab": {
          "base_uri": "https://localhost:8080/"
        }
      },
      "outputs": [
        {
          "output_type": "execute_result",
          "data": {
            "text/plain": [
              "3"
            ]
          },
          "metadata": {},
          "execution_count": 76
        }
      ],
      "source": [
        "a_dict['a']"
      ]
    },
    {
      "cell_type": "code",
      "source": [
        "# add key \"d\" with value \"4\" to a_dict\n",
        "a_dict[\"d\"] = 4\n",
        "a_dict"
      ],
      "metadata": {
        "colab": {
          "base_uri": "https://localhost:8080/"
        },
        "id": "5b1uYAst3Cwj",
        "outputId": "bb7a4112-bed8-408a-de16-9976a7fe8c0f"
      },
      "id": "5b1uYAst3Cwj",
      "execution_count": 77,
      "outputs": [
        {
          "output_type": "execute_result",
          "data": {
            "text/plain": [
              "{'c': 1, 'b': 2, 'a': 3, 'd': 4}"
            ]
          },
          "metadata": {},
          "execution_count": 77
        }
      ]
    },
    {
      "cell_type": "markdown",
      "source": [
        "<font color='red'><h4>📝 Your turn</h4></font>\n",
        "<p>Create a dictionary from the following lists\n",
        "\n",
        "```\n",
        "keys = ['Ten', 'Twenty', 'Thirty']\n",
        "values = [10, 20, 30]\n",
        "```"
      ],
      "metadata": {
        "id": "lUMA-RCA2oN3"
      },
      "id": "lUMA-RCA2oN3"
    },
    {
      "cell_type": "code",
      "source": [
        "# create my_dict\n",
        "my_dict = {'Ten': 10, 'Twenty': 20, 'Thirty': 30}\n",
        "my_dict['Twenty']"
      ],
      "metadata": {
        "id": "dhoplgHA2o6s",
        "colab": {
          "base_uri": "https://localhost:8080/"
        },
        "outputId": "73b71473-c0fb-49ad-cc3c-c559e80b7e7e"
      },
      "id": "dhoplgHA2o6s",
      "execution_count": 78,
      "outputs": [
        {
          "output_type": "execute_result",
          "data": {
            "text/plain": [
              "20"
            ]
          },
          "metadata": {},
          "execution_count": 78
        }
      ]
    },
    {
      "cell_type": "code",
      "source": [
        "keys = ['Ten', 'Twenty', 'Thirty']\n",
        "values = [10, 20, 30]\n",
        "print(\"zip(keys,values):\", zip(keys, values))\n",
        "print(\"convert zip(keys,values) to list:\", list(zip(keys, values)))\n",
        "my_dict1 = dict(zip(keys, values))\n",
        "my_dict1"
      ],
      "metadata": {
        "colab": {
          "base_uri": "https://localhost:8080/"
        },
        "id": "l7SLeflK30Ei",
        "outputId": "b73216f7-9e58-485a-a027-f1d6976cea78"
      },
      "id": "l7SLeflK30Ei",
      "execution_count": 79,
      "outputs": [
        {
          "output_type": "stream",
          "name": "stdout",
          "text": [
            "zip(keys,values): <zip object at 0x7887e9d17ac0>\n",
            "convert zip(keys,values) to list: [('Ten', 10), ('Twenty', 20), ('Thirty', 30)]\n"
          ]
        },
        {
          "output_type": "execute_result",
          "data": {
            "text/plain": [
              "{'Ten': 10, 'Twenty': 20, 'Thirty': 30}"
            ]
          },
          "metadata": {},
          "execution_count": 79
        }
      ]
    },
    {
      "cell_type": "code",
      "source": [
        "my_dict2 = {}\n",
        "for i in range(len(keys)):\n",
        "  my_dict2[keys[i]] = values[i]\n",
        "my_dict2"
      ],
      "metadata": {
        "colab": {
          "base_uri": "https://localhost:8080/"
        },
        "id": "2FcPFpED4nci",
        "outputId": "ba87497d-bb38-49d6-ec7d-f87fdeb34c0a"
      },
      "id": "2FcPFpED4nci",
      "execution_count": 80,
      "outputs": [
        {
          "output_type": "execute_result",
          "data": {
            "text/plain": [
              "{'Ten': 10, 'Twenty': 20, 'Thirty': 30}"
            ]
          },
          "metadata": {},
          "execution_count": 80
        }
      ]
    },
    {
      "cell_type": "markdown",
      "id": "a42e3f9b",
      "metadata": {
        "id": "a42e3f9b"
      },
      "source": [
        "## Vectors and Arrays"
      ]
    },
    {
      "cell_type": "code",
      "execution_count": 81,
      "id": "9ba9d59c",
      "metadata": {
        "id": "9ba9d59c"
      },
      "outputs": [],
      "source": [
        "import numpy as np # package สำหรับทำงานกับข้อมูลที่เป็นตัวเลข (ในรูปแบบ matrix)"
      ]
    },
    {
      "cell_type": "markdown",
      "id": "21506ff5",
      "metadata": {
        "id": "21506ff5"
      },
      "source": [
        "Create numpy array"
      ]
    },
    {
      "cell_type": "code",
      "execution_count": 83,
      "id": "71ef8c4e",
      "metadata": {
        "scrolled": false,
        "id": "71ef8c4e",
        "outputId": "69e5fe28-ef35-47c3-c99a-9cdd1edb1161",
        "colab": {
          "base_uri": "https://localhost:8080/"
        }
      },
      "outputs": [
        {
          "output_type": "execute_result",
          "data": {
            "text/plain": [
              "array([[1, 2, 3],\n",
              "       [4, 5, 6]])"
            ]
          },
          "metadata": {},
          "execution_count": 83
        }
      ],
      "source": [
        "np_a = np.array([[1,2,3],[4,5,6]])\n",
        "np_a #ได้เมทริกขนาด2*3"
      ]
    },
    {
      "cell_type": "markdown",
      "id": "ad999f31",
      "metadata": {
        "id": "ad999f31"
      },
      "source": [
        "The size of a matrix can be accessed using `matrix.shape` resulting in (#rows,#columns)"
      ]
    },
    {
      "cell_type": "code",
      "execution_count": 84,
      "id": "3e7df464",
      "metadata": {
        "id": "3e7df464",
        "outputId": "c016f1a8-e626-491b-c0b6-69fd1422114d",
        "colab": {
          "base_uri": "https://localhost:8080/"
        }
      },
      "outputs": [
        {
          "output_type": "execute_result",
          "data": {
            "text/plain": [
              "(2, 3)"
            ]
          },
          "metadata": {},
          "execution_count": 84
        }
      ],
      "source": [
        "np_a.shape"
      ]
    },
    {
      "cell_type": "code",
      "source": [
        "np_a.shape[0]"
      ],
      "metadata": {
        "colab": {
          "base_uri": "https://localhost:8080/"
        },
        "id": "hdgguGQe-RUe",
        "outputId": "5505ecf8-6b2c-438b-ba5a-fffab4ad2fd6"
      },
      "id": "hdgguGQe-RUe",
      "execution_count": 85,
      "outputs": [
        {
          "output_type": "execute_result",
          "data": {
            "text/plain": [
              "2"
            ]
          },
          "metadata": {},
          "execution_count": 85
        }
      ]
    },
    {
      "cell_type": "code",
      "execution_count": 86,
      "id": "525bb896",
      "metadata": {
        "id": "525bb896",
        "outputId": "570f959f-d1a9-4d6d-ce04-c183164a04bd",
        "colab": {
          "base_uri": "https://localhost:8080/"
        }
      },
      "outputs": [
        {
          "output_type": "stream",
          "name": "stdout",
          "text": [
            "2 3\n"
          ]
        }
      ],
      "source": [
        "n_rows,n_cols = np_a.shape\n",
        "print(n_rows, n_cols)"
      ]
    },
    {
      "cell_type": "code",
      "execution_count": 87,
      "id": "2e6f1de8",
      "metadata": {
        "id": "2e6f1de8",
        "outputId": "e482fead-8f5c-44f4-c638-845f601fbf24",
        "colab": {
          "base_uri": "https://localhost:8080/"
        }
      },
      "outputs": [
        {
          "output_type": "stream",
          "name": "stdout",
          "text": [
            "(3, 2)\n"
          ]
        },
        {
          "output_type": "execute_result",
          "data": {
            "text/plain": [
              "array([[1, 4],\n",
              "       [2, 5],\n",
              "       [3, 6]])"
            ]
          },
          "metadata": {},
          "execution_count": 87
        }
      ],
      "source": [
        "np_b = np.array([[1,4],[2,5],[3,6]])\n",
        "print(np_b.shape)\n",
        "np_b"
      ]
    },
    {
      "cell_type": "code",
      "execution_count": 88,
      "id": "697c1bdc",
      "metadata": {
        "id": "697c1bdc",
        "outputId": "8c7d174a-4be8-4637-8a93-7352aec15042",
        "colab": {
          "base_uri": "https://localhost:8080/"
        }
      },
      "outputs": [
        {
          "output_type": "execute_result",
          "data": {
            "text/plain": [
              "array([[0., 0.],\n",
              "       [0., 0.],\n",
              "       [0., 0.]])"
            ]
          },
          "metadata": {},
          "execution_count": 88
        }
      ],
      "source": [
        "np.zeros((3,2))"
      ]
    },
    {
      "cell_type": "code",
      "execution_count": 89,
      "id": "89aa5db4",
      "metadata": {
        "id": "89aa5db4",
        "outputId": "a3480049-b0da-4712-a982-ab249a9b8a90",
        "colab": {
          "base_uri": "https://localhost:8080/"
        }
      },
      "outputs": [
        {
          "output_type": "execute_result",
          "data": {
            "text/plain": [
              "array([[-0.12836144, -1.20868019],\n",
              "       [-0.5422344 ,  0.65774409],\n",
              "       [-0.51108849,  1.55297794]])"
            ]
          },
          "metadata": {},
          "execution_count": 89
        }
      ],
      "source": [
        "np.random.randn(3,2)"
      ]
    },
    {
      "cell_type": "code",
      "execution_count": 90,
      "id": "958b7c9d",
      "metadata": {
        "id": "958b7c9d",
        "outputId": "f4370a8d-a9a5-45fc-a990-f197ce65fd31",
        "colab": {
          "base_uri": "https://localhost:8080/"
        }
      },
      "outputs": [
        {
          "output_type": "execute_result",
          "data": {
            "text/plain": [
              "array([[2, 6],\n",
              "       [4, 5],\n",
              "       [6, 5]])"
            ]
          },
          "metadata": {},
          "execution_count": 90
        }
      ],
      "source": [
        "np.random.randint(0, 10, (3,2)) # random integers from 0 to 9"
      ]
    },
    {
      "cell_type": "markdown",
      "id": "e71f59f3",
      "metadata": {
        "id": "e71f59f3"
      },
      "source": [
        "Indexing: [row,column] where using `:` as index means to select all elements in rows or columns"
      ]
    },
    {
      "cell_type": "code",
      "execution_count": 91,
      "id": "e2f3a22c",
      "metadata": {
        "id": "e2f3a22c",
        "outputId": "3d5ea395-de06-4e12-d3c7-130581e1824f",
        "colab": {
          "base_uri": "https://localhost:8080/"
        }
      },
      "outputs": [
        {
          "output_type": "stream",
          "name": "stdout",
          "text": [
            "[[1 4]\n",
            " [2 5]\n",
            " [3 6]]\n"
          ]
        },
        {
          "output_type": "execute_result",
          "data": {
            "text/plain": [
              "4"
            ]
          },
          "metadata": {},
          "execution_count": 91
        }
      ],
      "source": [
        "print(np_b)\n",
        "np_b[0,1]"
      ]
    },
    {
      "cell_type": "markdown",
      "source": [
        "<font color='red'><h4>📝 Your turn</h4></font>\n",
        "\n",
        "Retrieve the element `3` from `np_b`"
      ],
      "metadata": {
        "id": "6vC2DkX25jZv"
      },
      "id": "6vC2DkX25jZv"
    },
    {
      "cell_type": "code",
      "source": [
        "# Retrieve the element 3 from np_b\n",
        "np_b[2,0]\n"
      ],
      "metadata": {
        "id": "am_m9OW85iZd",
        "colab": {
          "base_uri": "https://localhost:8080/"
        },
        "outputId": "c4b02850-342e-4ff1-94b4-74297915eb7c"
      },
      "id": "am_m9OW85iZd",
      "execution_count": 92,
      "outputs": [
        {
          "output_type": "execute_result",
          "data": {
            "text/plain": [
              "3"
            ]
          },
          "metadata": {},
          "execution_count": 92
        }
      ]
    },
    {
      "cell_type": "code",
      "execution_count": null,
      "id": "10a1b5cd",
      "metadata": {
        "id": "10a1b5cd",
        "outputId": "89e09d64-08ea-4d3b-9615-6ccc682f6f4a",
        "colab": {
          "base_uri": "https://localhost:8080/"
        }
      },
      "outputs": [
        {
          "output_type": "execute_result",
          "data": {
            "text/plain": [
              "array([2, 5])"
            ]
          },
          "metadata": {},
          "execution_count": 117
        }
      ],
      "source": [
        "np_b[1]"
      ]
    },
    {
      "cell_type": "code",
      "execution_count": 93,
      "id": "3c1ca013",
      "metadata": {
        "id": "3c1ca013",
        "outputId": "a189012e-4bda-4725-dc23-45ce651b46a0",
        "colab": {
          "base_uri": "https://localhost:8080/"
        }
      },
      "outputs": [
        {
          "output_type": "execute_result",
          "data": {
            "text/plain": [
              "array([2, 5])"
            ]
          },
          "metadata": {},
          "execution_count": 93
        }
      ],
      "source": [
        "np_b[1, :]"
      ]
    },
    {
      "cell_type": "code",
      "execution_count": 94,
      "id": "775d124d",
      "metadata": {
        "id": "775d124d",
        "outputId": "a0df4681-f6e5-4723-d8dc-33f9e349062e",
        "colab": {
          "base_uri": "https://localhost:8080/"
        }
      },
      "outputs": [
        {
          "output_type": "execute_result",
          "data": {
            "text/plain": [
              "array([[5],\n",
              "       [6]])"
            ]
          },
          "metadata": {},
          "execution_count": 94
        }
      ],
      "source": [
        "np_b[1:3, 1:]"
      ]
    },
    {
      "cell_type": "markdown",
      "id": "95ecab0e",
      "metadata": {
        "id": "95ecab0e"
      },
      "source": [
        "Transpose matrix"
      ]
    },
    {
      "cell_type": "code",
      "execution_count": 95,
      "id": "36feb350",
      "metadata": {
        "id": "36feb350",
        "outputId": "74cd3ecc-4424-4c49-e7c9-8d3f0ad3b41c",
        "colab": {
          "base_uri": "https://localhost:8080/"
        }
      },
      "outputs": [
        {
          "output_type": "execute_result",
          "data": {
            "text/plain": [
              "array([[1, 2, 3],\n",
              "       [4, 5, 6]])"
            ]
          },
          "metadata": {},
          "execution_count": 95
        }
      ],
      "source": [
        "np_b.T"
      ]
    },
    {
      "cell_type": "markdown",
      "id": "25f5e80e",
      "metadata": {
        "id": "25f5e80e"
      },
      "source": [
        "matrix multiplication"
      ]
    },
    {
      "cell_type": "code",
      "source": [
        "np_a"
      ],
      "metadata": {
        "colab": {
          "base_uri": "https://localhost:8080/"
        },
        "id": "LT2eX3K__z2K",
        "outputId": "c8610baa-8891-41f7-f7e9-54e862ad4663"
      },
      "id": "LT2eX3K__z2K",
      "execution_count": 96,
      "outputs": [
        {
          "output_type": "execute_result",
          "data": {
            "text/plain": [
              "array([[1, 2, 3],\n",
              "       [4, 5, 6]])"
            ]
          },
          "metadata": {},
          "execution_count": 96
        }
      ]
    },
    {
      "cell_type": "code",
      "source": [
        "np_b"
      ],
      "metadata": {
        "colab": {
          "base_uri": "https://localhost:8080/"
        },
        "id": "43YF20Ne_1Ux",
        "outputId": "9f835489-17e7-4c27-be1d-5715a9e2121d"
      },
      "id": "43YF20Ne_1Ux",
      "execution_count": 97,
      "outputs": [
        {
          "output_type": "execute_result",
          "data": {
            "text/plain": [
              "array([[1, 4],\n",
              "       [2, 5],\n",
              "       [3, 6]])"
            ]
          },
          "metadata": {},
          "execution_count": 97
        }
      ]
    },
    {
      "cell_type": "code",
      "execution_count": 98,
      "id": "1f89d90f",
      "metadata": {
        "id": "1f89d90f",
        "outputId": "8df622d1-2b8a-4289-b436-ef0c570835dd",
        "colab": {
          "base_uri": "https://localhost:8080/"
        }
      },
      "outputs": [
        {
          "output_type": "execute_result",
          "data": {
            "text/plain": [
              "array([[17, 22, 27],\n",
              "       [22, 29, 36],\n",
              "       [27, 36, 45]])"
            ]
          },
          "metadata": {},
          "execution_count": 98
        }
      ],
      "source": [
        "np.dot(np_b,np_a)"
      ]
    },
    {
      "cell_type": "code",
      "execution_count": 99,
      "id": "c4ff4bae",
      "metadata": {
        "id": "c4ff4bae",
        "outputId": "80a474ad-789b-4cd9-acca-b454a00cf780",
        "colab": {
          "base_uri": "https://localhost:8080/"
        }
      },
      "outputs": [
        {
          "output_type": "execute_result",
          "data": {
            "text/plain": [
              "array([[14, 32],\n",
              "       [32, 77]])"
            ]
          },
          "metadata": {},
          "execution_count": 99
        }
      ],
      "source": [
        "np.dot(np_a,np_b)"
      ]
    },
    {
      "cell_type": "code",
      "execution_count": 100,
      "id": "acc5f579",
      "metadata": {
        "id": "acc5f579",
        "outputId": "fe4de558-d6c2-4ae0-f2f5-6f01f43923ef",
        "colab": {
          "base_uri": "https://localhost:8080/",
          "height": 179
        }
      },
      "outputs": [
        {
          "output_type": "error",
          "ename": "ValueError",
          "evalue": "ignored",
          "traceback": [
            "\u001b[0;31m---------------------------------------------------------------------------\u001b[0m",
            "\u001b[0;31mValueError\u001b[0m                                Traceback (most recent call last)",
            "\u001b[0;32m<ipython-input-100-0698db726d8b>\u001b[0m in \u001b[0;36m<cell line: 1>\u001b[0;34m()\u001b[0m\n\u001b[0;32m----> 1\u001b[0;31m \u001b[0mnp_a\u001b[0m \u001b[0;34m*\u001b[0m \u001b[0mnp_b\u001b[0m\u001b[0;34m\u001b[0m\u001b[0;34m\u001b[0m\u001b[0m\n\u001b[0m",
            "\u001b[0;31mValueError\u001b[0m: operands could not be broadcast together with shapes (2,3) (3,2) "
          ]
        }
      ],
      "source": [
        "np_a * np_b"
      ]
    },
    {
      "cell_type": "code",
      "source": [
        "np_a"
      ],
      "metadata": {
        "colab": {
          "base_uri": "https://localhost:8080/"
        },
        "id": "1nHHClt_AD3C",
        "outputId": "a517f80b-fe7e-42f9-9162-324a359e75ef"
      },
      "id": "1nHHClt_AD3C",
      "execution_count": 101,
      "outputs": [
        {
          "output_type": "execute_result",
          "data": {
            "text/plain": [
              "array([[1, 2, 3],\n",
              "       [4, 5, 6]])"
            ]
          },
          "metadata": {},
          "execution_count": 101
        }
      ]
    },
    {
      "cell_type": "code",
      "execution_count": 102,
      "id": "19fcace1",
      "metadata": {
        "id": "19fcace1",
        "outputId": "22fcd121-6c19-4cb6-f521-7d647da17f91",
        "colab": {
          "base_uri": "https://localhost:8080/"
        }
      },
      "outputs": [
        {
          "output_type": "execute_result",
          "data": {
            "text/plain": [
              "array([[ 1,  4,  9],\n",
              "       [16, 25, 36]])"
            ]
          },
          "metadata": {},
          "execution_count": 102
        }
      ],
      "source": [
        "np_a * np_a"
      ]
    },
    {
      "cell_type": "code",
      "execution_count": null,
      "id": "a27e921d",
      "metadata": {
        "id": "a27e921d",
        "outputId": "5d5d3a54-5f08-49e1-8910-1ab36185a9f1",
        "colab": {
          "base_uri": "https://localhost:8080/"
        }
      },
      "outputs": [
        {
          "output_type": "execute_result",
          "data": {
            "text/plain": [
              "array([[2, 3, 4],\n",
              "       [5, 6, 7]])"
            ]
          },
          "metadata": {},
          "execution_count": 128
        }
      ],
      "source": [
        "np_a + 1"
      ]
    },
    {
      "cell_type": "code",
      "execution_count": 103,
      "id": "3291723a",
      "metadata": {
        "id": "3291723a",
        "outputId": "4c753843-300f-45f6-82e0-6bb1c12f4937",
        "colab": {
          "base_uri": "https://localhost:8080/"
        }
      },
      "outputs": [
        {
          "output_type": "execute_result",
          "data": {
            "text/plain": [
              "array([[ 3,  6,  9],\n",
              "       [12, 15, 18]])"
            ]
          },
          "metadata": {},
          "execution_count": 103
        }
      ],
      "source": [
        "np_a * 3"
      ]
    },
    {
      "cell_type": "markdown",
      "id": "83d85bfe",
      "metadata": {
        "id": "83d85bfe"
      },
      "source": [
        "Useful numpy functions"
      ]
    },
    {
      "cell_type": "code",
      "execution_count": 104,
      "id": "21adee27",
      "metadata": {
        "id": "21adee27",
        "outputId": "4dd4c876-aa5c-47ba-a7d7-21c088dd7268",
        "colab": {
          "base_uri": "https://localhost:8080/"
        }
      },
      "outputs": [
        {
          "output_type": "stream",
          "name": "stdout",
          "text": [
            "[[1 2 3]\n",
            " [4 5 6]]\n"
          ]
        },
        {
          "output_type": "execute_result",
          "data": {
            "text/plain": [
              "21"
            ]
          },
          "metadata": {},
          "execution_count": 104
        }
      ],
      "source": [
        "print(np_a)\n",
        "np.sum(np_a)"
      ]
    },
    {
      "cell_type": "code",
      "execution_count": 105,
      "id": "38095ace",
      "metadata": {
        "id": "38095ace",
        "outputId": "0122276e-cb13-41da-9117-b579ed2a7c34",
        "colab": {
          "base_uri": "https://localhost:8080/"
        }
      },
      "outputs": [
        {
          "output_type": "execute_result",
          "data": {
            "text/plain": [
              "array([5, 7, 9])"
            ]
          },
          "metadata": {},
          "execution_count": 105
        }
      ],
      "source": [
        "np.sum(np_a, axis=0)"
      ]
    },
    {
      "cell_type": "code",
      "execution_count": null,
      "id": "9a35059a",
      "metadata": {
        "id": "9a35059a",
        "outputId": "6f0a41a5-83f2-44dd-9b2b-e7103ec8aa39",
        "colab": {
          "base_uri": "https://localhost:8080/"
        }
      },
      "outputs": [
        {
          "output_type": "execute_result",
          "data": {
            "text/plain": [
              "array([ 6, 15])"
            ]
          },
          "metadata": {},
          "execution_count": 132
        }
      ],
      "source": [
        "np.sum(np_a, axis=1)"
      ]
    },
    {
      "cell_type": "code",
      "execution_count": 106,
      "id": "89e6b4bc",
      "metadata": {
        "id": "89e6b4bc",
        "outputId": "17366091-f851-47b6-c5b9-084cfc7092ae",
        "colab": {
          "base_uri": "https://localhost:8080/"
        }
      },
      "outputs": [
        {
          "output_type": "execute_result",
          "data": {
            "text/plain": [
              "3.5"
            ]
          },
          "metadata": {},
          "execution_count": 106
        }
      ],
      "source": [
        "np.mean(np_a)"
      ]
    },
    {
      "cell_type": "code",
      "execution_count": 107,
      "id": "52b4ac3f",
      "metadata": {
        "id": "52b4ac3f",
        "outputId": "97077f39-306f-42e7-83e0-722adf54a840",
        "colab": {
          "base_uri": "https://localhost:8080/"
        }
      },
      "outputs": [
        {
          "output_type": "execute_result",
          "data": {
            "text/plain": [
              "array([2.5, 3.5, 4.5])"
            ]
          },
          "metadata": {},
          "execution_count": 107
        }
      ],
      "source": [
        "np.mean(np_a, axis=0) # compute mean along the row axes"
      ]
    },
    {
      "cell_type": "code",
      "execution_count": 108,
      "id": "316658eb",
      "metadata": {
        "id": "316658eb",
        "outputId": "ba9ec061-5d7b-4ed6-9e50-428490a28dcd",
        "colab": {
          "base_uri": "https://localhost:8080/"
        }
      },
      "outputs": [
        {
          "output_type": "execute_result",
          "data": {
            "text/plain": [
              "array([2., 5.])"
            ]
          },
          "metadata": {},
          "execution_count": 108
        }
      ],
      "source": [
        "np.mean(np_a, axis=1) # compute mean along the column axes"
      ]
    },
    {
      "cell_type": "code",
      "execution_count": null,
      "id": "2f6274b7",
      "metadata": {
        "id": "2f6274b7",
        "outputId": "64ed9a32-c88f-4ce9-827a-69519f08159f",
        "colab": {
          "base_uri": "https://localhost:8080/"
        }
      },
      "outputs": [
        {
          "output_type": "execute_result",
          "data": {
            "text/plain": [
              "array([4, 5, 6])"
            ]
          },
          "metadata": {},
          "execution_count": 136
        }
      ],
      "source": [
        "np_a.max(axis=0)"
      ]
    },
    {
      "cell_type": "markdown",
      "source": [
        "## Pandas Series\n",
        "One-dimensional ndarray with axis labels \\\n",
        "https://pandas.pydata.org/docs/reference/api/pandas.Series.html#pandas.Series"
      ],
      "metadata": {
        "id": "8LyZkQdte4jp"
      },
      "id": "8LyZkQdte4jp"
    },
    {
      "cell_type": "code",
      "source": [
        "import pandas as pd"
      ],
      "metadata": {
        "id": "Ay_LRhad7w6w"
      },
      "id": "Ay_LRhad7w6w",
      "execution_count": null,
      "outputs": []
    },
    {
      "cell_type": "code",
      "source": [
        "calories = {\"day1\": 420, \"day2\": 380, \"day3\": 390}\n",
        "diet = pd.Series(calories)\n",
        "#myseries = pd.Series([420, 380, 390], index=[\"day1\",\"day2\",\"day3\"])\n",
        "diet"
      ],
      "metadata": {
        "colab": {
          "base_uri": "https://localhost:8080/"
        },
        "id": "6792Uc42gclI",
        "outputId": "b550cb1b-870c-4296-d1d6-e69cbc35eaff"
      },
      "id": "6792Uc42gclI",
      "execution_count": null,
      "outputs": [
        {
          "output_type": "execute_result",
          "data": {
            "text/plain": [
              "day1    420\n",
              "day2    380\n",
              "day3    390\n",
              "dtype: int64"
            ]
          },
          "metadata": {},
          "execution_count": 139
        }
      ]
    },
    {
      "cell_type": "code",
      "source": [
        "diet[\"day2\"]"
      ],
      "metadata": {
        "colab": {
          "base_uri": "https://localhost:8080/"
        },
        "id": "53qcaqfggciP",
        "outputId": "29ad0699-f44e-4204-d0ce-245ce640aa93"
      },
      "id": "53qcaqfggciP",
      "execution_count": null,
      "outputs": [
        {
          "output_type": "execute_result",
          "data": {
            "text/plain": [
              "380"
            ]
          },
          "metadata": {},
          "execution_count": 140
        }
      ]
    },
    {
      "cell_type": "code",
      "source": [
        "diet[0]"
      ],
      "metadata": {
        "colab": {
          "base_uri": "https://localhost:8080/"
        },
        "id": "rGM7kr7mgcfd",
        "outputId": "d2f69a63-2c35-4a52-8cda-246b033745a1"
      },
      "id": "rGM7kr7mgcfd",
      "execution_count": null,
      "outputs": [
        {
          "output_type": "execute_result",
          "data": {
            "text/plain": [
              "420"
            ]
          },
          "metadata": {},
          "execution_count": 141
        }
      ]
    },
    {
      "cell_type": "code",
      "source": [
        "diet.mean()"
      ],
      "metadata": {
        "colab": {
          "base_uri": "https://localhost:8080/"
        },
        "id": "1mt90NzQj5Hj",
        "outputId": "b79c1701-7111-4f5f-c18c-66ce82085f8f"
      },
      "id": "1mt90NzQj5Hj",
      "execution_count": null,
      "outputs": [
        {
          "output_type": "execute_result",
          "data": {
            "text/plain": [
              "396.6666666666667"
            ]
          },
          "metadata": {},
          "execution_count": 142
        }
      ]
    },
    {
      "cell_type": "markdown",
      "source": [
        "## Pandas Dataframe\n",
        "Two-dimensional tabular data \\\n",
        "https://pandas.pydata.org/docs/reference/api/pandas.DataFrame.html#pandas.DataFrame"
      ],
      "metadata": {
        "id": "V-6OrQM5ziaE"
      },
      "id": "V-6OrQM5ziaE"
    },
    {
      "cell_type": "markdown",
      "source": [
        "### Creating a dataframe"
      ],
      "metadata": {
        "id": "wqF2seve03uL"
      },
      "id": "wqF2seve03uL"
    },
    {
      "cell_type": "markdown",
      "source": [
        "![createDF](https://pbpython.com/images/pandas-dataframe-shadow.png)"
      ],
      "metadata": {
        "id": "LIYcQIh20790"
      },
      "id": "LIYcQIh20790"
    },
    {
      "cell_type": "code",
      "source": [
        "import pandas as pd"
      ],
      "metadata": {
        "id": "5SbLMlP21LNn"
      },
      "id": "5SbLMlP21LNn",
      "execution_count": null,
      "outputs": []
    },
    {
      "cell_type": "code",
      "source": [
        "d = {'No': [1, 2, 3, 4, 5],\n",
        "     'Name': [\"สมบูรณ์\", \"สมชาย\", \"สมหญิง\", \"สมหมาย\", \"สมบัติ\"],\n",
        "     'Age': [23, 45, 62, 30, 32]}\n",
        "df = pd.DataFrame(data = d)\n",
        "df"
      ],
      "metadata": {
        "colab": {
          "base_uri": "https://localhost:8080/",
          "height": 206
        },
        "id": "EKmJieiWzhsR",
        "outputId": "c29e7e6a-eae5-411e-d0b2-c7b70c2041c5"
      },
      "id": "EKmJieiWzhsR",
      "execution_count": null,
      "outputs": [
        {
          "output_type": "execute_result",
          "data": {
            "text/plain": [
              "   No     Name  Age\n",
              "0   1  สมบูรณ์   23\n",
              "1   2    สมชาย   45\n",
              "2   3   สมหญิง   62\n",
              "3   4   สมหมาย   30\n",
              "4   5   สมบัติ   32"
            ],
            "text/html": [
              "\n",
              "  <div id=\"df-dc8d0724-f744-4f74-a854-e7a79565fa05\" class=\"colab-df-container\">\n",
              "    <div>\n",
              "<style scoped>\n",
              "    .dataframe tbody tr th:only-of-type {\n",
              "        vertical-align: middle;\n",
              "    }\n",
              "\n",
              "    .dataframe tbody tr th {\n",
              "        vertical-align: top;\n",
              "    }\n",
              "\n",
              "    .dataframe thead th {\n",
              "        text-align: right;\n",
              "    }\n",
              "</style>\n",
              "<table border=\"1\" class=\"dataframe\">\n",
              "  <thead>\n",
              "    <tr style=\"text-align: right;\">\n",
              "      <th></th>\n",
              "      <th>No</th>\n",
              "      <th>Name</th>\n",
              "      <th>Age</th>\n",
              "    </tr>\n",
              "  </thead>\n",
              "  <tbody>\n",
              "    <tr>\n",
              "      <th>0</th>\n",
              "      <td>1</td>\n",
              "      <td>สมบูรณ์</td>\n",
              "      <td>23</td>\n",
              "    </tr>\n",
              "    <tr>\n",
              "      <th>1</th>\n",
              "      <td>2</td>\n",
              "      <td>สมชาย</td>\n",
              "      <td>45</td>\n",
              "    </tr>\n",
              "    <tr>\n",
              "      <th>2</th>\n",
              "      <td>3</td>\n",
              "      <td>สมหญิง</td>\n",
              "      <td>62</td>\n",
              "    </tr>\n",
              "    <tr>\n",
              "      <th>3</th>\n",
              "      <td>4</td>\n",
              "      <td>สมหมาย</td>\n",
              "      <td>30</td>\n",
              "    </tr>\n",
              "    <tr>\n",
              "      <th>4</th>\n",
              "      <td>5</td>\n",
              "      <td>สมบัติ</td>\n",
              "      <td>32</td>\n",
              "    </tr>\n",
              "  </tbody>\n",
              "</table>\n",
              "</div>\n",
              "    <div class=\"colab-df-buttons\">\n",
              "\n",
              "  <div class=\"colab-df-container\">\n",
              "    <button class=\"colab-df-convert\" onclick=\"convertToInteractive('df-dc8d0724-f744-4f74-a854-e7a79565fa05')\"\n",
              "            title=\"Convert this dataframe to an interactive table.\"\n",
              "            style=\"display:none;\">\n",
              "\n",
              "  <svg xmlns=\"http://www.w3.org/2000/svg\" height=\"24px\" viewBox=\"0 -960 960 960\">\n",
              "    <path d=\"M120-120v-720h720v720H120Zm60-500h600v-160H180v160Zm220 220h160v-160H400v160Zm0 220h160v-160H400v160ZM180-400h160v-160H180v160Zm440 0h160v-160H620v160ZM180-180h160v-160H180v160Zm440 0h160v-160H620v160Z\"/>\n",
              "  </svg>\n",
              "    </button>\n",
              "\n",
              "  <style>\n",
              "    .colab-df-container {\n",
              "      display:flex;\n",
              "      gap: 12px;\n",
              "    }\n",
              "\n",
              "    .colab-df-convert {\n",
              "      background-color: #E8F0FE;\n",
              "      border: none;\n",
              "      border-radius: 50%;\n",
              "      cursor: pointer;\n",
              "      display: none;\n",
              "      fill: #1967D2;\n",
              "      height: 32px;\n",
              "      padding: 0 0 0 0;\n",
              "      width: 32px;\n",
              "    }\n",
              "\n",
              "    .colab-df-convert:hover {\n",
              "      background-color: #E2EBFA;\n",
              "      box-shadow: 0px 1px 2px rgba(60, 64, 67, 0.3), 0px 1px 3px 1px rgba(60, 64, 67, 0.15);\n",
              "      fill: #174EA6;\n",
              "    }\n",
              "\n",
              "    .colab-df-buttons div {\n",
              "      margin-bottom: 4px;\n",
              "    }\n",
              "\n",
              "    [theme=dark] .colab-df-convert {\n",
              "      background-color: #3B4455;\n",
              "      fill: #D2E3FC;\n",
              "    }\n",
              "\n",
              "    [theme=dark] .colab-df-convert:hover {\n",
              "      background-color: #434B5C;\n",
              "      box-shadow: 0px 1px 3px 1px rgba(0, 0, 0, 0.15);\n",
              "      filter: drop-shadow(0px 1px 2px rgba(0, 0, 0, 0.3));\n",
              "      fill: #FFFFFF;\n",
              "    }\n",
              "  </style>\n",
              "\n",
              "    <script>\n",
              "      const buttonEl =\n",
              "        document.querySelector('#df-dc8d0724-f744-4f74-a854-e7a79565fa05 button.colab-df-convert');\n",
              "      buttonEl.style.display =\n",
              "        google.colab.kernel.accessAllowed ? 'block' : 'none';\n",
              "\n",
              "      async function convertToInteractive(key) {\n",
              "        const element = document.querySelector('#df-dc8d0724-f744-4f74-a854-e7a79565fa05');\n",
              "        const dataTable =\n",
              "          await google.colab.kernel.invokeFunction('convertToInteractive',\n",
              "                                                    [key], {});\n",
              "        if (!dataTable) return;\n",
              "\n",
              "        const docLinkHtml = 'Like what you see? Visit the ' +\n",
              "          '<a target=\"_blank\" href=https://colab.research.google.com/notebooks/data_table.ipynb>data table notebook</a>'\n",
              "          + ' to learn more about interactive tables.';\n",
              "        element.innerHTML = '';\n",
              "        dataTable['output_type'] = 'display_data';\n",
              "        await google.colab.output.renderOutput(dataTable, element);\n",
              "        const docLink = document.createElement('div');\n",
              "        docLink.innerHTML = docLinkHtml;\n",
              "        element.appendChild(docLink);\n",
              "      }\n",
              "    </script>\n",
              "  </div>\n",
              "\n",
              "\n",
              "<div id=\"df-a5daab56-27ed-4111-a0d5-8d149ea9918e\">\n",
              "  <button class=\"colab-df-quickchart\" onclick=\"quickchart('df-a5daab56-27ed-4111-a0d5-8d149ea9918e')\"\n",
              "            title=\"Suggest charts.\"\n",
              "            style=\"display:none;\">\n",
              "\n",
              "<svg xmlns=\"http://www.w3.org/2000/svg\" height=\"24px\"viewBox=\"0 0 24 24\"\n",
              "     width=\"24px\">\n",
              "    <g>\n",
              "        <path d=\"M19 3H5c-1.1 0-2 .9-2 2v14c0 1.1.9 2 2 2h14c1.1 0 2-.9 2-2V5c0-1.1-.9-2-2-2zM9 17H7v-7h2v7zm4 0h-2V7h2v10zm4 0h-2v-4h2v4z\"/>\n",
              "    </g>\n",
              "</svg>\n",
              "  </button>\n",
              "\n",
              "<style>\n",
              "  .colab-df-quickchart {\n",
              "    background-color: #E8F0FE;\n",
              "    border: none;\n",
              "    border-radius: 50%;\n",
              "    cursor: pointer;\n",
              "    display: none;\n",
              "    fill: #1967D2;\n",
              "    height: 32px;\n",
              "    padding: 0 0 0 0;\n",
              "    width: 32px;\n",
              "  }\n",
              "\n",
              "  .colab-df-quickchart:hover {\n",
              "    background-color: #E2EBFA;\n",
              "    box-shadow: 0px 1px 2px rgba(60, 64, 67, 0.3), 0px 1px 3px 1px rgba(60, 64, 67, 0.15);\n",
              "    fill: #174EA6;\n",
              "  }\n",
              "\n",
              "  [theme=dark] .colab-df-quickchart {\n",
              "    background-color: #3B4455;\n",
              "    fill: #D2E3FC;\n",
              "  }\n",
              "\n",
              "  [theme=dark] .colab-df-quickchart:hover {\n",
              "    background-color: #434B5C;\n",
              "    box-shadow: 0px 1px 3px 1px rgba(0, 0, 0, 0.15);\n",
              "    filter: drop-shadow(0px 1px 2px rgba(0, 0, 0, 0.3));\n",
              "    fill: #FFFFFF;\n",
              "  }\n",
              "</style>\n",
              "\n",
              "  <script>\n",
              "    async function quickchart(key) {\n",
              "      const charts = await google.colab.kernel.invokeFunction(\n",
              "          'suggestCharts', [key], {});\n",
              "    }\n",
              "    (() => {\n",
              "      let quickchartButtonEl =\n",
              "        document.querySelector('#df-a5daab56-27ed-4111-a0d5-8d149ea9918e button');\n",
              "      quickchartButtonEl.style.display =\n",
              "        google.colab.kernel.accessAllowed ? 'block' : 'none';\n",
              "    })();\n",
              "  </script>\n",
              "</div>\n",
              "    </div>\n",
              "  </div>\n"
            ]
          },
          "metadata": {},
          "execution_count": 144
        }
      ]
    },
    {
      "cell_type": "code",
      "source": [
        "type(df)"
      ],
      "metadata": {
        "id": "7b8jdg09znqj",
        "colab": {
          "base_uri": "https://localhost:8080/"
        },
        "outputId": "d54241ca-9a8d-4257-88a9-80d0dccc5059"
      },
      "id": "7b8jdg09znqj",
      "execution_count": null,
      "outputs": [
        {
          "output_type": "execute_result",
          "data": {
            "text/plain": [
              "pandas.core.frame.DataFrame"
            ]
          },
          "metadata": {},
          "execution_count": 145
        }
      ]
    },
    {
      "cell_type": "code",
      "source": [
        "df.columns\n",
        "#list(df.columns)"
      ],
      "metadata": {
        "colab": {
          "base_uri": "https://localhost:8080/"
        },
        "id": "bbXGfkHcgoCO",
        "outputId": "f394448b-152d-45a6-ed31-75a4df4c5a58"
      },
      "id": "bbXGfkHcgoCO",
      "execution_count": null,
      "outputs": [
        {
          "output_type": "execute_result",
          "data": {
            "text/plain": [
              "Index(['No', 'Name', 'Age'], dtype='object')"
            ]
          },
          "metadata": {},
          "execution_count": 146
        }
      ]
    },
    {
      "cell_type": "code",
      "source": [
        "df.index\n",
        "#list(df.index)"
      ],
      "metadata": {
        "colab": {
          "base_uri": "https://localhost:8080/"
        },
        "id": "RXJ5DaFOgqW6",
        "outputId": "aefd5c59-c836-48d5-fbb3-5f118e567856"
      },
      "id": "RXJ5DaFOgqW6",
      "execution_count": null,
      "outputs": [
        {
          "output_type": "execute_result",
          "data": {
            "text/plain": [
              "RangeIndex(start=0, stop=5, step=1)"
            ]
          },
          "metadata": {},
          "execution_count": 147
        }
      ]
    },
    {
      "cell_type": "code",
      "source": [
        "df.info()"
      ],
      "metadata": {
        "colab": {
          "base_uri": "https://localhost:8080/"
        },
        "id": "P8oqMTL0ZmNU",
        "outputId": "1437a25d-4896-48f8-b3bd-050495b4e0f1"
      },
      "id": "P8oqMTL0ZmNU",
      "execution_count": null,
      "outputs": [
        {
          "output_type": "stream",
          "name": "stdout",
          "text": [
            "<class 'pandas.core.frame.DataFrame'>\n",
            "RangeIndex: 5 entries, 0 to 4\n",
            "Data columns (total 3 columns):\n",
            " #   Column  Non-Null Count  Dtype \n",
            "---  ------  --------------  ----- \n",
            " 0   No      5 non-null      int64 \n",
            " 1   Name    5 non-null      object\n",
            " 2   Age     5 non-null      int64 \n",
            "dtypes: int64(2), object(1)\n",
            "memory usage: 248.0+ bytes\n"
          ]
        }
      ]
    },
    {
      "cell_type": "code",
      "source": [
        "df.head()\n",
        "#df.tail()"
      ],
      "metadata": {
        "colab": {
          "base_uri": "https://localhost:8080/",
          "height": 206
        },
        "id": "1mSqW69bZwem",
        "outputId": "350fa07d-afa6-44e2-9299-0d98cf69ad99"
      },
      "id": "1mSqW69bZwem",
      "execution_count": null,
      "outputs": [
        {
          "output_type": "execute_result",
          "data": {
            "text/plain": [
              "   No     Name  Age\n",
              "0   1  สมบูรณ์   23\n",
              "1   2    สมชาย   45\n",
              "2   3   สมหญิง   62\n",
              "3   4   สมหมาย   30\n",
              "4   5   สมบัติ   32"
            ],
            "text/html": [
              "\n",
              "  <div id=\"df-4161da84-cd22-4759-a3af-13f1b7fec40f\" class=\"colab-df-container\">\n",
              "    <div>\n",
              "<style scoped>\n",
              "    .dataframe tbody tr th:only-of-type {\n",
              "        vertical-align: middle;\n",
              "    }\n",
              "\n",
              "    .dataframe tbody tr th {\n",
              "        vertical-align: top;\n",
              "    }\n",
              "\n",
              "    .dataframe thead th {\n",
              "        text-align: right;\n",
              "    }\n",
              "</style>\n",
              "<table border=\"1\" class=\"dataframe\">\n",
              "  <thead>\n",
              "    <tr style=\"text-align: right;\">\n",
              "      <th></th>\n",
              "      <th>No</th>\n",
              "      <th>Name</th>\n",
              "      <th>Age</th>\n",
              "    </tr>\n",
              "  </thead>\n",
              "  <tbody>\n",
              "    <tr>\n",
              "      <th>0</th>\n",
              "      <td>1</td>\n",
              "      <td>สมบูรณ์</td>\n",
              "      <td>23</td>\n",
              "    </tr>\n",
              "    <tr>\n",
              "      <th>1</th>\n",
              "      <td>2</td>\n",
              "      <td>สมชาย</td>\n",
              "      <td>45</td>\n",
              "    </tr>\n",
              "    <tr>\n",
              "      <th>2</th>\n",
              "      <td>3</td>\n",
              "      <td>สมหญิง</td>\n",
              "      <td>62</td>\n",
              "    </tr>\n",
              "    <tr>\n",
              "      <th>3</th>\n",
              "      <td>4</td>\n",
              "      <td>สมหมาย</td>\n",
              "      <td>30</td>\n",
              "    </tr>\n",
              "    <tr>\n",
              "      <th>4</th>\n",
              "      <td>5</td>\n",
              "      <td>สมบัติ</td>\n",
              "      <td>32</td>\n",
              "    </tr>\n",
              "  </tbody>\n",
              "</table>\n",
              "</div>\n",
              "    <div class=\"colab-df-buttons\">\n",
              "\n",
              "  <div class=\"colab-df-container\">\n",
              "    <button class=\"colab-df-convert\" onclick=\"convertToInteractive('df-4161da84-cd22-4759-a3af-13f1b7fec40f')\"\n",
              "            title=\"Convert this dataframe to an interactive table.\"\n",
              "            style=\"display:none;\">\n",
              "\n",
              "  <svg xmlns=\"http://www.w3.org/2000/svg\" height=\"24px\" viewBox=\"0 -960 960 960\">\n",
              "    <path d=\"M120-120v-720h720v720H120Zm60-500h600v-160H180v160Zm220 220h160v-160H400v160Zm0 220h160v-160H400v160ZM180-400h160v-160H180v160Zm440 0h160v-160H620v160ZM180-180h160v-160H180v160Zm440 0h160v-160H620v160Z\"/>\n",
              "  </svg>\n",
              "    </button>\n",
              "\n",
              "  <style>\n",
              "    .colab-df-container {\n",
              "      display:flex;\n",
              "      gap: 12px;\n",
              "    }\n",
              "\n",
              "    .colab-df-convert {\n",
              "      background-color: #E8F0FE;\n",
              "      border: none;\n",
              "      border-radius: 50%;\n",
              "      cursor: pointer;\n",
              "      display: none;\n",
              "      fill: #1967D2;\n",
              "      height: 32px;\n",
              "      padding: 0 0 0 0;\n",
              "      width: 32px;\n",
              "    }\n",
              "\n",
              "    .colab-df-convert:hover {\n",
              "      background-color: #E2EBFA;\n",
              "      box-shadow: 0px 1px 2px rgba(60, 64, 67, 0.3), 0px 1px 3px 1px rgba(60, 64, 67, 0.15);\n",
              "      fill: #174EA6;\n",
              "    }\n",
              "\n",
              "    .colab-df-buttons div {\n",
              "      margin-bottom: 4px;\n",
              "    }\n",
              "\n",
              "    [theme=dark] .colab-df-convert {\n",
              "      background-color: #3B4455;\n",
              "      fill: #D2E3FC;\n",
              "    }\n",
              "\n",
              "    [theme=dark] .colab-df-convert:hover {\n",
              "      background-color: #434B5C;\n",
              "      box-shadow: 0px 1px 3px 1px rgba(0, 0, 0, 0.15);\n",
              "      filter: drop-shadow(0px 1px 2px rgba(0, 0, 0, 0.3));\n",
              "      fill: #FFFFFF;\n",
              "    }\n",
              "  </style>\n",
              "\n",
              "    <script>\n",
              "      const buttonEl =\n",
              "        document.querySelector('#df-4161da84-cd22-4759-a3af-13f1b7fec40f button.colab-df-convert');\n",
              "      buttonEl.style.display =\n",
              "        google.colab.kernel.accessAllowed ? 'block' : 'none';\n",
              "\n",
              "      async function convertToInteractive(key) {\n",
              "        const element = document.querySelector('#df-4161da84-cd22-4759-a3af-13f1b7fec40f');\n",
              "        const dataTable =\n",
              "          await google.colab.kernel.invokeFunction('convertToInteractive',\n",
              "                                                    [key], {});\n",
              "        if (!dataTable) return;\n",
              "\n",
              "        const docLinkHtml = 'Like what you see? Visit the ' +\n",
              "          '<a target=\"_blank\" href=https://colab.research.google.com/notebooks/data_table.ipynb>data table notebook</a>'\n",
              "          + ' to learn more about interactive tables.';\n",
              "        element.innerHTML = '';\n",
              "        dataTable['output_type'] = 'display_data';\n",
              "        await google.colab.output.renderOutput(dataTable, element);\n",
              "        const docLink = document.createElement('div');\n",
              "        docLink.innerHTML = docLinkHtml;\n",
              "        element.appendChild(docLink);\n",
              "      }\n",
              "    </script>\n",
              "  </div>\n",
              "\n",
              "\n",
              "<div id=\"df-3afbcaba-0fae-40af-af0d-fffe1a21d3d6\">\n",
              "  <button class=\"colab-df-quickchart\" onclick=\"quickchart('df-3afbcaba-0fae-40af-af0d-fffe1a21d3d6')\"\n",
              "            title=\"Suggest charts.\"\n",
              "            style=\"display:none;\">\n",
              "\n",
              "<svg xmlns=\"http://www.w3.org/2000/svg\" height=\"24px\"viewBox=\"0 0 24 24\"\n",
              "     width=\"24px\">\n",
              "    <g>\n",
              "        <path d=\"M19 3H5c-1.1 0-2 .9-2 2v14c0 1.1.9 2 2 2h14c1.1 0 2-.9 2-2V5c0-1.1-.9-2-2-2zM9 17H7v-7h2v7zm4 0h-2V7h2v10zm4 0h-2v-4h2v4z\"/>\n",
              "    </g>\n",
              "</svg>\n",
              "  </button>\n",
              "\n",
              "<style>\n",
              "  .colab-df-quickchart {\n",
              "    background-color: #E8F0FE;\n",
              "    border: none;\n",
              "    border-radius: 50%;\n",
              "    cursor: pointer;\n",
              "    display: none;\n",
              "    fill: #1967D2;\n",
              "    height: 32px;\n",
              "    padding: 0 0 0 0;\n",
              "    width: 32px;\n",
              "  }\n",
              "\n",
              "  .colab-df-quickchart:hover {\n",
              "    background-color: #E2EBFA;\n",
              "    box-shadow: 0px 1px 2px rgba(60, 64, 67, 0.3), 0px 1px 3px 1px rgba(60, 64, 67, 0.15);\n",
              "    fill: #174EA6;\n",
              "  }\n",
              "\n",
              "  [theme=dark] .colab-df-quickchart {\n",
              "    background-color: #3B4455;\n",
              "    fill: #D2E3FC;\n",
              "  }\n",
              "\n",
              "  [theme=dark] .colab-df-quickchart:hover {\n",
              "    background-color: #434B5C;\n",
              "    box-shadow: 0px 1px 3px 1px rgba(0, 0, 0, 0.15);\n",
              "    filter: drop-shadow(0px 1px 2px rgba(0, 0, 0, 0.3));\n",
              "    fill: #FFFFFF;\n",
              "  }\n",
              "</style>\n",
              "\n",
              "  <script>\n",
              "    async function quickchart(key) {\n",
              "      const charts = await google.colab.kernel.invokeFunction(\n",
              "          'suggestCharts', [key], {});\n",
              "    }\n",
              "    (() => {\n",
              "      let quickchartButtonEl =\n",
              "        document.querySelector('#df-3afbcaba-0fae-40af-af0d-fffe1a21d3d6 button');\n",
              "      quickchartButtonEl.style.display =\n",
              "        google.colab.kernel.accessAllowed ? 'block' : 'none';\n",
              "    })();\n",
              "  </script>\n",
              "</div>\n",
              "    </div>\n",
              "  </div>\n"
            ]
          },
          "metadata": {},
          "execution_count": 149
        }
      ]
    },
    {
      "cell_type": "code",
      "source": [
        "df.describe()"
      ],
      "metadata": {
        "colab": {
          "base_uri": "https://localhost:8080/",
          "height": 300
        },
        "id": "bikkMgN7Zye8",
        "outputId": "00d09d12-c4a0-4fcd-db43-ba5dba8aa6ba"
      },
      "id": "bikkMgN7Zye8",
      "execution_count": null,
      "outputs": [
        {
          "output_type": "execute_result",
          "data": {
            "text/plain": [
              "             No        Age\n",
              "count  5.000000   5.000000\n",
              "mean   3.000000  38.400000\n",
              "std    1.581139  15.404545\n",
              "min    1.000000  23.000000\n",
              "25%    2.000000  30.000000\n",
              "50%    3.000000  32.000000\n",
              "75%    4.000000  45.000000\n",
              "max    5.000000  62.000000"
            ],
            "text/html": [
              "\n",
              "  <div id=\"df-311627ef-526a-4d9b-8a8d-14c5252756de\" class=\"colab-df-container\">\n",
              "    <div>\n",
              "<style scoped>\n",
              "    .dataframe tbody tr th:only-of-type {\n",
              "        vertical-align: middle;\n",
              "    }\n",
              "\n",
              "    .dataframe tbody tr th {\n",
              "        vertical-align: top;\n",
              "    }\n",
              "\n",
              "    .dataframe thead th {\n",
              "        text-align: right;\n",
              "    }\n",
              "</style>\n",
              "<table border=\"1\" class=\"dataframe\">\n",
              "  <thead>\n",
              "    <tr style=\"text-align: right;\">\n",
              "      <th></th>\n",
              "      <th>No</th>\n",
              "      <th>Age</th>\n",
              "    </tr>\n",
              "  </thead>\n",
              "  <tbody>\n",
              "    <tr>\n",
              "      <th>count</th>\n",
              "      <td>5.000000</td>\n",
              "      <td>5.000000</td>\n",
              "    </tr>\n",
              "    <tr>\n",
              "      <th>mean</th>\n",
              "      <td>3.000000</td>\n",
              "      <td>38.400000</td>\n",
              "    </tr>\n",
              "    <tr>\n",
              "      <th>std</th>\n",
              "      <td>1.581139</td>\n",
              "      <td>15.404545</td>\n",
              "    </tr>\n",
              "    <tr>\n",
              "      <th>min</th>\n",
              "      <td>1.000000</td>\n",
              "      <td>23.000000</td>\n",
              "    </tr>\n",
              "    <tr>\n",
              "      <th>25%</th>\n",
              "      <td>2.000000</td>\n",
              "      <td>30.000000</td>\n",
              "    </tr>\n",
              "    <tr>\n",
              "      <th>50%</th>\n",
              "      <td>3.000000</td>\n",
              "      <td>32.000000</td>\n",
              "    </tr>\n",
              "    <tr>\n",
              "      <th>75%</th>\n",
              "      <td>4.000000</td>\n",
              "      <td>45.000000</td>\n",
              "    </tr>\n",
              "    <tr>\n",
              "      <th>max</th>\n",
              "      <td>5.000000</td>\n",
              "      <td>62.000000</td>\n",
              "    </tr>\n",
              "  </tbody>\n",
              "</table>\n",
              "</div>\n",
              "    <div class=\"colab-df-buttons\">\n",
              "\n",
              "  <div class=\"colab-df-container\">\n",
              "    <button class=\"colab-df-convert\" onclick=\"convertToInteractive('df-311627ef-526a-4d9b-8a8d-14c5252756de')\"\n",
              "            title=\"Convert this dataframe to an interactive table.\"\n",
              "            style=\"display:none;\">\n",
              "\n",
              "  <svg xmlns=\"http://www.w3.org/2000/svg\" height=\"24px\" viewBox=\"0 -960 960 960\">\n",
              "    <path d=\"M120-120v-720h720v720H120Zm60-500h600v-160H180v160Zm220 220h160v-160H400v160Zm0 220h160v-160H400v160ZM180-400h160v-160H180v160Zm440 0h160v-160H620v160ZM180-180h160v-160H180v160Zm440 0h160v-160H620v160Z\"/>\n",
              "  </svg>\n",
              "    </button>\n",
              "\n",
              "  <style>\n",
              "    .colab-df-container {\n",
              "      display:flex;\n",
              "      gap: 12px;\n",
              "    }\n",
              "\n",
              "    .colab-df-convert {\n",
              "      background-color: #E8F0FE;\n",
              "      border: none;\n",
              "      border-radius: 50%;\n",
              "      cursor: pointer;\n",
              "      display: none;\n",
              "      fill: #1967D2;\n",
              "      height: 32px;\n",
              "      padding: 0 0 0 0;\n",
              "      width: 32px;\n",
              "    }\n",
              "\n",
              "    .colab-df-convert:hover {\n",
              "      background-color: #E2EBFA;\n",
              "      box-shadow: 0px 1px 2px rgba(60, 64, 67, 0.3), 0px 1px 3px 1px rgba(60, 64, 67, 0.15);\n",
              "      fill: #174EA6;\n",
              "    }\n",
              "\n",
              "    .colab-df-buttons div {\n",
              "      margin-bottom: 4px;\n",
              "    }\n",
              "\n",
              "    [theme=dark] .colab-df-convert {\n",
              "      background-color: #3B4455;\n",
              "      fill: #D2E3FC;\n",
              "    }\n",
              "\n",
              "    [theme=dark] .colab-df-convert:hover {\n",
              "      background-color: #434B5C;\n",
              "      box-shadow: 0px 1px 3px 1px rgba(0, 0, 0, 0.15);\n",
              "      filter: drop-shadow(0px 1px 2px rgba(0, 0, 0, 0.3));\n",
              "      fill: #FFFFFF;\n",
              "    }\n",
              "  </style>\n",
              "\n",
              "    <script>\n",
              "      const buttonEl =\n",
              "        document.querySelector('#df-311627ef-526a-4d9b-8a8d-14c5252756de button.colab-df-convert');\n",
              "      buttonEl.style.display =\n",
              "        google.colab.kernel.accessAllowed ? 'block' : 'none';\n",
              "\n",
              "      async function convertToInteractive(key) {\n",
              "        const element = document.querySelector('#df-311627ef-526a-4d9b-8a8d-14c5252756de');\n",
              "        const dataTable =\n",
              "          await google.colab.kernel.invokeFunction('convertToInteractive',\n",
              "                                                    [key], {});\n",
              "        if (!dataTable) return;\n",
              "\n",
              "        const docLinkHtml = 'Like what you see? Visit the ' +\n",
              "          '<a target=\"_blank\" href=https://colab.research.google.com/notebooks/data_table.ipynb>data table notebook</a>'\n",
              "          + ' to learn more about interactive tables.';\n",
              "        element.innerHTML = '';\n",
              "        dataTable['output_type'] = 'display_data';\n",
              "        await google.colab.output.renderOutput(dataTable, element);\n",
              "        const docLink = document.createElement('div');\n",
              "        docLink.innerHTML = docLinkHtml;\n",
              "        element.appendChild(docLink);\n",
              "      }\n",
              "    </script>\n",
              "  </div>\n",
              "\n",
              "\n",
              "<div id=\"df-42dcb016-ddef-4b44-a1a3-8f263f7a234e\">\n",
              "  <button class=\"colab-df-quickchart\" onclick=\"quickchart('df-42dcb016-ddef-4b44-a1a3-8f263f7a234e')\"\n",
              "            title=\"Suggest charts.\"\n",
              "            style=\"display:none;\">\n",
              "\n",
              "<svg xmlns=\"http://www.w3.org/2000/svg\" height=\"24px\"viewBox=\"0 0 24 24\"\n",
              "     width=\"24px\">\n",
              "    <g>\n",
              "        <path d=\"M19 3H5c-1.1 0-2 .9-2 2v14c0 1.1.9 2 2 2h14c1.1 0 2-.9 2-2V5c0-1.1-.9-2-2-2zM9 17H7v-7h2v7zm4 0h-2V7h2v10zm4 0h-2v-4h2v4z\"/>\n",
              "    </g>\n",
              "</svg>\n",
              "  </button>\n",
              "\n",
              "<style>\n",
              "  .colab-df-quickchart {\n",
              "    background-color: #E8F0FE;\n",
              "    border: none;\n",
              "    border-radius: 50%;\n",
              "    cursor: pointer;\n",
              "    display: none;\n",
              "    fill: #1967D2;\n",
              "    height: 32px;\n",
              "    padding: 0 0 0 0;\n",
              "    width: 32px;\n",
              "  }\n",
              "\n",
              "  .colab-df-quickchart:hover {\n",
              "    background-color: #E2EBFA;\n",
              "    box-shadow: 0px 1px 2px rgba(60, 64, 67, 0.3), 0px 1px 3px 1px rgba(60, 64, 67, 0.15);\n",
              "    fill: #174EA6;\n",
              "  }\n",
              "\n",
              "  [theme=dark] .colab-df-quickchart {\n",
              "    background-color: #3B4455;\n",
              "    fill: #D2E3FC;\n",
              "  }\n",
              "\n",
              "  [theme=dark] .colab-df-quickchart:hover {\n",
              "    background-color: #434B5C;\n",
              "    box-shadow: 0px 1px 3px 1px rgba(0, 0, 0, 0.15);\n",
              "    filter: drop-shadow(0px 1px 2px rgba(0, 0, 0, 0.3));\n",
              "    fill: #FFFFFF;\n",
              "  }\n",
              "</style>\n",
              "\n",
              "  <script>\n",
              "    async function quickchart(key) {\n",
              "      const charts = await google.colab.kernel.invokeFunction(\n",
              "          'suggestCharts', [key], {});\n",
              "    }\n",
              "    (() => {\n",
              "      let quickchartButtonEl =\n",
              "        document.querySelector('#df-42dcb016-ddef-4b44-a1a3-8f263f7a234e button');\n",
              "      quickchartButtonEl.style.display =\n",
              "        google.colab.kernel.accessAllowed ? 'block' : 'none';\n",
              "    })();\n",
              "  </script>\n",
              "</div>\n",
              "    </div>\n",
              "  </div>\n"
            ]
          },
          "metadata": {},
          "execution_count": 150
        }
      ]
    },
    {
      "cell_type": "code",
      "source": [
        "df.describe(include='all')"
      ],
      "metadata": {
        "colab": {
          "base_uri": "https://localhost:8080/",
          "height": 394
        },
        "id": "02bfvDzPZ6ff",
        "outputId": "89cb422d-5b1a-46e3-ac18-cc3cb4095520"
      },
      "id": "02bfvDzPZ6ff",
      "execution_count": null,
      "outputs": [
        {
          "output_type": "execute_result",
          "data": {
            "text/plain": [
              "              No     Name        Age\n",
              "count   5.000000        5   5.000000\n",
              "unique       NaN        5        NaN\n",
              "top          NaN  สมบูรณ์        NaN\n",
              "freq         NaN        1        NaN\n",
              "mean    3.000000      NaN  38.400000\n",
              "std     1.581139      NaN  15.404545\n",
              "min     1.000000      NaN  23.000000\n",
              "25%     2.000000      NaN  30.000000\n",
              "50%     3.000000      NaN  32.000000\n",
              "75%     4.000000      NaN  45.000000\n",
              "max     5.000000      NaN  62.000000"
            ],
            "text/html": [
              "\n",
              "  <div id=\"df-5899a369-6e43-476a-aa99-7481a3311c76\" class=\"colab-df-container\">\n",
              "    <div>\n",
              "<style scoped>\n",
              "    .dataframe tbody tr th:only-of-type {\n",
              "        vertical-align: middle;\n",
              "    }\n",
              "\n",
              "    .dataframe tbody tr th {\n",
              "        vertical-align: top;\n",
              "    }\n",
              "\n",
              "    .dataframe thead th {\n",
              "        text-align: right;\n",
              "    }\n",
              "</style>\n",
              "<table border=\"1\" class=\"dataframe\">\n",
              "  <thead>\n",
              "    <tr style=\"text-align: right;\">\n",
              "      <th></th>\n",
              "      <th>No</th>\n",
              "      <th>Name</th>\n",
              "      <th>Age</th>\n",
              "    </tr>\n",
              "  </thead>\n",
              "  <tbody>\n",
              "    <tr>\n",
              "      <th>count</th>\n",
              "      <td>5.000000</td>\n",
              "      <td>5</td>\n",
              "      <td>5.000000</td>\n",
              "    </tr>\n",
              "    <tr>\n",
              "      <th>unique</th>\n",
              "      <td>NaN</td>\n",
              "      <td>5</td>\n",
              "      <td>NaN</td>\n",
              "    </tr>\n",
              "    <tr>\n",
              "      <th>top</th>\n",
              "      <td>NaN</td>\n",
              "      <td>สมบูรณ์</td>\n",
              "      <td>NaN</td>\n",
              "    </tr>\n",
              "    <tr>\n",
              "      <th>freq</th>\n",
              "      <td>NaN</td>\n",
              "      <td>1</td>\n",
              "      <td>NaN</td>\n",
              "    </tr>\n",
              "    <tr>\n",
              "      <th>mean</th>\n",
              "      <td>3.000000</td>\n",
              "      <td>NaN</td>\n",
              "      <td>38.400000</td>\n",
              "    </tr>\n",
              "    <tr>\n",
              "      <th>std</th>\n",
              "      <td>1.581139</td>\n",
              "      <td>NaN</td>\n",
              "      <td>15.404545</td>\n",
              "    </tr>\n",
              "    <tr>\n",
              "      <th>min</th>\n",
              "      <td>1.000000</td>\n",
              "      <td>NaN</td>\n",
              "      <td>23.000000</td>\n",
              "    </tr>\n",
              "    <tr>\n",
              "      <th>25%</th>\n",
              "      <td>2.000000</td>\n",
              "      <td>NaN</td>\n",
              "      <td>30.000000</td>\n",
              "    </tr>\n",
              "    <tr>\n",
              "      <th>50%</th>\n",
              "      <td>3.000000</td>\n",
              "      <td>NaN</td>\n",
              "      <td>32.000000</td>\n",
              "    </tr>\n",
              "    <tr>\n",
              "      <th>75%</th>\n",
              "      <td>4.000000</td>\n",
              "      <td>NaN</td>\n",
              "      <td>45.000000</td>\n",
              "    </tr>\n",
              "    <tr>\n",
              "      <th>max</th>\n",
              "      <td>5.000000</td>\n",
              "      <td>NaN</td>\n",
              "      <td>62.000000</td>\n",
              "    </tr>\n",
              "  </tbody>\n",
              "</table>\n",
              "</div>\n",
              "    <div class=\"colab-df-buttons\">\n",
              "\n",
              "  <div class=\"colab-df-container\">\n",
              "    <button class=\"colab-df-convert\" onclick=\"convertToInteractive('df-5899a369-6e43-476a-aa99-7481a3311c76')\"\n",
              "            title=\"Convert this dataframe to an interactive table.\"\n",
              "            style=\"display:none;\">\n",
              "\n",
              "  <svg xmlns=\"http://www.w3.org/2000/svg\" height=\"24px\" viewBox=\"0 -960 960 960\">\n",
              "    <path d=\"M120-120v-720h720v720H120Zm60-500h600v-160H180v160Zm220 220h160v-160H400v160Zm0 220h160v-160H400v160ZM180-400h160v-160H180v160Zm440 0h160v-160H620v160ZM180-180h160v-160H180v160Zm440 0h160v-160H620v160Z\"/>\n",
              "  </svg>\n",
              "    </button>\n",
              "\n",
              "  <style>\n",
              "    .colab-df-container {\n",
              "      display:flex;\n",
              "      gap: 12px;\n",
              "    }\n",
              "\n",
              "    .colab-df-convert {\n",
              "      background-color: #E8F0FE;\n",
              "      border: none;\n",
              "      border-radius: 50%;\n",
              "      cursor: pointer;\n",
              "      display: none;\n",
              "      fill: #1967D2;\n",
              "      height: 32px;\n",
              "      padding: 0 0 0 0;\n",
              "      width: 32px;\n",
              "    }\n",
              "\n",
              "    .colab-df-convert:hover {\n",
              "      background-color: #E2EBFA;\n",
              "      box-shadow: 0px 1px 2px rgba(60, 64, 67, 0.3), 0px 1px 3px 1px rgba(60, 64, 67, 0.15);\n",
              "      fill: #174EA6;\n",
              "    }\n",
              "\n",
              "    .colab-df-buttons div {\n",
              "      margin-bottom: 4px;\n",
              "    }\n",
              "\n",
              "    [theme=dark] .colab-df-convert {\n",
              "      background-color: #3B4455;\n",
              "      fill: #D2E3FC;\n",
              "    }\n",
              "\n",
              "    [theme=dark] .colab-df-convert:hover {\n",
              "      background-color: #434B5C;\n",
              "      box-shadow: 0px 1px 3px 1px rgba(0, 0, 0, 0.15);\n",
              "      filter: drop-shadow(0px 1px 2px rgba(0, 0, 0, 0.3));\n",
              "      fill: #FFFFFF;\n",
              "    }\n",
              "  </style>\n",
              "\n",
              "    <script>\n",
              "      const buttonEl =\n",
              "        document.querySelector('#df-5899a369-6e43-476a-aa99-7481a3311c76 button.colab-df-convert');\n",
              "      buttonEl.style.display =\n",
              "        google.colab.kernel.accessAllowed ? 'block' : 'none';\n",
              "\n",
              "      async function convertToInteractive(key) {\n",
              "        const element = document.querySelector('#df-5899a369-6e43-476a-aa99-7481a3311c76');\n",
              "        const dataTable =\n",
              "          await google.colab.kernel.invokeFunction('convertToInteractive',\n",
              "                                                    [key], {});\n",
              "        if (!dataTable) return;\n",
              "\n",
              "        const docLinkHtml = 'Like what you see? Visit the ' +\n",
              "          '<a target=\"_blank\" href=https://colab.research.google.com/notebooks/data_table.ipynb>data table notebook</a>'\n",
              "          + ' to learn more about interactive tables.';\n",
              "        element.innerHTML = '';\n",
              "        dataTable['output_type'] = 'display_data';\n",
              "        await google.colab.output.renderOutput(dataTable, element);\n",
              "        const docLink = document.createElement('div');\n",
              "        docLink.innerHTML = docLinkHtml;\n",
              "        element.appendChild(docLink);\n",
              "      }\n",
              "    </script>\n",
              "  </div>\n",
              "\n",
              "\n",
              "<div id=\"df-938ed0c2-cb17-4fc1-bfa1-0f6f93d30251\">\n",
              "  <button class=\"colab-df-quickchart\" onclick=\"quickchart('df-938ed0c2-cb17-4fc1-bfa1-0f6f93d30251')\"\n",
              "            title=\"Suggest charts.\"\n",
              "            style=\"display:none;\">\n",
              "\n",
              "<svg xmlns=\"http://www.w3.org/2000/svg\" height=\"24px\"viewBox=\"0 0 24 24\"\n",
              "     width=\"24px\">\n",
              "    <g>\n",
              "        <path d=\"M19 3H5c-1.1 0-2 .9-2 2v14c0 1.1.9 2 2 2h14c1.1 0 2-.9 2-2V5c0-1.1-.9-2-2-2zM9 17H7v-7h2v7zm4 0h-2V7h2v10zm4 0h-2v-4h2v4z\"/>\n",
              "    </g>\n",
              "</svg>\n",
              "  </button>\n",
              "\n",
              "<style>\n",
              "  .colab-df-quickchart {\n",
              "    background-color: #E8F0FE;\n",
              "    border: none;\n",
              "    border-radius: 50%;\n",
              "    cursor: pointer;\n",
              "    display: none;\n",
              "    fill: #1967D2;\n",
              "    height: 32px;\n",
              "    padding: 0 0 0 0;\n",
              "    width: 32px;\n",
              "  }\n",
              "\n",
              "  .colab-df-quickchart:hover {\n",
              "    background-color: #E2EBFA;\n",
              "    box-shadow: 0px 1px 2px rgba(60, 64, 67, 0.3), 0px 1px 3px 1px rgba(60, 64, 67, 0.15);\n",
              "    fill: #174EA6;\n",
              "  }\n",
              "\n",
              "  [theme=dark] .colab-df-quickchart {\n",
              "    background-color: #3B4455;\n",
              "    fill: #D2E3FC;\n",
              "  }\n",
              "\n",
              "  [theme=dark] .colab-df-quickchart:hover {\n",
              "    background-color: #434B5C;\n",
              "    box-shadow: 0px 1px 3px 1px rgba(0, 0, 0, 0.15);\n",
              "    filter: drop-shadow(0px 1px 2px rgba(0, 0, 0, 0.3));\n",
              "    fill: #FFFFFF;\n",
              "  }\n",
              "</style>\n",
              "\n",
              "  <script>\n",
              "    async function quickchart(key) {\n",
              "      const charts = await google.colab.kernel.invokeFunction(\n",
              "          'suggestCharts', [key], {});\n",
              "    }\n",
              "    (() => {\n",
              "      let quickchartButtonEl =\n",
              "        document.querySelector('#df-938ed0c2-cb17-4fc1-bfa1-0f6f93d30251 button');\n",
              "      quickchartButtonEl.style.display =\n",
              "        google.colab.kernel.accessAllowed ? 'block' : 'none';\n",
              "    })();\n",
              "  </script>\n",
              "</div>\n",
              "    </div>\n",
              "  </div>\n"
            ]
          },
          "metadata": {},
          "execution_count": 178
        }
      ]
    },
    {
      "cell_type": "markdown",
      "source": [
        "### Selecting data"
      ],
      "metadata": {
        "id": "2HCyw8OOgAhF"
      },
      "id": "2HCyw8OOgAhF"
    },
    {
      "cell_type": "code",
      "source": [
        "df"
      ],
      "metadata": {
        "colab": {
          "base_uri": "https://localhost:8080/",
          "height": 206
        },
        "id": "GVe0D47HadJ6",
        "outputId": "de6b0df3-a6ab-46d7-e572-a8a957eea2c5"
      },
      "id": "GVe0D47HadJ6",
      "execution_count": null,
      "outputs": [
        {
          "output_type": "execute_result",
          "data": {
            "text/plain": [
              "   No     Name  Age\n",
              "0   1  สมบูรณ์   23\n",
              "1   2    สมชาย   45\n",
              "2   3   สมหญิง   62\n",
              "3   4   สมหมาย   30\n",
              "4   5   สมบัติ   32"
            ],
            "text/html": [
              "\n",
              "  <div id=\"df-cc6ecd73-6bae-41fb-9fda-fa5810cfb5f9\" class=\"colab-df-container\">\n",
              "    <div>\n",
              "<style scoped>\n",
              "    .dataframe tbody tr th:only-of-type {\n",
              "        vertical-align: middle;\n",
              "    }\n",
              "\n",
              "    .dataframe tbody tr th {\n",
              "        vertical-align: top;\n",
              "    }\n",
              "\n",
              "    .dataframe thead th {\n",
              "        text-align: right;\n",
              "    }\n",
              "</style>\n",
              "<table border=\"1\" class=\"dataframe\">\n",
              "  <thead>\n",
              "    <tr style=\"text-align: right;\">\n",
              "      <th></th>\n",
              "      <th>No</th>\n",
              "      <th>Name</th>\n",
              "      <th>Age</th>\n",
              "    </tr>\n",
              "  </thead>\n",
              "  <tbody>\n",
              "    <tr>\n",
              "      <th>0</th>\n",
              "      <td>1</td>\n",
              "      <td>สมบูรณ์</td>\n",
              "      <td>23</td>\n",
              "    </tr>\n",
              "    <tr>\n",
              "      <th>1</th>\n",
              "      <td>2</td>\n",
              "      <td>สมชาย</td>\n",
              "      <td>45</td>\n",
              "    </tr>\n",
              "    <tr>\n",
              "      <th>2</th>\n",
              "      <td>3</td>\n",
              "      <td>สมหญิง</td>\n",
              "      <td>62</td>\n",
              "    </tr>\n",
              "    <tr>\n",
              "      <th>3</th>\n",
              "      <td>4</td>\n",
              "      <td>สมหมาย</td>\n",
              "      <td>30</td>\n",
              "    </tr>\n",
              "    <tr>\n",
              "      <th>4</th>\n",
              "      <td>5</td>\n",
              "      <td>สมบัติ</td>\n",
              "      <td>32</td>\n",
              "    </tr>\n",
              "  </tbody>\n",
              "</table>\n",
              "</div>\n",
              "    <div class=\"colab-df-buttons\">\n",
              "\n",
              "  <div class=\"colab-df-container\">\n",
              "    <button class=\"colab-df-convert\" onclick=\"convertToInteractive('df-cc6ecd73-6bae-41fb-9fda-fa5810cfb5f9')\"\n",
              "            title=\"Convert this dataframe to an interactive table.\"\n",
              "            style=\"display:none;\">\n",
              "\n",
              "  <svg xmlns=\"http://www.w3.org/2000/svg\" height=\"24px\" viewBox=\"0 -960 960 960\">\n",
              "    <path d=\"M120-120v-720h720v720H120Zm60-500h600v-160H180v160Zm220 220h160v-160H400v160Zm0 220h160v-160H400v160ZM180-400h160v-160H180v160Zm440 0h160v-160H620v160ZM180-180h160v-160H180v160Zm440 0h160v-160H620v160Z\"/>\n",
              "  </svg>\n",
              "    </button>\n",
              "\n",
              "  <style>\n",
              "    .colab-df-container {\n",
              "      display:flex;\n",
              "      gap: 12px;\n",
              "    }\n",
              "\n",
              "    .colab-df-convert {\n",
              "      background-color: #E8F0FE;\n",
              "      border: none;\n",
              "      border-radius: 50%;\n",
              "      cursor: pointer;\n",
              "      display: none;\n",
              "      fill: #1967D2;\n",
              "      height: 32px;\n",
              "      padding: 0 0 0 0;\n",
              "      width: 32px;\n",
              "    }\n",
              "\n",
              "    .colab-df-convert:hover {\n",
              "      background-color: #E2EBFA;\n",
              "      box-shadow: 0px 1px 2px rgba(60, 64, 67, 0.3), 0px 1px 3px 1px rgba(60, 64, 67, 0.15);\n",
              "      fill: #174EA6;\n",
              "    }\n",
              "\n",
              "    .colab-df-buttons div {\n",
              "      margin-bottom: 4px;\n",
              "    }\n",
              "\n",
              "    [theme=dark] .colab-df-convert {\n",
              "      background-color: #3B4455;\n",
              "      fill: #D2E3FC;\n",
              "    }\n",
              "\n",
              "    [theme=dark] .colab-df-convert:hover {\n",
              "      background-color: #434B5C;\n",
              "      box-shadow: 0px 1px 3px 1px rgba(0, 0, 0, 0.15);\n",
              "      filter: drop-shadow(0px 1px 2px rgba(0, 0, 0, 0.3));\n",
              "      fill: #FFFFFF;\n",
              "    }\n",
              "  </style>\n",
              "\n",
              "    <script>\n",
              "      const buttonEl =\n",
              "        document.querySelector('#df-cc6ecd73-6bae-41fb-9fda-fa5810cfb5f9 button.colab-df-convert');\n",
              "      buttonEl.style.display =\n",
              "        google.colab.kernel.accessAllowed ? 'block' : 'none';\n",
              "\n",
              "      async function convertToInteractive(key) {\n",
              "        const element = document.querySelector('#df-cc6ecd73-6bae-41fb-9fda-fa5810cfb5f9');\n",
              "        const dataTable =\n",
              "          await google.colab.kernel.invokeFunction('convertToInteractive',\n",
              "                                                    [key], {});\n",
              "        if (!dataTable) return;\n",
              "\n",
              "        const docLinkHtml = 'Like what you see? Visit the ' +\n",
              "          '<a target=\"_blank\" href=https://colab.research.google.com/notebooks/data_table.ipynb>data table notebook</a>'\n",
              "          + ' to learn more about interactive tables.';\n",
              "        element.innerHTML = '';\n",
              "        dataTable['output_type'] = 'display_data';\n",
              "        await google.colab.output.renderOutput(dataTable, element);\n",
              "        const docLink = document.createElement('div');\n",
              "        docLink.innerHTML = docLinkHtml;\n",
              "        element.appendChild(docLink);\n",
              "      }\n",
              "    </script>\n",
              "  </div>\n",
              "\n",
              "\n",
              "<div id=\"df-f2c0abf1-16e9-42a0-be04-144be3de845e\">\n",
              "  <button class=\"colab-df-quickchart\" onclick=\"quickchart('df-f2c0abf1-16e9-42a0-be04-144be3de845e')\"\n",
              "            title=\"Suggest charts.\"\n",
              "            style=\"display:none;\">\n",
              "\n",
              "<svg xmlns=\"http://www.w3.org/2000/svg\" height=\"24px\"viewBox=\"0 0 24 24\"\n",
              "     width=\"24px\">\n",
              "    <g>\n",
              "        <path d=\"M19 3H5c-1.1 0-2 .9-2 2v14c0 1.1.9 2 2 2h14c1.1 0 2-.9 2-2V5c0-1.1-.9-2-2-2zM9 17H7v-7h2v7zm4 0h-2V7h2v10zm4 0h-2v-4h2v4z\"/>\n",
              "    </g>\n",
              "</svg>\n",
              "  </button>\n",
              "\n",
              "<style>\n",
              "  .colab-df-quickchart {\n",
              "    background-color: #E8F0FE;\n",
              "    border: none;\n",
              "    border-radius: 50%;\n",
              "    cursor: pointer;\n",
              "    display: none;\n",
              "    fill: #1967D2;\n",
              "    height: 32px;\n",
              "    padding: 0 0 0 0;\n",
              "    width: 32px;\n",
              "  }\n",
              "\n",
              "  .colab-df-quickchart:hover {\n",
              "    background-color: #E2EBFA;\n",
              "    box-shadow: 0px 1px 2px rgba(60, 64, 67, 0.3), 0px 1px 3px 1px rgba(60, 64, 67, 0.15);\n",
              "    fill: #174EA6;\n",
              "  }\n",
              "\n",
              "  [theme=dark] .colab-df-quickchart {\n",
              "    background-color: #3B4455;\n",
              "    fill: #D2E3FC;\n",
              "  }\n",
              "\n",
              "  [theme=dark] .colab-df-quickchart:hover {\n",
              "    background-color: #434B5C;\n",
              "    box-shadow: 0px 1px 3px 1px rgba(0, 0, 0, 0.15);\n",
              "    filter: drop-shadow(0px 1px 2px rgba(0, 0, 0, 0.3));\n",
              "    fill: #FFFFFF;\n",
              "  }\n",
              "</style>\n",
              "\n",
              "  <script>\n",
              "    async function quickchart(key) {\n",
              "      const charts = await google.colab.kernel.invokeFunction(\n",
              "          'suggestCharts', [key], {});\n",
              "    }\n",
              "    (() => {\n",
              "      let quickchartButtonEl =\n",
              "        document.querySelector('#df-f2c0abf1-16e9-42a0-be04-144be3de845e button');\n",
              "      quickchartButtonEl.style.display =\n",
              "        google.colab.kernel.accessAllowed ? 'block' : 'none';\n",
              "    })();\n",
              "  </script>\n",
              "</div>\n",
              "    </div>\n",
              "  </div>\n"
            ]
          },
          "metadata": {},
          "execution_count": 151
        }
      ]
    },
    {
      "cell_type": "code",
      "source": [
        "df[\"Name\"]"
      ],
      "metadata": {
        "colab": {
          "base_uri": "https://localhost:8080/"
        },
        "id": "HkFLWBE6DC1y",
        "outputId": "79f26c0e-4d69-450e-c281-26e4a361e702"
      },
      "id": "HkFLWBE6DC1y",
      "execution_count": null,
      "outputs": [
        {
          "output_type": "execute_result",
          "data": {
            "text/plain": [
              "0    สมบูรณ์\n",
              "1      สมชาย\n",
              "2     สมหญิง\n",
              "3     สมหมาย\n",
              "4     สมบัติ\n",
              "Name: Name, dtype: object"
            ]
          },
          "metadata": {},
          "execution_count": 152
        }
      ]
    },
    {
      "cell_type": "code",
      "source": [
        "df[[\"Name\"]]"
      ],
      "metadata": {
        "colab": {
          "base_uri": "https://localhost:8080/",
          "height": 206
        },
        "id": "8jgnSHE7bZY0",
        "outputId": "b833a991-f47a-47bb-813f-ae1d0f6563f9"
      },
      "id": "8jgnSHE7bZY0",
      "execution_count": null,
      "outputs": [
        {
          "output_type": "execute_result",
          "data": {
            "text/plain": [
              "      Name\n",
              "0  สมบูรณ์\n",
              "1    สมชาย\n",
              "2   สมหญิง\n",
              "3   สมหมาย\n",
              "4   สมบัติ"
            ],
            "text/html": [
              "\n",
              "  <div id=\"df-d1dc6abc-a926-4caf-84c8-2900013accd7\" class=\"colab-df-container\">\n",
              "    <div>\n",
              "<style scoped>\n",
              "    .dataframe tbody tr th:only-of-type {\n",
              "        vertical-align: middle;\n",
              "    }\n",
              "\n",
              "    .dataframe tbody tr th {\n",
              "        vertical-align: top;\n",
              "    }\n",
              "\n",
              "    .dataframe thead th {\n",
              "        text-align: right;\n",
              "    }\n",
              "</style>\n",
              "<table border=\"1\" class=\"dataframe\">\n",
              "  <thead>\n",
              "    <tr style=\"text-align: right;\">\n",
              "      <th></th>\n",
              "      <th>Name</th>\n",
              "    </tr>\n",
              "  </thead>\n",
              "  <tbody>\n",
              "    <tr>\n",
              "      <th>0</th>\n",
              "      <td>สมบูรณ์</td>\n",
              "    </tr>\n",
              "    <tr>\n",
              "      <th>1</th>\n",
              "      <td>สมชาย</td>\n",
              "    </tr>\n",
              "    <tr>\n",
              "      <th>2</th>\n",
              "      <td>สมหญิง</td>\n",
              "    </tr>\n",
              "    <tr>\n",
              "      <th>3</th>\n",
              "      <td>สมหมาย</td>\n",
              "    </tr>\n",
              "    <tr>\n",
              "      <th>4</th>\n",
              "      <td>สมบัติ</td>\n",
              "    </tr>\n",
              "  </tbody>\n",
              "</table>\n",
              "</div>\n",
              "    <div class=\"colab-df-buttons\">\n",
              "\n",
              "  <div class=\"colab-df-container\">\n",
              "    <button class=\"colab-df-convert\" onclick=\"convertToInteractive('df-d1dc6abc-a926-4caf-84c8-2900013accd7')\"\n",
              "            title=\"Convert this dataframe to an interactive table.\"\n",
              "            style=\"display:none;\">\n",
              "\n",
              "  <svg xmlns=\"http://www.w3.org/2000/svg\" height=\"24px\" viewBox=\"0 -960 960 960\">\n",
              "    <path d=\"M120-120v-720h720v720H120Zm60-500h600v-160H180v160Zm220 220h160v-160H400v160Zm0 220h160v-160H400v160ZM180-400h160v-160H180v160Zm440 0h160v-160H620v160ZM180-180h160v-160H180v160Zm440 0h160v-160H620v160Z\"/>\n",
              "  </svg>\n",
              "    </button>\n",
              "\n",
              "  <style>\n",
              "    .colab-df-container {\n",
              "      display:flex;\n",
              "      gap: 12px;\n",
              "    }\n",
              "\n",
              "    .colab-df-convert {\n",
              "      background-color: #E8F0FE;\n",
              "      border: none;\n",
              "      border-radius: 50%;\n",
              "      cursor: pointer;\n",
              "      display: none;\n",
              "      fill: #1967D2;\n",
              "      height: 32px;\n",
              "      padding: 0 0 0 0;\n",
              "      width: 32px;\n",
              "    }\n",
              "\n",
              "    .colab-df-convert:hover {\n",
              "      background-color: #E2EBFA;\n",
              "      box-shadow: 0px 1px 2px rgba(60, 64, 67, 0.3), 0px 1px 3px 1px rgba(60, 64, 67, 0.15);\n",
              "      fill: #174EA6;\n",
              "    }\n",
              "\n",
              "    .colab-df-buttons div {\n",
              "      margin-bottom: 4px;\n",
              "    }\n",
              "\n",
              "    [theme=dark] .colab-df-convert {\n",
              "      background-color: #3B4455;\n",
              "      fill: #D2E3FC;\n",
              "    }\n",
              "\n",
              "    [theme=dark] .colab-df-convert:hover {\n",
              "      background-color: #434B5C;\n",
              "      box-shadow: 0px 1px 3px 1px rgba(0, 0, 0, 0.15);\n",
              "      filter: drop-shadow(0px 1px 2px rgba(0, 0, 0, 0.3));\n",
              "      fill: #FFFFFF;\n",
              "    }\n",
              "  </style>\n",
              "\n",
              "    <script>\n",
              "      const buttonEl =\n",
              "        document.querySelector('#df-d1dc6abc-a926-4caf-84c8-2900013accd7 button.colab-df-convert');\n",
              "      buttonEl.style.display =\n",
              "        google.colab.kernel.accessAllowed ? 'block' : 'none';\n",
              "\n",
              "      async function convertToInteractive(key) {\n",
              "        const element = document.querySelector('#df-d1dc6abc-a926-4caf-84c8-2900013accd7');\n",
              "        const dataTable =\n",
              "          await google.colab.kernel.invokeFunction('convertToInteractive',\n",
              "                                                    [key], {});\n",
              "        if (!dataTable) return;\n",
              "\n",
              "        const docLinkHtml = 'Like what you see? Visit the ' +\n",
              "          '<a target=\"_blank\" href=https://colab.research.google.com/notebooks/data_table.ipynb>data table notebook</a>'\n",
              "          + ' to learn more about interactive tables.';\n",
              "        element.innerHTML = '';\n",
              "        dataTable['output_type'] = 'display_data';\n",
              "        await google.colab.output.renderOutput(dataTable, element);\n",
              "        const docLink = document.createElement('div');\n",
              "        docLink.innerHTML = docLinkHtml;\n",
              "        element.appendChild(docLink);\n",
              "      }\n",
              "    </script>\n",
              "  </div>\n",
              "\n",
              "\n",
              "<div id=\"df-14afeba5-b481-4ab5-98cc-aa752bdcccad\">\n",
              "  <button class=\"colab-df-quickchart\" onclick=\"quickchart('df-14afeba5-b481-4ab5-98cc-aa752bdcccad')\"\n",
              "            title=\"Suggest charts.\"\n",
              "            style=\"display:none;\">\n",
              "\n",
              "<svg xmlns=\"http://www.w3.org/2000/svg\" height=\"24px\"viewBox=\"0 0 24 24\"\n",
              "     width=\"24px\">\n",
              "    <g>\n",
              "        <path d=\"M19 3H5c-1.1 0-2 .9-2 2v14c0 1.1.9 2 2 2h14c1.1 0 2-.9 2-2V5c0-1.1-.9-2-2-2zM9 17H7v-7h2v7zm4 0h-2V7h2v10zm4 0h-2v-4h2v4z\"/>\n",
              "    </g>\n",
              "</svg>\n",
              "  </button>\n",
              "\n",
              "<style>\n",
              "  .colab-df-quickchart {\n",
              "    background-color: #E8F0FE;\n",
              "    border: none;\n",
              "    border-radius: 50%;\n",
              "    cursor: pointer;\n",
              "    display: none;\n",
              "    fill: #1967D2;\n",
              "    height: 32px;\n",
              "    padding: 0 0 0 0;\n",
              "    width: 32px;\n",
              "  }\n",
              "\n",
              "  .colab-df-quickchart:hover {\n",
              "    background-color: #E2EBFA;\n",
              "    box-shadow: 0px 1px 2px rgba(60, 64, 67, 0.3), 0px 1px 3px 1px rgba(60, 64, 67, 0.15);\n",
              "    fill: #174EA6;\n",
              "  }\n",
              "\n",
              "  [theme=dark] .colab-df-quickchart {\n",
              "    background-color: #3B4455;\n",
              "    fill: #D2E3FC;\n",
              "  }\n",
              "\n",
              "  [theme=dark] .colab-df-quickchart:hover {\n",
              "    background-color: #434B5C;\n",
              "    box-shadow: 0px 1px 3px 1px rgba(0, 0, 0, 0.15);\n",
              "    filter: drop-shadow(0px 1px 2px rgba(0, 0, 0, 0.3));\n",
              "    fill: #FFFFFF;\n",
              "  }\n",
              "</style>\n",
              "\n",
              "  <script>\n",
              "    async function quickchart(key) {\n",
              "      const charts = await google.colab.kernel.invokeFunction(\n",
              "          'suggestCharts', [key], {});\n",
              "    }\n",
              "    (() => {\n",
              "      let quickchartButtonEl =\n",
              "        document.querySelector('#df-14afeba5-b481-4ab5-98cc-aa752bdcccad button');\n",
              "      quickchartButtonEl.style.display =\n",
              "        google.colab.kernel.accessAllowed ? 'block' : 'none';\n",
              "    })();\n",
              "  </script>\n",
              "</div>\n",
              "    </div>\n",
              "  </div>\n"
            ]
          },
          "metadata": {},
          "execution_count": 180
        }
      ]
    },
    {
      "cell_type": "code",
      "source": [
        "df[[\"Name\", \"Age\"]]"
      ],
      "metadata": {
        "colab": {
          "base_uri": "https://localhost:8080/",
          "height": 206
        },
        "id": "NvroRtg6blE-",
        "outputId": "cb048393-c02f-4c40-9f5b-d3bd59243a33"
      },
      "id": "NvroRtg6blE-",
      "execution_count": null,
      "outputs": [
        {
          "output_type": "execute_result",
          "data": {
            "text/plain": [
              "      Name  Age\n",
              "0  สมบูรณ์   23\n",
              "1    สมชาย   45\n",
              "2   สมหญิง   62\n",
              "3   สมหมาย   30\n",
              "4   สมบัติ   32"
            ],
            "text/html": [
              "\n",
              "  <div id=\"df-8ba1a56a-2ead-4520-9e35-77415f1eb2c2\" class=\"colab-df-container\">\n",
              "    <div>\n",
              "<style scoped>\n",
              "    .dataframe tbody tr th:only-of-type {\n",
              "        vertical-align: middle;\n",
              "    }\n",
              "\n",
              "    .dataframe tbody tr th {\n",
              "        vertical-align: top;\n",
              "    }\n",
              "\n",
              "    .dataframe thead th {\n",
              "        text-align: right;\n",
              "    }\n",
              "</style>\n",
              "<table border=\"1\" class=\"dataframe\">\n",
              "  <thead>\n",
              "    <tr style=\"text-align: right;\">\n",
              "      <th></th>\n",
              "      <th>Name</th>\n",
              "      <th>Age</th>\n",
              "    </tr>\n",
              "  </thead>\n",
              "  <tbody>\n",
              "    <tr>\n",
              "      <th>0</th>\n",
              "      <td>สมบูรณ์</td>\n",
              "      <td>23</td>\n",
              "    </tr>\n",
              "    <tr>\n",
              "      <th>1</th>\n",
              "      <td>สมชาย</td>\n",
              "      <td>45</td>\n",
              "    </tr>\n",
              "    <tr>\n",
              "      <th>2</th>\n",
              "      <td>สมหญิง</td>\n",
              "      <td>62</td>\n",
              "    </tr>\n",
              "    <tr>\n",
              "      <th>3</th>\n",
              "      <td>สมหมาย</td>\n",
              "      <td>30</td>\n",
              "    </tr>\n",
              "    <tr>\n",
              "      <th>4</th>\n",
              "      <td>สมบัติ</td>\n",
              "      <td>32</td>\n",
              "    </tr>\n",
              "  </tbody>\n",
              "</table>\n",
              "</div>\n",
              "    <div class=\"colab-df-buttons\">\n",
              "\n",
              "  <div class=\"colab-df-container\">\n",
              "    <button class=\"colab-df-convert\" onclick=\"convertToInteractive('df-8ba1a56a-2ead-4520-9e35-77415f1eb2c2')\"\n",
              "            title=\"Convert this dataframe to an interactive table.\"\n",
              "            style=\"display:none;\">\n",
              "\n",
              "  <svg xmlns=\"http://www.w3.org/2000/svg\" height=\"24px\" viewBox=\"0 -960 960 960\">\n",
              "    <path d=\"M120-120v-720h720v720H120Zm60-500h600v-160H180v160Zm220 220h160v-160H400v160Zm0 220h160v-160H400v160ZM180-400h160v-160H180v160Zm440 0h160v-160H620v160ZM180-180h160v-160H180v160Zm440 0h160v-160H620v160Z\"/>\n",
              "  </svg>\n",
              "    </button>\n",
              "\n",
              "  <style>\n",
              "    .colab-df-container {\n",
              "      display:flex;\n",
              "      gap: 12px;\n",
              "    }\n",
              "\n",
              "    .colab-df-convert {\n",
              "      background-color: #E8F0FE;\n",
              "      border: none;\n",
              "      border-radius: 50%;\n",
              "      cursor: pointer;\n",
              "      display: none;\n",
              "      fill: #1967D2;\n",
              "      height: 32px;\n",
              "      padding: 0 0 0 0;\n",
              "      width: 32px;\n",
              "    }\n",
              "\n",
              "    .colab-df-convert:hover {\n",
              "      background-color: #E2EBFA;\n",
              "      box-shadow: 0px 1px 2px rgba(60, 64, 67, 0.3), 0px 1px 3px 1px rgba(60, 64, 67, 0.15);\n",
              "      fill: #174EA6;\n",
              "    }\n",
              "\n",
              "    .colab-df-buttons div {\n",
              "      margin-bottom: 4px;\n",
              "    }\n",
              "\n",
              "    [theme=dark] .colab-df-convert {\n",
              "      background-color: #3B4455;\n",
              "      fill: #D2E3FC;\n",
              "    }\n",
              "\n",
              "    [theme=dark] .colab-df-convert:hover {\n",
              "      background-color: #434B5C;\n",
              "      box-shadow: 0px 1px 3px 1px rgba(0, 0, 0, 0.15);\n",
              "      filter: drop-shadow(0px 1px 2px rgba(0, 0, 0, 0.3));\n",
              "      fill: #FFFFFF;\n",
              "    }\n",
              "  </style>\n",
              "\n",
              "    <script>\n",
              "      const buttonEl =\n",
              "        document.querySelector('#df-8ba1a56a-2ead-4520-9e35-77415f1eb2c2 button.colab-df-convert');\n",
              "      buttonEl.style.display =\n",
              "        google.colab.kernel.accessAllowed ? 'block' : 'none';\n",
              "\n",
              "      async function convertToInteractive(key) {\n",
              "        const element = document.querySelector('#df-8ba1a56a-2ead-4520-9e35-77415f1eb2c2');\n",
              "        const dataTable =\n",
              "          await google.colab.kernel.invokeFunction('convertToInteractive',\n",
              "                                                    [key], {});\n",
              "        if (!dataTable) return;\n",
              "\n",
              "        const docLinkHtml = 'Like what you see? Visit the ' +\n",
              "          '<a target=\"_blank\" href=https://colab.research.google.com/notebooks/data_table.ipynb>data table notebook</a>'\n",
              "          + ' to learn more about interactive tables.';\n",
              "        element.innerHTML = '';\n",
              "        dataTable['output_type'] = 'display_data';\n",
              "        await google.colab.output.renderOutput(dataTable, element);\n",
              "        const docLink = document.createElement('div');\n",
              "        docLink.innerHTML = docLinkHtml;\n",
              "        element.appendChild(docLink);\n",
              "      }\n",
              "    </script>\n",
              "  </div>\n",
              "\n",
              "\n",
              "<div id=\"df-149ab814-8f32-4bd6-8545-ddc55af77042\">\n",
              "  <button class=\"colab-df-quickchart\" onclick=\"quickchart('df-149ab814-8f32-4bd6-8545-ddc55af77042')\"\n",
              "            title=\"Suggest charts.\"\n",
              "            style=\"display:none;\">\n",
              "\n",
              "<svg xmlns=\"http://www.w3.org/2000/svg\" height=\"24px\"viewBox=\"0 0 24 24\"\n",
              "     width=\"24px\">\n",
              "    <g>\n",
              "        <path d=\"M19 3H5c-1.1 0-2 .9-2 2v14c0 1.1.9 2 2 2h14c1.1 0 2-.9 2-2V5c0-1.1-.9-2-2-2zM9 17H7v-7h2v7zm4 0h-2V7h2v10zm4 0h-2v-4h2v4z\"/>\n",
              "    </g>\n",
              "</svg>\n",
              "  </button>\n",
              "\n",
              "<style>\n",
              "  .colab-df-quickchart {\n",
              "    background-color: #E8F0FE;\n",
              "    border: none;\n",
              "    border-radius: 50%;\n",
              "    cursor: pointer;\n",
              "    display: none;\n",
              "    fill: #1967D2;\n",
              "    height: 32px;\n",
              "    padding: 0 0 0 0;\n",
              "    width: 32px;\n",
              "  }\n",
              "\n",
              "  .colab-df-quickchart:hover {\n",
              "    background-color: #E2EBFA;\n",
              "    box-shadow: 0px 1px 2px rgba(60, 64, 67, 0.3), 0px 1px 3px 1px rgba(60, 64, 67, 0.15);\n",
              "    fill: #174EA6;\n",
              "  }\n",
              "\n",
              "  [theme=dark] .colab-df-quickchart {\n",
              "    background-color: #3B4455;\n",
              "    fill: #D2E3FC;\n",
              "  }\n",
              "\n",
              "  [theme=dark] .colab-df-quickchart:hover {\n",
              "    background-color: #434B5C;\n",
              "    box-shadow: 0px 1px 3px 1px rgba(0, 0, 0, 0.15);\n",
              "    filter: drop-shadow(0px 1px 2px rgba(0, 0, 0, 0.3));\n",
              "    fill: #FFFFFF;\n",
              "  }\n",
              "</style>\n",
              "\n",
              "  <script>\n",
              "    async function quickchart(key) {\n",
              "      const charts = await google.colab.kernel.invokeFunction(\n",
              "          'suggestCharts', [key], {});\n",
              "    }\n",
              "    (() => {\n",
              "      let quickchartButtonEl =\n",
              "        document.querySelector('#df-149ab814-8f32-4bd6-8545-ddc55af77042 button');\n",
              "      quickchartButtonEl.style.display =\n",
              "        google.colab.kernel.accessAllowed ? 'block' : 'none';\n",
              "    })();\n",
              "  </script>\n",
              "</div>\n",
              "    </div>\n",
              "  </div>\n"
            ]
          },
          "metadata": {},
          "execution_count": 153
        }
      ]
    },
    {
      "cell_type": "code",
      "source": [
        "df[\"Name\"]\n",
        "#type(df[\"Name\"]) # pandas.core.series.Series"
      ],
      "metadata": {
        "colab": {
          "base_uri": "https://localhost:8080/"
        },
        "id": "6N1JedYnbW36",
        "outputId": "ade91873-0b43-4697-a9c8-bb3db60e2ebc"
      },
      "id": "6N1JedYnbW36",
      "execution_count": null,
      "outputs": [
        {
          "output_type": "execute_result",
          "data": {
            "text/plain": [
              "0    สมบูรณ์\n",
              "1      สมชาย\n",
              "2     สมหญิง\n",
              "3     สมหมาย\n",
              "4     สมบัติ\n",
              "Name: Name, dtype: object"
            ]
          },
          "metadata": {},
          "execution_count": 182
        }
      ]
    },
    {
      "cell_type": "markdown",
      "source": [
        "![ilocvsloc](https://sparkbyexamples.com/wp-content/uploads/2021/10/pandas-difference-loc-vs-iloc.png)"
      ],
      "metadata": {
        "id": "ZoumCqXl8hfD"
      },
      "id": "ZoumCqXl8hfD"
    },
    {
      "cell_type": "code",
      "source": [
        "df"
      ],
      "metadata": {
        "colab": {
          "base_uri": "https://localhost:8080/",
          "height": 206
        },
        "id": "M65gScKT9PlE",
        "outputId": "bbc033a9-6b48-4ade-e27c-5e0e27d66b1d"
      },
      "id": "M65gScKT9PlE",
      "execution_count": null,
      "outputs": [
        {
          "output_type": "execute_result",
          "data": {
            "text/plain": [
              "   No     Name  Age\n",
              "0   1  สมบูรณ์   23\n",
              "1   2    สมชาย   45\n",
              "2   3   สมหญิง   62\n",
              "3   4   สมหมาย   30\n",
              "4   5   สมบัติ   32"
            ],
            "text/html": [
              "\n",
              "  <div id=\"df-5a6c527c-7811-44e3-ad4a-3a2bdf8fbc79\" class=\"colab-df-container\">\n",
              "    <div>\n",
              "<style scoped>\n",
              "    .dataframe tbody tr th:only-of-type {\n",
              "        vertical-align: middle;\n",
              "    }\n",
              "\n",
              "    .dataframe tbody tr th {\n",
              "        vertical-align: top;\n",
              "    }\n",
              "\n",
              "    .dataframe thead th {\n",
              "        text-align: right;\n",
              "    }\n",
              "</style>\n",
              "<table border=\"1\" class=\"dataframe\">\n",
              "  <thead>\n",
              "    <tr style=\"text-align: right;\">\n",
              "      <th></th>\n",
              "      <th>No</th>\n",
              "      <th>Name</th>\n",
              "      <th>Age</th>\n",
              "    </tr>\n",
              "  </thead>\n",
              "  <tbody>\n",
              "    <tr>\n",
              "      <th>0</th>\n",
              "      <td>1</td>\n",
              "      <td>สมบูรณ์</td>\n",
              "      <td>23</td>\n",
              "    </tr>\n",
              "    <tr>\n",
              "      <th>1</th>\n",
              "      <td>2</td>\n",
              "      <td>สมชาย</td>\n",
              "      <td>45</td>\n",
              "    </tr>\n",
              "    <tr>\n",
              "      <th>2</th>\n",
              "      <td>3</td>\n",
              "      <td>สมหญิง</td>\n",
              "      <td>62</td>\n",
              "    </tr>\n",
              "    <tr>\n",
              "      <th>3</th>\n",
              "      <td>4</td>\n",
              "      <td>สมหมาย</td>\n",
              "      <td>30</td>\n",
              "    </tr>\n",
              "    <tr>\n",
              "      <th>4</th>\n",
              "      <td>5</td>\n",
              "      <td>สมบัติ</td>\n",
              "      <td>32</td>\n",
              "    </tr>\n",
              "  </tbody>\n",
              "</table>\n",
              "</div>\n",
              "    <div class=\"colab-df-buttons\">\n",
              "\n",
              "  <div class=\"colab-df-container\">\n",
              "    <button class=\"colab-df-convert\" onclick=\"convertToInteractive('df-5a6c527c-7811-44e3-ad4a-3a2bdf8fbc79')\"\n",
              "            title=\"Convert this dataframe to an interactive table.\"\n",
              "            style=\"display:none;\">\n",
              "\n",
              "  <svg xmlns=\"http://www.w3.org/2000/svg\" height=\"24px\" viewBox=\"0 -960 960 960\">\n",
              "    <path d=\"M120-120v-720h720v720H120Zm60-500h600v-160H180v160Zm220 220h160v-160H400v160Zm0 220h160v-160H400v160ZM180-400h160v-160H180v160Zm440 0h160v-160H620v160ZM180-180h160v-160H180v160Zm440 0h160v-160H620v160Z\"/>\n",
              "  </svg>\n",
              "    </button>\n",
              "\n",
              "  <style>\n",
              "    .colab-df-container {\n",
              "      display:flex;\n",
              "      gap: 12px;\n",
              "    }\n",
              "\n",
              "    .colab-df-convert {\n",
              "      background-color: #E8F0FE;\n",
              "      border: none;\n",
              "      border-radius: 50%;\n",
              "      cursor: pointer;\n",
              "      display: none;\n",
              "      fill: #1967D2;\n",
              "      height: 32px;\n",
              "      padding: 0 0 0 0;\n",
              "      width: 32px;\n",
              "    }\n",
              "\n",
              "    .colab-df-convert:hover {\n",
              "      background-color: #E2EBFA;\n",
              "      box-shadow: 0px 1px 2px rgba(60, 64, 67, 0.3), 0px 1px 3px 1px rgba(60, 64, 67, 0.15);\n",
              "      fill: #174EA6;\n",
              "    }\n",
              "\n",
              "    .colab-df-buttons div {\n",
              "      margin-bottom: 4px;\n",
              "    }\n",
              "\n",
              "    [theme=dark] .colab-df-convert {\n",
              "      background-color: #3B4455;\n",
              "      fill: #D2E3FC;\n",
              "    }\n",
              "\n",
              "    [theme=dark] .colab-df-convert:hover {\n",
              "      background-color: #434B5C;\n",
              "      box-shadow: 0px 1px 3px 1px rgba(0, 0, 0, 0.15);\n",
              "      filter: drop-shadow(0px 1px 2px rgba(0, 0, 0, 0.3));\n",
              "      fill: #FFFFFF;\n",
              "    }\n",
              "  </style>\n",
              "\n",
              "    <script>\n",
              "      const buttonEl =\n",
              "        document.querySelector('#df-5a6c527c-7811-44e3-ad4a-3a2bdf8fbc79 button.colab-df-convert');\n",
              "      buttonEl.style.display =\n",
              "        google.colab.kernel.accessAllowed ? 'block' : 'none';\n",
              "\n",
              "      async function convertToInteractive(key) {\n",
              "        const element = document.querySelector('#df-5a6c527c-7811-44e3-ad4a-3a2bdf8fbc79');\n",
              "        const dataTable =\n",
              "          await google.colab.kernel.invokeFunction('convertToInteractive',\n",
              "                                                    [key], {});\n",
              "        if (!dataTable) return;\n",
              "\n",
              "        const docLinkHtml = 'Like what you see? Visit the ' +\n",
              "          '<a target=\"_blank\" href=https://colab.research.google.com/notebooks/data_table.ipynb>data table notebook</a>'\n",
              "          + ' to learn more about interactive tables.';\n",
              "        element.innerHTML = '';\n",
              "        dataTable['output_type'] = 'display_data';\n",
              "        await google.colab.output.renderOutput(dataTable, element);\n",
              "        const docLink = document.createElement('div');\n",
              "        docLink.innerHTML = docLinkHtml;\n",
              "        element.appendChild(docLink);\n",
              "      }\n",
              "    </script>\n",
              "  </div>\n",
              "\n",
              "\n",
              "<div id=\"df-1706389c-88e4-451d-adbb-7f90d8807aff\">\n",
              "  <button class=\"colab-df-quickchart\" onclick=\"quickchart('df-1706389c-88e4-451d-adbb-7f90d8807aff')\"\n",
              "            title=\"Suggest charts.\"\n",
              "            style=\"display:none;\">\n",
              "\n",
              "<svg xmlns=\"http://www.w3.org/2000/svg\" height=\"24px\"viewBox=\"0 0 24 24\"\n",
              "     width=\"24px\">\n",
              "    <g>\n",
              "        <path d=\"M19 3H5c-1.1 0-2 .9-2 2v14c0 1.1.9 2 2 2h14c1.1 0 2-.9 2-2V5c0-1.1-.9-2-2-2zM9 17H7v-7h2v7zm4 0h-2V7h2v10zm4 0h-2v-4h2v4z\"/>\n",
              "    </g>\n",
              "</svg>\n",
              "  </button>\n",
              "\n",
              "<style>\n",
              "  .colab-df-quickchart {\n",
              "    background-color: #E8F0FE;\n",
              "    border: none;\n",
              "    border-radius: 50%;\n",
              "    cursor: pointer;\n",
              "    display: none;\n",
              "    fill: #1967D2;\n",
              "    height: 32px;\n",
              "    padding: 0 0 0 0;\n",
              "    width: 32px;\n",
              "  }\n",
              "\n",
              "  .colab-df-quickchart:hover {\n",
              "    background-color: #E2EBFA;\n",
              "    box-shadow: 0px 1px 2px rgba(60, 64, 67, 0.3), 0px 1px 3px 1px rgba(60, 64, 67, 0.15);\n",
              "    fill: #174EA6;\n",
              "  }\n",
              "\n",
              "  [theme=dark] .colab-df-quickchart {\n",
              "    background-color: #3B4455;\n",
              "    fill: #D2E3FC;\n",
              "  }\n",
              "\n",
              "  [theme=dark] .colab-df-quickchart:hover {\n",
              "    background-color: #434B5C;\n",
              "    box-shadow: 0px 1px 3px 1px rgba(0, 0, 0, 0.15);\n",
              "    filter: drop-shadow(0px 1px 2px rgba(0, 0, 0, 0.3));\n",
              "    fill: #FFFFFF;\n",
              "  }\n",
              "</style>\n",
              "\n",
              "  <script>\n",
              "    async function quickchart(key) {\n",
              "      const charts = await google.colab.kernel.invokeFunction(\n",
              "          'suggestCharts', [key], {});\n",
              "    }\n",
              "    (() => {\n",
              "      let quickchartButtonEl =\n",
              "        document.querySelector('#df-1706389c-88e4-451d-adbb-7f90d8807aff button');\n",
              "      quickchartButtonEl.style.display =\n",
              "        google.colab.kernel.accessAllowed ? 'block' : 'none';\n",
              "    })();\n",
              "  </script>\n",
              "</div>\n",
              "    </div>\n",
              "  </div>\n"
            ]
          },
          "metadata": {},
          "execution_count": 154
        }
      ]
    },
    {
      "cell_type": "code",
      "source": [
        "df.iloc[1,2]"
      ],
      "metadata": {
        "colab": {
          "base_uri": "https://localhost:8080/"
        },
        "id": "Ka0TWIupai42",
        "outputId": "8a2d0854-b3a5-4ed4-d80b-ef92611cea35"
      },
      "id": "Ka0TWIupai42",
      "execution_count": null,
      "outputs": [
        {
          "output_type": "execute_result",
          "data": {
            "text/plain": [
              "45"
            ]
          },
          "metadata": {},
          "execution_count": 155
        }
      ]
    },
    {
      "cell_type": "code",
      "source": [
        "df[\"Name\"]==\"สมหมาย\""
      ],
      "metadata": {
        "colab": {
          "base_uri": "https://localhost:8080/"
        },
        "id": "Z3J3JZ0vDnvp",
        "outputId": "2c683e85-558a-4660-edcf-b53d321f34a2"
      },
      "id": "Z3J3JZ0vDnvp",
      "execution_count": null,
      "outputs": [
        {
          "output_type": "execute_result",
          "data": {
            "text/plain": [
              "0    False\n",
              "1    False\n",
              "2    False\n",
              "3     True\n",
              "4    False\n",
              "Name: Name, dtype: bool"
            ]
          },
          "metadata": {},
          "execution_count": 156
        }
      ]
    },
    {
      "cell_type": "code",
      "source": [
        "df.loc[df[\"Name\"]==\"สมหมาย\",:]\n",
        "#df.loc[df[\"Name\"]==\"สมหมาย\"]"
      ],
      "metadata": {
        "colab": {
          "base_uri": "https://localhost:8080/",
          "height": 80
        },
        "id": "ZJlTwGi-apF-",
        "outputId": "1c64cc17-d5a5-4e92-db09-958058fa5f04"
      },
      "id": "ZJlTwGi-apF-",
      "execution_count": null,
      "outputs": [
        {
          "output_type": "execute_result",
          "data": {
            "text/plain": [
              "   No    Name  Age\n",
              "3   4  สมหมาย   30"
            ],
            "text/html": [
              "\n",
              "  <div id=\"df-d391d6b8-f394-469c-b781-34c7245a15e5\" class=\"colab-df-container\">\n",
              "    <div>\n",
              "<style scoped>\n",
              "    .dataframe tbody tr th:only-of-type {\n",
              "        vertical-align: middle;\n",
              "    }\n",
              "\n",
              "    .dataframe tbody tr th {\n",
              "        vertical-align: top;\n",
              "    }\n",
              "\n",
              "    .dataframe thead th {\n",
              "        text-align: right;\n",
              "    }\n",
              "</style>\n",
              "<table border=\"1\" class=\"dataframe\">\n",
              "  <thead>\n",
              "    <tr style=\"text-align: right;\">\n",
              "      <th></th>\n",
              "      <th>No</th>\n",
              "      <th>Name</th>\n",
              "      <th>Age</th>\n",
              "    </tr>\n",
              "  </thead>\n",
              "  <tbody>\n",
              "    <tr>\n",
              "      <th>3</th>\n",
              "      <td>4</td>\n",
              "      <td>สมหมาย</td>\n",
              "      <td>30</td>\n",
              "    </tr>\n",
              "  </tbody>\n",
              "</table>\n",
              "</div>\n",
              "    <div class=\"colab-df-buttons\">\n",
              "\n",
              "  <div class=\"colab-df-container\">\n",
              "    <button class=\"colab-df-convert\" onclick=\"convertToInteractive('df-d391d6b8-f394-469c-b781-34c7245a15e5')\"\n",
              "            title=\"Convert this dataframe to an interactive table.\"\n",
              "            style=\"display:none;\">\n",
              "\n",
              "  <svg xmlns=\"http://www.w3.org/2000/svg\" height=\"24px\" viewBox=\"0 -960 960 960\">\n",
              "    <path d=\"M120-120v-720h720v720H120Zm60-500h600v-160H180v160Zm220 220h160v-160H400v160Zm0 220h160v-160H400v160ZM180-400h160v-160H180v160Zm440 0h160v-160H620v160ZM180-180h160v-160H180v160Zm440 0h160v-160H620v160Z\"/>\n",
              "  </svg>\n",
              "    </button>\n",
              "\n",
              "  <style>\n",
              "    .colab-df-container {\n",
              "      display:flex;\n",
              "      gap: 12px;\n",
              "    }\n",
              "\n",
              "    .colab-df-convert {\n",
              "      background-color: #E8F0FE;\n",
              "      border: none;\n",
              "      border-radius: 50%;\n",
              "      cursor: pointer;\n",
              "      display: none;\n",
              "      fill: #1967D2;\n",
              "      height: 32px;\n",
              "      padding: 0 0 0 0;\n",
              "      width: 32px;\n",
              "    }\n",
              "\n",
              "    .colab-df-convert:hover {\n",
              "      background-color: #E2EBFA;\n",
              "      box-shadow: 0px 1px 2px rgba(60, 64, 67, 0.3), 0px 1px 3px 1px rgba(60, 64, 67, 0.15);\n",
              "      fill: #174EA6;\n",
              "    }\n",
              "\n",
              "    .colab-df-buttons div {\n",
              "      margin-bottom: 4px;\n",
              "    }\n",
              "\n",
              "    [theme=dark] .colab-df-convert {\n",
              "      background-color: #3B4455;\n",
              "      fill: #D2E3FC;\n",
              "    }\n",
              "\n",
              "    [theme=dark] .colab-df-convert:hover {\n",
              "      background-color: #434B5C;\n",
              "      box-shadow: 0px 1px 3px 1px rgba(0, 0, 0, 0.15);\n",
              "      filter: drop-shadow(0px 1px 2px rgba(0, 0, 0, 0.3));\n",
              "      fill: #FFFFFF;\n",
              "    }\n",
              "  </style>\n",
              "\n",
              "    <script>\n",
              "      const buttonEl =\n",
              "        document.querySelector('#df-d391d6b8-f394-469c-b781-34c7245a15e5 button.colab-df-convert');\n",
              "      buttonEl.style.display =\n",
              "        google.colab.kernel.accessAllowed ? 'block' : 'none';\n",
              "\n",
              "      async function convertToInteractive(key) {\n",
              "        const element = document.querySelector('#df-d391d6b8-f394-469c-b781-34c7245a15e5');\n",
              "        const dataTable =\n",
              "          await google.colab.kernel.invokeFunction('convertToInteractive',\n",
              "                                                    [key], {});\n",
              "        if (!dataTable) return;\n",
              "\n",
              "        const docLinkHtml = 'Like what you see? Visit the ' +\n",
              "          '<a target=\"_blank\" href=https://colab.research.google.com/notebooks/data_table.ipynb>data table notebook</a>'\n",
              "          + ' to learn more about interactive tables.';\n",
              "        element.innerHTML = '';\n",
              "        dataTable['output_type'] = 'display_data';\n",
              "        await google.colab.output.renderOutput(dataTable, element);\n",
              "        const docLink = document.createElement('div');\n",
              "        docLink.innerHTML = docLinkHtml;\n",
              "        element.appendChild(docLink);\n",
              "      }\n",
              "    </script>\n",
              "  </div>\n",
              "\n",
              "    </div>\n",
              "  </div>\n"
            ]
          },
          "metadata": {},
          "execution_count": 157
        }
      ]
    },
    {
      "cell_type": "markdown",
      "source": [
        "<font color='red'><h4>📝 Your turn</h4></font>"
      ],
      "metadata": {
        "id": "qdckqLGM8HU3"
      },
      "id": "qdckqLGM8HU3"
    },
    {
      "cell_type": "code",
      "source": [
        "# Retrieve \"สมหญิง\" from df\n",
        "df.iloc[2,1]\n",
        "df.loc[df[\"Name\"]==\"สมหญิง\",\"Name\"]\n",
        "df.loc[df[\"Name\"]==\"สมหญิง\"][\"Name\"]"
      ],
      "metadata": {
        "id": "cxoKYTvK-Fyy",
        "colab": {
          "base_uri": "https://localhost:8080/"
        },
        "outputId": "c312ddb5-163e-4f6b-d31f-991bcf85ab9f"
      },
      "id": "cxoKYTvK-Fyy",
      "execution_count": null,
      "outputs": [
        {
          "output_type": "execute_result",
          "data": {
            "text/plain": [
              "2    สมหญิง\n",
              "Name: Name, dtype: object"
            ]
          },
          "metadata": {},
          "execution_count": 163
        }
      ]
    },
    {
      "cell_type": "code",
      "source": [
        "# Get \"Name\" of people in df whose \"Age\" are less than 40 year's old\n",
        "df.loc[df[\"Age\"]<40,\"Name\"]\n",
        "\n",
        "\n"
      ],
      "metadata": {
        "id": "meD_BkIH9nSo",
        "colab": {
          "base_uri": "https://localhost:8080/"
        },
        "outputId": "fba44142-666d-4d73-9fef-a609d2595065"
      },
      "id": "meD_BkIH9nSo",
      "execution_count": null,
      "outputs": [
        {
          "output_type": "execute_result",
          "data": {
            "text/plain": [
              "0    สมบูรณ์\n",
              "3     สมหมาย\n",
              "4     สมบัติ\n",
              "Name: Name, dtype: object"
            ]
          },
          "metadata": {},
          "execution_count": 165
        }
      ]
    },
    {
      "cell_type": "markdown",
      "id": "3a4ae0fe",
      "metadata": {
        "id": "3a4ae0fe"
      },
      "source": [
        "## Controlling program flow"
      ]
    },
    {
      "cell_type": "markdown",
      "id": "a82ba874",
      "metadata": {
        "id": "a82ba874"
      },
      "source": [
        "### Condition: if-elif-else"
      ]
    },
    {
      "cell_type": "code",
      "execution_count": null,
      "id": "0553f1c5",
      "metadata": {
        "id": "0553f1c5",
        "outputId": "fe7efa8c-f39c-4421-d27d-6fdd0311c9b4",
        "colab": {
          "base_uri": "https://localhost:8080/",
          "height": 37
        }
      },
      "outputs": [
        {
          "output_type": "execute_result",
          "data": {
            "text/plain": [
              "'a'"
            ],
            "application/vnd.google.colaboratory.intrinsic+json": {
              "type": "string"
            }
          },
          "metadata": {},
          "execution_count": 166
        }
      ],
      "source": [
        "'a' if 3 < 4 else 'b'"
      ]
    },
    {
      "cell_type": "code",
      "execution_count": null,
      "id": "38963e24",
      "metadata": {
        "id": "38963e24",
        "outputId": "4a59e6ce-ce27-4ebf-e120-8bc01d9e562e",
        "colab": {
          "base_uri": "https://localhost:8080/",
          "height": 37
        }
      },
      "outputs": [
        {
          "output_type": "execute_result",
          "data": {
            "text/plain": [
              "'b'"
            ],
            "application/vnd.google.colaboratory.intrinsic+json": {
              "type": "string"
            }
          },
          "metadata": {},
          "execution_count": 167
        }
      ],
      "source": [
        "'a' if 4 < 3 else 'b'"
      ]
    },
    {
      "cell_type": "markdown",
      "id": "ce5143ca",
      "metadata": {
        "id": "ce5143ca"
      },
      "source": [
        "```python\n",
        "if เงื่อนที่เราจะตรวจสอบ (โดยอาศัยสัญลักษณ์เหล่านี้ ==, !=, <, >, <=, >=, in, is_null()) :\n",
        "    ถ้าเงื่อนไขเป็นจริง ทำ\n",
        "```"
      ]
    },
    {
      "cell_type": "code",
      "execution_count": null,
      "id": "e1529cac",
      "metadata": {
        "id": "e1529cac",
        "outputId": "838e1a90-485e-4ba3-f5ff-e9b22e2909fa",
        "colab": {
          "base_uri": "https://localhost:8080/"
        }
      },
      "outputs": [
        {
          "output_type": "stream",
          "name": "stdout",
          "text": [
            "yes\n"
          ]
        }
      ],
      "source": [
        "if 1 < 5:\n",
        "    print('yes')"
      ]
    },
    {
      "cell_type": "markdown",
      "id": "62690402",
      "metadata": {
        "id": "62690402"
      },
      "source": [
        "```python\n",
        "if เงื่อนไขที่จะตรวจสอบ (โดยใช้สัญลักษณ์ ==,!=,<,>,<=,>=):\n",
        "    ถ้าเงื่อนไขเป็นจริง ทำงานที่ 1\n",
        "    ถ้าเงื่อนไขเป็นจริง ทำงานที่ 2\n",
        "elif เงื่อนไขที่จะตรวจสอบต่อไปถ้าเงื่อนไขข้างบนไม่เป็นจริง:\n",
        "    ถ้าเงื่อนไขเป็นจริง ทำงานที่ a1\n",
        "    ถ้าเงื่อนไขเป็นจริง ทำงานที่ a2\n",
        "elif เงื่อนไขที่จะตรวจสอบต่อไปถ้าเงื่อนไขข้างบนไม่เป็นจริง:\n",
        "    ถ้าเงื่อนไขเป็นจริง ทำงานที่ b1\n",
        "    ถ้าเงื่อนไขเป็นจริง ทำงานที่ b2\n",
        "else: #ตรวจสอบเงื่อนไขข้างบนแล้วไม่เป็นจริง\n",
        "    ทำงานที่ X\n",
        "```\n",
        "Note: จะไม่ `elif` หรือไม่มีก็ได้"
      ]
    },
    {
      "cell_type": "code",
      "execution_count": null,
      "id": "3711faa3",
      "metadata": {
        "id": "3711faa3",
        "outputId": "4c325e76-c77b-4be8-e89d-190cc3c57d32",
        "colab": {
          "base_uri": "https://localhost:8080/"
        }
      },
      "outputs": [
        {
          "output_type": "stream",
          "name": "stdout",
          "text": [
            "score = 85.63\n",
            "B\n"
          ]
        }
      ],
      "source": [
        "import numpy as np\n",
        "\n",
        "# random a real number between 60 to 100\n",
        "score = np.random.uniform(60, 100)\n",
        "print(\"score =\", np.round(score,2))\n",
        "\n",
        "if score > 90:\n",
        "    print('A')\n",
        "elif score > 80:\n",
        "    print('B')\n",
        "else:\n",
        "    print('C')"
      ]
    },
    {
      "cell_type": "markdown",
      "id": "0b5d63a9",
      "metadata": {
        "id": "0b5d63a9"
      },
      "source": [
        "### Loop: for\n",
        "```python\n",
        "for ตัวแปรที่เราจะรับค่าจากลิสต์ in ลิสต์ที่ต้องการจะวนลูป:\n",
        "    do something\n",
        "    do another thing\n",
        "this is outside the loop\n",
        "```\n",
        "Note: indent using 4 spaces"
      ]
    },
    {
      "cell_type": "code",
      "execution_count": null,
      "id": "35ee6fec",
      "metadata": {
        "id": "35ee6fec"
      },
      "outputs": [],
      "source": [
        "food = ['chiken', 'shabu', 'vegetable']"
      ]
    },
    {
      "cell_type": "code",
      "execution_count": null,
      "id": "a718b650",
      "metadata": {
        "id": "a718b650",
        "outputId": "85ce7448-a638-45da-8aac-3b2116fdd700",
        "colab": {
          "base_uri": "https://localhost:8080/"
        }
      },
      "outputs": [
        {
          "output_type": "stream",
          "name": "stdout",
          "text": [
            "I like to eat chiken\n",
            "I like to eat shabu\n",
            "I like to eat vegetable\n"
          ]
        }
      ],
      "source": [
        "for i in food:\n",
        "    print(\"I like to eat\", i)"
      ]
    },
    {
      "cell_type": "code",
      "execution_count": null,
      "id": "3697c6d7",
      "metadata": {
        "id": "3697c6d7",
        "outputId": "e481aff3-e2ba-42fe-a2db-fdb4f7108b91",
        "colab": {
          "base_uri": "https://localhost:8080/"
        }
      },
      "outputs": [
        {
          "output_type": "stream",
          "name": "stdout",
          "text": [
            "10 100\n",
            "12 144\n",
            "14 196\n",
            "16 256\n",
            "18 324\n"
          ]
        }
      ],
      "source": [
        "for i in range(10, 20, 2):\n",
        "    print(i, i**2)"
      ]
    },
    {
      "cell_type": "code",
      "execution_count": null,
      "id": "1d381c2c",
      "metadata": {
        "id": "1d381c2c",
        "outputId": "8e5f7a65-18ba-4e54-9303-36db91cc4f5e",
        "colab": {
          "base_uri": "https://localhost:8080/"
        }
      },
      "outputs": [
        {
          "output_type": "execute_result",
          "data": {
            "text/plain": [
              "[0, 2, 4]"
            ]
          },
          "metadata": {},
          "execution_count": 175
        }
      ],
      "source": [
        "xs = []\n",
        "for x in range(5):\n",
        "    if x % 2 == 0:\n",
        "        xs.append(x)\n",
        "xs"
      ]
    },
    {
      "cell_type": "markdown",
      "id": "49a89a93",
      "metadata": {
        "id": "49a89a93"
      },
      "source": [
        "Using `for` loop to create a list"
      ]
    },
    {
      "cell_type": "code",
      "execution_count": null,
      "id": "52f348f1",
      "metadata": {
        "scrolled": true,
        "id": "52f348f1",
        "outputId": "0e11ec77-5407-4f13-bfc5-81a2db21e3bd",
        "colab": {
          "base_uri": "https://localhost:8080/"
        }
      },
      "outputs": [
        {
          "output_type": "execute_result",
          "data": {
            "text/plain": [
              "[0, 1, 4, 9, 16]"
            ]
          },
          "metadata": {},
          "execution_count": 176
        }
      ],
      "source": [
        "[x**2 for x in range(5)]"
      ]
    },
    {
      "cell_type": "code",
      "execution_count": null,
      "id": "9d5af4f1",
      "metadata": {
        "id": "9d5af4f1",
        "outputId": "2e73aab5-a3be-48c7-93d4-a09466ab527f",
        "colab": {
          "base_uri": "https://localhost:8080/"
        }
      },
      "outputs": [
        {
          "output_type": "execute_result",
          "data": {
            "text/plain": [
              "[0, 4, 16]"
            ]
          },
          "metadata": {},
          "execution_count": 177
        }
      ],
      "source": [
        "[x**2 for x in range(5) if x % 2 == 0]"
      ]
    },
    {
      "cell_type": "code",
      "execution_count": null,
      "id": "333f6788",
      "metadata": {
        "id": "333f6788",
        "outputId": "cc241b25-4571-49fe-9bc2-e4b81c19f4f1",
        "colab": {
          "base_uri": "https://localhost:8080/"
        }
      },
      "outputs": [
        {
          "output_type": "execute_result",
          "data": {
            "text/plain": [
              "[0, -1, 4, -1, 16]"
            ]
          },
          "metadata": {},
          "execution_count": 178
        }
      ],
      "source": [
        "[x**2 if x % 2 == 0 else -1 for x in range(5)]"
      ]
    },
    {
      "cell_type": "markdown",
      "id": "9febe9f8",
      "metadata": {
        "id": "9febe9f8"
      },
      "source": [
        "### Loop: for, while\n",
        "```python\n",
        "while true_condition:\n",
        "    do something\n",
        "```\n",
        "Note: indent using 4 spaces"
      ]
    },
    {
      "cell_type": "code",
      "execution_count": null,
      "id": "a486c62e",
      "metadata": {
        "id": "a486c62e",
        "outputId": "701b6e80-2c45-4172-bb70-3f9adba5ef97",
        "colab": {
          "base_uri": "https://localhost:8080/"
        }
      },
      "outputs": [
        {
          "output_type": "stream",
          "name": "stdout",
          "text": [
            "0\n",
            "1\n",
            "2\n",
            "3\n",
            "4\n"
          ]
        }
      ],
      "source": [
        "max_count = 5\n",
        "count = 0\n",
        "while (count < max_count):\n",
        "    print(count)\n",
        "    count += 1"
      ]
    },
    {
      "cell_type": "code",
      "execution_count": null,
      "id": "8cc10928",
      "metadata": {
        "id": "8cc10928",
        "outputId": "894ffed4-b042-4487-8ab1-66a8e584a4c9",
        "colab": {
          "base_uri": "https://localhost:8080/"
        }
      },
      "outputs": [
        {
          "output_type": "stream",
          "name": "stdout",
          "text": [
            "0\n",
            "1\n",
            "2\n",
            "3\n"
          ]
        }
      ],
      "source": [
        "max_count = 5\n",
        "count = 0\n",
        "while (count < max_count):\n",
        "    print(count)\n",
        "    # break while loop if count = 3\n",
        "    if count == 3:\n",
        "        break\n",
        "    count += 1"
      ]
    },
    {
      "cell_type": "markdown",
      "id": "5040c89b",
      "metadata": {
        "id": "5040c89b"
      },
      "source": [
        "### Function\n",
        "```python\n",
        "def ชื่อฟังก์ชั่น(input1,input2,....):\n",
        "    do something\n",
        "    do another thing\n",
        "    return output\n",
        "```"
      ]
    },
    {
      "cell_type": "code",
      "source": [
        "# Hello\n",
        "# \"\"\"\n",
        "# Hello, my name is Meow!\n",
        "# Hi!\n",
        "# \"\"\""
      ],
      "metadata": {
        "id": "oKmKm3uIHgRo"
      },
      "id": "oKmKm3uIHgRo",
      "execution_count": null,
      "outputs": []
    },
    {
      "cell_type": "code",
      "execution_count": null,
      "id": "98723d2f",
      "metadata": {
        "id": "98723d2f"
      },
      "outputs": [],
      "source": [
        "def f(x):\n",
        "    \"\"\"Say something about the function here.\"\"\"\n",
        "    return x"
      ]
    },
    {
      "cell_type": "code",
      "execution_count": null,
      "id": "283b6211",
      "metadata": {
        "id": "283b6211",
        "outputId": "7a334cc5-6b87-4cda-ee9b-9a5048699d64",
        "colab": {
          "base_uri": "https://localhost:8080/",
          "height": 37
        }
      },
      "outputs": [
        {
          "output_type": "execute_result",
          "data": {
            "text/plain": [
              "'Hello Pythonions!'"
            ],
            "application/vnd.google.colaboratory.intrinsic+json": {
              "type": "string"
            }
          },
          "metadata": {},
          "execution_count": 184
        }
      ],
      "source": [
        "f(\"Hello Pythonions!\")"
      ]
    },
    {
      "cell_type": "code",
      "execution_count": null,
      "id": "59078170",
      "metadata": {
        "id": "59078170",
        "outputId": "c049c075-b818-4a03-a6b2-e286adde2ff9",
        "colab": {
          "base_uri": "https://localhost:8080/"
        }
      },
      "outputs": [
        {
          "output_type": "execute_result",
          "data": {
            "text/plain": [
              "3.14"
            ]
          },
          "metadata": {},
          "execution_count": 185
        }
      ],
      "source": [
        "f(3.14)"
      ]
    },
    {
      "cell_type": "code",
      "execution_count": null,
      "id": "45681032",
      "metadata": {
        "id": "45681032"
      },
      "outputs": [],
      "source": [
        "def compute_sum(a, b):\n",
        "    \"\"\"Calculate the sum of a and b.\"\"\"\n",
        "    return a + b"
      ]
    },
    {
      "cell_type": "code",
      "execution_count": null,
      "id": "2db89ca9",
      "metadata": {
        "id": "2db89ca9",
        "outputId": "28ced40d-51d2-4895-9288-97b45e45cf2c",
        "colab": {
          "base_uri": "https://localhost:8080/"
        }
      },
      "outputs": [
        {
          "output_type": "execute_result",
          "data": {
            "text/plain": [
              "7"
            ]
          },
          "metadata": {},
          "execution_count": 187
        }
      ],
      "source": [
        "compute_sum(3,4)"
      ]
    },
    {
      "cell_type": "code",
      "execution_count": null,
      "id": "3a7330b8",
      "metadata": {
        "id": "3a7330b8"
      },
      "outputs": [],
      "source": [
        "def h(a= 0 , b = 1, c = 2):\n",
        "    \"\"\"Cacluates some complicated mathematical function.\"\"\"\n",
        "    return a + 2*b + 3*c"
      ]
    },
    {
      "cell_type": "code",
      "execution_count": null,
      "id": "e4f7b011",
      "metadata": {
        "id": "e4f7b011",
        "outputId": "41ad109d-3537-436e-929a-2fca2c8fa442",
        "colab": {
          "base_uri": "https://localhost:8080/"
        }
      },
      "outputs": [
        {
          "output_type": "execute_result",
          "data": {
            "text/plain": [
              "8"
            ]
          },
          "metadata": {},
          "execution_count": 189
        }
      ],
      "source": [
        "h()"
      ]
    },
    {
      "cell_type": "code",
      "execution_count": null,
      "id": "ee7d8d02",
      "metadata": {
        "id": "ee7d8d02",
        "outputId": "06d27fbd-09d2-4342-aced-79f8473600fe",
        "colab": {
          "base_uri": "https://localhost:8080/"
        }
      },
      "outputs": [
        {
          "output_type": "execute_result",
          "data": {
            "text/plain": [
              "9"
            ]
          },
          "metadata": {},
          "execution_count": 190
        }
      ],
      "source": [
        "h(1,1,2)"
      ]
    },
    {
      "cell_type": "code",
      "execution_count": null,
      "id": "37138a7c",
      "metadata": {
        "id": "37138a7c",
        "outputId": "610b83a9-62e0-436d-81e2-11f89729cd61",
        "colab": {
          "base_uri": "https://localhost:8080/"
        }
      },
      "outputs": [
        {
          "output_type": "execute_result",
          "data": {
            "text/plain": [
              "9"
            ]
          },
          "metadata": {},
          "execution_count": 191
        }
      ],
      "source": [
        "h(a=1)"
      ]
    },
    {
      "cell_type": "code",
      "execution_count": null,
      "id": "4d99f85d",
      "metadata": {
        "scrolled": true,
        "id": "4d99f85d",
        "outputId": "84dde382-99ab-4537-f150-1fc893e0421b",
        "colab": {
          "base_uri": "https://localhost:8080/"
        }
      },
      "outputs": [
        {
          "output_type": "execute_result",
          "data": {
            "text/plain": [
              "14"
            ]
          },
          "metadata": {},
          "execution_count": 192
        }
      ],
      "source": [
        "h(c=3,b=2,a=1)"
      ]
    },
    {
      "cell_type": "code",
      "execution_count": null,
      "id": "96a1a0cf",
      "metadata": {
        "id": "96a1a0cf"
      },
      "outputs": [],
      "source": [
        "def func1(s):\n",
        "    \"\"\"\n",
        "    Print a string 's' and tell how many characters it has\n",
        "    s: a given string\n",
        "    \"\"\"\n",
        "    print(s + \" has \" + str(len(s)) + \" characters\")"
      ]
    },
    {
      "cell_type": "code",
      "execution_count": null,
      "id": "1aad3289",
      "metadata": {
        "id": "1aad3289",
        "outputId": "a2324dd0-063e-4f1e-ca75-1be4c3d45b76",
        "colab": {
          "base_uri": "https://localhost:8080/"
        }
      },
      "outputs": [
        {
          "output_type": "stream",
          "name": "stdout",
          "text": [
            "Hello! has 6 characters\n"
          ]
        }
      ],
      "source": [
        "func1(\"Hello!\")"
      ]
    },
    {
      "cell_type": "code",
      "execution_count": null,
      "id": "d579f11d",
      "metadata": {
        "id": "d579f11d",
        "outputId": "c0aae922-cdac-4dd3-e912-73e52707c035",
        "colab": {
          "base_uri": "https://localhost:8080/"
        }
      },
      "outputs": [
        {
          "output_type": "stream",
          "name": "stdout",
          "text": [
            "Help on function func1 in module __main__:\n",
            "\n",
            "func1(s)\n",
            "    Print a string 's' and tell how many characters it has\n",
            "    s: a given string\n",
            "\n"
          ]
        }
      ],
      "source": [
        "help(func1)"
      ]
    },
    {
      "cell_type": "markdown",
      "id": "71b413a0",
      "metadata": {
        "id": "71b413a0"
      },
      "source": [
        "## Using libraries"
      ]
    },
    {
      "cell_type": "markdown",
      "id": "e68aa297",
      "metadata": {
        "id": "e68aa297"
      },
      "source": [
        "### math library"
      ]
    },
    {
      "cell_type": "code",
      "execution_count": null,
      "id": "8d26d953",
      "metadata": {
        "id": "8d26d953",
        "outputId": "a6ef1bc4-41a6-44d3-aabe-68c74ad0856d",
        "colab": {
          "base_uri": "https://localhost:8080/"
        }
      },
      "outputs": [
        {
          "output_type": "execute_result",
          "data": {
            "text/plain": [
              "3.141592653589793"
            ]
          },
          "metadata": {},
          "execution_count": 212
        }
      ],
      "source": [
        "import math\n",
        "math.pi"
      ]
    },
    {
      "cell_type": "code",
      "execution_count": null,
      "id": "88fa0630",
      "metadata": {
        "id": "88fa0630",
        "outputId": "fd88d2af-cae5-4000-be7f-fe9d2258ec1b",
        "colab": {
          "base_uri": "https://localhost:8080/"
        }
      },
      "outputs": [
        {
          "output_type": "stream",
          "name": "stdout",
          "text": [
            "['__doc__', '__loader__', '__name__', '__package__', '__spec__', 'acos', 'acosh', 'asin', 'asinh', 'atan', 'atan2', 'atanh', 'ceil', 'comb', 'copysign', 'cos', 'cosh', 'degrees', 'dist', 'e', 'erf', 'erfc', 'exp', 'expm1', 'fabs', 'factorial', 'floor', 'fmod', 'frexp', 'fsum', 'gamma', 'gcd', 'hypot', 'inf', 'isclose', 'isfinite', 'isinf', 'isnan', 'isqrt', 'lcm', 'ldexp', 'lgamma', 'log', 'log10', 'log1p', 'log2', 'modf', 'nan', 'nextafter', 'perm', 'pi', 'pow', 'prod', 'radians', 'remainder', 'sin', 'sinh', 'sqrt', 'tan', 'tanh', 'tau', 'trunc', 'ulp']\n"
          ]
        }
      ],
      "source": [
        "print(dir(math))"
      ]
    },
    {
      "cell_type": "code",
      "execution_count": null,
      "id": "5853b110",
      "metadata": {
        "id": "5853b110",
        "outputId": "f082f58b-7ee6-4688-9198-97236b8b9168",
        "colab": {
          "base_uri": "https://localhost:8080/"
        }
      },
      "outputs": [
        {
          "output_type": "stream",
          "name": "stdout",
          "text": [
            "Help on built-in module math:\n",
            "\n",
            "NAME\n",
            "    math\n",
            "\n",
            "DESCRIPTION\n",
            "    This module provides access to the mathematical functions\n",
            "    defined by the C standard.\n",
            "\n",
            "FUNCTIONS\n",
            "    acos(x, /)\n",
            "        Return the arc cosine (measured in radians) of x.\n",
            "        \n",
            "        The result is between 0 and pi.\n",
            "    \n",
            "    acosh(x, /)\n",
            "        Return the inverse hyperbolic cosine of x.\n",
            "    \n",
            "    asin(x, /)\n",
            "        Return the arc sine (measured in radians) of x.\n",
            "        \n",
            "        The result is between -pi/2 and pi/2.\n",
            "    \n",
            "    asinh(x, /)\n",
            "        Return the inverse hyperbolic sine of x.\n",
            "    \n",
            "    atan(x, /)\n",
            "        Return the arc tangent (measured in radians) of x.\n",
            "        \n",
            "        The result is between -pi/2 and pi/2.\n",
            "    \n",
            "    atan2(y, x, /)\n",
            "        Return the arc tangent (measured in radians) of y/x.\n",
            "        \n",
            "        Unlike atan(y/x), the signs of both x and y are considered.\n",
            "    \n",
            "    atanh(x, /)\n",
            "        Return the inverse hyperbolic tangent of x.\n",
            "    \n",
            "    ceil(x, /)\n",
            "        Return the ceiling of x as an Integral.\n",
            "        \n",
            "        This is the smallest integer >= x.\n",
            "    \n",
            "    comb(n, k, /)\n",
            "        Number of ways to choose k items from n items without repetition and without order.\n",
            "        \n",
            "        Evaluates to n! / (k! * (n - k)!) when k <= n and evaluates\n",
            "        to zero when k > n.\n",
            "        \n",
            "        Also called the binomial coefficient because it is equivalent\n",
            "        to the coefficient of k-th term in polynomial expansion of the\n",
            "        expression (1 + x)**n.\n",
            "        \n",
            "        Raises TypeError if either of the arguments are not integers.\n",
            "        Raises ValueError if either of the arguments are negative.\n",
            "    \n",
            "    copysign(x, y, /)\n",
            "        Return a float with the magnitude (absolute value) of x but the sign of y.\n",
            "        \n",
            "        On platforms that support signed zeros, copysign(1.0, -0.0)\n",
            "        returns -1.0.\n",
            "    \n",
            "    cos(x, /)\n",
            "        Return the cosine of x (measured in radians).\n",
            "    \n",
            "    cosh(x, /)\n",
            "        Return the hyperbolic cosine of x.\n",
            "    \n",
            "    degrees(x, /)\n",
            "        Convert angle x from radians to degrees.\n",
            "    \n",
            "    dist(p, q, /)\n",
            "        Return the Euclidean distance between two points p and q.\n",
            "        \n",
            "        The points should be specified as sequences (or iterables) of\n",
            "        coordinates.  Both inputs must have the same dimension.\n",
            "        \n",
            "        Roughly equivalent to:\n",
            "            sqrt(sum((px - qx) ** 2.0 for px, qx in zip(p, q)))\n",
            "    \n",
            "    erf(x, /)\n",
            "        Error function at x.\n",
            "    \n",
            "    erfc(x, /)\n",
            "        Complementary error function at x.\n",
            "    \n",
            "    exp(x, /)\n",
            "        Return e raised to the power of x.\n",
            "    \n",
            "    expm1(x, /)\n",
            "        Return exp(x)-1.\n",
            "        \n",
            "        This function avoids the loss of precision involved in the direct evaluation of exp(x)-1 for small x.\n",
            "    \n",
            "    fabs(x, /)\n",
            "        Return the absolute value of the float x.\n",
            "    \n",
            "    factorial(x, /)\n",
            "        Find x!.\n",
            "        \n",
            "        Raise a ValueError if x is negative or non-integral.\n",
            "    \n",
            "    floor(x, /)\n",
            "        Return the floor of x as an Integral.\n",
            "        \n",
            "        This is the largest integer <= x.\n",
            "    \n",
            "    fmod(x, y, /)\n",
            "        Return fmod(x, y), according to platform C.\n",
            "        \n",
            "        x % y may differ.\n",
            "    \n",
            "    frexp(x, /)\n",
            "        Return the mantissa and exponent of x, as pair (m, e).\n",
            "        \n",
            "        m is a float and e is an int, such that x = m * 2.**e.\n",
            "        If x is 0, m and e are both 0.  Else 0.5 <= abs(m) < 1.0.\n",
            "    \n",
            "    fsum(seq, /)\n",
            "        Return an accurate floating point sum of values in the iterable seq.\n",
            "        \n",
            "        Assumes IEEE-754 floating point arithmetic.\n",
            "    \n",
            "    gamma(x, /)\n",
            "        Gamma function at x.\n",
            "    \n",
            "    gcd(*integers)\n",
            "        Greatest Common Divisor.\n",
            "    \n",
            "    hypot(...)\n",
            "        hypot(*coordinates) -> value\n",
            "        \n",
            "        Multidimensional Euclidean distance from the origin to a point.\n",
            "        \n",
            "        Roughly equivalent to:\n",
            "            sqrt(sum(x**2 for x in coordinates))\n",
            "        \n",
            "        For a two dimensional point (x, y), gives the hypotenuse\n",
            "        using the Pythagorean theorem:  sqrt(x*x + y*y).\n",
            "        \n",
            "        For example, the hypotenuse of a 3/4/5 right triangle is:\n",
            "        \n",
            "            >>> hypot(3.0, 4.0)\n",
            "            5.0\n",
            "    \n",
            "    isclose(a, b, *, rel_tol=1e-09, abs_tol=0.0)\n",
            "        Determine whether two floating point numbers are close in value.\n",
            "        \n",
            "          rel_tol\n",
            "            maximum difference for being considered \"close\", relative to the\n",
            "            magnitude of the input values\n",
            "          abs_tol\n",
            "            maximum difference for being considered \"close\", regardless of the\n",
            "            magnitude of the input values\n",
            "        \n",
            "        Return True if a is close in value to b, and False otherwise.\n",
            "        \n",
            "        For the values to be considered close, the difference between them\n",
            "        must be smaller than at least one of the tolerances.\n",
            "        \n",
            "        -inf, inf and NaN behave similarly to the IEEE 754 Standard.  That\n",
            "        is, NaN is not close to anything, even itself.  inf and -inf are\n",
            "        only close to themselves.\n",
            "    \n",
            "    isfinite(x, /)\n",
            "        Return True if x is neither an infinity nor a NaN, and False otherwise.\n",
            "    \n",
            "    isinf(x, /)\n",
            "        Return True if x is a positive or negative infinity, and False otherwise.\n",
            "    \n",
            "    isnan(x, /)\n",
            "        Return True if x is a NaN (not a number), and False otherwise.\n",
            "    \n",
            "    isqrt(n, /)\n",
            "        Return the integer part of the square root of the input.\n",
            "    \n",
            "    lcm(*integers)\n",
            "        Least Common Multiple.\n",
            "    \n",
            "    ldexp(x, i, /)\n",
            "        Return x * (2**i).\n",
            "        \n",
            "        This is essentially the inverse of frexp().\n",
            "    \n",
            "    lgamma(x, /)\n",
            "        Natural logarithm of absolute value of Gamma function at x.\n",
            "    \n",
            "    log(...)\n",
            "        log(x, [base=math.e])\n",
            "        Return the logarithm of x to the given base.\n",
            "        \n",
            "        If the base not specified, returns the natural logarithm (base e) of x.\n",
            "    \n",
            "    log10(x, /)\n",
            "        Return the base 10 logarithm of x.\n",
            "    \n",
            "    log1p(x, /)\n",
            "        Return the natural logarithm of 1+x (base e).\n",
            "        \n",
            "        The result is computed in a way which is accurate for x near zero.\n",
            "    \n",
            "    log2(x, /)\n",
            "        Return the base 2 logarithm of x.\n",
            "    \n",
            "    modf(x, /)\n",
            "        Return the fractional and integer parts of x.\n",
            "        \n",
            "        Both results carry the sign of x and are floats.\n",
            "    \n",
            "    nextafter(x, y, /)\n",
            "        Return the next floating-point value after x towards y.\n",
            "    \n",
            "    perm(n, k=None, /)\n",
            "        Number of ways to choose k items from n items without repetition and with order.\n",
            "        \n",
            "        Evaluates to n! / (n - k)! when k <= n and evaluates\n",
            "        to zero when k > n.\n",
            "        \n",
            "        If k is not specified or is None, then k defaults to n\n",
            "        and the function returns n!.\n",
            "        \n",
            "        Raises TypeError if either of the arguments are not integers.\n",
            "        Raises ValueError if either of the arguments are negative.\n",
            "    \n",
            "    pow(x, y, /)\n",
            "        Return x**y (x to the power of y).\n",
            "    \n",
            "    prod(iterable, /, *, start=1)\n",
            "        Calculate the product of all the elements in the input iterable.\n",
            "        \n",
            "        The default start value for the product is 1.\n",
            "        \n",
            "        When the iterable is empty, return the start value.  This function is\n",
            "        intended specifically for use with numeric values and may reject\n",
            "        non-numeric types.\n",
            "    \n",
            "    radians(x, /)\n",
            "        Convert angle x from degrees to radians.\n",
            "    \n",
            "    remainder(x, y, /)\n",
            "        Difference between x and the closest integer multiple of y.\n",
            "        \n",
            "        Return x - n*y where n*y is the closest integer multiple of y.\n",
            "        In the case where x is exactly halfway between two multiples of\n",
            "        y, the nearest even value of n is used. The result is always exact.\n",
            "    \n",
            "    sin(x, /)\n",
            "        Return the sine of x (measured in radians).\n",
            "    \n",
            "    sinh(x, /)\n",
            "        Return the hyperbolic sine of x.\n",
            "    \n",
            "    sqrt(x, /)\n",
            "        Return the square root of x.\n",
            "    \n",
            "    tan(x, /)\n",
            "        Return the tangent of x (measured in radians).\n",
            "    \n",
            "    tanh(x, /)\n",
            "        Return the hyperbolic tangent of x.\n",
            "    \n",
            "    trunc(x, /)\n",
            "        Truncates the Real x to the nearest Integral toward 0.\n",
            "        \n",
            "        Uses the __trunc__ magic method.\n",
            "    \n",
            "    ulp(x, /)\n",
            "        Return the value of the least significant bit of the float x.\n",
            "\n",
            "DATA\n",
            "    e = 2.718281828459045\n",
            "    inf = inf\n",
            "    nan = nan\n",
            "    pi = 3.141592653589793\n",
            "    tau = 6.283185307179586\n",
            "\n",
            "FILE\n",
            "    (built-in)\n",
            "\n",
            "\n"
          ]
        }
      ],
      "source": [
        "help(math)"
      ]
    },
    {
      "cell_type": "code",
      "execution_count": null,
      "id": "fa16a70a",
      "metadata": {
        "id": "fa16a70a",
        "outputId": "99e275cb-4792-49b2-d961-828a0517fad6",
        "colab": {
          "base_uri": "https://localhost:8080/"
        }
      },
      "outputs": [
        {
          "output_type": "stream",
          "name": "stdout",
          "text": [
            "Help on built-in function log in module math:\n",
            "\n",
            "log(...)\n",
            "    log(x, [base=math.e])\n",
            "    Return the logarithm of x to the given base.\n",
            "    \n",
            "    If the base not specified, returns the natural logarithm (base e) of x.\n",
            "\n"
          ]
        }
      ],
      "source": [
        "help(math.log)"
      ]
    },
    {
      "cell_type": "code",
      "execution_count": null,
      "id": "d025f9ad",
      "metadata": {
        "scrolled": true,
        "id": "d025f9ad",
        "outputId": "703d00cc-4fb8-4209-8648-a37246e2c035",
        "colab": {
          "base_uri": "https://localhost:8080/"
        }
      },
      "outputs": [
        {
          "output_type": "execute_result",
          "data": {
            "text/plain": [
              "1.0"
            ]
          },
          "metadata": {},
          "execution_count": 216
        }
      ],
      "source": [
        "math.log(math.e)"
      ]
    },
    {
      "cell_type": "code",
      "execution_count": null,
      "id": "3294b2f8",
      "metadata": {
        "id": "3294b2f8",
        "outputId": "2cd28359-58a2-4cd6-a6df-73c7c488b242",
        "colab": {
          "base_uri": "https://localhost:8080/"
        }
      },
      "outputs": [
        {
          "output_type": "execute_result",
          "data": {
            "text/plain": [
              "1.3862943611198906"
            ]
          },
          "metadata": {},
          "execution_count": 217
        }
      ],
      "source": [
        "math.log(4)"
      ]
    },
    {
      "cell_type": "code",
      "execution_count": null,
      "id": "e3fb9d96",
      "metadata": {
        "id": "e3fb9d96",
        "outputId": "de52b707-cc97-4645-ef55-29c6867c3b27",
        "colab": {
          "base_uri": "https://localhost:8080/"
        }
      },
      "outputs": [
        {
          "output_type": "execute_result",
          "data": {
            "text/plain": [
              "2.0"
            ]
          },
          "metadata": {},
          "execution_count": 218
        }
      ],
      "source": [
        "math.log(4, 2)"
      ]
    },
    {
      "cell_type": "markdown",
      "id": "ce59de65",
      "metadata": {
        "id": "ce59de65"
      },
      "source": [
        "### numpy library"
      ]
    },
    {
      "cell_type": "code",
      "execution_count": null,
      "id": "baee3b95",
      "metadata": {
        "id": "baee3b95",
        "outputId": "f47ab75f-1ee0-43e1-b849-f2bc4212ad07",
        "colab": {
          "base_uri": "https://localhost:8080/"
        }
      },
      "outputs": [
        {
          "output_type": "execute_result",
          "data": {
            "text/plain": [
              "array([0. , 0.1, 0.2, 0.3, 0.4, 0.5, 0.6, 0.7, 0.8, 0.9, 1. ])"
            ]
          },
          "metadata": {},
          "execution_count": 219
        }
      ],
      "source": [
        "np.linspace(0, 1, 11)"
      ]
    },
    {
      "cell_type": "code",
      "execution_count": null,
      "id": "8de38dca",
      "metadata": {
        "id": "8de38dca",
        "outputId": "06748eee-9c4d-4af6-ceaf-c569f4e5e4c3",
        "colab": {
          "base_uri": "https://localhost:8080/"
        }
      },
      "outputs": [
        {
          "output_type": "execute_result",
          "data": {
            "text/plain": [
              "array([0.27369929, 0.06689894, 0.42373462, 0.73348517])"
            ]
          },
          "metadata": {},
          "execution_count": 220
        }
      ],
      "source": [
        "from numpy.random import rand\n",
        "rand(4)"
      ]
    },
    {
      "cell_type": "markdown",
      "id": "f21314e8",
      "metadata": {
        "id": "f21314e8"
      },
      "source": [
        "- Some other very useful modules form the Python standard library are `os`, `sys`, `shutil`, `re`, etc.\n",
        "- A complete lists of standard modules for Python 3 is available at http://docs.python.org/3/library/"
      ]
    }
  ],
  "metadata": {
    "kernelspec": {
      "display_name": "Python 3 (ipykernel)",
      "language": "python",
      "name": "python3"
    },
    "language_info": {
      "codemirror_mode": {
        "name": "ipython",
        "version": 3
      },
      "file_extension": ".py",
      "mimetype": "text/x-python",
      "name": "python",
      "nbconvert_exporter": "python",
      "pygments_lexer": "ipython3",
      "version": "3.8.8"
    },
    "colab": {
      "provenance": [],
      "include_colab_link": true
    }
  },
  "nbformat": 4,
  "nbformat_minor": 5
}