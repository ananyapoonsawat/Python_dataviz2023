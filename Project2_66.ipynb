{
  "cells": [
    {
      "cell_type": "markdown",
      "metadata": {
        "id": "view-in-github",
        "colab_type": "text"
      },
      "source": [
        "<a href=\"https://colab.research.google.com/github/ananyapoonsawat/Python_dataviz2023/blob/main/Project2_66.ipynb\" target=\"_parent\"><img src=\"https://colab.research.google.com/assets/colab-badge.svg\" alt=\"Open In Colab\"/></a>"
      ]
    },
    {
      "cell_type": "markdown",
      "metadata": {
        "id": "9UhEWeXwEJ13"
      },
      "source": [
        "# Project 2 : Analyzing data from MovieLens\n",
        "\n",
        "**Due Date: Sunday, October 11**\n",
        "\n",
        "**NOTE: There are always last minute issues submitting the case studies. DO NOT WAIT UNTIL THE LAST MINUTE!**\n"
      ]
    },
    {
      "cell_type": "markdown",
      "metadata": {
        "id": "nWXZemZCEJ1-"
      },
      "source": [
        "## The MovieLens data sets\n",
        "\n",
        "<img src=\"https://www.oreilly.com/api/v2/epubs/9781788993753/files/assets/dc0f89d7-6e9c-4790-a6c0-06725f2dbe8a.png\">\n",
        "\n",
        "https://movielens.org"
      ]
    },
    {
      "cell_type": "code",
      "execution_count": 2,
      "metadata": {
        "id": "UcsrfvsWEJ1-"
      },
      "outputs": [],
      "source": [
        "from IPython.lib.display import YouTubeVideo"
      ]
    },
    {
      "cell_type": "code",
      "execution_count": 3,
      "metadata": {
        "id": "vu3gN79cEJ2A",
        "outputId": "3fa185e0-823f-4318-8565-7fe2005f67e1",
        "colab": {
          "base_uri": "https://localhost:8080/",
          "height": 321
        }
      },
      "outputs": [
        {
          "output_type": "execute_result",
          "data": {
            "text/plain": [
              "<IPython.lib.display.YouTubeVideo at 0x7a2e90a6cf40>"
            ],
            "text/html": [
              "\n",
              "        <iframe\n",
              "            width=\"400\"\n",
              "            height=\"300\"\n",
              "            src=\"https://www.youtube.com/embed/4tW9HY0Q460\"\n",
              "            frameborder=\"0\"\n",
              "            allowfullscreen\n",
              "            \n",
              "        ></iframe>\n",
              "        "
            ],
            "image/jpeg": "[encoded data removed]"
          },
          "metadata": {},
          "execution_count": 3
        }
      ],
      "source": [
        "YouTubeVideo('4tW9HY0Q460')"
      ]
    },
    {
      "cell_type": "markdown",
      "metadata": {
        "id": "tMbgkqFTEJ2B"
      },
      "source": [
        "**TEAM Members:** Please EDIT this cell and add the names of all the team members in your team\n",
        "\n",
        "นางสาวเพ็ญพิชชา วรรณ์ชูมาตร์ 643020063-4 penpitcha.wa@kkumail.com\n",
        "\n",
        "นางสาวสุชาดา อุปพงษ์ 643020524-4 suchada.u@kkumail.com\n",
        "\n",
        "นางสาวอนัญญา พูลสวัสดิ์ 643020526-0 ananya.po@kkumail.com\n",
        "\n",
        "นางสาววิลันดา ทาระมาตย์ 643021271-2 wilanda.t@kkumail.com\n",
        "\n",
        "นางสาวสุชานาถ พิลาภ 643021276-2 suchanat.p@kkumail.com"
      ]
    },
    {
      "cell_type": "markdown",
      "metadata": {
        "id": "8LxSl6maEJ2B"
      },
      "source": [
        "**Objectives**\n",
        "* In this case study we will look at the MovieLens 1M Data Set.\n",
        "    * It contains data about users and how the rate movies.\n",
        "    * http://grouplens.org/datasets/movielens/\n",
        "* The idea is to *analyze* the data set, make *conjectures*, support or refute those conjectures with *data*, and *tell a story* about the data!\n",
        "    \n",
        "**Useful Readings:**\n",
        "* Chapter 14.2 (only the section on the MovieLens 1M Data Set), Chapter 5, 6.2, 7.2, 8, and 9 of the book [Python for Data Analysis](http://shop.oreilly.com/product/0636920023784.do)  (View pivately on Google Classroom).\n",
        "* If you want your code to be really compact then you might want to also look into the pivot_table method of Panda's DataFrame, though there are many other ways to complete the case study!\n",
        "\n",
        "**Required Python libraries:**\n",
        "* Pandas (pandas.pydata.org)\n",
        "* Matplotlib (matplotlib.org)\n",
        "\n",
        "**NOTE**: Please don't forget to save the notebook frequently when working in IPython Notebook, otherwise the changes you made can be lost.\n",
        "\n",
        "วัตถุประสงค์\n",
        "\n",
        "ในกรณีศึกษานี้ เราจะดูชุดข้อมูล MovieLens 1M\n",
        "ประกอบด้วยข้อมูลเกี่ยวกับผู้ใช้และวิธีการให้คะแนนภาพยนตร์\n",
        "http://grouplens.org/datasets/movielens/\n",
        "แนวคิดคือการวิเคราะห์ชุดข้อมูล คาดเดา สนับสนุนหรือหักล้างการคาดเดาเหล่านั้นด้วยข้อมูล และบอกเล่าเรื่องราวเกี่ยวกับข้อมูล!\n",
        "การอ่านที่เป็นประโยชน์:\n",
        "\n",
        "บทที่ 14.2 (เฉพาะส่วนของชุดข้อมูล MovieLens 1M), บทที่ 5, 6.2, 7.2, 8 และ 9 ของหนังสือ Python สำหรับการวิเคราะห์ข้อมูล (ดูแบบส่วนตัวใน Google Classroom)\n",
        "หากคุณต้องการให้โค้ดของคุณมีขนาดกะทัดรัดจริงๆ คุณอาจต้องการดูวิธี pivot_table ของ DataFrame ของ Panda ด้วย แม้ว่าจะมีวิธีอื่นอีกมากมายในการทำกรณีศึกษาให้สมบูรณ์!\n",
        "ไลบรารี Python ที่จำเป็น:\n",
        "\n",
        "นุ่น (pandas.pydata.org)\n",
        "Matplotlib (matplotlib.org)\n",
        "หมายเหตุ: โปรดอย่าลืมบันทึกสมุดบันทึกบ่อยๆ เมื่อทำงานใน IPython Notebook ไม่เช่นนั้นการเปลี่ยนแปลงที่คุณทำอาจสูญหายได้"
      ]
    },
    {
      "cell_type": "code",
      "execution_count": 4,
      "metadata": {
        "id": "JTABdUYGEJ2D"
      },
      "outputs": [],
      "source": [
        "from google.colab import drive\n",
        "import pandas as pd\n",
        "from matplotlib import pyplot as plt\n",
        "import numpy as np"
      ]
    },
    {
      "cell_type": "code",
      "source": [
        "drive.mount(\"/content/drive\", force_remount=True)"
      ],
      "metadata": {
        "colab": {
          "base_uri": "https://localhost:8080/"
        },
        "id": "sCp4KMNtEVjd",
        "outputId": "c2a6ce25-0ea0-44a3-a95f-0c5987b23d2d"
      },
      "execution_count": 5,
      "outputs": [
        {
          "output_type": "stream",
          "name": "stdout",
          "text": [
            "Mounted at /content/drive\n"
          ]
        }
      ]
    },
    {
      "cell_type": "markdown",
      "metadata": {
        "id": "mkMyxmzxEJ2C"
      },
      "source": [
        "# Problem 1:\n",
        "\n",
        "## Importing the MovieLens data set and merging it into a single Pandas DataFrame"
      ]
    },
    {
      "cell_type": "markdown",
      "metadata": {
        "id": "OxbxDLB4EJ2C"
      },
      "source": [
        "* Download the 1 million ratings data set from https://grouplens.org/datasets/movielens/1m/ (though if you are feeling adventerous you can download the 10 million ratings file instead)\n",
        "* Merge all of the data into a single Pandas DataFrame. See\n",
        "    * https://pandas.pydata.org/docs/reference/api/pandas.DataFrame.merge.html\n",
        "* Store the data into an HDF5 file. See\n",
        "    * https://pandas.pydata.org/docs/reference/api/pandas.DataFrame.to_hdf.html\n",
        "    * https://pandas.pydata.org/docs/reference/api/pandas.read_hdf.html"
      ]
    },
    {
      "cell_type": "code",
      "source": [
        "ratingsdat = pd.read_table(\"/content/drive/MyDrive/DataWarehouse/p2/ratings (1).dat\", sep=\"::\", header=None, names=['UserID','MovieID','Rating','Timestamp'])\n",
        "moviesdat = pd.read_table(\"/content/drive/MyDrive/DataWarehouse/p2/movies (1).dat\", sep=\"::\", header=None, names=['MovieID','Title','Genres'],encoding = \"ISO-8859-1\")\n",
        "usersdat = pd.read_table(\"/content/drive/MyDrive/DataWarehouse/p2/users (1).dat\", sep=\"::\", header=None, names=['UserID','Gender','Age','Occupation','Zip-code'])"
      ],
      "metadata": {
        "colab": {
          "base_uri": "https://localhost:8080/"
        },
        "id": "E-iKXRzo3wQq",
        "outputId": "30c27d7b-4f4e-4036-91d0-3c883f719668"
      },
      "execution_count": 6,
      "outputs": [
        {
          "output_type": "stream",
          "name": "stderr",
          "text": [
            "<ipython-input-6-7f10d3a4dd7c>:1: ParserWarning: Falling back to the 'python' engine because the 'c' engine does not support regex separators (separators > 1 char and different from '\\s+' are interpreted as regex); you can avoid this warning by specifying engine='python'.\n",
            "  ratingsdat = pd.read_table(\"/content/drive/MyDrive/DataWarehouse/p2/ratings (1).dat\", sep=\"::\", header=None, names=['UserID','MovieID','Rating','Timestamp'])\n",
            "<ipython-input-6-7f10d3a4dd7c>:2: ParserWarning: Falling back to the 'python' engine because the 'c' engine does not support regex separators (separators > 1 char and different from '\\s+' are interpreted as regex); you can avoid this warning by specifying engine='python'.\n",
            "  moviesdat = pd.read_table(\"/content/drive/MyDrive/DataWarehouse/p2/movies (1).dat\", sep=\"::\", header=None, names=['MovieID','Title','Genres'],encoding = \"ISO-8859-1\")\n",
            "<ipython-input-6-7f10d3a4dd7c>:3: ParserWarning: Falling back to the 'python' engine because the 'c' engine does not support regex separators (separators > 1 char and different from '\\s+' are interpreted as regex); you can avoid this warning by specifying engine='python'.\n",
            "  usersdat = pd.read_table(\"/content/drive/MyDrive/DataWarehouse/p2/users (1).dat\", sep=\"::\", header=None, names=['UserID','Gender','Age','Occupation','Zip-code'])\n"
          ]
        }
      ]
    },
    {
      "cell_type": "code",
      "source": [
        "ratingsdat"
      ],
      "metadata": {
        "colab": {
          "base_uri": "https://localhost:8080/",
          "height": 423
        },
        "id": "14lpkltLnLP-",
        "outputId": "72fea5e6-b152-4593-e076-7609ad6f177f"
      },
      "execution_count": 7,
      "outputs": [
        {
          "output_type": "execute_result",
          "data": {
            "text/plain": [
              "         UserID  MovieID  Rating  Timestamp\n",
              "0             1     1193       5  978300760\n",
              "1             1      661       3  978302109\n",
              "2             1      914       3  978301968\n",
              "3             1     3408       4  978300275\n",
              "4             1     2355       5  978824291\n",
              "...         ...      ...     ...        ...\n",
              "1000204    6040     1091       1  956716541\n",
              "1000205    6040     1094       5  956704887\n",
              "1000206    6040      562       5  956704746\n",
              "1000207    6040     1096       4  956715648\n",
              "1000208    6040     1097       4  956715569\n",
              "\n",
              "[1000209 rows x 4 columns]"
            ],
            "text/html": [
              "\n",
              "  <div id=\"df-94169318-f90e-4dc5-ae81-f00db3151e25\" class=\"colab-df-container\">\n",
              "    <div>\n",
              "<style scoped>\n",
              "    .dataframe tbody tr th:only-of-type {\n",
              "        vertical-align: middle;\n",
              "    }\n",
              "\n",
              "    .dataframe tbody tr th {\n",
              "        vertical-align: top;\n",
              "    }\n",
              "\n",
              "    .dataframe thead th {\n",
              "        text-align: right;\n",
              "    }\n",
              "</style>\n",
              "<table border=\"1\" class=\"dataframe\">\n",
              "  <thead>\n",
              "    <tr style=\"text-align: right;\">\n",
              "      <th></th>\n",
              "      <th>UserID</th>\n",
              "      <th>MovieID</th>\n",
              "      <th>Rating</th>\n",
              "      <th>Timestamp</th>\n",
              "    </tr>\n",
              "  </thead>\n",
              "  <tbody>\n",
              "    <tr>\n",
              "      <th>0</th>\n",
              "      <td>1</td>\n",
              "      <td>1193</td>\n",
              "      <td>5</td>\n",
              "      <td>978300760</td>\n",
              "    </tr>\n",
              "    <tr>\n",
              "      <th>1</th>\n",
              "      <td>1</td>\n",
              "      <td>661</td>\n",
              "      <td>3</td>\n",
              "      <td>978302109</td>\n",
              "    </tr>\n",
              "    <tr>\n",
              "      <th>2</th>\n",
              "      <td>1</td>\n",
              "      <td>914</td>\n",
              "      <td>3</td>\n",
              "      <td>978301968</td>\n",
              "    </tr>\n",
              "    <tr>\n",
              "      <th>3</th>\n",
              "      <td>1</td>\n",
              "      <td>3408</td>\n",
              "      <td>4</td>\n",
              "      <td>978300275</td>\n",
              "    </tr>\n",
              "    <tr>\n",
              "      <th>4</th>\n",
              "      <td>1</td>\n",
              "      <td>2355</td>\n",
              "      <td>5</td>\n",
              "      <td>978824291</td>\n",
              "    </tr>\n",
              "    <tr>\n",
              "      <th>...</th>\n",
              "      <td>...</td>\n",
              "      <td>...</td>\n",
              "      <td>...</td>\n",
              "      <td>...</td>\n",
              "    </tr>\n",
              "    <tr>\n",
              "      <th>1000204</th>\n",
              "      <td>6040</td>\n",
              "      <td>1091</td>\n",
              "      <td>1</td>\n",
              "      <td>956716541</td>\n",
              "    </tr>\n",
              "    <tr>\n",
              "      <th>1000205</th>\n",
              "      <td>6040</td>\n",
              "      <td>1094</td>\n",
              "      <td>5</td>\n",
              "      <td>956704887</td>\n",
              "    </tr>\n",
              "    <tr>\n",
              "      <th>1000206</th>\n",
              "      <td>6040</td>\n",
              "      <td>562</td>\n",
              "      <td>5</td>\n",
              "      <td>956704746</td>\n",
              "    </tr>\n",
              "    <tr>\n",
              "      <th>1000207</th>\n",
              "      <td>6040</td>\n",
              "      <td>1096</td>\n",
              "      <td>4</td>\n",
              "      <td>956715648</td>\n",
              "    </tr>\n",
              "    <tr>\n",
              "      <th>1000208</th>\n",
              "      <td>6040</td>\n",
              "      <td>1097</td>\n",
              "      <td>4</td>\n",
              "      <td>956715569</td>\n",
              "    </tr>\n",
              "  </tbody>\n",
              "</table>\n",
              "<p>1000209 rows × 4 columns</p>\n",
              "</div>\n",
              "    <div class=\"colab-df-buttons\">\n",
              "\n",
              "  <div class=\"colab-df-container\">\n",
              "    <button class=\"colab-df-convert\" onclick=\"convertToInteractive('df-94169318-f90e-4dc5-ae81-f00db3151e25')\"\n",
              "            title=\"Convert this dataframe to an interactive table.\"\n",
              "            style=\"display:none;\">\n",
              "\n",
              "  <svg xmlns=\"http://www.w3.org/2000/svg\" height=\"24px\" viewBox=\"0 -960 960 960\">\n",
              "    <path d=\"M120-120v-720h720v720H120Zm60-500h600v-160H180v160Zm220 220h160v-160H400v160Zm0 220h160v-160H400v160ZM180-400h160v-160H180v160Zm440 0h160v-160H620v160ZM180-180h160v-160H180v160Zm440 0h160v-160H620v160Z\"/>\n",
              "  </svg>\n",
              "    </button>\n",
              "\n",
              "  <style>\n",
              "    .colab-df-container {\n",
              "      display:flex;\n",
              "      gap: 12px;\n",
              "    }\n",
              "\n",
              "    .colab-df-convert {\n",
              "      background-color: #E8F0FE;\n",
              "      border: none;\n",
              "      border-radius: 50%;\n",
              "      cursor: pointer;\n",
              "      display: none;\n",
              "      fill: #1967D2;\n",
              "      height: 32px;\n",
              "      padding: 0 0 0 0;\n",
              "      width: 32px;\n",
              "    }\n",
              "\n",
              "    .colab-df-convert:hover {\n",
              "      background-color: #E2EBFA;\n",
              "      box-shadow: 0px 1px 2px rgba(60, 64, 67, 0.3), 0px 1px 3px 1px rgba(60, 64, 67, 0.15);\n",
              "      fill: #174EA6;\n",
              "    }\n",
              "\n",
              "    .colab-df-buttons div {\n",
              "      margin-bottom: 4px;\n",
              "    }\n",
              "\n",
              "    [theme=dark] .colab-df-convert {\n",
              "      background-color: #3B4455;\n",
              "      fill: #D2E3FC;\n",
              "    }\n",
              "\n",
              "    [theme=dark] .colab-df-convert:hover {\n",
              "      background-color: #434B5C;\n",
              "      box-shadow: 0px 1px 3px 1px rgba(0, 0, 0, 0.15);\n",
              "      filter: drop-shadow(0px 1px 2px rgba(0, 0, 0, 0.3));\n",
              "      fill: #FFFFFF;\n",
              "    }\n",
              "  </style>\n",
              "\n",
              "    <script>\n",
              "      const buttonEl =\n",
              "        document.querySelector('#df-94169318-f90e-4dc5-ae81-f00db3151e25 button.colab-df-convert');\n",
              "      buttonEl.style.display =\n",
              "        google.colab.kernel.accessAllowed ? 'block' : 'none';\n",
              "\n",
              "      async function convertToInteractive(key) {\n",
              "        const element = document.querySelector('#df-94169318-f90e-4dc5-ae81-f00db3151e25');\n",
              "        const dataTable =\n",
              "          await google.colab.kernel.invokeFunction('convertToInteractive',\n",
              "                                                    [key], {});\n",
              "        if (!dataTable) return;\n",
              "\n",
              "        const docLinkHtml = 'Like what you see? Visit the ' +\n",
              "          '<a target=\"_blank\" href=https://colab.research.google.com/notebooks/data_table.ipynb>data table notebook</a>'\n",
              "          + ' to learn more about interactive tables.';\n",
              "        element.innerHTML = '';\n",
              "        dataTable['output_type'] = 'display_data';\n",
              "        await google.colab.output.renderOutput(dataTable, element);\n",
              "        const docLink = document.createElement('div');\n",
              "        docLink.innerHTML = docLinkHtml;\n",
              "        element.appendChild(docLink);\n",
              "      }\n",
              "    </script>\n",
              "  </div>\n",
              "\n",
              "\n",
              "<div id=\"df-591be7ff-52f3-4675-a622-1d760e7799a2\">\n",
              "  <button class=\"colab-df-quickchart\" onclick=\"quickchart('df-591be7ff-52f3-4675-a622-1d760e7799a2')\"\n",
              "            title=\"Suggest charts.\"\n",
              "            style=\"display:none;\">\n",
              "\n",
              "<svg xmlns=\"http://www.w3.org/2000/svg\" height=\"24px\"viewBox=\"0 0 24 24\"\n",
              "     width=\"24px\">\n",
              "    <g>\n",
              "        <path d=\"M19 3H5c-1.1 0-2 .9-2 2v14c0 1.1.9 2 2 2h14c1.1 0 2-.9 2-2V5c0-1.1-.9-2-2-2zM9 17H7v-7h2v7zm4 0h-2V7h2v10zm4 0h-2v-4h2v4z\"/>\n",
              "    </g>\n",
              "</svg>\n",
              "  </button>\n",
              "\n",
              "<style>\n",
              "  .colab-df-quickchart {\n",
              "      --bg-color: #E8F0FE;\n",
              "      --fill-color: #1967D2;\n",
              "      --hover-bg-color: #E2EBFA;\n",
              "      --hover-fill-color: #174EA6;\n",
              "      --disabled-fill-color: #AAA;\n",
              "      --disabled-bg-color: #DDD;\n",
              "  }\n",
              "\n",
              "  [theme=dark] .colab-df-quickchart {\n",
              "      --bg-color: #3B4455;\n",
              "      --fill-color: #D2E3FC;\n",
              "      --hover-bg-color: #434B5C;\n",
              "      --hover-fill-color: #FFFFFF;\n",
              "      --disabled-bg-color: #3B4455;\n",
              "      --disabled-fill-color: #666;\n",
              "  }\n",
              "\n",
              "  .colab-df-quickchart {\n",
              "    background-color: var(--bg-color);\n",
              "    border: none;\n",
              "    border-radius: 50%;\n",
              "    cursor: pointer;\n",
              "    display: none;\n",
              "    fill: var(--fill-color);\n",
              "    height: 32px;\n",
              "    padding: 0;\n",
              "    width: 32px;\n",
              "  }\n",
              "\n",
              "  .colab-df-quickchart:hover {\n",
              "    background-color: var(--hover-bg-color);\n",
              "    box-shadow: 0 1px 2px rgba(60, 64, 67, 0.3), 0 1px 3px 1px rgba(60, 64, 67, 0.15);\n",
              "    fill: var(--button-hover-fill-color);\n",
              "  }\n",
              "\n",
              "  .colab-df-quickchart-complete:disabled,\n",
              "  .colab-df-quickchart-complete:disabled:hover {\n",
              "    background-color: var(--disabled-bg-color);\n",
              "    fill: var(--disabled-fill-color);\n",
              "    box-shadow: none;\n",
              "  }\n",
              "\n",
              "  .colab-df-spinner {\n",
              "    border: 2px solid var(--fill-color);\n",
              "    border-color: transparent;\n",
              "    border-bottom-color: var(--fill-color);\n",
              "    animation:\n",
              "      spin 1s steps(1) infinite;\n",
              "  }\n",
              "\n",
              "  @keyframes spin {\n",
              "    0% {\n",
              "      border-color: transparent;\n",
              "      border-bottom-color: var(--fill-color);\n",
              "      border-left-color: var(--fill-color);\n",
              "    }\n",
              "    20% {\n",
              "      border-color: transparent;\n",
              "      border-left-color: var(--fill-color);\n",
              "      border-top-color: var(--fill-color);\n",
              "    }\n",
              "    30% {\n",
              "      border-color: transparent;\n",
              "      border-left-color: var(--fill-color);\n",
              "      border-top-color: var(--fill-color);\n",
              "      border-right-color: var(--fill-color);\n",
              "    }\n",
              "    40% {\n",
              "      border-color: transparent;\n",
              "      border-right-color: var(--fill-color);\n",
              "      border-top-color: var(--fill-color);\n",
              "    }\n",
              "    60% {\n",
              "      border-color: transparent;\n",
              "      border-right-color: var(--fill-color);\n",
              "    }\n",
              "    80% {\n",
              "      border-color: transparent;\n",
              "      border-right-color: var(--fill-color);\n",
              "      border-bottom-color: var(--fill-color);\n",
              "    }\n",
              "    90% {\n",
              "      border-color: transparent;\n",
              "      border-bottom-color: var(--fill-color);\n",
              "    }\n",
              "  }\n",
              "</style>\n",
              "\n",
              "  <script>\n",
              "    async function quickchart(key) {\n",
              "      const quickchartButtonEl =\n",
              "        document.querySelector('#' + key + ' button');\n",
              "      quickchartButtonEl.disabled = true;  // To prevent multiple clicks.\n",
              "      quickchartButtonEl.classList.add('colab-df-spinner');\n",
              "      try {\n",
              "        const charts = await google.colab.kernel.invokeFunction(\n",
              "            'suggestCharts', [key], {});\n",
              "      } catch (error) {\n",
              "        console.error('Error during call to suggestCharts:', error);\n",
              "      }\n",
              "      quickchartButtonEl.classList.remove('colab-df-spinner');\n",
              "      quickchartButtonEl.classList.add('colab-df-quickchart-complete');\n",
              "    }\n",
              "    (() => {\n",
              "      let quickchartButtonEl =\n",
              "        document.querySelector('#df-591be7ff-52f3-4675-a622-1d760e7799a2 button');\n",
              "      quickchartButtonEl.style.display =\n",
              "        google.colab.kernel.accessAllowed ? 'block' : 'none';\n",
              "    })();\n",
              "  </script>\n",
              "</div>\n",
              "    </div>\n",
              "  </div>\n"
            ]
          },
          "metadata": {},
          "execution_count": 7
        }
      ]
    },
    {
      "cell_type": "code",
      "source": [
        "usersdat"
      ],
      "metadata": {
        "colab": {
          "base_uri": "https://localhost:8080/",
          "height": 423
        },
        "id": "2sgac2MCnJmN",
        "outputId": "094bd4e1-2d13-4486-cd4f-38c55940066c"
      },
      "execution_count": 8,
      "outputs": [
        {
          "output_type": "execute_result",
          "data": {
            "text/plain": [
              "      UserID Gender  Age  Occupation Zip-code\n",
              "0          1      F    1          10    48067\n",
              "1          2      M   56          16    70072\n",
              "2          3      M   25          15    55117\n",
              "3          4      M   45           7    02460\n",
              "4          5      M   25          20    55455\n",
              "...      ...    ...  ...         ...      ...\n",
              "6035    6036      F   25          15    32603\n",
              "6036    6037      F   45           1    76006\n",
              "6037    6038      F   56           1    14706\n",
              "6038    6039      F   45           0    01060\n",
              "6039    6040      M   25           6    11106\n",
              "\n",
              "[6040 rows x 5 columns]"
            ],
            "text/html": [
              "\n",
              "  <div id=\"df-c7803948-66d7-43df-9e74-425c8e48ac3e\" class=\"colab-df-container\">\n",
              "    <div>\n",
              "<style scoped>\n",
              "    .dataframe tbody tr th:only-of-type {\n",
              "        vertical-align: middle;\n",
              "    }\n",
              "\n",
              "    .dataframe tbody tr th {\n",
              "        vertical-align: top;\n",
              "    }\n",
              "\n",
              "    .dataframe thead th {\n",
              "        text-align: right;\n",
              "    }\n",
              "</style>\n",
              "<table border=\"1\" class=\"dataframe\">\n",
              "  <thead>\n",
              "    <tr style=\"text-align: right;\">\n",
              "      <th></th>\n",
              "      <th>UserID</th>\n",
              "      <th>Gender</th>\n",
              "      <th>Age</th>\n",
              "      <th>Occupation</th>\n",
              "      <th>Zip-code</th>\n",
              "    </tr>\n",
              "  </thead>\n",
              "  <tbody>\n",
              "    <tr>\n",
              "      <th>0</th>\n",
              "      <td>1</td>\n",
              "      <td>F</td>\n",
              "      <td>1</td>\n",
              "      <td>10</td>\n",
              "      <td>48067</td>\n",
              "    </tr>\n",
              "    <tr>\n",
              "      <th>1</th>\n",
              "      <td>2</td>\n",
              "      <td>M</td>\n",
              "      <td>56</td>\n",
              "      <td>16</td>\n",
              "      <td>70072</td>\n",
              "    </tr>\n",
              "    <tr>\n",
              "      <th>2</th>\n",
              "      <td>3</td>\n",
              "      <td>M</td>\n",
              "      <td>25</td>\n",
              "      <td>15</td>\n",
              "      <td>55117</td>\n",
              "    </tr>\n",
              "    <tr>\n",
              "      <th>3</th>\n",
              "      <td>4</td>\n",
              "      <td>M</td>\n",
              "      <td>45</td>\n",
              "      <td>7</td>\n",
              "      <td>02460</td>\n",
              "    </tr>\n",
              "    <tr>\n",
              "      <th>4</th>\n",
              "      <td>5</td>\n",
              "      <td>M</td>\n",
              "      <td>25</td>\n",
              "      <td>20</td>\n",
              "      <td>55455</td>\n",
              "    </tr>\n",
              "    <tr>\n",
              "      <th>...</th>\n",
              "      <td>...</td>\n",
              "      <td>...</td>\n",
              "      <td>...</td>\n",
              "      <td>...</td>\n",
              "      <td>...</td>\n",
              "    </tr>\n",
              "    <tr>\n",
              "      <th>6035</th>\n",
              "      <td>6036</td>\n",
              "      <td>F</td>\n",
              "      <td>25</td>\n",
              "      <td>15</td>\n",
              "      <td>32603</td>\n",
              "    </tr>\n",
              "    <tr>\n",
              "      <th>6036</th>\n",
              "      <td>6037</td>\n",
              "      <td>F</td>\n",
              "      <td>45</td>\n",
              "      <td>1</td>\n",
              "      <td>76006</td>\n",
              "    </tr>\n",
              "    <tr>\n",
              "      <th>6037</th>\n",
              "      <td>6038</td>\n",
              "      <td>F</td>\n",
              "      <td>56</td>\n",
              "      <td>1</td>\n",
              "      <td>14706</td>\n",
              "    </tr>\n",
              "    <tr>\n",
              "      <th>6038</th>\n",
              "      <td>6039</td>\n",
              "      <td>F</td>\n",
              "      <td>45</td>\n",
              "      <td>0</td>\n",
              "      <td>01060</td>\n",
              "    </tr>\n",
              "    <tr>\n",
              "      <th>6039</th>\n",
              "      <td>6040</td>\n",
              "      <td>M</td>\n",
              "      <td>25</td>\n",
              "      <td>6</td>\n",
              "      <td>11106</td>\n",
              "    </tr>\n",
              "  </tbody>\n",
              "</table>\n",
              "<p>6040 rows × 5 columns</p>\n",
              "</div>\n",
              "    <div class=\"colab-df-buttons\">\n",
              "\n",
              "  <div class=\"colab-df-container\">\n",
              "    <button class=\"colab-df-convert\" onclick=\"convertToInteractive('df-c7803948-66d7-43df-9e74-425c8e48ac3e')\"\n",
              "            title=\"Convert this dataframe to an interactive table.\"\n",
              "            style=\"display:none;\">\n",
              "\n",
              "  <svg xmlns=\"http://www.w3.org/2000/svg\" height=\"24px\" viewBox=\"0 -960 960 960\">\n",
              "    <path d=\"M120-120v-720h720v720H120Zm60-500h600v-160H180v160Zm220 220h160v-160H400v160Zm0 220h160v-160H400v160ZM180-400h160v-160H180v160Zm440 0h160v-160H620v160ZM180-180h160v-160H180v160Zm440 0h160v-160H620v160Z\"/>\n",
              "  </svg>\n",
              "    </button>\n",
              "\n",
              "  <style>\n",
              "    .colab-df-container {\n",
              "      display:flex;\n",
              "      gap: 12px;\n",
              "    }\n",
              "\n",
              "    .colab-df-convert {\n",
              "      background-color: #E8F0FE;\n",
              "      border: none;\n",
              "      border-radius: 50%;\n",
              "      cursor: pointer;\n",
              "      display: none;\n",
              "      fill: #1967D2;\n",
              "      height: 32px;\n",
              "      padding: 0 0 0 0;\n",
              "      width: 32px;\n",
              "    }\n",
              "\n",
              "    .colab-df-convert:hover {\n",
              "      background-color: #E2EBFA;\n",
              "      box-shadow: 0px 1px 2px rgba(60, 64, 67, 0.3), 0px 1px 3px 1px rgba(60, 64, 67, 0.15);\n",
              "      fill: #174EA6;\n",
              "    }\n",
              "\n",
              "    .colab-df-buttons div {\n",
              "      margin-bottom: 4px;\n",
              "    }\n",
              "\n",
              "    [theme=dark] .colab-df-convert {\n",
              "      background-color: #3B4455;\n",
              "      fill: #D2E3FC;\n",
              "    }\n",
              "\n",
              "    [theme=dark] .colab-df-convert:hover {\n",
              "      background-color: #434B5C;\n",
              "      box-shadow: 0px 1px 3px 1px rgba(0, 0, 0, 0.15);\n",
              "      filter: drop-shadow(0px 1px 2px rgba(0, 0, 0, 0.3));\n",
              "      fill: #FFFFFF;\n",
              "    }\n",
              "  </style>\n",
              "\n",
              "    <script>\n",
              "      const buttonEl =\n",
              "        document.querySelector('#df-c7803948-66d7-43df-9e74-425c8e48ac3e button.colab-df-convert');\n",
              "      buttonEl.style.display =\n",
              "        google.colab.kernel.accessAllowed ? 'block' : 'none';\n",
              "\n",
              "      async function convertToInteractive(key) {\n",
              "        const element = document.querySelector('#df-c7803948-66d7-43df-9e74-425c8e48ac3e');\n",
              "        const dataTable =\n",
              "          await google.colab.kernel.invokeFunction('convertToInteractive',\n",
              "                                                    [key], {});\n",
              "        if (!dataTable) return;\n",
              "\n",
              "        const docLinkHtml = 'Like what you see? Visit the ' +\n",
              "          '<a target=\"_blank\" href=https://colab.research.google.com/notebooks/data_table.ipynb>data table notebook</a>'\n",
              "          + ' to learn more about interactive tables.';\n",
              "        element.innerHTML = '';\n",
              "        dataTable['output_type'] = 'display_data';\n",
              "        await google.colab.output.renderOutput(dataTable, element);\n",
              "        const docLink = document.createElement('div');\n",
              "        docLink.innerHTML = docLinkHtml;\n",
              "        element.appendChild(docLink);\n",
              "      }\n",
              "    </script>\n",
              "  </div>\n",
              "\n",
              "\n",
              "<div id=\"df-78d792b7-e9fa-4722-97fb-62eb042a8442\">\n",
              "  <button class=\"colab-df-quickchart\" onclick=\"quickchart('df-78d792b7-e9fa-4722-97fb-62eb042a8442')\"\n",
              "            title=\"Suggest charts.\"\n",
              "            style=\"display:none;\">\n",
              "\n",
              "<svg xmlns=\"http://www.w3.org/2000/svg\" height=\"24px\"viewBox=\"0 0 24 24\"\n",
              "     width=\"24px\">\n",
              "    <g>\n",
              "        <path d=\"M19 3H5c-1.1 0-2 .9-2 2v14c0 1.1.9 2 2 2h14c1.1 0 2-.9 2-2V5c0-1.1-.9-2-2-2zM9 17H7v-7h2v7zm4 0h-2V7h2v10zm4 0h-2v-4h2v4z\"/>\n",
              "    </g>\n",
              "</svg>\n",
              "  </button>\n",
              "\n",
              "<style>\n",
              "  .colab-df-quickchart {\n",
              "      --bg-color: #E8F0FE;\n",
              "      --fill-color: #1967D2;\n",
              "      --hover-bg-color: #E2EBFA;\n",
              "      --hover-fill-color: #174EA6;\n",
              "      --disabled-fill-color: #AAA;\n",
              "      --disabled-bg-color: #DDD;\n",
              "  }\n",
              "\n",
              "  [theme=dark] .colab-df-quickchart {\n",
              "      --bg-color: #3B4455;\n",
              "      --fill-color: #D2E3FC;\n",
              "      --hover-bg-color: #434B5C;\n",
              "      --hover-fill-color: #FFFFFF;\n",
              "      --disabled-bg-color: #3B4455;\n",
              "      --disabled-fill-color: #666;\n",
              "  }\n",
              "\n",
              "  .colab-df-quickchart {\n",
              "    background-color: var(--bg-color);\n",
              "    border: none;\n",
              "    border-radius: 50%;\n",
              "    cursor: pointer;\n",
              "    display: none;\n",
              "    fill: var(--fill-color);\n",
              "    height: 32px;\n",
              "    padding: 0;\n",
              "    width: 32px;\n",
              "  }\n",
              "\n",
              "  .colab-df-quickchart:hover {\n",
              "    background-color: var(--hover-bg-color);\n",
              "    box-shadow: 0 1px 2px rgba(60, 64, 67, 0.3), 0 1px 3px 1px rgba(60, 64, 67, 0.15);\n",
              "    fill: var(--button-hover-fill-color);\n",
              "  }\n",
              "\n",
              "  .colab-df-quickchart-complete:disabled,\n",
              "  .colab-df-quickchart-complete:disabled:hover {\n",
              "    background-color: var(--disabled-bg-color);\n",
              "    fill: var(--disabled-fill-color);\n",
              "    box-shadow: none;\n",
              "  }\n",
              "\n",
              "  .colab-df-spinner {\n",
              "    border: 2px solid var(--fill-color);\n",
              "    border-color: transparent;\n",
              "    border-bottom-color: var(--fill-color);\n",
              "    animation:\n",
              "      spin 1s steps(1) infinite;\n",
              "  }\n",
              "\n",
              "  @keyframes spin {\n",
              "    0% {\n",
              "      border-color: transparent;\n",
              "      border-bottom-color: var(--fill-color);\n",
              "      border-left-color: var(--fill-color);\n",
              "    }\n",
              "    20% {\n",
              "      border-color: transparent;\n",
              "      border-left-color: var(--fill-color);\n",
              "      border-top-color: var(--fill-color);\n",
              "    }\n",
              "    30% {\n",
              "      border-color: transparent;\n",
              "      border-left-color: var(--fill-color);\n",
              "      border-top-color: var(--fill-color);\n",
              "      border-right-color: var(--fill-color);\n",
              "    }\n",
              "    40% {\n",
              "      border-color: transparent;\n",
              "      border-right-color: var(--fill-color);\n",
              "      border-top-color: var(--fill-color);\n",
              "    }\n",
              "    60% {\n",
              "      border-color: transparent;\n",
              "      border-right-color: var(--fill-color);\n",
              "    }\n",
              "    80% {\n",
              "      border-color: transparent;\n",
              "      border-right-color: var(--fill-color);\n",
              "      border-bottom-color: var(--fill-color);\n",
              "    }\n",
              "    90% {\n",
              "      border-color: transparent;\n",
              "      border-bottom-color: var(--fill-color);\n",
              "    }\n",
              "  }\n",
              "</style>\n",
              "\n",
              "  <script>\n",
              "    async function quickchart(key) {\n",
              "      const quickchartButtonEl =\n",
              "        document.querySelector('#' + key + ' button');\n",
              "      quickchartButtonEl.disabled = true;  // To prevent multiple clicks.\n",
              "      quickchartButtonEl.classList.add('colab-df-spinner');\n",
              "      try {\n",
              "        const charts = await google.colab.kernel.invokeFunction(\n",
              "            'suggestCharts', [key], {});\n",
              "      } catch (error) {\n",
              "        console.error('Error during call to suggestCharts:', error);\n",
              "      }\n",
              "      quickchartButtonEl.classList.remove('colab-df-spinner');\n",
              "      quickchartButtonEl.classList.add('colab-df-quickchart-complete');\n",
              "    }\n",
              "    (() => {\n",
              "      let quickchartButtonEl =\n",
              "        document.querySelector('#df-78d792b7-e9fa-4722-97fb-62eb042a8442 button');\n",
              "      quickchartButtonEl.style.display =\n",
              "        google.colab.kernel.accessAllowed ? 'block' : 'none';\n",
              "    })();\n",
              "  </script>\n",
              "</div>\n",
              "    </div>\n",
              "  </div>\n"
            ]
          },
          "metadata": {},
          "execution_count": 8
        }
      ]
    },
    {
      "cell_type": "code",
      "source": [
        "moviesdat"
      ],
      "metadata": {
        "colab": {
          "base_uri": "https://localhost:8080/",
          "height": 423
        },
        "id": "t9iMOUc-0eGG",
        "outputId": "1efa8f2f-dd2a-4b80-ea68-9577c274042d"
      },
      "execution_count": 9,
      "outputs": [
        {
          "output_type": "execute_result",
          "data": {
            "text/plain": [
              "      MovieID                               Title  \\\n",
              "0           1                    Toy Story (1995)   \n",
              "1           2                      Jumanji (1995)   \n",
              "2           3             Grumpier Old Men (1995)   \n",
              "3           4            Waiting to Exhale (1995)   \n",
              "4           5  Father of the Bride Part II (1995)   \n",
              "...       ...                                 ...   \n",
              "3878     3948             Meet the Parents (2000)   \n",
              "3879     3949          Requiem for a Dream (2000)   \n",
              "3880     3950                    Tigerland (2000)   \n",
              "3881     3951             Two Family House (2000)   \n",
              "3882     3952               Contender, The (2000)   \n",
              "\n",
              "                            Genres  \n",
              "0      Animation|Children's|Comedy  \n",
              "1     Adventure|Children's|Fantasy  \n",
              "2                   Comedy|Romance  \n",
              "3                     Comedy|Drama  \n",
              "4                           Comedy  \n",
              "...                            ...  \n",
              "3878                        Comedy  \n",
              "3879                         Drama  \n",
              "3880                         Drama  \n",
              "3881                         Drama  \n",
              "3882                Drama|Thriller  \n",
              "\n",
              "[3883 rows x 3 columns]"
            ],
            "text/html": [
              "\n",
              "  <div id=\"df-ba4a29f3-236d-4540-8864-c7f1cf282007\" class=\"colab-df-container\">\n",
              "    <div>\n",
              "<style scoped>\n",
              "    .dataframe tbody tr th:only-of-type {\n",
              "        vertical-align: middle;\n",
              "    }\n",
              "\n",
              "    .dataframe tbody tr th {\n",
              "        vertical-align: top;\n",
              "    }\n",
              "\n",
              "    .dataframe thead th {\n",
              "        text-align: right;\n",
              "    }\n",
              "</style>\n",
              "<table border=\"1\" class=\"dataframe\">\n",
              "  <thead>\n",
              "    <tr style=\"text-align: right;\">\n",
              "      <th></th>\n",
              "      <th>MovieID</th>\n",
              "      <th>Title</th>\n",
              "      <th>Genres</th>\n",
              "    </tr>\n",
              "  </thead>\n",
              "  <tbody>\n",
              "    <tr>\n",
              "      <th>0</th>\n",
              "      <td>1</td>\n",
              "      <td>Toy Story (1995)</td>\n",
              "      <td>Animation|Children's|Comedy</td>\n",
              "    </tr>\n",
              "    <tr>\n",
              "      <th>1</th>\n",
              "      <td>2</td>\n",
              "      <td>Jumanji (1995)</td>\n",
              "      <td>Adventure|Children's|Fantasy</td>\n",
              "    </tr>\n",
              "    <tr>\n",
              "      <th>2</th>\n",
              "      <td>3</td>\n",
              "      <td>Grumpier Old Men (1995)</td>\n",
              "      <td>Comedy|Romance</td>\n",
              "    </tr>\n",
              "    <tr>\n",
              "      <th>3</th>\n",
              "      <td>4</td>\n",
              "      <td>Waiting to Exhale (1995)</td>\n",
              "      <td>Comedy|Drama</td>\n",
              "    </tr>\n",
              "    <tr>\n",
              "      <th>4</th>\n",
              "      <td>5</td>\n",
              "      <td>Father of the Bride Part II (1995)</td>\n",
              "      <td>Comedy</td>\n",
              "    </tr>\n",
              "    <tr>\n",
              "      <th>...</th>\n",
              "      <td>...</td>\n",
              "      <td>...</td>\n",
              "      <td>...</td>\n",
              "    </tr>\n",
              "    <tr>\n",
              "      <th>3878</th>\n",
              "      <td>3948</td>\n",
              "      <td>Meet the Parents (2000)</td>\n",
              "      <td>Comedy</td>\n",
              "    </tr>\n",
              "    <tr>\n",
              "      <th>3879</th>\n",
              "      <td>3949</td>\n",
              "      <td>Requiem for a Dream (2000)</td>\n",
              "      <td>Drama</td>\n",
              "    </tr>\n",
              "    <tr>\n",
              "      <th>3880</th>\n",
              "      <td>3950</td>\n",
              "      <td>Tigerland (2000)</td>\n",
              "      <td>Drama</td>\n",
              "    </tr>\n",
              "    <tr>\n",
              "      <th>3881</th>\n",
              "      <td>3951</td>\n",
              "      <td>Two Family House (2000)</td>\n",
              "      <td>Drama</td>\n",
              "    </tr>\n",
              "    <tr>\n",
              "      <th>3882</th>\n",
              "      <td>3952</td>\n",
              "      <td>Contender, The (2000)</td>\n",
              "      <td>Drama|Thriller</td>\n",
              "    </tr>\n",
              "  </tbody>\n",
              "</table>\n",
              "<p>3883 rows × 3 columns</p>\n",
              "</div>\n",
              "    <div class=\"colab-df-buttons\">\n",
              "\n",
              "  <div class=\"colab-df-container\">\n",
              "    <button class=\"colab-df-convert\" onclick=\"convertToInteractive('df-ba4a29f3-236d-4540-8864-c7f1cf282007')\"\n",
              "            title=\"Convert this dataframe to an interactive table.\"\n",
              "            style=\"display:none;\">\n",
              "\n",
              "  <svg xmlns=\"http://www.w3.org/2000/svg\" height=\"24px\" viewBox=\"0 -960 960 960\">\n",
              "    <path d=\"M120-120v-720h720v720H120Zm60-500h600v-160H180v160Zm220 220h160v-160H400v160Zm0 220h160v-160H400v160ZM180-400h160v-160H180v160Zm440 0h160v-160H620v160ZM180-180h160v-160H180v160Zm440 0h160v-160H620v160Z\"/>\n",
              "  </svg>\n",
              "    </button>\n",
              "\n",
              "  <style>\n",
              "    .colab-df-container {\n",
              "      display:flex;\n",
              "      gap: 12px;\n",
              "    }\n",
              "\n",
              "    .colab-df-convert {\n",
              "      background-color: #E8F0FE;\n",
              "      border: none;\n",
              "      border-radius: 50%;\n",
              "      cursor: pointer;\n",
              "      display: none;\n",
              "      fill: #1967D2;\n",
              "      height: 32px;\n",
              "      padding: 0 0 0 0;\n",
              "      width: 32px;\n",
              "    }\n",
              "\n",
              "    .colab-df-convert:hover {\n",
              "      background-color: #E2EBFA;\n",
              "      box-shadow: 0px 1px 2px rgba(60, 64, 67, 0.3), 0px 1px 3px 1px rgba(60, 64, 67, 0.15);\n",
              "      fill: #174EA6;\n",
              "    }\n",
              "\n",
              "    .colab-df-buttons div {\n",
              "      margin-bottom: 4px;\n",
              "    }\n",
              "\n",
              "    [theme=dark] .colab-df-convert {\n",
              "      background-color: #3B4455;\n",
              "      fill: #D2E3FC;\n",
              "    }\n",
              "\n",
              "    [theme=dark] .colab-df-convert:hover {\n",
              "      background-color: #434B5C;\n",
              "      box-shadow: 0px 1px 3px 1px rgba(0, 0, 0, 0.15);\n",
              "      filter: drop-shadow(0px 1px 2px rgba(0, 0, 0, 0.3));\n",
              "      fill: #FFFFFF;\n",
              "    }\n",
              "  </style>\n",
              "\n",
              "    <script>\n",
              "      const buttonEl =\n",
              "        document.querySelector('#df-ba4a29f3-236d-4540-8864-c7f1cf282007 button.colab-df-convert');\n",
              "      buttonEl.style.display =\n",
              "        google.colab.kernel.accessAllowed ? 'block' : 'none';\n",
              "\n",
              "      async function convertToInteractive(key) {\n",
              "        const element = document.querySelector('#df-ba4a29f3-236d-4540-8864-c7f1cf282007');\n",
              "        const dataTable =\n",
              "          await google.colab.kernel.invokeFunction('convertToInteractive',\n",
              "                                                    [key], {});\n",
              "        if (!dataTable) return;\n",
              "\n",
              "        const docLinkHtml = 'Like what you see? Visit the ' +\n",
              "          '<a target=\"_blank\" href=https://colab.research.google.com/notebooks/data_table.ipynb>data table notebook</a>'\n",
              "          + ' to learn more about interactive tables.';\n",
              "        element.innerHTML = '';\n",
              "        dataTable['output_type'] = 'display_data';\n",
              "        await google.colab.output.renderOutput(dataTable, element);\n",
              "        const docLink = document.createElement('div');\n",
              "        docLink.innerHTML = docLinkHtml;\n",
              "        element.appendChild(docLink);\n",
              "      }\n",
              "    </script>\n",
              "  </div>\n",
              "\n",
              "\n",
              "<div id=\"df-f7aa82e9-7748-4a36-b69a-64c637abf8e5\">\n",
              "  <button class=\"colab-df-quickchart\" onclick=\"quickchart('df-f7aa82e9-7748-4a36-b69a-64c637abf8e5')\"\n",
              "            title=\"Suggest charts.\"\n",
              "            style=\"display:none;\">\n",
              "\n",
              "<svg xmlns=\"http://www.w3.org/2000/svg\" height=\"24px\"viewBox=\"0 0 24 24\"\n",
              "     width=\"24px\">\n",
              "    <g>\n",
              "        <path d=\"M19 3H5c-1.1 0-2 .9-2 2v14c0 1.1.9 2 2 2h14c1.1 0 2-.9 2-2V5c0-1.1-.9-2-2-2zM9 17H7v-7h2v7zm4 0h-2V7h2v10zm4 0h-2v-4h2v4z\"/>\n",
              "    </g>\n",
              "</svg>\n",
              "  </button>\n",
              "\n",
              "<style>\n",
              "  .colab-df-quickchart {\n",
              "      --bg-color: #E8F0FE;\n",
              "      --fill-color: #1967D2;\n",
              "      --hover-bg-color: #E2EBFA;\n",
              "      --hover-fill-color: #174EA6;\n",
              "      --disabled-fill-color: #AAA;\n",
              "      --disabled-bg-color: #DDD;\n",
              "  }\n",
              "\n",
              "  [theme=dark] .colab-df-quickchart {\n",
              "      --bg-color: #3B4455;\n",
              "      --fill-color: #D2E3FC;\n",
              "      --hover-bg-color: #434B5C;\n",
              "      --hover-fill-color: #FFFFFF;\n",
              "      --disabled-bg-color: #3B4455;\n",
              "      --disabled-fill-color: #666;\n",
              "  }\n",
              "\n",
              "  .colab-df-quickchart {\n",
              "    background-color: var(--bg-color);\n",
              "    border: none;\n",
              "    border-radius: 50%;\n",
              "    cursor: pointer;\n",
              "    display: none;\n",
              "    fill: var(--fill-color);\n",
              "    height: 32px;\n",
              "    padding: 0;\n",
              "    width: 32px;\n",
              "  }\n",
              "\n",
              "  .colab-df-quickchart:hover {\n",
              "    background-color: var(--hover-bg-color);\n",
              "    box-shadow: 0 1px 2px rgba(60, 64, 67, 0.3), 0 1px 3px 1px rgba(60, 64, 67, 0.15);\n",
              "    fill: var(--button-hover-fill-color);\n",
              "  }\n",
              "\n",
              "  .colab-df-quickchart-complete:disabled,\n",
              "  .colab-df-quickchart-complete:disabled:hover {\n",
              "    background-color: var(--disabled-bg-color);\n",
              "    fill: var(--disabled-fill-color);\n",
              "    box-shadow: none;\n",
              "  }\n",
              "\n",
              "  .colab-df-spinner {\n",
              "    border: 2px solid var(--fill-color);\n",
              "    border-color: transparent;\n",
              "    border-bottom-color: var(--fill-color);\n",
              "    animation:\n",
              "      spin 1s steps(1) infinite;\n",
              "  }\n",
              "\n",
              "  @keyframes spin {\n",
              "    0% {\n",
              "      border-color: transparent;\n",
              "      border-bottom-color: var(--fill-color);\n",
              "      border-left-color: var(--fill-color);\n",
              "    }\n",
              "    20% {\n",
              "      border-color: transparent;\n",
              "      border-left-color: var(--fill-color);\n",
              "      border-top-color: var(--fill-color);\n",
              "    }\n",
              "    30% {\n",
              "      border-color: transparent;\n",
              "      border-left-color: var(--fill-color);\n",
              "      border-top-color: var(--fill-color);\n",
              "      border-right-color: var(--fill-color);\n",
              "    }\n",
              "    40% {\n",
              "      border-color: transparent;\n",
              "      border-right-color: var(--fill-color);\n",
              "      border-top-color: var(--fill-color);\n",
              "    }\n",
              "    60% {\n",
              "      border-color: transparent;\n",
              "      border-right-color: var(--fill-color);\n",
              "    }\n",
              "    80% {\n",
              "      border-color: transparent;\n",
              "      border-right-color: var(--fill-color);\n",
              "      border-bottom-color: var(--fill-color);\n",
              "    }\n",
              "    90% {\n",
              "      border-color: transparent;\n",
              "      border-bottom-color: var(--fill-color);\n",
              "    }\n",
              "  }\n",
              "</style>\n",
              "\n",
              "  <script>\n",
              "    async function quickchart(key) {\n",
              "      const quickchartButtonEl =\n",
              "        document.querySelector('#' + key + ' button');\n",
              "      quickchartButtonEl.disabled = true;  // To prevent multiple clicks.\n",
              "      quickchartButtonEl.classList.add('colab-df-spinner');\n",
              "      try {\n",
              "        const charts = await google.colab.kernel.invokeFunction(\n",
              "            'suggestCharts', [key], {});\n",
              "      } catch (error) {\n",
              "        console.error('Error during call to suggestCharts:', error);\n",
              "      }\n",
              "      quickchartButtonEl.classList.remove('colab-df-spinner');\n",
              "      quickchartButtonEl.classList.add('colab-df-quickchart-complete');\n",
              "    }\n",
              "    (() => {\n",
              "      let quickchartButtonEl =\n",
              "        document.querySelector('#df-f7aa82e9-7748-4a36-b69a-64c637abf8e5 button');\n",
              "      quickchartButtonEl.style.display =\n",
              "        google.colab.kernel.accessAllowed ? 'block' : 'none';\n",
              "    })();\n",
              "  </script>\n",
              "</div>\n",
              "    </div>\n",
              "  </div>\n"
            ]
          },
          "metadata": {},
          "execution_count": 9
        }
      ]
    },
    {
      "cell_type": "code",
      "source": [
        "df = ratingsdat.merge ( moviesdat , how=\"left\" , on='MovieID' )\n",
        "df1 = df.merge ( usersdat , how=\"left\" , on='UserID' )\n",
        "ratingsdat.to_hdf('data.h5', key='rating')\n",
        "moviesdat.to_hdf('data.h5', key='movie')\n",
        "usersdat.to_hdf('data.h5', key='user')\n",
        "df1.to_hdf('data.h5', key='data_use')"
      ],
      "metadata": {
        "id": "8gORu8v94Po0"
      },
      "execution_count": 10,
      "outputs": []
    },
    {
      "cell_type": "markdown",
      "metadata": {
        "id": "s-_wm8RwEJ2D"
      },
      "source": [
        "## Report some basic details of the data you collected.  For example:\n",
        "\n",
        "*  How many movies have an average rating over 4.5 overall?\n",
        "*  How many movies have an average rating over 4.5 among men?  How about women?\n",
        "*  How many movies have an *median* rating over 4.5 among men over age 30?  How about women over age 30?\n",
        "*  What are the ten most popular movies?\n",
        "    * Choose what you consider to be a reasonable defintion of \"popular\".\n",
        "    * Be perpared to defend this choice.\n",
        "*  Make some conjectures about how easy various groups are to please? Support your answers with data!  \n",
        "    *  For example, one might conjecture that people between the ages of 1 and 10 are the easiest to please since they are all young children.  This conjecture may or may not be true, but how would you support or disprove either conclusion with with data?\n",
        "    *  Be sure to come up with your own conjectures and support them with data!\n",
        "\n",
        "    รายงานรายละเอียดพื้นฐานของข้อมูลที่คุณรวบรวม ตัวอย่างเช่น:\n",
        "มีภาพยนตร์กี่เรื่องที่มีเรตติ้งเฉลี่ยมากกว่า 4.5 โดยรวม? /////////////\n",
        "\n",
        "มีภาพยนตร์กี่เรื่องที่มีเรตติ้งเฉลี่ยมากกว่า 4.5 ในหมู่ผู้ชาย? แล้วผู้หญิงล่ะ? ///////////////////\n",
        "\n",
        "มีภาพยนตร์กี่เรื่องที่มีคะแนนเฉลี่ยมากกว่า 4.5 ในกลุ่มผู้ชายอายุเกิน 30 ปี แล้วผู้หญิงอายุเกิน 30 ล่ะ?\n",
        "\n",
        "ภาพยนตร์ยอดนิยมสิบเรื่องคืออะไร?\n",
        "\n",
        "เลือกสิ่งที่คุณพิจารณาว่าเป็นคำจำกัดความที่สมเหตุสมผลของ \"ยอดนิยม\"\n",
        "\n",
        "พร้อมที่จะปกป้องทางเลือกนี้\n",
        "\n",
        "ลองคาดเดาดูว่าการเอาใจกลุ่มต่างๆ เป็นเรื่องง่ายแค่ไหน? สนับสนุนคำตอบของคุณด้วยข้อมูล!\n",
        "\n",
        "ตัวอย่างเช่น บางคนอาจคาดเดาว่าผู้ที่มีอายุระหว่าง 1 ถึง 10 ปีเป็นกลุ่มที่เอาใจง่ายที่สุดเนื่องจากพวกเขาล้วนแต่เป็นเด็กเล็ก การคาดเดานี้อาจจะจริงหรือไม่ก็ได้ แต่คุณจะสนับสนุนหรือหักล้างข้อสรุปด้วยข้อมูลอย่างไร\n",
        "\n",
        "อย่าลืมคิดสมมติฐานของคุณเองและสนับสนุนข้อมูลเหล่านั้น!"
      ]
    },
    {
      "cell_type": "markdown",
      "source": [
        "###1.1\n",
        "How many movies have an average rating over 4.5 overall? มีภาพยนตร์กี่เรื่องที่มีเรตติ้งเฉลี่ยมากกว่า 4.5 โดยรวม?\n",
        "- ได้ว่า มี 21 เรื่อง"
      ],
      "metadata": {
        "id": "snQdb3u9eP5k"
      }
    },
    {
      "cell_type": "code",
      "source": [
        "average_rating = df1[['Title','Rating']].groupby('Title').mean('Rating')\n",
        "average_rating[average_rating['Rating'] > 4.5].count()"
      ],
      "metadata": {
        "colab": {
          "base_uri": "https://localhost:8080/"
        },
        "id": "IwW6YLAu4tDZ",
        "outputId": "35e4ea52-bafd-4656-de67-3c0284495673"
      },
      "execution_count": 11,
      "outputs": [
        {
          "output_type": "execute_result",
          "data": {
            "text/plain": [
              "Rating    21\n",
              "dtype: int64"
            ]
          },
          "metadata": {},
          "execution_count": 11
        }
      ]
    },
    {
      "cell_type": "markdown",
      "source": [
        "###1.2\n",
        "How many movies have an average rating over 4.5 among men?  How about women? มีภาพยนตร์กี่เรื่องที่มีเรตติ้งเฉลี่ยมากกว่า 4.5 ในหมู่ผู้ชาย? ในหมู่ผู้หญิง?\n",
        "- ได้ว่า ผู้ชาย 23 เรื่อง ผู้หญิง 51 เรื่อง"
      ],
      "metadata": {
        "id": "IwUjf7-XeVKj"
      }
    },
    {
      "cell_type": "code",
      "source": [
        "rating_gender = df1[['Title','Gender','Rating']]\n",
        "\n",
        "Male_rating = rating_gender[rating_gender['Gender']== 'M']\n",
        "Female_rating = rating_gender[rating_gender['Gender']=='F']\n",
        "\n",
        "Male_AverageRating = Male_rating.groupby('Title').mean()\n",
        "Female_AverageRating = Female_rating.groupby('Title').mean()"
      ],
      "metadata": {
        "colab": {
          "base_uri": "https://localhost:8080/"
        },
        "id": "lcD0le5uY9CZ",
        "outputId": "0d20fb67-9c41-4ef4-f8f5-587c1aec8c8b"
      },
      "execution_count": 12,
      "outputs": [
        {
          "output_type": "stream",
          "name": "stderr",
          "text": [
            "<ipython-input-12-c9c651b0dbf4>:6: FutureWarning: The default value of numeric_only in DataFrameGroupBy.mean is deprecated. In a future version, numeric_only will default to False. Either specify numeric_only or select only columns which should be valid for the function.\n",
            "  Male_AverageRating = Male_rating.groupby('Title').mean()\n",
            "<ipython-input-12-c9c651b0dbf4>:7: FutureWarning: The default value of numeric_only in DataFrameGroupBy.mean is deprecated. In a future version, numeric_only will default to False. Either specify numeric_only or select only columns which should be valid for the function.\n",
            "  Female_AverageRating = Female_rating.groupby('Title').mean()\n"
          ]
        }
      ]
    },
    {
      "cell_type": "code",
      "source": [
        "Male_AverageRating[Male_AverageRating ['Rating'] > 4.5].count() #male"
      ],
      "metadata": {
        "colab": {
          "base_uri": "https://localhost:8080/"
        },
        "id": "WmlAKNI1W01j",
        "outputId": "c5218ecd-0cb7-4c45-eb6a-1b8ed76bad18"
      },
      "execution_count": 13,
      "outputs": [
        {
          "output_type": "execute_result",
          "data": {
            "text/plain": [
              "Rating    23\n",
              "dtype: int64"
            ]
          },
          "metadata": {},
          "execution_count": 13
        }
      ]
    },
    {
      "cell_type": "code",
      "source": [
        "Female_AverageRating[Female_AverageRating['Rating'] > 4.5].count() #female"
      ],
      "metadata": {
        "colab": {
          "base_uri": "https://localhost:8080/"
        },
        "id": "X-FJUyYx4v5-",
        "outputId": "b9d81cf8-15ad-4dd4-eb80-3e77e325e1f4"
      },
      "execution_count": 14,
      "outputs": [
        {
          "output_type": "execute_result",
          "data": {
            "text/plain": [
              "Rating    51\n",
              "dtype: int64"
            ]
          },
          "metadata": {},
          "execution_count": 14
        }
      ]
    },
    {
      "cell_type": "markdown",
      "source": [
        "###1.3\n",
        "How many movies have an median rating over 4.5 among men over age 30? How about women over age 30? มีภาพยนตร์กี่เรื่องที่มีคะแนนเฉลี่ยมากกว่า 4.5 ในกลุ่มผู้ชายและผู้หญิงอายุเกิน 30 ปี\n",
        "- ได้ว่า ผู้ชาย 86 เรื่อง ผู้หญิง 149 เรื่อง"
      ],
      "metadata": {
        "id": "Vcbg_ghtfWnt"
      }
    },
    {
      "cell_type": "code",
      "source": [
        "Age_Rating = df1[['Title','Age','Gender','Rating']] #columnที่เราจะใช้\n",
        "\n",
        "Male30_rating = Age_Rating[(Age_Rating['Gender']=='M') & (Age_Rating['Age'] > 30)]\n",
        "Female30_rating = Age_Rating[(Age_Rating['Gender']=='F') & (Age_Rating['Age'] > 30)]\n",
        "\n",
        "MedianMale30_rating = Male30_rating.groupby('Title').median()\n",
        "MedianFemale30_rating = Female30_rating.groupby('Title').median()"
      ],
      "metadata": {
        "colab": {
          "base_uri": "https://localhost:8080/"
        },
        "id": "5-4zcmH_YfpI",
        "outputId": "dca9529a-45d1-4e74-ad38-da8158967099"
      },
      "execution_count": 15,
      "outputs": [
        {
          "output_type": "stream",
          "name": "stderr",
          "text": [
            "<ipython-input-15-8c0c41bd1ef2>:6: FutureWarning: The default value of numeric_only in DataFrameGroupBy.median is deprecated. In a future version, numeric_only will default to False. Either specify numeric_only or select only columns which should be valid for the function.\n",
            "  MedianMale30_rating = Male30_rating.groupby('Title').median()\n",
            "<ipython-input-15-8c0c41bd1ef2>:7: FutureWarning: The default value of numeric_only in DataFrameGroupBy.median is deprecated. In a future version, numeric_only will default to False. Either specify numeric_only or select only columns which should be valid for the function.\n",
            "  MedianFemale30_rating = Female30_rating.groupby('Title').median()\n"
          ]
        }
      ]
    },
    {
      "cell_type": "code",
      "source": [
        "MedianMale30_rating[MedianMale30_rating['Rating'] > 4.5].count()"
      ],
      "metadata": {
        "colab": {
          "base_uri": "https://localhost:8080/"
        },
        "id": "2YhbTkmXYInm",
        "outputId": "dce6cc94-1a1b-46a7-da15-e3c45590fa0d"
      },
      "execution_count": 16,
      "outputs": [
        {
          "output_type": "execute_result",
          "data": {
            "text/plain": [
              "Age       86\n",
              "Rating    86\n",
              "dtype: int64"
            ]
          },
          "metadata": {},
          "execution_count": 16
        }
      ]
    },
    {
      "cell_type": "code",
      "source": [
        "MedianFemale30_rating[MedianFemale30_rating['Rating'] > 4.5].count()"
      ],
      "metadata": {
        "colab": {
          "base_uri": "https://localhost:8080/"
        },
        "id": "bWYbk2cyX3bi",
        "outputId": "8bf95733-dd56-4b5f-8519-5762875e63d0"
      },
      "execution_count": 17,
      "outputs": [
        {
          "output_type": "execute_result",
          "data": {
            "text/plain": [
              "Age       149\n",
              "Rating    149\n",
              "dtype: int64"
            ]
          },
          "metadata": {},
          "execution_count": 17
        }
      ]
    },
    {
      "cell_type": "markdown",
      "source": [
        "###1.4\n",
        " What are the ten most popular movies?\n",
        "Choose what you consider to be a reasonable defintion of \"popular\".\n",
        "Be perpared to defend this choice.\n",
        "\n",
        "ภาพยนตร์ยอดนิยมสิบเรื่องคืออะไร?\n",
        "- American Beauty (1999)\n",
        "- Star Wars: Episode IV - A New Hope (1977)\n",
        "- Raiders of the Lost Ark (1981)\n",
        "- Star Wars: Episode V - The Empire Strikes Back (1980)\n",
        "- Godfather, The (1972)\n",
        "- Schindler's List (1993)\n",
        "- Shawshank Redemption, The (1994)\n",
        "- Matrix, The (1999)\n",
        "- Saving Private Ryan (1998)\n",
        "- Sixth Sense, The (1999)\n",
        "\n",
        "เลือกสิ่งที่คุณพิจารณาว่าเป็นคำจำกัดความที่สมเหตุสมผลของ \"ยอดนิยม\"\n",
        "พร้อมที่จะปกป้องทางเลือกนี้\n",
        "- Popular >> Rating\n",
        "\n",
        "ลองคาดเดาดูว่าการเอาใจกลุ่มต่างๆ เป็นเรื่องง่ายแค่ไหน? สนับสนุนคำตอบของคุณด้วยข้อมูล!\n",
        "ตัวอย่างเช่น บางคนอาจคาดเดาว่าผู้ที่มีอายุระหว่าง 1 ถึง 10 ปีเป็นกลุ่มที่เอาใจง่ายที่สุดเนื่องจากพวกเขาล้วนแต่เป็นเด็กเล็ก การคาดเดานี้อาจจะจริงหรือไม่ก็ได้ แต่คุณจะสนับสนุนหรือหักล้างข้อสรุปด้วยข้อมูลอย่างไร\n",
        "\n",
        "อย่าลืมคิดสมมติฐานของคุณเองและสนับสนุนข้อมูลเหล่านั้น!\n",
        "- Ho:กลุ่มผู้ที่มีอายุ มากกว่า 30 ปี เอาใจง่ายที่สุด เนื่องจากเป็นกลุ่มวัยกลางคนเป็นวัยที่มีกำไรทรัพย์\n",
        "- Ha:กลุ่มผู้ที่มีอายุ มากกว่า 30 ปี เอาใจยากที่สุด เนื่องจากเป็นกลุ่มวัยกลางคนเป็นวัยที่ค่อนข้าวจะเลือกเยอะ"
      ],
      "metadata": {
        "id": "IfdhzdD2jcth"
      }
    },
    {
      "cell_type": "code",
      "source": [
        "PopularMovies_rating = df1[['Title','Age','Gender','Rating']]\n",
        "PopularMovies_rating = PopularMovies_rating[PopularMovies_rating['Rating'] == 5 ]\n",
        "PopularMovies = PopularMovies_rating[['Title','Rating']].groupby('Title').count().sort_values(by='Rating',ascending = False)\n",
        "PopularMovies.head(10)"
      ],
      "metadata": {
        "id": "q_3eP1WNZO1V",
        "colab": {
          "base_uri": "https://localhost:8080/",
          "height": 394
        },
        "outputId": "524845ca-134e-4c82-af6b-57e674058138"
      },
      "execution_count": 18,
      "outputs": [
        {
          "output_type": "execute_result",
          "data": {
            "text/plain": [
              "                                                    Rating\n",
              "Title                                                     \n",
              "American Beauty (1999)                                1963\n",
              "Star Wars: Episode IV - A New Hope (1977)             1826\n",
              "Raiders of the Lost Ark (1981)                        1500\n",
              "Star Wars: Episode V - The Empire Strikes Back ...    1483\n",
              "Godfather, The (1972)                                 1475\n",
              "Schindler's List (1993)                               1475\n",
              "Shawshank Redemption, The (1994)                      1457\n",
              "Matrix, The (1999)                                    1430\n",
              "Saving Private Ryan (1998)                            1405\n",
              "Sixth Sense, The (1999)                               1385"
            ],
            "text/html": [
              "\n",
              "  <div id=\"df-0c41e24a-32bc-4b8c-b177-1404c84b1329\" class=\"colab-df-container\">\n",
              "    <div>\n",
              "<style scoped>\n",
              "    .dataframe tbody tr th:only-of-type {\n",
              "        vertical-align: middle;\n",
              "    }\n",
              "\n",
              "    .dataframe tbody tr th {\n",
              "        vertical-align: top;\n",
              "    }\n",
              "\n",
              "    .dataframe thead th {\n",
              "        text-align: right;\n",
              "    }\n",
              "</style>\n",
              "<table border=\"1\" class=\"dataframe\">\n",
              "  <thead>\n",
              "    <tr style=\"text-align: right;\">\n",
              "      <th></th>\n",
              "      <th>Rating</th>\n",
              "    </tr>\n",
              "    <tr>\n",
              "      <th>Title</th>\n",
              "      <th></th>\n",
              "    </tr>\n",
              "  </thead>\n",
              "  <tbody>\n",
              "    <tr>\n",
              "      <th>American Beauty (1999)</th>\n",
              "      <td>1963</td>\n",
              "    </tr>\n",
              "    <tr>\n",
              "      <th>Star Wars: Episode IV - A New Hope (1977)</th>\n",
              "      <td>1826</td>\n",
              "    </tr>\n",
              "    <tr>\n",
              "      <th>Raiders of the Lost Ark (1981)</th>\n",
              "      <td>1500</td>\n",
              "    </tr>\n",
              "    <tr>\n",
              "      <th>Star Wars: Episode V - The Empire Strikes Back (1980)</th>\n",
              "      <td>1483</td>\n",
              "    </tr>\n",
              "    <tr>\n",
              "      <th>Godfather, The (1972)</th>\n",
              "      <td>1475</td>\n",
              "    </tr>\n",
              "    <tr>\n",
              "      <th>Schindler's List (1993)</th>\n",
              "      <td>1475</td>\n",
              "    </tr>\n",
              "    <tr>\n",
              "      <th>Shawshank Redemption, The (1994)</th>\n",
              "      <td>1457</td>\n",
              "    </tr>\n",
              "    <tr>\n",
              "      <th>Matrix, The (1999)</th>\n",
              "      <td>1430</td>\n",
              "    </tr>\n",
              "    <tr>\n",
              "      <th>Saving Private Ryan (1998)</th>\n",
              "      <td>1405</td>\n",
              "    </tr>\n",
              "    <tr>\n",
              "      <th>Sixth Sense, The (1999)</th>\n",
              "      <td>1385</td>\n",
              "    </tr>\n",
              "  </tbody>\n",
              "</table>\n",
              "</div>\n",
              "    <div class=\"colab-df-buttons\">\n",
              "\n",
              "  <div class=\"colab-df-container\">\n",
              "    <button class=\"colab-df-convert\" onclick=\"convertToInteractive('df-0c41e24a-32bc-4b8c-b177-1404c84b1329')\"\n",
              "            title=\"Convert this dataframe to an interactive table.\"\n",
              "            style=\"display:none;\">\n",
              "\n",
              "  <svg xmlns=\"http://www.w3.org/2000/svg\" height=\"24px\" viewBox=\"0 -960 960 960\">\n",
              "    <path d=\"M120-120v-720h720v720H120Zm60-500h600v-160H180v160Zm220 220h160v-160H400v160Zm0 220h160v-160H400v160ZM180-400h160v-160H180v160Zm440 0h160v-160H620v160ZM180-180h160v-160H180v160Zm440 0h160v-160H620v160Z\"/>\n",
              "  </svg>\n",
              "    </button>\n",
              "\n",
              "  <style>\n",
              "    .colab-df-container {\n",
              "      display:flex;\n",
              "      gap: 12px;\n",
              "    }\n",
              "\n",
              "    .colab-df-convert {\n",
              "      background-color: #E8F0FE;\n",
              "      border: none;\n",
              "      border-radius: 50%;\n",
              "      cursor: pointer;\n",
              "      display: none;\n",
              "      fill: #1967D2;\n",
              "      height: 32px;\n",
              "      padding: 0 0 0 0;\n",
              "      width: 32px;\n",
              "    }\n",
              "\n",
              "    .colab-df-convert:hover {\n",
              "      background-color: #E2EBFA;\n",
              "      box-shadow: 0px 1px 2px rgba(60, 64, 67, 0.3), 0px 1px 3px 1px rgba(60, 64, 67, 0.15);\n",
              "      fill: #174EA6;\n",
              "    }\n",
              "\n",
              "    .colab-df-buttons div {\n",
              "      margin-bottom: 4px;\n",
              "    }\n",
              "\n",
              "    [theme=dark] .colab-df-convert {\n",
              "      background-color: #3B4455;\n",
              "      fill: #D2E3FC;\n",
              "    }\n",
              "\n",
              "    [theme=dark] .colab-df-convert:hover {\n",
              "      background-color: #434B5C;\n",
              "      box-shadow: 0px 1px 3px 1px rgba(0, 0, 0, 0.15);\n",
              "      filter: drop-shadow(0px 1px 2px rgba(0, 0, 0, 0.3));\n",
              "      fill: #FFFFFF;\n",
              "    }\n",
              "  </style>\n",
              "\n",
              "    <script>\n",
              "      const buttonEl =\n",
              "        document.querySelector('#df-0c41e24a-32bc-4b8c-b177-1404c84b1329 button.colab-df-convert');\n",
              "      buttonEl.style.display =\n",
              "        google.colab.kernel.accessAllowed ? 'block' : 'none';\n",
              "\n",
              "      async function convertToInteractive(key) {\n",
              "        const element = document.querySelector('#df-0c41e24a-32bc-4b8c-b177-1404c84b1329');\n",
              "        const dataTable =\n",
              "          await google.colab.kernel.invokeFunction('convertToInteractive',\n",
              "                                                    [key], {});\n",
              "        if (!dataTable) return;\n",
              "\n",
              "        const docLinkHtml = 'Like what you see? Visit the ' +\n",
              "          '<a target=\"_blank\" href=https://colab.research.google.com/notebooks/data_table.ipynb>data table notebook</a>'\n",
              "          + ' to learn more about interactive tables.';\n",
              "        element.innerHTML = '';\n",
              "        dataTable['output_type'] = 'display_data';\n",
              "        await google.colab.output.renderOutput(dataTable, element);\n",
              "        const docLink = document.createElement('div');\n",
              "        docLink.innerHTML = docLinkHtml;\n",
              "        element.appendChild(docLink);\n",
              "      }\n",
              "    </script>\n",
              "  </div>\n",
              "\n",
              "\n",
              "<div id=\"df-01436c50-7a50-4586-8f5c-7ad9c2614cd5\">\n",
              "  <button class=\"colab-df-quickchart\" onclick=\"quickchart('df-01436c50-7a50-4586-8f5c-7ad9c2614cd5')\"\n",
              "            title=\"Suggest charts.\"\n",
              "            style=\"display:none;\">\n",
              "\n",
              "<svg xmlns=\"http://www.w3.org/2000/svg\" height=\"24px\"viewBox=\"0 0 24 24\"\n",
              "     width=\"24px\">\n",
              "    <g>\n",
              "        <path d=\"M19 3H5c-1.1 0-2 .9-2 2v14c0 1.1.9 2 2 2h14c1.1 0 2-.9 2-2V5c0-1.1-.9-2-2-2zM9 17H7v-7h2v7zm4 0h-2V7h2v10zm4 0h-2v-4h2v4z\"/>\n",
              "    </g>\n",
              "</svg>\n",
              "  </button>\n",
              "\n",
              "<style>\n",
              "  .colab-df-quickchart {\n",
              "      --bg-color: #E8F0FE;\n",
              "      --fill-color: #1967D2;\n",
              "      --hover-bg-color: #E2EBFA;\n",
              "      --hover-fill-color: #174EA6;\n",
              "      --disabled-fill-color: #AAA;\n",
              "      --disabled-bg-color: #DDD;\n",
              "  }\n",
              "\n",
              "  [theme=dark] .colab-df-quickchart {\n",
              "      --bg-color: #3B4455;\n",
              "      --fill-color: #D2E3FC;\n",
              "      --hover-bg-color: #434B5C;\n",
              "      --hover-fill-color: #FFFFFF;\n",
              "      --disabled-bg-color: #3B4455;\n",
              "      --disabled-fill-color: #666;\n",
              "  }\n",
              "\n",
              "  .colab-df-quickchart {\n",
              "    background-color: var(--bg-color);\n",
              "    border: none;\n",
              "    border-radius: 50%;\n",
              "    cursor: pointer;\n",
              "    display: none;\n",
              "    fill: var(--fill-color);\n",
              "    height: 32px;\n",
              "    padding: 0;\n",
              "    width: 32px;\n",
              "  }\n",
              "\n",
              "  .colab-df-quickchart:hover {\n",
              "    background-color: var(--hover-bg-color);\n",
              "    box-shadow: 0 1px 2px rgba(60, 64, 67, 0.3), 0 1px 3px 1px rgba(60, 64, 67, 0.15);\n",
              "    fill: var(--button-hover-fill-color);\n",
              "  }\n",
              "\n",
              "  .colab-df-quickchart-complete:disabled,\n",
              "  .colab-df-quickchart-complete:disabled:hover {\n",
              "    background-color: var(--disabled-bg-color);\n",
              "    fill: var(--disabled-fill-color);\n",
              "    box-shadow: none;\n",
              "  }\n",
              "\n",
              "  .colab-df-spinner {\n",
              "    border: 2px solid var(--fill-color);\n",
              "    border-color: transparent;\n",
              "    border-bottom-color: var(--fill-color);\n",
              "    animation:\n",
              "      spin 1s steps(1) infinite;\n",
              "  }\n",
              "\n",
              "  @keyframes spin {\n",
              "    0% {\n",
              "      border-color: transparent;\n",
              "      border-bottom-color: var(--fill-color);\n",
              "      border-left-color: var(--fill-color);\n",
              "    }\n",
              "    20% {\n",
              "      border-color: transparent;\n",
              "      border-left-color: var(--fill-color);\n",
              "      border-top-color: var(--fill-color);\n",
              "    }\n",
              "    30% {\n",
              "      border-color: transparent;\n",
              "      border-left-color: var(--fill-color);\n",
              "      border-top-color: var(--fill-color);\n",
              "      border-right-color: var(--fill-color);\n",
              "    }\n",
              "    40% {\n",
              "      border-color: transparent;\n",
              "      border-right-color: var(--fill-color);\n",
              "      border-top-color: var(--fill-color);\n",
              "    }\n",
              "    60% {\n",
              "      border-color: transparent;\n",
              "      border-right-color: var(--fill-color);\n",
              "    }\n",
              "    80% {\n",
              "      border-color: transparent;\n",
              "      border-right-color: var(--fill-color);\n",
              "      border-bottom-color: var(--fill-color);\n",
              "    }\n",
              "    90% {\n",
              "      border-color: transparent;\n",
              "      border-bottom-color: var(--fill-color);\n",
              "    }\n",
              "  }\n",
              "</style>\n",
              "\n",
              "  <script>\n",
              "    async function quickchart(key) {\n",
              "      const quickchartButtonEl =\n",
              "        document.querySelector('#' + key + ' button');\n",
              "      quickchartButtonEl.disabled = true;  // To prevent multiple clicks.\n",
              "      quickchartButtonEl.classList.add('colab-df-spinner');\n",
              "      try {\n",
              "        const charts = await google.colab.kernel.invokeFunction(\n",
              "            'suggestCharts', [key], {});\n",
              "      } catch (error) {\n",
              "        console.error('Error during call to suggestCharts:', error);\n",
              "      }\n",
              "      quickchartButtonEl.classList.remove('colab-df-spinner');\n",
              "      quickchartButtonEl.classList.add('colab-df-quickchart-complete');\n",
              "    }\n",
              "    (() => {\n",
              "      let quickchartButtonEl =\n",
              "        document.querySelector('#df-01436c50-7a50-4586-8f5c-7ad9c2614cd5 button');\n",
              "      quickchartButtonEl.style.display =\n",
              "        google.colab.kernel.accessAllowed ? 'block' : 'none';\n",
              "    })();\n",
              "  </script>\n",
              "</div>\n",
              "    </div>\n",
              "  </div>\n"
            ]
          },
          "metadata": {},
          "execution_count": 18
        }
      ]
    },
    {
      "cell_type": "markdown",
      "metadata": {
        "id": "rmCWpjs-EJ2E"
      },
      "source": [
        "# Problem 2: Expand your investigation to histograms\n",
        "\n",
        "**An obvious issue with any inferences drawn from Problem 1 is that we did not consider how many times a movie was rated.**\n",
        "* Plot a histogram of the ratings of all movies.\n",
        "* Plot a histogram of the *number* of ratings each movie recieved.\n",
        "* Plot a histogram of the *average rating* for each movie.\n",
        "* Plot a histogram of the *average rating* for movies which are rated more than 100 times.\n",
        "    * What do you observe about the tails of the histogram where you use all the movies versus the one where you only use movies rated more than 100 times?\n",
        "    * Which highly rated movies would you trust are actually good?  Those rated more than 100 times or those rated less than 100 times?\n",
        "* Make some conjectures about the distribution of ratings? Support your answers with data!  \n",
        "    *  For example, what age range do you think has more extreme ratings?  Do you think children are more or less likely to rate a movie 1 or 5?\n",
        "    *  Be sure to come up with your own conjectures and support them with data!\n",
        "\n",
        "    ปัญหาที่ 2: ขยายการตรวจสอบของคุณเป็นฮิสโตแกรม\n",
        "ปัญหาที่ชัดเจนของการอนุมานจากปัญหาที่ 1 คือ เราไม่ได้พิจารณาว่าภาพยนตร์ได้รับการจัดอันดับกี่ครั้ง\n",
        "\n",
        "พล็อตกราฟเรตติ้งภาพยนตร์ทุกเรื่อง\n",
        "\n",
        "พล็อตฮิสโตแกรมของจำนวนเรตติ้งที่ภาพยนตร์แต่ละเรื่องได้รับ\n",
        "\n",
        "พล็อตฮิสโตแกรมของเรตติ้งเฉลี่ยของภาพยนตร์แต่ละเรื่อง\n",
        "\n",
        "พล็อตฮิสโตแกรมของเรตติ้งเฉลี่ยสำหรับภาพยนตร์ที่ได้รับเรตมากกว่า 100 ครั้ง\n",
        "\n",
        "คุณสังเกตเห็นอะไรเกี่ยวกับส่วนท้ายของฮิสโตแกรมที่คุณใช้ภาพยนตร์ทั้งหมดเทียบกับที่\n",
        "่คุณใช้ภาพยนตร์ที่มีเรตมากกว่า 100 ครั้งเท่านั้น\n",
        "\n",
        "ภาพยนตร์ที่ได้รับเรตติ้งสูงเรื่องใดที่คุณเชื่อว่าดีจริงๆ ผู้ที่ให้คะแนนมากกว่า\n",
        "100 ครั้ง หรือผู้ที่ให้คะแนนน้อยกว่า 100 ครั้ง?\n",
        "\n",
        "คาดเดาเกี่ยวกับการกระจายเรตติ้งบ้างไหม? สนับสนุนคำตอบของคุณด้วยข้อมูล!\n",
        "\n",
        "เช่น คุณคิดว่าช่วงอายุใดที่มีเรตติ้งสูงส่งกว่ากัน คุณคิดว่าเด็กๆ\n",
        "มีแนวโน้มที่จะให้คะแนนภาพยนตร์ 1 หรือ 5 มากหรือน้อย เพราะเหตุใด\n",
        "อย่าลืมคิดสมมติฐานของคุณเองและสนับสนุนข้อมูลเหล่านั้น!"
      ]
    },
    {
      "cell_type": "markdown",
      "source": [
        "###2.1\n",
        "Plot a histogram of the ratings of all movies. พล็อตกราฟเรตติ้งภาพยนตร์ทุกเรื่อง"
      ],
      "metadata": {
        "id": "X6sQ2Zd8r4MR"
      }
    },
    {
      "cell_type": "code",
      "source": [
        "from matplotlib import pyplot as plt"
      ],
      "metadata": {
        "id": "Uvxl_2pwpCNL"
      },
      "execution_count": 21,
      "outputs": []
    },
    {
      "cell_type": "code",
      "source": [
        "#1\n",
        "df_histLL = df1[['Title','Rating']]\n",
        "df_histLL = df_histLL.set_index('Title')\n",
        "plt.hist(df_histLL)\n",
        "plt.title('Plot a histogram of the ratings of all movies')\n",
        "plt.xlabel('Ratings')\n",
        "plt.ylabel('Frequency')\n",
        "plt.show()"
      ],
      "metadata": {
        "colab": {
          "base_uri": "https://localhost:8080/",
          "height": 472
        },
        "id": "09pigr7LsQ-8",
        "outputId": "676ca334-0a09-4fda-98eb-6c941dd89ffe"
      },
      "execution_count": 23,
      "outputs": [
        {
          "output_type": "display_data",
          "data": {
            "text/plain": [
              "<Figure size 640x480 with 1 Axes>"
            ],
            "image/png": "[encoded data removed]"
          },
          "metadata": {}
        }
      ]
    },
    {
      "cell_type": "code",
      "source": [
        "#2Plot a histogram of the number of ratings each movie recieved.\n",
        "df_hist = df_use[['Title','Rating']]\n",
        "df_use_hist = df_hist.groupby('Title').count().sort_values(by='Rating',ascending = False)\n",
        "plt.hist(df_use_hist)\n",
        "plt.title('Plot a histogram of the number of ratings each movie recieved.')\n",
        "plt.xlabel('ratings each movie recieved')\n",
        "plt.ylabel('Frequency')\n",
        "plt.show()"
      ],
      "metadata": {
        "id": "9wkq2fW25dGH"
      },
      "execution_count": null,
      "outputs": []
    },
    {
      "cell_type": "code",
      "source": [
        "#3Plot a histogram of the average rating for each movie.\n",
        "df_hist_A = df_use[['Title','Rating']]\n",
        "df_use_hist_A = df_hist_A.groupby('Title').mean()\n",
        "plt.hist(df_use_hist_A)\n",
        "plt.title('Plot a histogram of the average rating for each movie.')\n",
        "plt.xlabel('average rating')\n",
        "plt.ylabel('Frequency')\n",
        "plt.show()"
      ],
      "metadata": {
        "id": "eHZW5VMw9-od"
      },
      "execution_count": null,
      "outputs": []
    },
    {
      "cell_type": "code",
      "source": [
        "#4Plot a histogram of the average rating for movies which are rated more than 100 times.\n",
        "df_hist2 = df_use[['MovieID','Rating']]\n",
        "df_use_hist2 = df_hist2.groupby('MovieID').count().sort_values(by='Rating',ascending = False)\n",
        "df_use_hist_100_MA = df_hist2.groupby('MovieID').mean()\n",
        "df_use_hist_100_MARe = df_use_hist_100_MA.reset_index()\n",
        "df_use_hist_100 = df_use_hist_100_MARe.merge(df_use_hist2,how = 'left',on='MovieID')\n",
        "df_use_hist_100forplot = df_use_hist_100[df_use_hist_100['Rating_y'] >= 100]\n",
        "use_full = df_use_hist_100forplot[['MovieID','Rating_x']]\n",
        "use_full = use_full.set_index('MovieID')\n",
        "plt.hist(use_full)\n",
        "plt.title('Plot a histogram of the average rating for movies which are rated more than 100 times.')\n",
        "plt.xlabel('average rating ')\n",
        "plt.ylabel('Frequency')\n",
        "plt.show()"
      ],
      "metadata": {
        "id": "JE_s7aia-DNk"
      },
      "execution_count": null,
      "outputs": []
    },
    {
      "cell_type": "markdown",
      "source": [
        "# what age range do you think has more extreme ratings? Do you think children are more or less likely to rate a movie 1 or 5?"
      ],
      "metadata": {
        "id": "sj6XHskf73K7"
      }
    },
    {
      "cell_type": "code",
      "source": [
        "plt.hist(Age_rating['Rating'])"
      ],
      "metadata": {
        "id": "V0jLKZqK-fgO"
      },
      "execution_count": null,
      "outputs": []
    },
    {
      "cell_type": "code",
      "source": [
        "plt.hist(Age_rating['Age'])"
      ],
      "metadata": {
        "id": "fipKTOqi_8km"
      },
      "execution_count": null,
      "outputs": []
    },
    {
      "cell_type": "code",
      "source": [
        "plt.hist(Age_rating['Age'])\n",
        "x = ['Age']\n",
        "y = ['Rating']"
      ],
      "metadata": {
        "id": "PUz6Nuix9gAO"
      },
      "execution_count": null,
      "outputs": []
    },
    {
      "cell_type": "markdown",
      "metadata": {
        "id": "EsUNU4p5EJ2E"
      },
      "source": [
        "\n",
        "# Problem 3:\n",
        "## Correlation:  Men versus women\n",
        "\n",
        "Let look more closely at the relationship between the pieces of data we have."
      ]
    },
    {
      "cell_type": "markdown",
      "metadata": {
        "id": "R99Lq8qyEJ2F"
      },
      "source": [
        "* Make a scatter plot of men versus women and their mean rating for every movie.\n",
        "* Make a scatter plot of men versus women and their mean rating for movies rated more than 200 times.\n",
        "* Compute the *correlation coefficent* between the ratings of men and women.\n",
        "    * What do you observe?\n",
        "    * Are the ratings similiar or not? Support your answer with data!\n",
        "* Conjecture under what circumstances the rating given by one gender can be used to predict the rating given by the other gender.\n",
        "    * For example, are men and women more similar when they are younger or older?\n",
        "    * Be sure to come up with your own conjectures and support them with data!\n",
        "    \n",
        "    ปัญหาที่ 3:\n",
        "ความสัมพันธ์: ผู้ชายกับผู้หญิง\n",
        "มาดูความสัมพันธ์ระหว่างชิ้นส่วนข้อมูลที่เรามีให้ละเอียดยิ่งขึ้น\n",
        "\n",
        "จัดทำโครงเรื่องแยกระหว่างผู้ชายกับผู้หญิง และเรตติ้งเฉลี่ยสำหรับภาพยนตร์ทุกเรื่อง\n",
        "\n",
        "จัดทำพล็อตเรื่องระหว่างผู้ชายกับผู้หญิงและเรตเฉลี่ยสำหรับภาพยนตร์ที่มีเรตมากกว่า 200 ครั้ง\n",
        "\n",
        "คำนวณค่าสัมประสิทธิ์สหสัมพันธ์ระหว่างการจัดอันดับของชายและหญิง\n",
        "\n",
        "คุณสังเกตอะไร?\n",
        "\n",
        "เรตติ้งใกล้เคียงกันหรือเปล่า? สนับสนุนคำตอบของคุณด้วยข้อมูล!\n",
        "\n",
        "การคาดเดาภายใต้สถานการณ์ใดที่การจัดอันดับที่กำหนดโดยเพศหนึ่งสามารถใช้เพื่อทำนายการจัดอันดับที่กำหนดโดยเพศอื่นได้\n",
        "\n",
        "ตัวอย่างเช่น ชายและหญิงมีความคล้ายคลึงกันมากขึ้นเมื่ออายุน้อยกว่าหรือมากกว่านั้น?\n",
        "\n",
        "อย่าลืมคิดสมมติฐานของคุณเองและสนับสนุนข้อมูลเหล่านั้น!"
      ]
    },
    {
      "cell_type": "code",
      "execution_count": null,
      "metadata": {
        "id": "vT5bc-ReEJ2F"
      },
      "outputs": [],
      "source": [
        "from matplotlib import pyplot as plt\n",
        "import numpy as np\n",
        "import matplotlib"
      ]
    },
    {
      "cell_type": "code",
      "execution_count": null,
      "metadata": {
        "id": "Bx_W_Aq8EJ2F"
      },
      "outputs": [],
      "source": [
        "#1\n",
        "data_M_and_F = df_use[['Title','Gender','Rating']]\n",
        "data_Male = data_M_and_F[data_M_and_F['Gender']=='M']\n",
        "data_Female = data_M_and_F[data_M_and_F['Gender']=='F']\n",
        "data_Male_Mean = data_Male.groupby('Title').mean()\n",
        "data_Female_Mean = data_Female.groupby('Title').mean()\n",
        "data_plot = data_Male_Mean.merge(data_Female_Mean,how='left',on='Title')\n",
        "data_plot_nonna = data_plot.dropna()\n",
        "plt.scatter(data_plot_nonna['Rating_x'], data_plot_nonna['Rating_y'])\n",
        "plt.title('A scatter plot of men VS. women and their mean rating for every movie')\n",
        "plt.xlabel('mean rating men')\n",
        "plt.ylabel('mean rating women')\n",
        "plt.show()"
      ]
    },
    {
      "cell_type": "code",
      "execution_count": null,
      "metadata": {
        "id": "Ya2v4GJLEJ2G"
      },
      "outputs": [],
      "source": [
        "#2\n",
        "data_MF = df_use[['Title','Gender','Rating']]\n",
        "data_MF1 = data_MF[['Title','Rating']]\n",
        "data_MF2 = data_MF1.groupby('Title').count().sort_values(by='Rating',ascending = False)\n",
        "data_MF3 = data_MF2.reset_index()\n",
        "\n",
        "data_Male = data_M_and_F[data_M_and_F['Gender']=='M']\n",
        "data_Female = data_M_and_F[data_M_and_F['Gender']=='F']\n",
        "data_Male_Mean = data_Male.groupby('Title').mean()\n",
        "data_Female_Mean = data_Female.groupby('Title').mean()\n",
        "\n",
        "data_MF4 = data_MF3.merge(data_Male_Mean,how='left',on='Title')\n",
        "data_MF5 = data_MF3.merge(data_Female_Mean,how='left',on='Title')\n",
        "\n",
        "data_MF4_1 = data_MF4[data_MF4['Rating_x'] >= 200]\n",
        "use_full_M = data_MF4_1[['Title','Rating_y']]\n",
        "use_full_M = use_full_M.set_index('Title')\n",
        "\n",
        "data_MF5_1 = data_MF5[data_MF5['Rating_x'] >= 200]\n",
        "use_full_F = data_MF5_1[['Title','Rating_y']]\n",
        "use_full_F = use_full_F.set_index('Title')\n",
        "\n",
        "plt.scatter(use_full_M, use_full_F)\n",
        "plt.title('A scatter plot of men VS. women and their mean rating for every movie')\n",
        "plt.xlabel('mean rating men')\n",
        "plt.ylabel('mean rating women')\n",
        "plt.show()\n",
        "\n",
        "\n"
      ]
    },
    {
      "cell_type": "markdown",
      "metadata": {
        "id": "u3yh86uGEJ2G"
      },
      "source": [
        "### The correlation coefficent between the ratings of men and women"
      ]
    },
    {
      "cell_type": "code",
      "execution_count": null,
      "metadata": {
        "id": "_lVFM48tEJ2G"
      },
      "outputs": [],
      "source": [
        "#-------------------------------\n",
        "# Your code goes here.\n",
        "# Add as many cells as you need\n",
        "#-------------------------------\n",
        "\n",
        "\n"
      ]
    },
    {
      "cell_type": "markdown",
      "metadata": {
        "id": "BTEV-FejEJ2G"
      },
      "source": [
        "Conjecture under what circumstances the rating given by one gender can be used to predict the rating given by the other gender\n",
        "Example\n",
        "Conjecture 1: Men and women are more similar when they are older, consider their rating over the same genres.\n",
        "\n",
        "Conjecture 2: Men and women more similar when they are academic/educator, artist, college/grad student, and programmer.\n",
        "\n",
        "Conjecture 3: Men and women more similar when they watch Action, Drama, War, and Triller.\n",
        "การประเมินภายใต้สถานการณ์ใดที่การจัดอันดับที่กำหนดโดยเพศหนึ่งสามารถใช้เพื่อทำนายการจัดอันดับที่กำหนดโดยเพศอื่นได้\n",
        "\n",
        "ตัวอย่าง\n",
        "\n",
        "การคาดเดาที่ 1: ชายและหญิงมีความคล้ายคลึงกันมากขึ้นเมื่ออายุมากขึ้น ลองพิจารณาการให้คะแนนมากกว่าประเภทเดียวกัน\n",
        "\n",
        "การคาดเดาที่ 2: ชายและหญิงมีความคล้ายคลึงกันมากขึ้นเมื่อพวกเขาเป็นนักวิชาการ/นักการศึกษา ศิลปิน นักศึกษาวิทยาลัย/บัณฑิต และโปรแกรมเมอร์\n",
        "\n",
        "การคาดเดาที่ 3: ชายและหญิงมีความคล้ายคลึงกันมากขึ้นเมื่อดูแอ็คชั่น ดราม่า สงคราม และทริลเลอร์'\n",
        "Conjecture 3: Men and women more similar when they watch Action, Drama, War, and Triller.\n",
        "\n"
      ]
    },
    {
      "cell_type": "code",
      "execution_count": null,
      "metadata": {
        "id": "wMVKEDLxEJ2H"
      },
      "outputs": [],
      "source": [
        "#1\n"
      ]
    },
    {
      "cell_type": "code",
      "source": [],
      "metadata": {
        "id": "yvNWbECM3X8J"
      },
      "execution_count": null,
      "outputs": []
    },
    {
      "cell_type": "code",
      "source": [
        "#2\n",
        "data_3_3 = df_use[['Title','Gender','Occupation','Rating']]\n",
        "data_3_academic = data_3_3[data_3_3['Occupation']==15]\n",
        "data_3_programmer = data_3_3[data_3_3['Occupation']==12]\n",
        "data_3_college = data_3_3[data_3_3['Occupation']==6]"
      ],
      "metadata": {
        "id": "mfm_-1EC1s0p"
      },
      "execution_count": null,
      "outputs": []
    },
    {
      "cell_type": "code",
      "source": [
        "#academic\n",
        "data_3_academic_TR = data_3_academic[['Title','Gender','Rating']]\n",
        "data_Male_academic = data_3_academic_TR[data_M_and_F['Gender']=='M']\n",
        "data_Femal_academic = data_3_academic_TR[data_M_and_F['Gender']=='F']\n",
        "data_Male_academic_Mean = data_Male_academic.groupby('Title').mean()\n",
        "data_Female_academic_Mean = data_Femal_academic.groupby('Title').mean()\n",
        "data_plot_academic = data_Male_academic_Mean.merge(data_Female_academic_Mean,how='left',on='Title')\n",
        "data_plot_academic_nonna = data_plot_academic.dropna()\n",
        "plt.scatter(data_plot_academic_nonna['Rating_x'], data_plot_academic_nonna['Rating_y'])"
      ],
      "metadata": {
        "id": "wUiDbpQx1rSS"
      },
      "execution_count": null,
      "outputs": []
    },
    {
      "cell_type": "code",
      "source": [
        "#programmer\n",
        "data_3_programmer_TR = data_3_programmer[['Title','Gender','Rating']]\n",
        "data_Male_programmer = data_3_programmer_TR[data_M_and_F['Gender']=='M']\n",
        "data_Femal_programmer = data_3_programmer_TR[data_M_and_F['Gender']=='F']\n",
        "data_Male_programmer_Mean = data_Male_programmer.groupby('Title').mean()\n",
        "data_Female_programmer_Mean = data_Femal_programmer.groupby('Title').mean()\n",
        "data_plot_programmer = data_Male_programmer_Mean.merge(data_Female_programmer_Mean,how='left',on='Title')\n",
        "data_plot_programmer_nonna = data_plot_programmer.dropna()\n",
        "plt.scatter(data_plot_programmer_nonna['Rating_x'], data_plot_programmer_nonna['Rating_y'])"
      ],
      "metadata": {
        "id": "WG_rWOCF1N-t"
      },
      "execution_count": null,
      "outputs": []
    },
    {
      "cell_type": "code",
      "source": [
        "#college\n",
        "data_3_college_TR = data_3_college[['Title','Gender','Rating']]\n",
        "data_Male_college = data_3_college_TR[data_M_and_F['Gender']=='M']\n",
        "data_Femal_college = data_3_college_TR[data_M_and_F['Gender']=='F']\n",
        "data_Male_college_Mean = data_Male_college.groupby('Title').mean()\n",
        "data_Female_college_Mean = data_Femal_college.groupby('Title').mean()\n",
        "data_plot_college = data_Male_college_Mean.merge(data_Female_college_Mean,how='left',on='Title')\n",
        "data_plot_college_nonna = data_plot_college.dropna()\n",
        "plt.scatter(data_plot_college_nonna['Rating_x'], data_plot_college_nonna['Rating_y'])"
      ],
      "metadata": {
        "id": "QLUtmkKx3hkb"
      },
      "execution_count": null,
      "outputs": []
    },
    {
      "cell_type": "code",
      "source": [
        "#scientist\n",
        "print(np.corrcoef(data_plot_academic_nonna['Rating_x'],data_plot_academic_nonna['Rating_y']))\n",
        "#programmer\n",
        "print(np.corrcoef(data_plot_programmer_nonna['Rating_x'],data_plot_programmer_nonna['Rating_y']))\n",
        "#doctor\n",
        "print(np.corrcoef(data_plot_college_nonna['Rating_x'],data_plot_college_nonna['Rating_y']))"
      ],
      "metadata": {
        "id": "YMwovrm23jvp"
      },
      "execution_count": null,
      "outputs": []
    },
    {
      "cell_type": "code",
      "source": [
        "#Action, Drama, War, and Triller"
      ],
      "metadata": {
        "id": "ZJUMh-m84gjm"
      },
      "execution_count": null,
      "outputs": []
    },
    {
      "cell_type": "code",
      "source": [
        "#-------------------------------\n",
        "data_3_3 = df_use[['Title','Gender','type','Rating']]\n",
        "data_3_Action = data_3_3[data_3_3['type']==15]\n",
        "data_3_Dramar = data_3_3[data_3_3['type']==12]\n",
        "data_3_War = data_3_3[data_3_3['type']==6]\n",
        "#-------------------------------\n",
        "#scientist\n",
        "data_3_scientist_TR = data_3_scientist[['Title','Gender','Rating']]\n",
        "data_Male_scientist = data_3_scientist_TR[data_M_and_F['Gender']=='M']\n",
        "data_Femal_scientist = data_3_scientist_TR[data_M_and_F['Gender']=='F']\n",
        "data_Male_scientist_Mean = data_Male_scientist.groupby('Title').mean()\n",
        "data_Female_scientist_Mean = data_Femal_scientist.groupby('Title').mean()\n",
        "data_plot_scientist = data_Male_scientist_Mean.merge(data_Female_scientist_Mean,how='left',on='Title')\n",
        "data_plot_scientist_nonna = data_plot_scientist.dropna()\n",
        "plt.scatter(data_plot_scientist_nonna['Rating_x'], data_plot_scientist_nonna['Rating_y'])\n",
        "#programmer\n",
        "data_3_programmer_TR = data_3_programmer[['Title','Gender','Rating']]\n",
        "data_Male_programmer = data_3_programmer_TR[data_M_and_F['Gender']=='M']\n",
        "data_Femal_programmer = data_3_programmer_TR[data_M_and_F['Gender']=='F']\n",
        "data_Male_programmer_Mean = data_Male_programmer.groupby('Title').mean()\n",
        "data_Female_programmer_Mean = data_Femal_programmer.groupby('Title').mean()\n",
        "data_plot_programmer = data_Male_programmer_Mean.merge(data_Female_programmer_Mean,how='left',on='Title')\n",
        "data_plot_programmer_nonna = data_plot_programmer.dropna()\n",
        "plt.scatter(data_plot_programmer_nonna['Rating_x'], data_plot_programmer_nonna['Rating_y'])\n",
        "#doctor\n",
        "data_3_doctor_TR = data_3_doctor[['Title','Gender','Rating']]\n",
        "data_Male_doctor = data_3_doctor_TR[data_M_and_F['Gender']=='M']\n",
        "data_Femal_doctor = data_3_doctor_TR[data_M_and_F['Gender']=='F']\n",
        "data_Male_doctor_Mean = data_Male_doctor.groupby('Title').mean()\n",
        "data_Female_doctor_Mean = data_Femal_doctor.groupby('Title').mean()\n",
        "data_plot_doctor = data_Male_doctor_Mean.merge(data_Female_doctor_Mean,how='left',on='Title')\n",
        "data_plot_doctor_nonna = data_plot_doctor.dropna()\n",
        "plt.scatter(data_plot_doctor_nonna['Rating_x'], data_plot_doctor_nonna['Rating_y'])\n",
        "#-------------------------------------------------------------------------------------------------------------------------\n",
        "#scientist\n",
        "print(np.corrcoef(data_plot_scientist_nonna['Rating_x'],data_plot_scientist_nonna['Rating_y']))\n",
        "#programmer\n",
        "print(np.corrcoef(data_plot_programmer_nonna['Rating_x'],data_plot_programmer_nonna['Rating_y']))\n",
        "#doctor\n",
        "print(np.corrcoef(data_plot_doctor_nonna['Rating_x'],data_plot_doctor_nonna['Rating_y']))"
      ],
      "metadata": {
        "id": "ueeoWHgR5Q3i"
      },
      "execution_count": null,
      "outputs": []
    },
    {
      "cell_type": "markdown",
      "metadata": {
        "id": "XJNNGoUoEJ2H"
      },
      "source": [
        "# Problem 4:\n",
        "## Open Ended Question:  Business Intelligence"
      ]
    },
    {
      "cell_type": "markdown",
      "metadata": {
        "id": "-FlkbKozEJ2H"
      },
      "source": [
        "* Do any of your conjectures in Problems 1, 2, and 3 provide insights that a movie company might be interested in?\n",
        "* Propose a business question that you think this data can answer.\n",
        "* Suppose you are a Data Sciencetist at a movie company.  **Convince your boss that your conjecture is correct!**\n",
        "\n",
        "ปัญหาที่ 4:\n",
        "คำถามปลายเปิด: ระบบธุรกิจอัจฉริยะ\n",
        "การคาดเดาของคุณในปัญหาที่ 1, 2 และ 3 ให้ข้อมูลเชิงลึกที่บริษัทภาพยนตร์อาจสนใจหรือไม่\n",
        "\n",
        "เสนอคำถามทางธุรกิจที่คุณคิดว่าข้อมูลนี้สามารถตอบได้\n",
        "สมมติว่าคุณเป็นนักวิทยาศาสตร์ข้อมูลที่บริษัทภาพยนตร์แห่งหนึ่ง\n",
        "\n",
        "โน้มน้าวเจ้านายของคุณว่าการคาดเดาของคุณถูกต้อง!\n",
        "เช่น ภาพยนตร์เรื่องไหนที่ควรทำ/ซื้อ? (แยกตามประเภท?)"
      ]
    },
    {
      "cell_type": "markdown",
      "metadata": {
        "id": "4bukoAZpEJ2H"
      },
      "source": [
        "### For example, which movie to make/buy? (seperating via Genre?)"
      ]
    },
    {
      "cell_type": "code",
      "source": [
        "Age_rating"
      ],
      "metadata": {
        "id": "QvFXG5x-vId4"
      },
      "execution_count": null,
      "outputs": []
    },
    {
      "cell_type": "code",
      "source": [
        "\n",
        "sample_data_1 = Age_rating.groupby('Title').mean()"
      ],
      "metadata": {
        "id": "cjYaj5O3vQn5"
      },
      "execution_count": null,
      "outputs": []
    },
    {
      "cell_type": "code",
      "source": [
        "\n",
        "sample_data_1"
      ],
      "metadata": {
        "id": "Ro-4uIVtvd1B"
      },
      "execution_count": null,
      "outputs": []
    },
    {
      "cell_type": "code",
      "source": [
        "\n",
        "\n",
        "sample_data_1.iloc[0,:]"
      ],
      "metadata": {
        "id": "-ca65uDAv1tN"
      },
      "execution_count": null,
      "outputs": []
    },
    {
      "cell_type": "code",
      "source": [
        "\n",
        "plt.plot(sample_data_1.iloc[0,:],'ro')"
      ],
      "metadata": {
        "id": "FeglPtSiv6y5"
      },
      "execution_count": null,
      "outputs": []
    },
    {
      "cell_type": "code",
      "execution_count": null,
      "metadata": {
        "id": "5a1zke1_EJ2H"
      },
      "outputs": [],
      "source": [
        "data_4 = df_use[['Title','Age','Gender','Rating']]\n",
        "data_4_claen_Age = data_4[data_4['Age'] == 56]\n",
        "data_4_claen_Age['count'] = range(len(data_4_claen_Age))\n",
        "data_4_claen_Age_C = data_4_claen_Age[['Gender','count']]\n",
        "data_4_claen_Age_count = data_4_claen_Age_C.groupby('Gender').count().sort_values(by='count',ascending = False)\n",
        "print(data_4_claen_Age_count.head(2))\n"
      ]
    },
    {
      "cell_type": "code",
      "source": [
        "data_4_claen_Age_TOP2 = data_4_claen_Age[(data_4_claen_Age['Occupation']== 13) | (data_4_claen_Age['Occupation']==1)]\n",
        "data_TOP = data_4_claen_Age_TOP2[['Title','Occupation','Rating']]\n",
        "data_academic = data_TOP[data_TOP['Occupation']== 13]\n",
        "data_academic1 = data_academic[['Title','Rating']]\n",
        "data_retired = data_TOP[data_TOP['Occupation']==1]\n",
        "data_retired1 = data_retired[['Title','Rating']]\n",
        "#--------------------------------------------------------------------------------------\n",
        "data_academic2 = data_academic1.groupby('Title').count().sort_values(by='Rating',ascending = False)\n",
        "data_academic3 = data_academic2.reset_index()\n",
        "data_retired2 = data_retired1.groupby('Title').count().sort_values(by='Rating',ascending = False)\n",
        "data_retired3 = data_retired2.reset_index()\n",
        "#--------------------------------------------------------------------------------------\n",
        "data_academic_Mean = data_academic1.groupby('Title').mean()\n",
        "data_retired_Mean = data_retired1.groupby('Title').mean()\n",
        "#-------------------------------------------------------------------------------------------\n",
        "data_academic4 = data_academic3.merge(data_academic_Mean,how='left',on='Title')\n",
        "data_retired4 = data_retired3.merge(data_retired_Mean,how='left',on='Title')\n",
        "#----------------------------------------------------------------------------------------\n",
        "data_academic5 = data_academic4[data_academic4['Rating_x'] >= 10]\n",
        "use_data_academic5 = data_academic5[['Title','Rating_y']]\n",
        "#use_data_academic5 = use_data_academic5.set_index('Title')\n",
        "#---------------------------------------------------------------------------------------\n",
        "data_retired5 = data_retired4[data_retired4['Rating_x'] >= 10]\n",
        "use_data_retired5 = data_retired5[['Title','Rating_y']]\n",
        "#use_data_retired5 = use_data_retired5.set_index('Title')\n",
        "#---------------------------------------------------------------------------------------\n",
        "data_plot_Occupation = use_data_academic5.merge(use_data_retired5,how='left',on='Title')\n",
        "data_plot_Occupation_nonna = data_plot_Occupation.dropna()\n",
        "plt.scatter(data_plot_Occupation_nonna['Rating_y_x'], data_plot_Occupation_nonna['Rating_y_y'])\n",
        "print(np.corrcoef(data_plot_Occupation_nonna['Rating_y_x'],data_plot_Occupation_nonna['Rating_y_y']))"
      ],
      "metadata": {
        "id": "tLLfYK0lu1lB"
      },
      "execution_count": null,
      "outputs": []
    },
    {
      "cell_type": "markdown",
      "metadata": {
        "id": "8bO8FP1OEJ2I"
      },
      "source": [
        "# Done!\n",
        "\n",
        "**What do you need to submit?**\n",
        "\n",
        "* **Notebook File**: This is the file you need to submit. Please make sure all the plotted tables and figures are in the notebook.\n",
        "\n",
        "\n",
        "* **PPT Slides**: please prepare PPT slides (10 minutes)\n",
        "    * Motivation about the data collection, why the topic is interesting to you. อธิบายเกี่ยวกับข้อมูล สร้างแรงบันดาลใจเดี่ยวกับข้อมูลให้ผู้รับฟัง ให้ผู้ฟังเข้าใจความเป็นมาและความสำคัญของข้อมูล\n",
        "    * What is the relationship between this topic and Business Intelligence?\n",
        "    * How did you analyse the data?\n",
        "    * What conjectures did you make and how did you support or disprove them using data?\n",
        "    * Communicating Results with figures or tables\n",
        "    * Did you find anything suprising in the data?\n",
        "    * What business decision do you think this data could help answer?  Why?\n",
        "\n",
        "     (please include figures or tables in the report)\n",
        "     \n",
        "**How to submit:**\n",
        "\n",
        "        ส่ง link ของ ipynb และ slides ในรูปแบบ pdf ใน Google Classroom\n",
        "        \n",
        "**Note: Each team just needs only one submission**\n",
        "\n",
        "เสร็จแล้ว!\n",
        "คุณต้องส่งอะไรบ้าง?\n",
        "\n",
        "ไฟล์สมุดบันทึก: นี่คือไฟล์ที่คุณต้องส่ง โปรดตรวจสอบให้แน่ใจว่าตารางและรูปภาพที่ลงจุดทั้งหมดอยู่ในสมุดบันทึก\n",
        "PPT Slides: โปรดเตรียมสไลด์ PPT (10 นาที)\n",
        "\n",
        "แรงจูงใจในการรวบรวมข้อมูล เหตุใดหัวข้อนี้จึงน่าสนใจสำหรับคุณ อธิบายเกี่ยวกับข้อมูลในส่วนเดี่ยวกับข้อมูลที่ให้ผู้รับฟังฟังเข้าใจความเป็นมาและแจ้งให้ทราบข้อมูล\n",
        "\n",
        "ความสัมพันธ์ระหว่างหัวข้อนี้กับ Business Intelligence คืออะไร?\n",
        "\n",
        "คุณวิเคราะห์ข้อมูลอย่างไร?\n",
        "\n",
        "คุณคาดเดาอะไร และคุณสนับสนุนหรือพิสูจน์หักล้างโดยใช้ข้อมูลอย่างไร\n",
        "\n",
        "การสื่อสารผลลัพธ์ด้วยตัวเลขหรือตาราง\n",
        "\n",
        "คุณพบสิ่งที่น่าประหลาดใจในข้อมูลหรือไม่\n",
        "\n",
        "คุณคิดว่าการตัดสินใจทางธุรกิจเรื่องใดสามารถช่วยตอบได้ ทำไม\n",
        "\n",
        "(โปรดระบุตัวเลขหรือตารางในรายงาน)"
      ]
    },
    {
      "cell_type": "code",
      "execution_count": null,
      "metadata": {
        "id": "iakXTtPxEJ2I"
      },
      "outputs": [],
      "source": []
    }
  ],
  "metadata": {
    "anaconda-cloud": {},
    "kernelspec": {
      "display_name": "Python 3 (ipykernel)",
      "language": "python",
      "name": "python3"
    },
    "language_info": {
      "codemirror_mode": {
        "name": "ipython",
        "version": 3
      },
      "file_extension": ".py",
      "mimetype": "text/x-python",
      "name": "python",
      "nbconvert_exporter": "python",
      "pygments_lexer": "ipython3",
      "version": "3.8.8"
    },
    "colab": {
      "provenance": [],
      "include_colab_link": true
    }
  },
  "nbformat": 4,
  "nbformat_minor": 0
}