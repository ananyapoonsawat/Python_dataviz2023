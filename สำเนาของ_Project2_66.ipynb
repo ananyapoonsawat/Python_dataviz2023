{
  "cells": [
    {
      "cell_type": "markdown",
      "metadata": {
        "id": "view-in-github",
        "colab_type": "text"
      },
      "source": [
        "<a href=\"https://colab.research.google.com/github/ananyapoonsawat/Python_dataviz2023/blob/main/%E0%B8%AA%E0%B8%B3%E0%B9%80%E0%B8%99%E0%B8%B2%E0%B8%82%E0%B8%AD%E0%B8%87_Project2_66.ipynb\" target=\"_parent\"><img src=\"https://colab.research.google.com/assets/colab-badge.svg\" alt=\"Open In Colab\"/></a>"
      ]
    },
    {
      "cell_type": "markdown",
      "metadata": {
        "id": "9UhEWeXwEJ13"
      },
      "source": [
        "# Project 2 : Analyzing data from MovieLens\n",
        "\n",
        "**Due Date: Sunday, October 11**\n",
        "\n",
        "**NOTE: There are always last minute issues submitting the case studies. DO NOT WAIT UNTIL THE LAST MINUTE!**\n"
      ]
    },
    {
      "cell_type": "markdown",
      "metadata": {
        "id": "nWXZemZCEJ1-"
      },
      "source": [
        "## The MovieLens data sets\n",
        "\n",
        "<img src=\"https://www.oreilly.com/api/v2/epubs/9781788993753/files/assets/dc0f89d7-6e9c-4790-a6c0-06725f2dbe8a.png\">\n",
        "\n",
        "https://movielens.org"
      ]
    },
    {
      "cell_type": "code",
      "execution_count": null,
      "metadata": {
        "id": "UcsrfvsWEJ1-"
      },
      "outputs": [],
      "source": [
        "from IPython.lib.display import YouTubeVideo"
      ]
    },
    {
      "cell_type": "code",
      "execution_count": null,
      "metadata": {
        "id": "vu3gN79cEJ2A",
        "outputId": "f7eddea4-5e53-4860-ffed-02282f17df78",
        "colab": {
          "base_uri": "https://localhost:8080/",
          "height": 321
        }
      },
      "outputs": [
        {
          "output_type": "execute_result",
          "data": {
            "text/plain": [
              "<IPython.lib.display.YouTubeVideo at 0x795b4485f190>"
            ],
            "text/html": [
              "\n",
              "        <iframe\n",
              "            width=\"400\"\n",
              "            height=\"300\"\n",
              "            src=\"https://www.youtube.com/embed/4tW9HY0Q460\"\n",
              "            frameborder=\"0\"\n",
              "            allowfullscreen\n",
              "            \n",
              "        ></iframe>\n",
              "        "
            ],
            "image/jpeg": "[encoded data removed]"
          },
          "metadata": {},
          "execution_count": 9
        }
      ],
      "source": [
        "YouTubeVideo('4tW9HY0Q460')"
      ]
    },
    {
      "cell_type": "markdown",
      "metadata": {
        "id": "tMbgkqFTEJ2B"
      },
      "source": [
        "**TEAM Members:** Please EDIT this cell and add the names of all the team members in your team\n",
        "\n",
        "นางสาวเพ็ญพิชชา วรรณ์ชูมาตร์ 643020063-4 penpitcha.wa@kkumail.com\n",
        "\n",
        "นางสาวสุชาดา อุปพงษ์ 643020524-4 suchada.u@kkumail.com\n",
        "\n",
        "นางสาวอนัญญา พูลสวัสดิ์ 643020526-0 ananya.po@kkumail.com\n",
        "\n",
        "นางสาววิลันดา ทาระมาตย์ 643021271-2 wilanda.t@kkumail.com\n",
        "\n",
        "นางสาวสุชานาถ พิลาภ 643021276-2 suchanat.p@kkumail.com"
      ]
    },
    {
      "cell_type": "markdown",
      "metadata": {
        "id": "8LxSl6maEJ2B"
      },
      "source": [
        "**Objectives**\n",
        "* In this case study we will look at the MovieLens 1M Data Set.\n",
        "    * It contains data about users and how the rate movies.\n",
        "    * http://grouplens.org/datasets/movielens/\n",
        "* The idea is to *analyze* the data set, make *conjectures*, support or refute those conjectures with *data*, and *tell a story* about the data!\n",
        "    \n",
        "**Useful Readings:**\n",
        "* Chapter 14.2 (only the section on the MovieLens 1M Data Set), Chapter 5, 6.2, 7.2, 8, and 9 of the book [Python for Data Analysis](http://shop.oreilly.com/product/0636920023784.do)  (View pivately on Google Classroom).\n",
        "* If you want your code to be really compact then you might want to also look into the pivot_table method of Panda's DataFrame, though there are many other ways to complete the case study!\n",
        "\n",
        "**Required Python libraries:**\n",
        "* Pandas (pandas.pydata.org)\n",
        "* Matplotlib (matplotlib.org)\n",
        "\n",
        "**NOTE**: Please don't forget to save the notebook frequently when working in IPython Notebook, otherwise the changes you made can be lost.\n",
        "\n",
        "วัตถุประสงค์\n",
        "\n",
        "ในกรณีศึกษานี้ เราจะดูชุดข้อมูล MovieLens 1M\n",
        "ประกอบด้วยข้อมูลเกี่ยวกับผู้ใช้และวิธีการให้คะแนนภาพยนตร์\n",
        "http://grouplens.org/datasets/movielens/\n",
        "แนวคิดคือการวิเคราะห์ชุดข้อมูล คาดเดา สนับสนุนหรือหักล้างการคาดเดาเหล่านั้นด้วยข้อมูล และบอกเล่าเรื่องราวเกี่ยวกับข้อมูล!\n",
        "การอ่านที่เป็นประโยชน์:\n",
        "\n",
        "บทที่ 14.2 (เฉพาะส่วนของชุดข้อมูล MovieLens 1M), บทที่ 5, 6.2, 7.2, 8 และ 9 ของหนังสือ Python สำหรับการวิเคราะห์ข้อมูล (ดูแบบส่วนตัวใน Google Classroom)\n",
        "หากคุณต้องการให้โค้ดของคุณมีขนาดกะทัดรัดจริงๆ คุณอาจต้องการดูวิธี pivot_table ของ DataFrame ของ Panda ด้วย แม้ว่าจะมีวิธีอื่นอีกมากมายในการทำกรณีศึกษาให้สมบูรณ์!\n",
        "ไลบรารี Python ที่จำเป็น:\n",
        "\n",
        "นุ่น (pandas.pydata.org)\n",
        "Matplotlib (matplotlib.org)\n",
        "หมายเหตุ: โปรดอย่าลืมบันทึกสมุดบันทึกบ่อยๆ เมื่อทำงานใน IPython Notebook ไม่เช่นนั้นการเปลี่ยนแปลงที่คุณทำอาจสูญหายได้"
      ]
    },
    {
      "cell_type": "code",
      "execution_count": null,
      "metadata": {
        "id": "JTABdUYGEJ2D"
      },
      "outputs": [],
      "source": [
        "from google.colab import drive\n",
        "import pandas as pd\n",
        "from matplotlib import pyplot as plt\n",
        "import numpy as np\n",
        "import matplotlib"
      ]
    },
    {
      "cell_type": "code",
      "source": [
        "drive.mount(\"/content/drive\", force_remount=True)"
      ],
      "metadata": {
        "colab": {
          "base_uri": "https://localhost:8080/"
        },
        "id": "sCp4KMNtEVjd",
        "outputId": "44e55bd1-e7a2-4e89-8c9c-04d06d8f1241"
      },
      "execution_count": null,
      "outputs": [
        {
          "output_type": "stream",
          "name": "stdout",
          "text": [
            "Mounted at /content/drive\n"
          ]
        }
      ]
    },
    {
      "cell_type": "markdown",
      "metadata": {
        "id": "mkMyxmzxEJ2C"
      },
      "source": [
        "# Problem 1:\n",
        "\n",
        "## Importing the MovieLens data set and merging it into a single Pandas DataFrame"
      ]
    },
    {
      "cell_type": "markdown",
      "metadata": {
        "id": "OxbxDLB4EJ2C"
      },
      "source": [
        "* Download the 1 million ratings data set from https://grouplens.org/datasets/movielens/1m/ (though if you are feeling adventerous you can download the 10 million ratings file instead)\n",
        "* Merge all of the data into a single Pandas DataFrame. See\n",
        "    * https://pandas.pydata.org/docs/reference/api/pandas.DataFrame.merge.html\n",
        "* Store the data into an HDF5 file. See\n",
        "    * https://pandas.pydata.org/docs/reference/api/pandas.DataFrame.to_hdf.html\n",
        "    * https://pandas.pydata.org/docs/reference/api/pandas.read_hdf.html"
      ]
    },
    {
      "cell_type": "code",
      "source": [
        "#ออม\n",
        "ratingsdat = pd.read_table(\"/content/drive/MyDrive/DataWarehouse/p2/ratings (1).dat\", sep=\"::\", header=None, names=['UserID','MovieID','Rating','Timestamp'])\n",
        "moviesdat = pd.read_table(\"/content/drive/MyDrive/DataWarehouse/p2/movies (1).dat\", sep=\"::\", header=None, names=['MovieID','Title','Genres'],encoding = \"ISO-8859-1\")\n",
        "usersdat = pd.read_table(\"/content/drive/MyDrive/DataWarehouse/p2/users (1).dat\", sep=\"::\", header=None, names=['UserID','Gender','Age','Occupation','Zip-code'])"
      ],
      "metadata": {
        "colab": {
          "base_uri": "https://localhost:8080/"
        },
        "id": "WDaThgMWTk8v",
        "outputId": "460e67eb-a709-455b-f028-ddb02c2fe464"
      },
      "execution_count": null,
      "outputs": [
        {
          "output_type": "stream",
          "name": "stderr",
          "text": [
            "<ipython-input-12-fd063348c648>:2: ParserWarning: Falling back to the 'python' engine because the 'c' engine does not support regex separators (separators > 1 char and different from '\\s+' are interpreted as regex); you can avoid this warning by specifying engine='python'.\n",
            "  ratingsdat = pd.read_table(\"/content/drive/MyDrive/DataWarehouse/p2/ratings (1).dat\", sep=\"::\", header=None, names=['UserID','MovieID','Rating','Timestamp'])\n",
            "<ipython-input-12-fd063348c648>:3: ParserWarning: Falling back to the 'python' engine because the 'c' engine does not support regex separators (separators > 1 char and different from '\\s+' are interpreted as regex); you can avoid this warning by specifying engine='python'.\n",
            "  moviesdat = pd.read_table(\"/content/drive/MyDrive/DataWarehouse/p2/movies (1).dat\", sep=\"::\", header=None, names=['MovieID','Title','Genres'],encoding = \"ISO-8859-1\")\n",
            "<ipython-input-12-fd063348c648>:4: ParserWarning: Falling back to the 'python' engine because the 'c' engine does not support regex separators (separators > 1 char and different from '\\s+' are interpreted as regex); you can avoid this warning by specifying engine='python'.\n",
            "  usersdat = pd.read_table(\"/content/drive/MyDrive/DataWarehouse/p2/users (1).dat\", sep=\"::\", header=None, names=['UserID','Gender','Age','Occupation','Zip-code'])\n"
          ]
        }
      ]
    },
    {
      "cell_type": "code",
      "source": [
        "#แอน\n",
        "#ratingsdat = pd.read_table(\"/content/drive/MyDrive/อญา/ratings.dat\", sep=\"::\", header=None, names=['UserID','MovieID','Rating','Timestamp'])\n",
        "#moviesdat = pd.read_table(\"/content/drive/MyDrive/อญา/movies.dat\", sep=\"::\", header=None, names=['MovieID','Title','Genres'],encoding = \"ISO-8859-1\")\n",
        "#usersdat = pd.read_table(\"/content/drive/MyDrive/อญา/users.dat\", sep=\"::\", header=None, names=['UserID','Gender','Age','Occupation','Zip-code'])"
      ],
      "metadata": {
        "id": "E-iKXRzo3wQq"
      },
      "execution_count": null,
      "outputs": []
    },
    {
      "cell_type": "code",
      "source": [
        "ratingsdat"
      ],
      "metadata": {
        "colab": {
          "base_uri": "https://localhost:8080/",
          "height": 423
        },
        "id": "14lpkltLnLP-",
        "outputId": "0ea43903-5160-45d5-8802-9a175c7f199f"
      },
      "execution_count": null,
      "outputs": [
        {
          "output_type": "execute_result",
          "data": {
            "text/plain": [
              "         UserID  MovieID  Rating  Timestamp\n",
              "0             1     1193       5  978300760\n",
              "1             1      661       3  978302109\n",
              "2             1      914       3  978301968\n",
              "3             1     3408       4  978300275\n",
              "4             1     2355       5  978824291\n",
              "...         ...      ...     ...        ...\n",
              "1000204    6040     1091       1  956716541\n",
              "1000205    6040     1094       5  956704887\n",
              "1000206    6040      562       5  956704746\n",
              "1000207    6040     1096       4  956715648\n",
              "1000208    6040     1097       4  956715569\n",
              "\n",
              "[1000209 rows x 4 columns]"
            ],
            "text/html": [
              "\n",
              "  <div id=\"df-c4b52d17-9c32-4041-947d-32a92ad09ce2\" class=\"colab-df-container\">\n",
              "    <div>\n",
              "<style scoped>\n",
              "    .dataframe tbody tr th:only-of-type {\n",
              "        vertical-align: middle;\n",
              "    }\n",
              "\n",
              "    .dataframe tbody tr th {\n",
              "        vertical-align: top;\n",
              "    }\n",
              "\n",
              "    .dataframe thead th {\n",
              "        text-align: right;\n",
              "    }\n",
              "</style>\n",
              "<table border=\"1\" class=\"dataframe\">\n",
              "  <thead>\n",
              "    <tr style=\"text-align: right;\">\n",
              "      <th></th>\n",
              "      <th>UserID</th>\n",
              "      <th>MovieID</th>\n",
              "      <th>Rating</th>\n",
              "      <th>Timestamp</th>\n",
              "    </tr>\n",
              "  </thead>\n",
              "  <tbody>\n",
              "    <tr>\n",
              "      <th>0</th>\n",
              "      <td>1</td>\n",
              "      <td>1193</td>\n",
              "      <td>5</td>\n",
              "      <td>978300760</td>\n",
              "    </tr>\n",
              "    <tr>\n",
              "      <th>1</th>\n",
              "      <td>1</td>\n",
              "      <td>661</td>\n",
              "      <td>3</td>\n",
              "      <td>978302109</td>\n",
              "    </tr>\n",
              "    <tr>\n",
              "      <th>2</th>\n",
              "      <td>1</td>\n",
              "      <td>914</td>\n",
              "      <td>3</td>\n",
              "      <td>978301968</td>\n",
              "    </tr>\n",
              "    <tr>\n",
              "      <th>3</th>\n",
              "      <td>1</td>\n",
              "      <td>3408</td>\n",
              "      <td>4</td>\n",
              "      <td>978300275</td>\n",
              "    </tr>\n",
              "    <tr>\n",
              "      <th>4</th>\n",
              "      <td>1</td>\n",
              "      <td>2355</td>\n",
              "      <td>5</td>\n",
              "      <td>978824291</td>\n",
              "    </tr>\n",
              "    <tr>\n",
              "      <th>...</th>\n",
              "      <td>...</td>\n",
              "      <td>...</td>\n",
              "      <td>...</td>\n",
              "      <td>...</td>\n",
              "    </tr>\n",
              "    <tr>\n",
              "      <th>1000204</th>\n",
              "      <td>6040</td>\n",
              "      <td>1091</td>\n",
              "      <td>1</td>\n",
              "      <td>956716541</td>\n",
              "    </tr>\n",
              "    <tr>\n",
              "      <th>1000205</th>\n",
              "      <td>6040</td>\n",
              "      <td>1094</td>\n",
              "      <td>5</td>\n",
              "      <td>956704887</td>\n",
              "    </tr>\n",
              "    <tr>\n",
              "      <th>1000206</th>\n",
              "      <td>6040</td>\n",
              "      <td>562</td>\n",
              "      <td>5</td>\n",
              "      <td>956704746</td>\n",
              "    </tr>\n",
              "    <tr>\n",
              "      <th>1000207</th>\n",
              "      <td>6040</td>\n",
              "      <td>1096</td>\n",
              "      <td>4</td>\n",
              "      <td>956715648</td>\n",
              "    </tr>\n",
              "    <tr>\n",
              "      <th>1000208</th>\n",
              "      <td>6040</td>\n",
              "      <td>1097</td>\n",
              "      <td>4</td>\n",
              "      <td>956715569</td>\n",
              "    </tr>\n",
              "  </tbody>\n",
              "</table>\n",
              "<p>1000209 rows × 4 columns</p>\n",
              "</div>\n",
              "    <div class=\"colab-df-buttons\">\n",
              "\n",
              "  <div class=\"colab-df-container\">\n",
              "    <button class=\"colab-df-convert\" onclick=\"convertToInteractive('df-c4b52d17-9c32-4041-947d-32a92ad09ce2')\"\n",
              "            title=\"Convert this dataframe to an interactive table.\"\n",
              "            style=\"display:none;\">\n",
              "\n",
              "  <svg xmlns=\"http://www.w3.org/2000/svg\" height=\"24px\" viewBox=\"0 -960 960 960\">\n",
              "    <path d=\"M120-120v-720h720v720H120Zm60-500h600v-160H180v160Zm220 220h160v-160H400v160Zm0 220h160v-160H400v160ZM180-400h160v-160H180v160Zm440 0h160v-160H620v160ZM180-180h160v-160H180v160Zm440 0h160v-160H620v160Z\"/>\n",
              "  </svg>\n",
              "    </button>\n",
              "\n",
              "  <style>\n",
              "    .colab-df-container {\n",
              "      display:flex;\n",
              "      gap: 12px;\n",
              "    }\n",
              "\n",
              "    .colab-df-convert {\n",
              "      background-color: #E8F0FE;\n",
              "      border: none;\n",
              "      border-radius: 50%;\n",
              "      cursor: pointer;\n",
              "      display: none;\n",
              "      fill: #1967D2;\n",
              "      height: 32px;\n",
              "      padding: 0 0 0 0;\n",
              "      width: 32px;\n",
              "    }\n",
              "\n",
              "    .colab-df-convert:hover {\n",
              "      background-color: #E2EBFA;\n",
              "      box-shadow: 0px 1px 2px rgba(60, 64, 67, 0.3), 0px 1px 3px 1px rgba(60, 64, 67, 0.15);\n",
              "      fill: #174EA6;\n",
              "    }\n",
              "\n",
              "    .colab-df-buttons div {\n",
              "      margin-bottom: 4px;\n",
              "    }\n",
              "\n",
              "    [theme=dark] .colab-df-convert {\n",
              "      background-color: #3B4455;\n",
              "      fill: #D2E3FC;\n",
              "    }\n",
              "\n",
              "    [theme=dark] .colab-df-convert:hover {\n",
              "      background-color: #434B5C;\n",
              "      box-shadow: 0px 1px 3px 1px rgba(0, 0, 0, 0.15);\n",
              "      filter: drop-shadow(0px 1px 2px rgba(0, 0, 0, 0.3));\n",
              "      fill: #FFFFFF;\n",
              "    }\n",
              "  </style>\n",
              "\n",
              "    <script>\n",
              "      const buttonEl =\n",
              "        document.querySelector('#df-c4b52d17-9c32-4041-947d-32a92ad09ce2 button.colab-df-convert');\n",
              "      buttonEl.style.display =\n",
              "        google.colab.kernel.accessAllowed ? 'block' : 'none';\n",
              "\n",
              "      async function convertToInteractive(key) {\n",
              "        const element = document.querySelector('#df-c4b52d17-9c32-4041-947d-32a92ad09ce2');\n",
              "        const dataTable =\n",
              "          await google.colab.kernel.invokeFunction('convertToInteractive',\n",
              "                                                    [key], {});\n",
              "        if (!dataTable) return;\n",
              "\n",
              "        const docLinkHtml = 'Like what you see? Visit the ' +\n",
              "          '<a target=\"_blank\" href=https://colab.research.google.com/notebooks/data_table.ipynb>data table notebook</a>'\n",
              "          + ' to learn more about interactive tables.';\n",
              "        element.innerHTML = '';\n",
              "        dataTable['output_type'] = 'display_data';\n",
              "        await google.colab.output.renderOutput(dataTable, element);\n",
              "        const docLink = document.createElement('div');\n",
              "        docLink.innerHTML = docLinkHtml;\n",
              "        element.appendChild(docLink);\n",
              "      }\n",
              "    </script>\n",
              "  </div>\n",
              "\n",
              "\n",
              "<div id=\"df-85ba39ac-7d09-4bc4-9f2e-af060be7f34f\">\n",
              "  <button class=\"colab-df-quickchart\" onclick=\"quickchart('df-85ba39ac-7d09-4bc4-9f2e-af060be7f34f')\"\n",
              "            title=\"Suggest charts.\"\n",
              "            style=\"display:none;\">\n",
              "\n",
              "<svg xmlns=\"http://www.w3.org/2000/svg\" height=\"24px\"viewBox=\"0 0 24 24\"\n",
              "     width=\"24px\">\n",
              "    <g>\n",
              "        <path d=\"M19 3H5c-1.1 0-2 .9-2 2v14c0 1.1.9 2 2 2h14c1.1 0 2-.9 2-2V5c0-1.1-.9-2-2-2zM9 17H7v-7h2v7zm4 0h-2V7h2v10zm4 0h-2v-4h2v4z\"/>\n",
              "    </g>\n",
              "</svg>\n",
              "  </button>\n",
              "\n",
              "<style>\n",
              "  .colab-df-quickchart {\n",
              "      --bg-color: #E8F0FE;\n",
              "      --fill-color: #1967D2;\n",
              "      --hover-bg-color: #E2EBFA;\n",
              "      --hover-fill-color: #174EA6;\n",
              "      --disabled-fill-color: #AAA;\n",
              "      --disabled-bg-color: #DDD;\n",
              "  }\n",
              "\n",
              "  [theme=dark] .colab-df-quickchart {\n",
              "      --bg-color: #3B4455;\n",
              "      --fill-color: #D2E3FC;\n",
              "      --hover-bg-color: #434B5C;\n",
              "      --hover-fill-color: #FFFFFF;\n",
              "      --disabled-bg-color: #3B4455;\n",
              "      --disabled-fill-color: #666;\n",
              "  }\n",
              "\n",
              "  .colab-df-quickchart {\n",
              "    background-color: var(--bg-color);\n",
              "    border: none;\n",
              "    border-radius: 50%;\n",
              "    cursor: pointer;\n",
              "    display: none;\n",
              "    fill: var(--fill-color);\n",
              "    height: 32px;\n",
              "    padding: 0;\n",
              "    width: 32px;\n",
              "  }\n",
              "\n",
              "  .colab-df-quickchart:hover {\n",
              "    background-color: var(--hover-bg-color);\n",
              "    box-shadow: 0 1px 2px rgba(60, 64, 67, 0.3), 0 1px 3px 1px rgba(60, 64, 67, 0.15);\n",
              "    fill: var(--button-hover-fill-color);\n",
              "  }\n",
              "\n",
              "  .colab-df-quickchart-complete:disabled,\n",
              "  .colab-df-quickchart-complete:disabled:hover {\n",
              "    background-color: var(--disabled-bg-color);\n",
              "    fill: var(--disabled-fill-color);\n",
              "    box-shadow: none;\n",
              "  }\n",
              "\n",
              "  .colab-df-spinner {\n",
              "    border: 2px solid var(--fill-color);\n",
              "    border-color: transparent;\n",
              "    border-bottom-color: var(--fill-color);\n",
              "    animation:\n",
              "      spin 1s steps(1) infinite;\n",
              "  }\n",
              "\n",
              "  @keyframes spin {\n",
              "    0% {\n",
              "      border-color: transparent;\n",
              "      border-bottom-color: var(--fill-color);\n",
              "      border-left-color: var(--fill-color);\n",
              "    }\n",
              "    20% {\n",
              "      border-color: transparent;\n",
              "      border-left-color: var(--fill-color);\n",
              "      border-top-color: var(--fill-color);\n",
              "    }\n",
              "    30% {\n",
              "      border-color: transparent;\n",
              "      border-left-color: var(--fill-color);\n",
              "      border-top-color: var(--fill-color);\n",
              "      border-right-color: var(--fill-color);\n",
              "    }\n",
              "    40% {\n",
              "      border-color: transparent;\n",
              "      border-right-color: var(--fill-color);\n",
              "      border-top-color: var(--fill-color);\n",
              "    }\n",
              "    60% {\n",
              "      border-color: transparent;\n",
              "      border-right-color: var(--fill-color);\n",
              "    }\n",
              "    80% {\n",
              "      border-color: transparent;\n",
              "      border-right-color: var(--fill-color);\n",
              "      border-bottom-color: var(--fill-color);\n",
              "    }\n",
              "    90% {\n",
              "      border-color: transparent;\n",
              "      border-bottom-color: var(--fill-color);\n",
              "    }\n",
              "  }\n",
              "</style>\n",
              "\n",
              "  <script>\n",
              "    async function quickchart(key) {\n",
              "      const quickchartButtonEl =\n",
              "        document.querySelector('#' + key + ' button');\n",
              "      quickchartButtonEl.disabled = true;  // To prevent multiple clicks.\n",
              "      quickchartButtonEl.classList.add('colab-df-spinner');\n",
              "      try {\n",
              "        const charts = await google.colab.kernel.invokeFunction(\n",
              "            'suggestCharts', [key], {});\n",
              "      } catch (error) {\n",
              "        console.error('Error during call to suggestCharts:', error);\n",
              "      }\n",
              "      quickchartButtonEl.classList.remove('colab-df-spinner');\n",
              "      quickchartButtonEl.classList.add('colab-df-quickchart-complete');\n",
              "    }\n",
              "    (() => {\n",
              "      let quickchartButtonEl =\n",
              "        document.querySelector('#df-85ba39ac-7d09-4bc4-9f2e-af060be7f34f button');\n",
              "      quickchartButtonEl.style.display =\n",
              "        google.colab.kernel.accessAllowed ? 'block' : 'none';\n",
              "    })();\n",
              "  </script>\n",
              "</div>\n",
              "    </div>\n",
              "  </div>\n"
            ]
          },
          "metadata": {},
          "execution_count": 14
        }
      ]
    },
    {
      "cell_type": "code",
      "source": [
        "usersdat"
      ],
      "metadata": {
        "colab": {
          "base_uri": "https://localhost:8080/",
          "height": 423
        },
        "id": "2sgac2MCnJmN",
        "outputId": "95881897-0672-400d-bef1-9ea0193c7194"
      },
      "execution_count": null,
      "outputs": [
        {
          "output_type": "execute_result",
          "data": {
            "text/plain": [
              "      UserID Gender  Age  Occupation Zip-code\n",
              "0          1      F    1          10    48067\n",
              "1          2      M   56          16    70072\n",
              "2          3      M   25          15    55117\n",
              "3          4      M   45           7    02460\n",
              "4          5      M   25          20    55455\n",
              "...      ...    ...  ...         ...      ...\n",
              "6035    6036      F   25          15    32603\n",
              "6036    6037      F   45           1    76006\n",
              "6037    6038      F   56           1    14706\n",
              "6038    6039      F   45           0    01060\n",
              "6039    6040      M   25           6    11106\n",
              "\n",
              "[6040 rows x 5 columns]"
            ],
            "text/html": [
              "\n",
              "  <div id=\"df-772d4088-0a8a-433d-bd1c-f64147cde601\" class=\"colab-df-container\">\n",
              "    <div>\n",
              "<style scoped>\n",
              "    .dataframe tbody tr th:only-of-type {\n",
              "        vertical-align: middle;\n",
              "    }\n",
              "\n",
              "    .dataframe tbody tr th {\n",
              "        vertical-align: top;\n",
              "    }\n",
              "\n",
              "    .dataframe thead th {\n",
              "        text-align: right;\n",
              "    }\n",
              "</style>\n",
              "<table border=\"1\" class=\"dataframe\">\n",
              "  <thead>\n",
              "    <tr style=\"text-align: right;\">\n",
              "      <th></th>\n",
              "      <th>UserID</th>\n",
              "      <th>Gender</th>\n",
              "      <th>Age</th>\n",
              "      <th>Occupation</th>\n",
              "      <th>Zip-code</th>\n",
              "    </tr>\n",
              "  </thead>\n",
              "  <tbody>\n",
              "    <tr>\n",
              "      <th>0</th>\n",
              "      <td>1</td>\n",
              "      <td>F</td>\n",
              "      <td>1</td>\n",
              "      <td>10</td>\n",
              "      <td>48067</td>\n",
              "    </tr>\n",
              "    <tr>\n",
              "      <th>1</th>\n",
              "      <td>2</td>\n",
              "      <td>M</td>\n",
              "      <td>56</td>\n",
              "      <td>16</td>\n",
              "      <td>70072</td>\n",
              "    </tr>\n",
              "    <tr>\n",
              "      <th>2</th>\n",
              "      <td>3</td>\n",
              "      <td>M</td>\n",
              "      <td>25</td>\n",
              "      <td>15</td>\n",
              "      <td>55117</td>\n",
              "    </tr>\n",
              "    <tr>\n",
              "      <th>3</th>\n",
              "      <td>4</td>\n",
              "      <td>M</td>\n",
              "      <td>45</td>\n",
              "      <td>7</td>\n",
              "      <td>02460</td>\n",
              "    </tr>\n",
              "    <tr>\n",
              "      <th>4</th>\n",
              "      <td>5</td>\n",
              "      <td>M</td>\n",
              "      <td>25</td>\n",
              "      <td>20</td>\n",
              "      <td>55455</td>\n",
              "    </tr>\n",
              "    <tr>\n",
              "      <th>...</th>\n",
              "      <td>...</td>\n",
              "      <td>...</td>\n",
              "      <td>...</td>\n",
              "      <td>...</td>\n",
              "      <td>...</td>\n",
              "    </tr>\n",
              "    <tr>\n",
              "      <th>6035</th>\n",
              "      <td>6036</td>\n",
              "      <td>F</td>\n",
              "      <td>25</td>\n",
              "      <td>15</td>\n",
              "      <td>32603</td>\n",
              "    </tr>\n",
              "    <tr>\n",
              "      <th>6036</th>\n",
              "      <td>6037</td>\n",
              "      <td>F</td>\n",
              "      <td>45</td>\n",
              "      <td>1</td>\n",
              "      <td>76006</td>\n",
              "    </tr>\n",
              "    <tr>\n",
              "      <th>6037</th>\n",
              "      <td>6038</td>\n",
              "      <td>F</td>\n",
              "      <td>56</td>\n",
              "      <td>1</td>\n",
              "      <td>14706</td>\n",
              "    </tr>\n",
              "    <tr>\n",
              "      <th>6038</th>\n",
              "      <td>6039</td>\n",
              "      <td>F</td>\n",
              "      <td>45</td>\n",
              "      <td>0</td>\n",
              "      <td>01060</td>\n",
              "    </tr>\n",
              "    <tr>\n",
              "      <th>6039</th>\n",
              "      <td>6040</td>\n",
              "      <td>M</td>\n",
              "      <td>25</td>\n",
              "      <td>6</td>\n",
              "      <td>11106</td>\n",
              "    </tr>\n",
              "  </tbody>\n",
              "</table>\n",
              "<p>6040 rows × 5 columns</p>\n",
              "</div>\n",
              "    <div class=\"colab-df-buttons\">\n",
              "\n",
              "  <div class=\"colab-df-container\">\n",
              "    <button class=\"colab-df-convert\" onclick=\"convertToInteractive('df-772d4088-0a8a-433d-bd1c-f64147cde601')\"\n",
              "            title=\"Convert this dataframe to an interactive table.\"\n",
              "            style=\"display:none;\">\n",
              "\n",
              "  <svg xmlns=\"http://www.w3.org/2000/svg\" height=\"24px\" viewBox=\"0 -960 960 960\">\n",
              "    <path d=\"M120-120v-720h720v720H120Zm60-500h600v-160H180v160Zm220 220h160v-160H400v160Zm0 220h160v-160H400v160ZM180-400h160v-160H180v160Zm440 0h160v-160H620v160ZM180-180h160v-160H180v160Zm440 0h160v-160H620v160Z\"/>\n",
              "  </svg>\n",
              "    </button>\n",
              "\n",
              "  <style>\n",
              "    .colab-df-container {\n",
              "      display:flex;\n",
              "      gap: 12px;\n",
              "    }\n",
              "\n",
              "    .colab-df-convert {\n",
              "      background-color: #E8F0FE;\n",
              "      border: none;\n",
              "      border-radius: 50%;\n",
              "      cursor: pointer;\n",
              "      display: none;\n",
              "      fill: #1967D2;\n",
              "      height: 32px;\n",
              "      padding: 0 0 0 0;\n",
              "      width: 32px;\n",
              "    }\n",
              "\n",
              "    .colab-df-convert:hover {\n",
              "      background-color: #E2EBFA;\n",
              "      box-shadow: 0px 1px 2px rgba(60, 64, 67, 0.3), 0px 1px 3px 1px rgba(60, 64, 67, 0.15);\n",
              "      fill: #174EA6;\n",
              "    }\n",
              "\n",
              "    .colab-df-buttons div {\n",
              "      margin-bottom: 4px;\n",
              "    }\n",
              "\n",
              "    [theme=dark] .colab-df-convert {\n",
              "      background-color: #3B4455;\n",
              "      fill: #D2E3FC;\n",
              "    }\n",
              "\n",
              "    [theme=dark] .colab-df-convert:hover {\n",
              "      background-color: #434B5C;\n",
              "      box-shadow: 0px 1px 3px 1px rgba(0, 0, 0, 0.15);\n",
              "      filter: drop-shadow(0px 1px 2px rgba(0, 0, 0, 0.3));\n",
              "      fill: #FFFFFF;\n",
              "    }\n",
              "  </style>\n",
              "\n",
              "    <script>\n",
              "      const buttonEl =\n",
              "        document.querySelector('#df-772d4088-0a8a-433d-bd1c-f64147cde601 button.colab-df-convert');\n",
              "      buttonEl.style.display =\n",
              "        google.colab.kernel.accessAllowed ? 'block' : 'none';\n",
              "\n",
              "      async function convertToInteractive(key) {\n",
              "        const element = document.querySelector('#df-772d4088-0a8a-433d-bd1c-f64147cde601');\n",
              "        const dataTable =\n",
              "          await google.colab.kernel.invokeFunction('convertToInteractive',\n",
              "                                                    [key], {});\n",
              "        if (!dataTable) return;\n",
              "\n",
              "        const docLinkHtml = 'Like what you see? Visit the ' +\n",
              "          '<a target=\"_blank\" href=https://colab.research.google.com/notebooks/data_table.ipynb>data table notebook</a>'\n",
              "          + ' to learn more about interactive tables.';\n",
              "        element.innerHTML = '';\n",
              "        dataTable['output_type'] = 'display_data';\n",
              "        await google.colab.output.renderOutput(dataTable, element);\n",
              "        const docLink = document.createElement('div');\n",
              "        docLink.innerHTML = docLinkHtml;\n",
              "        element.appendChild(docLink);\n",
              "      }\n",
              "    </script>\n",
              "  </div>\n",
              "\n",
              "\n",
              "<div id=\"df-1084c955-9b02-4828-b75d-7c6b3706ba18\">\n",
              "  <button class=\"colab-df-quickchart\" onclick=\"quickchart('df-1084c955-9b02-4828-b75d-7c6b3706ba18')\"\n",
              "            title=\"Suggest charts.\"\n",
              "            style=\"display:none;\">\n",
              "\n",
              "<svg xmlns=\"http://www.w3.org/2000/svg\" height=\"24px\"viewBox=\"0 0 24 24\"\n",
              "     width=\"24px\">\n",
              "    <g>\n",
              "        <path d=\"M19 3H5c-1.1 0-2 .9-2 2v14c0 1.1.9 2 2 2h14c1.1 0 2-.9 2-2V5c0-1.1-.9-2-2-2zM9 17H7v-7h2v7zm4 0h-2V7h2v10zm4 0h-2v-4h2v4z\"/>\n",
              "    </g>\n",
              "</svg>\n",
              "  </button>\n",
              "\n",
              "<style>\n",
              "  .colab-df-quickchart {\n",
              "      --bg-color: #E8F0FE;\n",
              "      --fill-color: #1967D2;\n",
              "      --hover-bg-color: #E2EBFA;\n",
              "      --hover-fill-color: #174EA6;\n",
              "      --disabled-fill-color: #AAA;\n",
              "      --disabled-bg-color: #DDD;\n",
              "  }\n",
              "\n",
              "  [theme=dark] .colab-df-quickchart {\n",
              "      --bg-color: #3B4455;\n",
              "      --fill-color: #D2E3FC;\n",
              "      --hover-bg-color: #434B5C;\n",
              "      --hover-fill-color: #FFFFFF;\n",
              "      --disabled-bg-color: #3B4455;\n",
              "      --disabled-fill-color: #666;\n",
              "  }\n",
              "\n",
              "  .colab-df-quickchart {\n",
              "    background-color: var(--bg-color);\n",
              "    border: none;\n",
              "    border-radius: 50%;\n",
              "    cursor: pointer;\n",
              "    display: none;\n",
              "    fill: var(--fill-color);\n",
              "    height: 32px;\n",
              "    padding: 0;\n",
              "    width: 32px;\n",
              "  }\n",
              "\n",
              "  .colab-df-quickchart:hover {\n",
              "    background-color: var(--hover-bg-color);\n",
              "    box-shadow: 0 1px 2px rgba(60, 64, 67, 0.3), 0 1px 3px 1px rgba(60, 64, 67, 0.15);\n",
              "    fill: var(--button-hover-fill-color);\n",
              "  }\n",
              "\n",
              "  .colab-df-quickchart-complete:disabled,\n",
              "  .colab-df-quickchart-complete:disabled:hover {\n",
              "    background-color: var(--disabled-bg-color);\n",
              "    fill: var(--disabled-fill-color);\n",
              "    box-shadow: none;\n",
              "  }\n",
              "\n",
              "  .colab-df-spinner {\n",
              "    border: 2px solid var(--fill-color);\n",
              "    border-color: transparent;\n",
              "    border-bottom-color: var(--fill-color);\n",
              "    animation:\n",
              "      spin 1s steps(1) infinite;\n",
              "  }\n",
              "\n",
              "  @keyframes spin {\n",
              "    0% {\n",
              "      border-color: transparent;\n",
              "      border-bottom-color: var(--fill-color);\n",
              "      border-left-color: var(--fill-color);\n",
              "    }\n",
              "    20% {\n",
              "      border-color: transparent;\n",
              "      border-left-color: var(--fill-color);\n",
              "      border-top-color: var(--fill-color);\n",
              "    }\n",
              "    30% {\n",
              "      border-color: transparent;\n",
              "      border-left-color: var(--fill-color);\n",
              "      border-top-color: var(--fill-color);\n",
              "      border-right-color: var(--fill-color);\n",
              "    }\n",
              "    40% {\n",
              "      border-color: transparent;\n",
              "      border-right-color: var(--fill-color);\n",
              "      border-top-color: var(--fill-color);\n",
              "    }\n",
              "    60% {\n",
              "      border-color: transparent;\n",
              "      border-right-color: var(--fill-color);\n",
              "    }\n",
              "    80% {\n",
              "      border-color: transparent;\n",
              "      border-right-color: var(--fill-color);\n",
              "      border-bottom-color: var(--fill-color);\n",
              "    }\n",
              "    90% {\n",
              "      border-color: transparent;\n",
              "      border-bottom-color: var(--fill-color);\n",
              "    }\n",
              "  }\n",
              "</style>\n",
              "\n",
              "  <script>\n",
              "    async function quickchart(key) {\n",
              "      const quickchartButtonEl =\n",
              "        document.querySelector('#' + key + ' button');\n",
              "      quickchartButtonEl.disabled = true;  // To prevent multiple clicks.\n",
              "      quickchartButtonEl.classList.add('colab-df-spinner');\n",
              "      try {\n",
              "        const charts = await google.colab.kernel.invokeFunction(\n",
              "            'suggestCharts', [key], {});\n",
              "      } catch (error) {\n",
              "        console.error('Error during call to suggestCharts:', error);\n",
              "      }\n",
              "      quickchartButtonEl.classList.remove('colab-df-spinner');\n",
              "      quickchartButtonEl.classList.add('colab-df-quickchart-complete');\n",
              "    }\n",
              "    (() => {\n",
              "      let quickchartButtonEl =\n",
              "        document.querySelector('#df-1084c955-9b02-4828-b75d-7c6b3706ba18 button');\n",
              "      quickchartButtonEl.style.display =\n",
              "        google.colab.kernel.accessAllowed ? 'block' : 'none';\n",
              "    })();\n",
              "  </script>\n",
              "</div>\n",
              "    </div>\n",
              "  </div>\n"
            ]
          },
          "metadata": {},
          "execution_count": 15
        }
      ]
    },
    {
      "cell_type": "code",
      "source": [
        "moviesdat"
      ],
      "metadata": {
        "colab": {
          "base_uri": "https://localhost:8080/",
          "height": 423
        },
        "id": "t9iMOUc-0eGG",
        "outputId": "2c6e8472-6ee6-461b-b44e-c295c78dface"
      },
      "execution_count": null,
      "outputs": [
        {
          "output_type": "execute_result",
          "data": {
            "text/plain": [
              "      MovieID                               Title  \\\n",
              "0           1                    Toy Story (1995)   \n",
              "1           2                      Jumanji (1995)   \n",
              "2           3             Grumpier Old Men (1995)   \n",
              "3           4            Waiting to Exhale (1995)   \n",
              "4           5  Father of the Bride Part II (1995)   \n",
              "...       ...                                 ...   \n",
              "3878     3948             Meet the Parents (2000)   \n",
              "3879     3949          Requiem for a Dream (2000)   \n",
              "3880     3950                    Tigerland (2000)   \n",
              "3881     3951             Two Family House (2000)   \n",
              "3882     3952               Contender, The (2000)   \n",
              "\n",
              "                            Genres  \n",
              "0      Animation|Children's|Comedy  \n",
              "1     Adventure|Children's|Fantasy  \n",
              "2                   Comedy|Romance  \n",
              "3                     Comedy|Drama  \n",
              "4                           Comedy  \n",
              "...                            ...  \n",
              "3878                        Comedy  \n",
              "3879                         Drama  \n",
              "3880                         Drama  \n",
              "3881                         Drama  \n",
              "3882                Drama|Thriller  \n",
              "\n",
              "[3883 rows x 3 columns]"
            ],
            "text/html": [
              "\n",
              "  <div id=\"df-63551140-c48a-46fd-8cbc-c1c4abad62a0\" class=\"colab-df-container\">\n",
              "    <div>\n",
              "<style scoped>\n",
              "    .dataframe tbody tr th:only-of-type {\n",
              "        vertical-align: middle;\n",
              "    }\n",
              "\n",
              "    .dataframe tbody tr th {\n",
              "        vertical-align: top;\n",
              "    }\n",
              "\n",
              "    .dataframe thead th {\n",
              "        text-align: right;\n",
              "    }\n",
              "</style>\n",
              "<table border=\"1\" class=\"dataframe\">\n",
              "  <thead>\n",
              "    <tr style=\"text-align: right;\">\n",
              "      <th></th>\n",
              "      <th>MovieID</th>\n",
              "      <th>Title</th>\n",
              "      <th>Genres</th>\n",
              "    </tr>\n",
              "  </thead>\n",
              "  <tbody>\n",
              "    <tr>\n",
              "      <th>0</th>\n",
              "      <td>1</td>\n",
              "      <td>Toy Story (1995)</td>\n",
              "      <td>Animation|Children's|Comedy</td>\n",
              "    </tr>\n",
              "    <tr>\n",
              "      <th>1</th>\n",
              "      <td>2</td>\n",
              "      <td>Jumanji (1995)</td>\n",
              "      <td>Adventure|Children's|Fantasy</td>\n",
              "    </tr>\n",
              "    <tr>\n",
              "      <th>2</th>\n",
              "      <td>3</td>\n",
              "      <td>Grumpier Old Men (1995)</td>\n",
              "      <td>Comedy|Romance</td>\n",
              "    </tr>\n",
              "    <tr>\n",
              "      <th>3</th>\n",
              "      <td>4</td>\n",
              "      <td>Waiting to Exhale (1995)</td>\n",
              "      <td>Comedy|Drama</td>\n",
              "    </tr>\n",
              "    <tr>\n",
              "      <th>4</th>\n",
              "      <td>5</td>\n",
              "      <td>Father of the Bride Part II (1995)</td>\n",
              "      <td>Comedy</td>\n",
              "    </tr>\n",
              "    <tr>\n",
              "      <th>...</th>\n",
              "      <td>...</td>\n",
              "      <td>...</td>\n",
              "      <td>...</td>\n",
              "    </tr>\n",
              "    <tr>\n",
              "      <th>3878</th>\n",
              "      <td>3948</td>\n",
              "      <td>Meet the Parents (2000)</td>\n",
              "      <td>Comedy</td>\n",
              "    </tr>\n",
              "    <tr>\n",
              "      <th>3879</th>\n",
              "      <td>3949</td>\n",
              "      <td>Requiem for a Dream (2000)</td>\n",
              "      <td>Drama</td>\n",
              "    </tr>\n",
              "    <tr>\n",
              "      <th>3880</th>\n",
              "      <td>3950</td>\n",
              "      <td>Tigerland (2000)</td>\n",
              "      <td>Drama</td>\n",
              "    </tr>\n",
              "    <tr>\n",
              "      <th>3881</th>\n",
              "      <td>3951</td>\n",
              "      <td>Two Family House (2000)</td>\n",
              "      <td>Drama</td>\n",
              "    </tr>\n",
              "    <tr>\n",
              "      <th>3882</th>\n",
              "      <td>3952</td>\n",
              "      <td>Contender, The (2000)</td>\n",
              "      <td>Drama|Thriller</td>\n",
              "    </tr>\n",
              "  </tbody>\n",
              "</table>\n",
              "<p>3883 rows × 3 columns</p>\n",
              "</div>\n",
              "    <div class=\"colab-df-buttons\">\n",
              "\n",
              "  <div class=\"colab-df-container\">\n",
              "    <button class=\"colab-df-convert\" onclick=\"convertToInteractive('df-63551140-c48a-46fd-8cbc-c1c4abad62a0')\"\n",
              "            title=\"Convert this dataframe to an interactive table.\"\n",
              "            style=\"display:none;\">\n",
              "\n",
              "  <svg xmlns=\"http://www.w3.org/2000/svg\" height=\"24px\" viewBox=\"0 -960 960 960\">\n",
              "    <path d=\"M120-120v-720h720v720H120Zm60-500h600v-160H180v160Zm220 220h160v-160H400v160Zm0 220h160v-160H400v160ZM180-400h160v-160H180v160Zm440 0h160v-160H620v160ZM180-180h160v-160H180v160Zm440 0h160v-160H620v160Z\"/>\n",
              "  </svg>\n",
              "    </button>\n",
              "\n",
              "  <style>\n",
              "    .colab-df-container {\n",
              "      display:flex;\n",
              "      gap: 12px;\n",
              "    }\n",
              "\n",
              "    .colab-df-convert {\n",
              "      background-color: #E8F0FE;\n",
              "      border: none;\n",
              "      border-radius: 50%;\n",
              "      cursor: pointer;\n",
              "      display: none;\n",
              "      fill: #1967D2;\n",
              "      height: 32px;\n",
              "      padding: 0 0 0 0;\n",
              "      width: 32px;\n",
              "    }\n",
              "\n",
              "    .colab-df-convert:hover {\n",
              "      background-color: #E2EBFA;\n",
              "      box-shadow: 0px 1px 2px rgba(60, 64, 67, 0.3), 0px 1px 3px 1px rgba(60, 64, 67, 0.15);\n",
              "      fill: #174EA6;\n",
              "    }\n",
              "\n",
              "    .colab-df-buttons div {\n",
              "      margin-bottom: 4px;\n",
              "    }\n",
              "\n",
              "    [theme=dark] .colab-df-convert {\n",
              "      background-color: #3B4455;\n",
              "      fill: #D2E3FC;\n",
              "    }\n",
              "\n",
              "    [theme=dark] .colab-df-convert:hover {\n",
              "      background-color: #434B5C;\n",
              "      box-shadow: 0px 1px 3px 1px rgba(0, 0, 0, 0.15);\n",
              "      filter: drop-shadow(0px 1px 2px rgba(0, 0, 0, 0.3));\n",
              "      fill: #FFFFFF;\n",
              "    }\n",
              "  </style>\n",
              "\n",
              "    <script>\n",
              "      const buttonEl =\n",
              "        document.querySelector('#df-63551140-c48a-46fd-8cbc-c1c4abad62a0 button.colab-df-convert');\n",
              "      buttonEl.style.display =\n",
              "        google.colab.kernel.accessAllowed ? 'block' : 'none';\n",
              "\n",
              "      async function convertToInteractive(key) {\n",
              "        const element = document.querySelector('#df-63551140-c48a-46fd-8cbc-c1c4abad62a0');\n",
              "        const dataTable =\n",
              "          await google.colab.kernel.invokeFunction('convertToInteractive',\n",
              "                                                    [key], {});\n",
              "        if (!dataTable) return;\n",
              "\n",
              "        const docLinkHtml = 'Like what you see? Visit the ' +\n",
              "          '<a target=\"_blank\" href=https://colab.research.google.com/notebooks/data_table.ipynb>data table notebook</a>'\n",
              "          + ' to learn more about interactive tables.';\n",
              "        element.innerHTML = '';\n",
              "        dataTable['output_type'] = 'display_data';\n",
              "        await google.colab.output.renderOutput(dataTable, element);\n",
              "        const docLink = document.createElement('div');\n",
              "        docLink.innerHTML = docLinkHtml;\n",
              "        element.appendChild(docLink);\n",
              "      }\n",
              "    </script>\n",
              "  </div>\n",
              "\n",
              "\n",
              "<div id=\"df-2deec886-e471-4bd1-ae1a-2d65bb666ad5\">\n",
              "  <button class=\"colab-df-quickchart\" onclick=\"quickchart('df-2deec886-e471-4bd1-ae1a-2d65bb666ad5')\"\n",
              "            title=\"Suggest charts.\"\n",
              "            style=\"display:none;\">\n",
              "\n",
              "<svg xmlns=\"http://www.w3.org/2000/svg\" height=\"24px\"viewBox=\"0 0 24 24\"\n",
              "     width=\"24px\">\n",
              "    <g>\n",
              "        <path d=\"M19 3H5c-1.1 0-2 .9-2 2v14c0 1.1.9 2 2 2h14c1.1 0 2-.9 2-2V5c0-1.1-.9-2-2-2zM9 17H7v-7h2v7zm4 0h-2V7h2v10zm4 0h-2v-4h2v4z\"/>\n",
              "    </g>\n",
              "</svg>\n",
              "  </button>\n",
              "\n",
              "<style>\n",
              "  .colab-df-quickchart {\n",
              "      --bg-color: #E8F0FE;\n",
              "      --fill-color: #1967D2;\n",
              "      --hover-bg-color: #E2EBFA;\n",
              "      --hover-fill-color: #174EA6;\n",
              "      --disabled-fill-color: #AAA;\n",
              "      --disabled-bg-color: #DDD;\n",
              "  }\n",
              "\n",
              "  [theme=dark] .colab-df-quickchart {\n",
              "      --bg-color: #3B4455;\n",
              "      --fill-color: #D2E3FC;\n",
              "      --hover-bg-color: #434B5C;\n",
              "      --hover-fill-color: #FFFFFF;\n",
              "      --disabled-bg-color: #3B4455;\n",
              "      --disabled-fill-color: #666;\n",
              "  }\n",
              "\n",
              "  .colab-df-quickchart {\n",
              "    background-color: var(--bg-color);\n",
              "    border: none;\n",
              "    border-radius: 50%;\n",
              "    cursor: pointer;\n",
              "    display: none;\n",
              "    fill: var(--fill-color);\n",
              "    height: 32px;\n",
              "    padding: 0;\n",
              "    width: 32px;\n",
              "  }\n",
              "\n",
              "  .colab-df-quickchart:hover {\n",
              "    background-color: var(--hover-bg-color);\n",
              "    box-shadow: 0 1px 2px rgba(60, 64, 67, 0.3), 0 1px 3px 1px rgba(60, 64, 67, 0.15);\n",
              "    fill: var(--button-hover-fill-color);\n",
              "  }\n",
              "\n",
              "  .colab-df-quickchart-complete:disabled,\n",
              "  .colab-df-quickchart-complete:disabled:hover {\n",
              "    background-color: var(--disabled-bg-color);\n",
              "    fill: var(--disabled-fill-color);\n",
              "    box-shadow: none;\n",
              "  }\n",
              "\n",
              "  .colab-df-spinner {\n",
              "    border: 2px solid var(--fill-color);\n",
              "    border-color: transparent;\n",
              "    border-bottom-color: var(--fill-color);\n",
              "    animation:\n",
              "      spin 1s steps(1) infinite;\n",
              "  }\n",
              "\n",
              "  @keyframes spin {\n",
              "    0% {\n",
              "      border-color: transparent;\n",
              "      border-bottom-color: var(--fill-color);\n",
              "      border-left-color: var(--fill-color);\n",
              "    }\n",
              "    20% {\n",
              "      border-color: transparent;\n",
              "      border-left-color: var(--fill-color);\n",
              "      border-top-color: var(--fill-color);\n",
              "    }\n",
              "    30% {\n",
              "      border-color: transparent;\n",
              "      border-left-color: var(--fill-color);\n",
              "      border-top-color: var(--fill-color);\n",
              "      border-right-color: var(--fill-color);\n",
              "    }\n",
              "    40% {\n",
              "      border-color: transparent;\n",
              "      border-right-color: var(--fill-color);\n",
              "      border-top-color: var(--fill-color);\n",
              "    }\n",
              "    60% {\n",
              "      border-color: transparent;\n",
              "      border-right-color: var(--fill-color);\n",
              "    }\n",
              "    80% {\n",
              "      border-color: transparent;\n",
              "      border-right-color: var(--fill-color);\n",
              "      border-bottom-color: var(--fill-color);\n",
              "    }\n",
              "    90% {\n",
              "      border-color: transparent;\n",
              "      border-bottom-color: var(--fill-color);\n",
              "    }\n",
              "  }\n",
              "</style>\n",
              "\n",
              "  <script>\n",
              "    async function quickchart(key) {\n",
              "      const quickchartButtonEl =\n",
              "        document.querySelector('#' + key + ' button');\n",
              "      quickchartButtonEl.disabled = true;  // To prevent multiple clicks.\n",
              "      quickchartButtonEl.classList.add('colab-df-spinner');\n",
              "      try {\n",
              "        const charts = await google.colab.kernel.invokeFunction(\n",
              "            'suggestCharts', [key], {});\n",
              "      } catch (error) {\n",
              "        console.error('Error during call to suggestCharts:', error);\n",
              "      }\n",
              "      quickchartButtonEl.classList.remove('colab-df-spinner');\n",
              "      quickchartButtonEl.classList.add('colab-df-quickchart-complete');\n",
              "    }\n",
              "    (() => {\n",
              "      let quickchartButtonEl =\n",
              "        document.querySelector('#df-2deec886-e471-4bd1-ae1a-2d65bb666ad5 button');\n",
              "      quickchartButtonEl.style.display =\n",
              "        google.colab.kernel.accessAllowed ? 'block' : 'none';\n",
              "    })();\n",
              "  </script>\n",
              "</div>\n",
              "    </div>\n",
              "  </div>\n"
            ]
          },
          "metadata": {},
          "execution_count": 16
        }
      ]
    },
    {
      "cell_type": "code",
      "source": [
        "df = ratingsdat.merge ( moviesdat , how=\"left\" , on='MovieID' )\n",
        "df1 = df.merge ( usersdat , how=\"left\" , on='UserID' )\n",
        "ratingsdat.to_hdf('data.h5', key='rating')\n",
        "moviesdat.to_hdf('data.h5', key='movie')\n",
        "usersdat.to_hdf('data.h5', key='user')\n",
        "df1.to_hdf('data.h5', key='data_use')"
      ],
      "metadata": {
        "id": "8gORu8v94Po0"
      },
      "execution_count": null,
      "outputs": []
    },
    {
      "cell_type": "markdown",
      "metadata": {
        "id": "s-_wm8RwEJ2D"
      },
      "source": [
        "## Report some basic details of the data you collected.  For example:\n",
        "\n",
        "*  How many movies have an average rating over 4.5 overall?\n",
        "*  How many movies have an average rating over 4.5 among men?  How about women?\n",
        "*  How many movies have an *median* rating over 4.5 among men over age 30?  How about women over age 30?\n",
        "*  What are the ten most popular movies?\n",
        "    * Choose what you consider to be a reasonable defintion of \"popular\".\n",
        "    * Be perpared to defend this choice.\n",
        "*  Make some conjectures about how easy various groups are to please? Support your answers with data!  \n",
        "    *  For example, one might conjecture that people between the ages of 1 and 10 are the easiest to please since they are all young children.  This conjecture may or may not be true, but how would you support or disprove either conclusion with with data?\n",
        "    *  Be sure to come up with your own conjectures and support them with data!\n",
        "\n",
        "    รายงานรายละเอียดพื้นฐานของข้อมูลที่คุณรวบรวม ตัวอย่างเช่น:\n",
        "มีภาพยนตร์กี่เรื่องที่มีเรตติ้งเฉลี่ยมากกว่า 4.5 โดยรวม?\n",
        "\n",
        "มีภาพยนตร์กี่เรื่องที่มีเรตติ้งเฉลี่ยมากกว่า 4.5 ในหมู่ผู้ชาย? แล้วผู้หญิงล่ะ?\n",
        "\n",
        "มีภาพยนตร์กี่เรื่องที่มีคะแนนเฉลี่ยมากกว่า 4.5 ในกลุ่มผู้ชายอายุเกิน 30 ปี แล้วผู้หญิงอายุเกิน 30 ล่ะ?\n",
        "\n",
        "ภาพยนตร์ยอดนิยมสิบเรื่องคืออะไร?\n",
        "\n",
        "เลือกสิ่งที่คุณพิจารณาว่าเป็นคำจำกัดความที่สมเหตุสมผลของ \"ยอดนิยม\"\n",
        "\n",
        "พร้อมที่จะปกป้องทางเลือกนี้\n",
        "\n",
        "ลองคาดเดาดูว่าการเอาใจกลุ่มต่างๆ เป็นเรื่องง่ายแค่ไหน? สนับสนุนคำตอบของคุณด้วยข้อมูล!\n",
        "\n",
        "ตัวอย่างเช่น บางคนอาจคาดเดาว่าผู้ที่มีอายุระหว่าง 1 ถึง 10 ปีเป็นกลุ่มที่เอาใจง่ายที่สุดเนื่องจากพวกเขาล้วนแต่เป็นเด็กเล็ก การคาดเดานี้อาจจะจริงหรือไม่ก็ได้ แต่คุณจะสนับสนุนหรือหักล้างข้อสรุปด้วยข้อมูลอย่างไร\n",
        "\n",
        "อย่าลืมคิดสมมติฐานของคุณเองและสนับสนุนข้อมูลเหล่านั้น!"
      ]
    },
    {
      "cell_type": "markdown",
      "source": [
        "###1.1\n",
        "How many movies have an average rating over 4.5 overall? มีภาพยนตร์กี่เรื่องที่มีเรตติ้งเฉลี่ยมากกว่า 4.5 โดยรวม?\n",
        "- ได้ว่า มี 21 เรื่อง"
      ],
      "metadata": {
        "id": "snQdb3u9eP5k"
      }
    },
    {
      "cell_type": "code",
      "source": [
        "average_rating = df1[['Title','Rating']].groupby('Title').mean('Rating')\n",
        "average_rating[average_rating['Rating'] > 4.5].count()"
      ],
      "metadata": {
        "colab": {
          "base_uri": "https://localhost:8080/"
        },
        "id": "IwW6YLAu4tDZ",
        "outputId": "d4a433ee-36b7-4eba-f458-32367bd800de"
      },
      "execution_count": null,
      "outputs": [
        {
          "output_type": "execute_result",
          "data": {
            "text/plain": [
              "Rating    21\n",
              "dtype: int64"
            ]
          },
          "metadata": {},
          "execution_count": 18
        }
      ]
    },
    {
      "cell_type": "markdown",
      "source": [
        "###1.2\n",
        "How many movies have an average rating over 4.5 among men?  How about women? มีภาพยนตร์กี่เรื่องที่มีเรตติ้งเฉลี่ยมากกว่า 4.5 ในหมู่ผู้ชาย? ในหมู่ผู้หญิง?\n",
        "- ได้ว่า ผู้ชาย 23 เรื่อง ผู้หญิง 51 เรื่อง"
      ],
      "metadata": {
        "id": "IwUjf7-XeVKj"
      }
    },
    {
      "cell_type": "code",
      "source": [
        "rating_gender = df1[['Title','Gender','Rating']]\n",
        "\n",
        "Male_rating = rating_gender[rating_gender['Gender']== 'M']\n",
        "Female_rating = rating_gender[rating_gender['Gender']=='F']\n",
        "\n",
        "Male_AverageRating = Male_rating.groupby('Title').mean()\n",
        "Female_AverageRating = Female_rating.groupby('Title').mean()"
      ],
      "metadata": {
        "colab": {
          "base_uri": "https://localhost:8080/"
        },
        "id": "lcD0le5uY9CZ",
        "outputId": "eed430a9-4fb8-4af9-920b-b2ffa134ddb5"
      },
      "execution_count": null,
      "outputs": [
        {
          "output_type": "stream",
          "name": "stderr",
          "text": [
            "<ipython-input-19-c9c651b0dbf4>:6: FutureWarning: The default value of numeric_only in DataFrameGroupBy.mean is deprecated. In a future version, numeric_only will default to False. Either specify numeric_only or select only columns which should be valid for the function.\n",
            "  Male_AverageRating = Male_rating.groupby('Title').mean()\n",
            "<ipython-input-19-c9c651b0dbf4>:7: FutureWarning: The default value of numeric_only in DataFrameGroupBy.mean is deprecated. In a future version, numeric_only will default to False. Either specify numeric_only or select only columns which should be valid for the function.\n",
            "  Female_AverageRating = Female_rating.groupby('Title').mean()\n"
          ]
        }
      ]
    },
    {
      "cell_type": "code",
      "source": [
        "Male_AverageRating[Male_AverageRating ['Rating'] > 4.5].count() #male"
      ],
      "metadata": {
        "colab": {
          "base_uri": "https://localhost:8080/"
        },
        "id": "WmlAKNI1W01j",
        "outputId": "daf96ffe-23f2-4253-cd8a-ab28925586ce"
      },
      "execution_count": null,
      "outputs": [
        {
          "output_type": "execute_result",
          "data": {
            "text/plain": [
              "Rating    23\n",
              "dtype: int64"
            ]
          },
          "metadata": {},
          "execution_count": 20
        }
      ]
    },
    {
      "cell_type": "code",
      "source": [
        "Female_AverageRating[Female_AverageRating['Rating'] > 4.5].count() #female"
      ],
      "metadata": {
        "colab": {
          "base_uri": "https://localhost:8080/"
        },
        "id": "X-FJUyYx4v5-",
        "outputId": "60425d9f-8830-4f40-a116-dea505dd4e6f"
      },
      "execution_count": null,
      "outputs": [
        {
          "output_type": "execute_result",
          "data": {
            "text/plain": [
              "Rating    51\n",
              "dtype: int64"
            ]
          },
          "metadata": {},
          "execution_count": 21
        }
      ]
    },
    {
      "cell_type": "markdown",
      "source": [
        "###1.3\n",
        "How many movies have an median rating over 4.5 among men over age 30? How about women over age 30? มีภาพยนตร์กี่เรื่องที่มีคะแนนเฉลี่ยมากกว่า 4.5 ในกลุ่มผู้ชายและผู้หญิงอายุเกิน 30 ปี\n",
        "- ได้ว่า ผู้ชาย 86 เรื่อง ผู้หญิง 149 เรื่อง"
      ],
      "metadata": {
        "id": "Vcbg_ghtfWnt"
      }
    },
    {
      "cell_type": "code",
      "source": [
        "Age_Rating = df1[['Title','Age','Gender','Rating']] #columnที่เราจะใช้\n",
        "\n",
        "Male30_rating = Age_Rating[(Age_Rating['Gender']=='M') & (Age_Rating['Age'] > 30)]\n",
        "Female30_rating = Age_Rating[(Age_Rating['Gender']=='F') & (Age_Rating['Age'] > 30)]\n",
        "\n",
        "MedianMale30_rating = Male30_rating.groupby('Title').median()\n",
        "MedianFemale30_rating = Female30_rating.groupby('Title').median()"
      ],
      "metadata": {
        "colab": {
          "base_uri": "https://localhost:8080/"
        },
        "id": "5-4zcmH_YfpI",
        "outputId": "c2da486f-2f8c-4b81-cda1-fc5d0541d527"
      },
      "execution_count": null,
      "outputs": [
        {
          "output_type": "stream",
          "name": "stderr",
          "text": [
            "<ipython-input-22-8c0c41bd1ef2>:6: FutureWarning: The default value of numeric_only in DataFrameGroupBy.median is deprecated. In a future version, numeric_only will default to False. Either specify numeric_only or select only columns which should be valid for the function.\n",
            "  MedianMale30_rating = Male30_rating.groupby('Title').median()\n",
            "<ipython-input-22-8c0c41bd1ef2>:7: FutureWarning: The default value of numeric_only in DataFrameGroupBy.median is deprecated. In a future version, numeric_only will default to False. Either specify numeric_only or select only columns which should be valid for the function.\n",
            "  MedianFemale30_rating = Female30_rating.groupby('Title').median()\n"
          ]
        }
      ]
    },
    {
      "cell_type": "code",
      "source": [
        "MedianMale30_rating[MedianMale30_rating['Rating'] > 4.5].count()"
      ],
      "metadata": {
        "colab": {
          "base_uri": "https://localhost:8080/"
        },
        "id": "2YhbTkmXYInm",
        "outputId": "44ad747f-affa-4bc2-a6dd-e9fd1d22377c"
      },
      "execution_count": null,
      "outputs": [
        {
          "output_type": "execute_result",
          "data": {
            "text/plain": [
              "Age       86\n",
              "Rating    86\n",
              "dtype: int64"
            ]
          },
          "metadata": {},
          "execution_count": 23
        }
      ]
    },
    {
      "cell_type": "code",
      "source": [
        "MedianFemale30_rating[MedianFemale30_rating['Rating'] > 4.5].count()"
      ],
      "metadata": {
        "colab": {
          "base_uri": "https://localhost:8080/"
        },
        "id": "bWYbk2cyX3bi",
        "outputId": "58a4954c-3a1b-4648-9956-0164150da9d7"
      },
      "execution_count": null,
      "outputs": [
        {
          "output_type": "execute_result",
          "data": {
            "text/plain": [
              "Age       149\n",
              "Rating    149\n",
              "dtype: int64"
            ]
          },
          "metadata": {},
          "execution_count": 24
        }
      ]
    },
    {
      "cell_type": "markdown",
      "source": [
        "###1.4\n",
        " What are the ten most popular movies?\n",
        "Choose what you consider to be a reasonable defintion of \"popular\".\n",
        "Be perpared to defend this choice.\n",
        "\n",
        "ภาพยนตร์ยอดนิยมสิบเรื่องคืออะไร?\n",
        "- American Beauty (1999)\n",
        "- Star Wars: Episode IV - A New Hope (1977)\n",
        "- Raiders of the Lost Ark (1981)\n",
        "- Star Wars: Episode V - The Empire Strikes Back (1980)\n",
        "- Godfather, The (1972)\n",
        "- Schindler's List (1993)\n",
        "- Shawshank Redemption, The (1994)\n",
        "- Matrix, The (1999)\n",
        "- Saving Private Ryan (1998)\n",
        "- Sixth Sense, The (1999)\n",
        "\n",
        "เลือกสิ่งที่คุณพิจารณาว่าเป็นคำจำกัดความที่สมเหตุสมผลของ \"ยอดนิยม\"\n",
        "พร้อมที่จะปกป้องทางเลือกนี้\n",
        "- Popular >> Rating"
      ],
      "metadata": {
        "id": "IfdhzdD2jcth"
      }
    },
    {
      "cell_type": "code",
      "source": [
        "PopularMovies_rating = df1[['Title','Age','Gender','Rating']]\n",
        "PopularMovies_rating = PopularMovies_rating[PopularMovies_rating['Rating'] == 5 ]\n",
        "PopularMovies = PopularMovies_rating[['Title','Rating']].groupby('Title').count().sort_values(by='Rating',ascending = False)\n",
        "PopularMovies.head(10)"
      ],
      "metadata": {
        "id": "q_3eP1WNZO1V",
        "colab": {
          "base_uri": "https://localhost:8080/",
          "height": 394
        },
        "outputId": "cb2f8c50-950f-4189-c731-83aeacaf2ecd"
      },
      "execution_count": null,
      "outputs": [
        {
          "output_type": "execute_result",
          "data": {
            "text/plain": [
              "                                                    Rating\n",
              "Title                                                     \n",
              "American Beauty (1999)                                1963\n",
              "Star Wars: Episode IV - A New Hope (1977)             1826\n",
              "Raiders of the Lost Ark (1981)                        1500\n",
              "Star Wars: Episode V - The Empire Strikes Back ...    1483\n",
              "Godfather, The (1972)                                 1475\n",
              "Schindler's List (1993)                               1475\n",
              "Shawshank Redemption, The (1994)                      1457\n",
              "Matrix, The (1999)                                    1430\n",
              "Saving Private Ryan (1998)                            1405\n",
              "Sixth Sense, The (1999)                               1385"
            ],
            "text/html": [
              "\n",
              "  <div id=\"df-423a3157-35e8-48a9-8401-29b6272ece7d\" class=\"colab-df-container\">\n",
              "    <div>\n",
              "<style scoped>\n",
              "    .dataframe tbody tr th:only-of-type {\n",
              "        vertical-align: middle;\n",
              "    }\n",
              "\n",
              "    .dataframe tbody tr th {\n",
              "        vertical-align: top;\n",
              "    }\n",
              "\n",
              "    .dataframe thead th {\n",
              "        text-align: right;\n",
              "    }\n",
              "</style>\n",
              "<table border=\"1\" class=\"dataframe\">\n",
              "  <thead>\n",
              "    <tr style=\"text-align: right;\">\n",
              "      <th></th>\n",
              "      <th>Rating</th>\n",
              "    </tr>\n",
              "    <tr>\n",
              "      <th>Title</th>\n",
              "      <th></th>\n",
              "    </tr>\n",
              "  </thead>\n",
              "  <tbody>\n",
              "    <tr>\n",
              "      <th>American Beauty (1999)</th>\n",
              "      <td>1963</td>\n",
              "    </tr>\n",
              "    <tr>\n",
              "      <th>Star Wars: Episode IV - A New Hope (1977)</th>\n",
              "      <td>1826</td>\n",
              "    </tr>\n",
              "    <tr>\n",
              "      <th>Raiders of the Lost Ark (1981)</th>\n",
              "      <td>1500</td>\n",
              "    </tr>\n",
              "    <tr>\n",
              "      <th>Star Wars: Episode V - The Empire Strikes Back (1980)</th>\n",
              "      <td>1483</td>\n",
              "    </tr>\n",
              "    <tr>\n",
              "      <th>Godfather, The (1972)</th>\n",
              "      <td>1475</td>\n",
              "    </tr>\n",
              "    <tr>\n",
              "      <th>Schindler's List (1993)</th>\n",
              "      <td>1475</td>\n",
              "    </tr>\n",
              "    <tr>\n",
              "      <th>Shawshank Redemption, The (1994)</th>\n",
              "      <td>1457</td>\n",
              "    </tr>\n",
              "    <tr>\n",
              "      <th>Matrix, The (1999)</th>\n",
              "      <td>1430</td>\n",
              "    </tr>\n",
              "    <tr>\n",
              "      <th>Saving Private Ryan (1998)</th>\n",
              "      <td>1405</td>\n",
              "    </tr>\n",
              "    <tr>\n",
              "      <th>Sixth Sense, The (1999)</th>\n",
              "      <td>1385</td>\n",
              "    </tr>\n",
              "  </tbody>\n",
              "</table>\n",
              "</div>\n",
              "    <div class=\"colab-df-buttons\">\n",
              "\n",
              "  <div class=\"colab-df-container\">\n",
              "    <button class=\"colab-df-convert\" onclick=\"convertToInteractive('df-423a3157-35e8-48a9-8401-29b6272ece7d')\"\n",
              "            title=\"Convert this dataframe to an interactive table.\"\n",
              "            style=\"display:none;\">\n",
              "\n",
              "  <svg xmlns=\"http://www.w3.org/2000/svg\" height=\"24px\" viewBox=\"0 -960 960 960\">\n",
              "    <path d=\"M120-120v-720h720v720H120Zm60-500h600v-160H180v160Zm220 220h160v-160H400v160Zm0 220h160v-160H400v160ZM180-400h160v-160H180v160Zm440 0h160v-160H620v160ZM180-180h160v-160H180v160Zm440 0h160v-160H620v160Z\"/>\n",
              "  </svg>\n",
              "    </button>\n",
              "\n",
              "  <style>\n",
              "    .colab-df-container {\n",
              "      display:flex;\n",
              "      gap: 12px;\n",
              "    }\n",
              "\n",
              "    .colab-df-convert {\n",
              "      background-color: #E8F0FE;\n",
              "      border: none;\n",
              "      border-radius: 50%;\n",
              "      cursor: pointer;\n",
              "      display: none;\n",
              "      fill: #1967D2;\n",
              "      height: 32px;\n",
              "      padding: 0 0 0 0;\n",
              "      width: 32px;\n",
              "    }\n",
              "\n",
              "    .colab-df-convert:hover {\n",
              "      background-color: #E2EBFA;\n",
              "      box-shadow: 0px 1px 2px rgba(60, 64, 67, 0.3), 0px 1px 3px 1px rgba(60, 64, 67, 0.15);\n",
              "      fill: #174EA6;\n",
              "    }\n",
              "\n",
              "    .colab-df-buttons div {\n",
              "      margin-bottom: 4px;\n",
              "    }\n",
              "\n",
              "    [theme=dark] .colab-df-convert {\n",
              "      background-color: #3B4455;\n",
              "      fill: #D2E3FC;\n",
              "    }\n",
              "\n",
              "    [theme=dark] .colab-df-convert:hover {\n",
              "      background-color: #434B5C;\n",
              "      box-shadow: 0px 1px 3px 1px rgba(0, 0, 0, 0.15);\n",
              "      filter: drop-shadow(0px 1px 2px rgba(0, 0, 0, 0.3));\n",
              "      fill: #FFFFFF;\n",
              "    }\n",
              "  </style>\n",
              "\n",
              "    <script>\n",
              "      const buttonEl =\n",
              "        document.querySelector('#df-423a3157-35e8-48a9-8401-29b6272ece7d button.colab-df-convert');\n",
              "      buttonEl.style.display =\n",
              "        google.colab.kernel.accessAllowed ? 'block' : 'none';\n",
              "\n",
              "      async function convertToInteractive(key) {\n",
              "        const element = document.querySelector('#df-423a3157-35e8-48a9-8401-29b6272ece7d');\n",
              "        const dataTable =\n",
              "          await google.colab.kernel.invokeFunction('convertToInteractive',\n",
              "                                                    [key], {});\n",
              "        if (!dataTable) return;\n",
              "\n",
              "        const docLinkHtml = 'Like what you see? Visit the ' +\n",
              "          '<a target=\"_blank\" href=https://colab.research.google.com/notebooks/data_table.ipynb>data table notebook</a>'\n",
              "          + ' to learn more about interactive tables.';\n",
              "        element.innerHTML = '';\n",
              "        dataTable['output_type'] = 'display_data';\n",
              "        await google.colab.output.renderOutput(dataTable, element);\n",
              "        const docLink = document.createElement('div');\n",
              "        docLink.innerHTML = docLinkHtml;\n",
              "        element.appendChild(docLink);\n",
              "      }\n",
              "    </script>\n",
              "  </div>\n",
              "\n",
              "\n",
              "<div id=\"df-9a45cbcd-eb2b-4578-b5ea-502025856ee5\">\n",
              "  <button class=\"colab-df-quickchart\" onclick=\"quickchart('df-9a45cbcd-eb2b-4578-b5ea-502025856ee5')\"\n",
              "            title=\"Suggest charts.\"\n",
              "            style=\"display:none;\">\n",
              "\n",
              "<svg xmlns=\"http://www.w3.org/2000/svg\" height=\"24px\"viewBox=\"0 0 24 24\"\n",
              "     width=\"24px\">\n",
              "    <g>\n",
              "        <path d=\"M19 3H5c-1.1 0-2 .9-2 2v14c0 1.1.9 2 2 2h14c1.1 0 2-.9 2-2V5c0-1.1-.9-2-2-2zM9 17H7v-7h2v7zm4 0h-2V7h2v10zm4 0h-2v-4h2v4z\"/>\n",
              "    </g>\n",
              "</svg>\n",
              "  </button>\n",
              "\n",
              "<style>\n",
              "  .colab-df-quickchart {\n",
              "      --bg-color: #E8F0FE;\n",
              "      --fill-color: #1967D2;\n",
              "      --hover-bg-color: #E2EBFA;\n",
              "      --hover-fill-color: #174EA6;\n",
              "      --disabled-fill-color: #AAA;\n",
              "      --disabled-bg-color: #DDD;\n",
              "  }\n",
              "\n",
              "  [theme=dark] .colab-df-quickchart {\n",
              "      --bg-color: #3B4455;\n",
              "      --fill-color: #D2E3FC;\n",
              "      --hover-bg-color: #434B5C;\n",
              "      --hover-fill-color: #FFFFFF;\n",
              "      --disabled-bg-color: #3B4455;\n",
              "      --disabled-fill-color: #666;\n",
              "  }\n",
              "\n",
              "  .colab-df-quickchart {\n",
              "    background-color: var(--bg-color);\n",
              "    border: none;\n",
              "    border-radius: 50%;\n",
              "    cursor: pointer;\n",
              "    display: none;\n",
              "    fill: var(--fill-color);\n",
              "    height: 32px;\n",
              "    padding: 0;\n",
              "    width: 32px;\n",
              "  }\n",
              "\n",
              "  .colab-df-quickchart:hover {\n",
              "    background-color: var(--hover-bg-color);\n",
              "    box-shadow: 0 1px 2px rgba(60, 64, 67, 0.3), 0 1px 3px 1px rgba(60, 64, 67, 0.15);\n",
              "    fill: var(--button-hover-fill-color);\n",
              "  }\n",
              "\n",
              "  .colab-df-quickchart-complete:disabled,\n",
              "  .colab-df-quickchart-complete:disabled:hover {\n",
              "    background-color: var(--disabled-bg-color);\n",
              "    fill: var(--disabled-fill-color);\n",
              "    box-shadow: none;\n",
              "  }\n",
              "\n",
              "  .colab-df-spinner {\n",
              "    border: 2px solid var(--fill-color);\n",
              "    border-color: transparent;\n",
              "    border-bottom-color: var(--fill-color);\n",
              "    animation:\n",
              "      spin 1s steps(1) infinite;\n",
              "  }\n",
              "\n",
              "  @keyframes spin {\n",
              "    0% {\n",
              "      border-color: transparent;\n",
              "      border-bottom-color: var(--fill-color);\n",
              "      border-left-color: var(--fill-color);\n",
              "    }\n",
              "    20% {\n",
              "      border-color: transparent;\n",
              "      border-left-color: var(--fill-color);\n",
              "      border-top-color: var(--fill-color);\n",
              "    }\n",
              "    30% {\n",
              "      border-color: transparent;\n",
              "      border-left-color: var(--fill-color);\n",
              "      border-top-color: var(--fill-color);\n",
              "      border-right-color: var(--fill-color);\n",
              "    }\n",
              "    40% {\n",
              "      border-color: transparent;\n",
              "      border-right-color: var(--fill-color);\n",
              "      border-top-color: var(--fill-color);\n",
              "    }\n",
              "    60% {\n",
              "      border-color: transparent;\n",
              "      border-right-color: var(--fill-color);\n",
              "    }\n",
              "    80% {\n",
              "      border-color: transparent;\n",
              "      border-right-color: var(--fill-color);\n",
              "      border-bottom-color: var(--fill-color);\n",
              "    }\n",
              "    90% {\n",
              "      border-color: transparent;\n",
              "      border-bottom-color: var(--fill-color);\n",
              "    }\n",
              "  }\n",
              "</style>\n",
              "\n",
              "  <script>\n",
              "    async function quickchart(key) {\n",
              "      const quickchartButtonEl =\n",
              "        document.querySelector('#' + key + ' button');\n",
              "      quickchartButtonEl.disabled = true;  // To prevent multiple clicks.\n",
              "      quickchartButtonEl.classList.add('colab-df-spinner');\n",
              "      try {\n",
              "        const charts = await google.colab.kernel.invokeFunction(\n",
              "            'suggestCharts', [key], {});\n",
              "      } catch (error) {\n",
              "        console.error('Error during call to suggestCharts:', error);\n",
              "      }\n",
              "      quickchartButtonEl.classList.remove('colab-df-spinner');\n",
              "      quickchartButtonEl.classList.add('colab-df-quickchart-complete');\n",
              "    }\n",
              "    (() => {\n",
              "      let quickchartButtonEl =\n",
              "        document.querySelector('#df-9a45cbcd-eb2b-4578-b5ea-502025856ee5 button');\n",
              "      quickchartButtonEl.style.display =\n",
              "        google.colab.kernel.accessAllowed ? 'block' : 'none';\n",
              "    })();\n",
              "  </script>\n",
              "</div>\n",
              "    </div>\n",
              "  </div>\n"
            ]
          },
          "metadata": {},
          "execution_count": 25
        }
      ]
    },
    {
      "cell_type": "markdown",
      "source": [
        "#1.5\n",
        "ลองคาดเดาดูว่าการเอาใจกลุ่มต่างๆ เป็นเรื่องง่ายแค่ไหน? สนับสนุนคำตอบของคุณด้วยข้อมูล!\n",
        "ตัวอย่างเช่น บางคนอาจคาดเดาว่าผู้ที่มีอายุระหว่าง 1 ถึง 10 ปีเป็นกลุ่มที่เอาใจง่ายที่สุดเนื่องจากพวกเขาล้วนแต่เป็นเด็กเล็ก การคาดเดานี้อาจจะจริงหรือไม่ก็ได้ แต่คุณจะสนับสนุนหรือหักล้างข้อสรุปด้วยข้อมูลอย่างไร\n",
        "\n",
        "อย่าลืมคิดสมมติฐานของคุณเองและสนับสนุนข้อมูลเหล่านั้น!\n",
        "- Ho:กลุ่มผู้ที่มีอายุ มากกว่า 30 ปี เอาใจง่ายกว่า กลุ่มผู้ที่มีอายุมากกว่า 40 ปี\n",
        "- Ha:กลุ่มผู้ที่มีอายุ มากกว่า 30 ปี ไม่ได้เอาใจง่ายกว่า กลุ่มผู้ที่มีอายุมากกว่า 40 ปี\n",
        "\n",
        "โดยดูได้จากratingที่ได้"
      ],
      "metadata": {
        "id": "k2GEklt8ZKoh"
      }
    },
    {
      "cell_type": "markdown",
      "source": [
        "ถ้าเปรียบเทียบ\n",
        "\n",
        "- คนที่มีอายุมากกว่า 30 ปี ให้คะแนน 90\n",
        "\n",
        "- คนที่มีอายุมากกว่า 40 ปี ให้คะแนน 124\n",
        "\n",
        "- สรุปแล้วคนที่มีอายุมากกว่า 40 ปี จะเอาใจง่ายมากกว่ากลุ่มคนที่อายุมากกว่า 30 ปี  เพราะจะให้คะแนนมากกว่า\n",
        "\n",
        "- จะได้ว่า กลุ่มผู้ที่มีอายุ มากกว่า 30 ปี ไม่ได้เอาใจง่ายกว่า กลุ่มผู้ที่มีอายุมากกว่า 40 ปี"
      ],
      "metadata": {
        "id": "EBG-zgQBcT2O"
      }
    },
    {
      "cell_type": "code",
      "source": [
        "Age_Rating = df1[['Title','Age','Gender','Rating']] #columnที่เราจะใช้\n",
        "Median30_rating = Age_Rating[(Age_Rating['Age'] > 29)]\n",
        "Median30_rating = Median30_rating.groupby('Title').median()\n",
        "\n",
        "Median40_rating = Age_Rating[(Age_Rating['Age'] > 39)]\n",
        "Median40_rating = Median40_rating.groupby('Title').median()"
      ],
      "metadata": {
        "colab": {
          "base_uri": "https://localhost:8080/"
        },
        "id": "5G9IZOjcaxh-",
        "outputId": "cee587cb-341d-45c8-eca8-c6b1cf7c4363"
      },
      "execution_count": null,
      "outputs": [
        {
          "output_type": "stream",
          "name": "stderr",
          "text": [
            "<ipython-input-58-bb04554c2879>:3: FutureWarning: The default value of numeric_only in DataFrameGroupBy.median is deprecated. In a future version, numeric_only will default to False. Either specify numeric_only or select only columns which should be valid for the function.\n",
            "  Median30_rating = Median30_rating.groupby('Title').median()\n",
            "<ipython-input-58-bb04554c2879>:6: FutureWarning: The default value of numeric_only in DataFrameGroupBy.median is deprecated. In a future version, numeric_only will default to False. Either specify numeric_only or select only columns which should be valid for the function.\n",
            "  Median40_rating = Median40_rating.groupby('Title').median()\n"
          ]
        }
      ]
    },
    {
      "cell_type": "code",
      "source": [
        "Median30_rating[Median30_rating['Rating'] > 4.5].count()"
      ],
      "metadata": {
        "colab": {
          "base_uri": "https://localhost:8080/"
        },
        "id": "EZF-9Qx3bP07",
        "outputId": "099aeeb4-8fdb-4a5c-a890-9f07f1e7acf2"
      },
      "execution_count": null,
      "outputs": [
        {
          "output_type": "execute_result",
          "data": {
            "text/plain": [
              "Age       90\n",
              "Rating    90\n",
              "dtype: int64"
            ]
          },
          "metadata": {},
          "execution_count": 59
        }
      ]
    },
    {
      "cell_type": "code",
      "source": [
        "Median40_rating[Median40_rating['Rating'] > 4.5].count()"
      ],
      "metadata": {
        "colab": {
          "base_uri": "https://localhost:8080/"
        },
        "id": "XtJi4wqAbbVm",
        "outputId": "5c57ed98-5634-44f1-abc2-0ad25a0ea9d3"
      },
      "execution_count": null,
      "outputs": [
        {
          "output_type": "execute_result",
          "data": {
            "text/plain": [
              "Age       124\n",
              "Rating    124\n",
              "dtype: int64"
            ]
          },
          "metadata": {},
          "execution_count": 60
        }
      ]
    },
    {
      "cell_type": "markdown",
      "metadata": {
        "id": "rmCWpjs-EJ2E"
      },
      "source": [
        "# Problem 2: Expand your investigation to histograms\n",
        "\n",
        "**An obvious issue with any inferences drawn from Problem 1 is that we did not consider how many times a movie was rated.**\n",
        "* Plot a histogram of the ratings of all movies.\n",
        "* Plot a histogram of the *number* of ratings each movie recieved.\n",
        "* Plot a histogram of the *average rating* for each movie.\n",
        "* Plot a histogram of the *average rating* for movies which are rated more than 100 times.\n",
        "    * What do you observe about the tails of the histogram where you use all the movies versus the one where you only use movies rated more than 100 times?\n",
        "    * Which highly rated movies would you trust are actually good?  Those rated more than 100 times or those rated less than 100 times?\n",
        "* Make some conjectures about the distribution of ratings? Support your answers with data!   \n",
        "    *  For example, what age range do you think has more extreme ratings?  Do you think children are more or less likely to rate a movie 1 or 5?\n",
        "    *  Be sure to come up with your own conjectures and support them with data!\n",
        "\n",
        "    ปัญหาที่ 2: ขยายการตรวจสอบของคุณเป็นฮิสโตแกรม\n",
        "ปัญหาที่ชัดเจนของการอนุมานจากปัญหาที่ 1 คือ เราไม่ได้พิจารณาว่าภาพยนตร์ได้รับการจัดอันดับกี่ครั้ง\n",
        "\n",
        "1. พล็อตกราฟเรตติ้งภาพยนตร์ทุกเรื่อง\n",
        "2. พล็อตฮิสโตแกรมของจำนวนเรตติ้งที่ภาพยนตร์แต่ละเรื่องได้รับ\n",
        "3. พล็อตฮิสโตแกรมของเรตติ้งเฉลี่ยของภาพยนตร์แต่ละเรื่อง\n",
        "4. พล็อตฮิสโตแกรมของเรตติ้งเฉลี่ยสำหรับภาพยนตร์ที่ได้รับเรตมากกว่า 100 ครั้ง\n",
        "5. คุณสังเกตเห็นอะไรเกี่ยวกับส่วนท้ายของฮิสโตแกรมที่คุณใช้ภาพยนตร์ทั้งหมดเทียบกับที่คุณใช้ภาพยนตร์ที่มีเรตมากกว่า 100 ครั้งเท่านั้น เหมือนเปรียบเทียบระหว่าง4กับ2\n",
        "6. ภาพยนตร์ที่ได้รับเรตติ้งสูงเรื่องใดที่คุณเชื่อว่าดีจริงๆ ผู้ที่ให้คะแนนมากกว่า\n",
        "100 ครั้ง หรือผู้ที่ให้คะแนนน้อยกว่า 100 ครั้ง?\n",
        "7. คาดเดาเกี่ยวกับการกระจายเรตติ้งบ้างไหม? สนับสนุนคำตอบของคุณด้วยข้อมูล!\n",
        "\n",
        "เช่น คุณคิดว่าช่วงอายุใดที่มีเรตติ้งสูงส่งกว่ากัน คุณคิดว่าเด็กๆ\n",
        "มีแนวโน้มที่จะให้คะแนนภาพยนตร์ 1 หรือ 5 มากหรือน้อย เพราะเหตุใด\n",
        "อย่าลืมคิดสมมติฐานของคุณเองและสนับสนุนข้อมูลเหล่านั้น!"
      ]
    },
    {
      "cell_type": "code",
      "source": [
        "from matplotlib import pyplot as plt"
      ],
      "metadata": {
        "id": "Uvxl_2pwpCNL"
      },
      "execution_count": null,
      "outputs": []
    },
    {
      "cell_type": "markdown",
      "source": [
        "###2.1\n",
        "Plot a histogram of the ratings of all movies. พล็อตกราฟเรตติ้งภาพยนตร์ทุกเรื่อง"
      ],
      "metadata": {
        "id": "X6sQ2Zd8r4MR"
      }
    },
    {
      "cell_type": "code",
      "source": [
        "df_HIS1 = df1[['Title','Rating']]\n",
        "df_HIS1 = df_HIS1.set_index('Title')\n",
        "plt.hist(df_HIS1)\n",
        "plt.title('Plot a histogram of the ratings of all movies') #ชื่อหัวตาราง\n",
        "plt.xlabel('Ratings') #แกนX\n",
        "plt.ylabel('Frequency') #แกนY\n",
        "plt.show() #โชว์กราฟ"
      ],
      "metadata": {
        "colab": {
          "base_uri": "https://localhost:8080/",
          "height": 472
        },
        "id": "09pigr7LsQ-8",
        "outputId": "ee65f849-0153-4d6e-8aec-8af140c7964a"
      },
      "execution_count": 66,
      "outputs": [
        {
          "output_type": "display_data",
          "data": {
            "text/plain": [
              "<Figure size 640x480 with 1 Axes>"
            ],
            "image/png": "[encoded data removed]"
          },
          "metadata": {}
        }
      ]
    },
    {
      "cell_type": "markdown",
      "source": [
        "###2.2\n",
        "Plot a histogram of the number of ratings each movie recieved. พล็อตฮิสโตแกรมของจำนวนเรตติ้งที่ภาพยนตร์แต่ละเรื่องได้รับ"
      ],
      "metadata": {
        "id": "3SGyWW8zdxUy"
      }
    },
    {
      "cell_type": "code",
      "source": [
        "df_HIS2 = df1[['Title','Rating']]\n",
        "df_HIS20 = df_HIS2.groupby('Title').count().sort_values(by='Rating',ascending = False)\n",
        "plt.hist(df_HIS20)\n",
        "plt.title('Plot a histogram of the number of ratings each movie recieved.')\n",
        "plt.xlabel('ratings each movie recieved')\n",
        "plt.ylabel('Frequency')\n",
        "plt.show()"
      ],
      "metadata": {
        "id": "9wkq2fW25dGH",
        "outputId": "91a8bd95-bbc6-447c-fbc3-1853b738e54f",
        "colab": {
          "base_uri": "https://localhost:8080/",
          "height": 472
        }
      },
      "execution_count": 68,
      "outputs": [
        {
          "output_type": "display_data",
          "data": {
            "text/plain": [
              "<Figure size 640x480 with 1 Axes>"
            ],
            "image/png": "[encoded data removed]"
          },
          "metadata": {}
        }
      ]
    },
    {
      "cell_type": "markdown",
      "source": [
        "###2.3\n",
        "Plot a histogram of the average rating for each movie. พล็อตฮิสโตแกรมของเรตติ้งเฉลี่ยของภาพยนตร์แต่ละเรื่อง"
      ],
      "metadata": {
        "id": "0ESUk2DfeQzg"
      }
    },
    {
      "cell_type": "code",
      "source": [
        "df_HIS3 = df1[['Title','Rating']]\n",
        "df_HIS30 = df_HIS3.groupby('Title').mean()\n",
        "plt.hist(df_HIS30)\n",
        "plt.title('Plot a histogram of the average rating for each movie.')\n",
        "plt.xlabel('average rating')\n",
        "plt.ylabel('Frequency')\n",
        "plt.show()"
      ],
      "metadata": {
        "id": "eHZW5VMw9-od",
        "outputId": "b2dcfe4f-bfcb-473d-a002-695960c14203",
        "colab": {
          "base_uri": "https://localhost:8080/",
          "height": 472
        }
      },
      "execution_count": 70,
      "outputs": [
        {
          "output_type": "display_data",
          "data": {
            "text/plain": [
              "<Figure size 640x480 with 1 Axes>"
            ],
            "image/png": "[encoded data removed]"
          },
          "metadata": {}
        }
      ]
    },
    {
      "cell_type": "markdown",
      "source": [
        "###2.4\n",
        "Plot a histogram of the average rating for movies which are rated more than 100 times. พล็อตฮิสโตแกรมของเรตติ้งเฉลี่ยสำหรับภาพยนตร์ที่ได้รับเรตมากกว่า 100 ครั้ง"
      ],
      "metadata": {
        "id": "Mu9rvwQ4f0Jr"
      }
    },
    {
      "cell_type": "code",
      "source": [
        "df_HIS4 = df1[['MovieID','Rating']]\n",
        "df_HIS40 = df_HIS4.groupby('MovieID').count().sort_values(by='Rating',ascending = False)\n",
        "df_HIS40_100_MA = df_HIS4.groupby('MovieID').mean()\n",
        "df_HIS40_100_MARe = df_HIS40_100_MA.reset_index()\n",
        "df_HIS40_100 = df_HIS40_100_MARe.merge(df_HIS40,how = 'left',on='MovieID')\n",
        "df_HIS40_100forplot = df_HIS40_100[df_HIS40_100['Rating_y'] >= 100]\n",
        "use_full = df_HIS40_100forplot[['MovieID','Rating_x']]\n",
        "use_full = use_full.set_index('MovieID')\n",
        "plt.hist(use_full)\n",
        "plt.title('Plot a histogram of the average rating for movies which are rated more than 100 times.')\n",
        "plt.xlabel('average rating ')\n",
        "plt.ylabel('Frequency')\n",
        "plt.show()"
      ],
      "metadata": {
        "id": "JE_s7aia-DNk",
        "outputId": "294d5753-20f4-4fd9-9d8f-7156a7448029",
        "colab": {
          "base_uri": "https://localhost:8080/",
          "height": 472
        }
      },
      "execution_count": 72,
      "outputs": [
        {
          "output_type": "display_data",
          "data": {
            "text/plain": [
              "<Figure size 640x480 with 1 Axes>"
            ],
            "image/png": "[encoded data removed]"
          },
          "metadata": {}
        }
      ]
    },
    {
      "cell_type": "markdown",
      "source": [
        "###2.5\n",
        "What do you observe about the tails of the histogram where you use all the movies versus the one where you only use movies rated more than 100 times? คุณสังเกตเห็นอะไรเกี่ยวกับส่วนท้ายของฮิสโตแกรมที่คุณใช้ภาพยนตร์ทั้งหมดเทียบกับที่คุณใช้ภาพยนตร์ที่มีเรตมากกว่า 100 ครั้งเท่านั้น เหมือนเปรียบเทียบระหว่าง4กับ2\n",
        "- จะเห็นได้ว่าค่า average rating ของที่เปรียบเทียบมากกว่า 100 ครั้ง จะมีความละเอียดน้อยกว่า average rating ของที่เปรียบเทียบข้อมูลทั้งหมด\n",
        "\n"
      ],
      "metadata": {
        "id": "jA9gOBLghT78"
      }
    },
    {
      "cell_type": "markdown",
      "source": [
        "###2.6\n",
        "Which highly rated movies would you trust are actually good?  Those rated more than 100 times or those rated less than 100 times? ภาพยนตร์ที่ได้รับเรตติ้งสูงเรื่องใดที่คุณเชื่อว่าดีจริงๆ ผู้ที่ให้คะแนนมากกว่า\n",
        "100 ครั้ง หรือผู้ที่ให้คะแนนน้อยกว่า 100 ครั้ง?\n",
        "\n",
        "- จะเห็นได้ว่าrateที่ได้มากที่สุดจะเป็น 3.0 เมื่อดูจากผู้ที่ให้คะแนนมากกว่า 100 ครั้ง และผู้ที่ให้คะแนนน้อยกว่า 100 ครั้ง"
      ],
      "metadata": {
        "id": "4vFoy2FLhp_a"
      }
    },
    {
      "cell_type": "code",
      "source": [
        "df_HIS6 = df1[['MovieID','Rating']]\n",
        "df_HIS60 = df_HIS6.groupby('MovieID').count().sort_values(by='Rating',ascending = False)\n",
        "df_use_hist_100_MA = df_HIS6.groupby('MovieID').mean()\n",
        "df_use_hist_100_MARe = df_use_hist_100_MA.reset_index()\n",
        "df_use_hist_100 = df_use_hist_100_MARe.merge(df_HIS60,how = 'left',on='MovieID')\n",
        "df_use_hist_100forplot = df_use_hist_100[df_use_hist_100['Rating_y'] <= 100]\n",
        "use_full = df_use_hist_100forplot[['MovieID','Rating_x']]\n",
        "use_full = use_full.set_index('MovieID')\n",
        "plt.hist(use_full)\n",
        "plt.title('Plot a histogram of the average rating for movies which are rated less than 100 times.')\n",
        "plt.xlabel('average rating ')\n",
        "plt.ylabel('Frequency')\n",
        "plt.show()"
      ],
      "metadata": {
        "id": "bpCml67APQ0a",
        "outputId": "93d08455-fc7a-473e-8371-8d5722cef847",
        "colab": {
          "base_uri": "https://localhost:8080/",
          "height": 472
        }
      },
      "execution_count": 75,
      "outputs": [
        {
          "output_type": "display_data",
          "data": {
            "text/plain": [
              "<Figure size 640x480 with 1 Axes>"
            ],
            "image/png": "[encoded data removed]"
          },
          "metadata": {}
        }
      ]
    },
    {
      "cell_type": "markdown",
      "source": [
        "###2.7\n",
        "- Make some conjectures about the distribution of ratings? Support your answers with data!\n",
        "-- For example, what age range do you think has more extreme ratings? Do you think children are more or less likely to rate a movie 1 or 5?\n",
        "-- Be sure to come up with your own conjectures and support them with data!\n",
        "คาดเดาเกี่ยวกับการกระจายเรตติ้งบ้างไหม? สนับสนุนคำตอบของคุณด้วยข้อมูล!\n",
        "เช่น คุณคิดว่าช่วงอายุใดที่มีเรตติ้งสูงส่งกว่ากัน คุณคิดว่าเด็กๆ มีแนวโน้มที่จะให้คะแนนภาพยนตร์ 1 หรือ 5 มากหรือน้อย เพราะเหตุใด อย่าลืมคิดสมมติฐานของคุณเองและสนับสนุนข้อมูลเหล่านั้น!"
      ],
      "metadata": {
        "id": "sj6XHskf73K7"
      }
    },
    {
      "cell_type": "code",
      "source": [
        "df_HIS7 = df1[['Age','Rating']]\n",
        "df_HIS7 = df_HIS7.groupby('Age').count().sort_values(by='Rating',ascending = False)\n",
        "df_HIS70_100_MA3 = df_HIS7.groupby('Age').mean()\n",
        "df_HIS70_100_MARe3 = df_HIS70_100_MA3.reset_index()\n",
        "df_HIS70_1003 = df_HIS70_100_MARe3.merge(df_HIS7,how = 'left',on='Age')\n",
        "df_HIS70_100forplot3 = df_HIS70_1003[df_HIS70_1003['Rating_y'] >= 100]\n",
        "df1_full3 = df_HIS70_100forplot3[['Age','Rating_x']]\n",
        "df1_full3 = df1_full3.set_index('Age')\n",
        "plt.hist(df1_full3)\n",
        "plt.title('Plot a histogram of the average rating for movies (Rating and age) which are rated more than 100 times.')\n",
        "plt.xlabel('average rating ')\n",
        "plt.ylabel('Frequency')\n",
        "plt.show()"
      ],
      "metadata": {
        "colab": {
          "base_uri": "https://localhost:8080/",
          "height": 472
        },
        "id": "ud32azP5hyzu",
        "outputId": "2c6b7108-a739-4963-9574-700c784d9db7"
      },
      "execution_count": 76,
      "outputs": [
        {
          "output_type": "display_data",
          "data": {
            "text/plain": [
              "<Figure size 640x480 with 1 Axes>"
            ],
            "image/png": "[encoded data removed]"
          },
          "metadata": {}
        }
      ]
    },
    {
      "cell_type": "markdown",
      "metadata": {
        "id": "EsUNU4p5EJ2E"
      },
      "source": [
        "\n",
        "# Problem 3:\n",
        "## Correlation:  Men versus women\n",
        "\n",
        "Let look more closely at the relationship between the pieces of data we have."
      ]
    },
    {
      "cell_type": "markdown",
      "metadata": {
        "id": "R99Lq8qyEJ2F"
      },
      "source": [
        "* Make a scatter plot of men versus women and their mean rating for every movie.\n",
        "* Make a scatter plot of men versus women and their mean rating for movies rated more than 200 times.\n",
        "* Compute the *correlation coefficent* between the ratings of men and women.\n",
        "    * What do you observe?\n",
        "    * Are the ratings similiar or not? Support your answer with data!\n",
        "* Conjecture under what circumstances the rating given by one gender can be used to predict the rating given by the other gender.\n",
        "    * For example, are men and women more similar when they are younger or older?\n",
        "    * Be sure to come up with your own conjectures and support them with data!\n",
        "    \n",
        "    ปัญหาที่ 3:\n",
        "ความสัมพันธ์: ผู้ชายกับผู้หญิง\n",
        "มาดูความสัมพันธ์ระหว่างชิ้นส่วนข้อมูลที่เรามีให้ละเอียดยิ่งขึ้น\n",
        "\n",
        "1. จัดทำโครงเรื่องแยกระหว่างผู้ชายกับผู้หญิง และเรตติ้งเฉลี่ยสำหรับภาพยนตร์ทุกเรื่อง\n",
        "\n",
        "2. จัดทำพล็อตเรื่องระหว่างผู้ชายกับผู้หญิงและเรตเฉลี่ยสำหรับภาพยนตร์ที่มีเรตมากกว่า 200 ครั้ง\n",
        "\n",
        "3. คำนวณค่าสัมประสิทธิ์สหสัมพันธ์ระหว่างการจัดอันดับของชายและหญิง\n",
        "\n",
        "คุณสังเกตอะไร?\n",
        "\n",
        "เรตติ้งใกล้เคียงกันหรือเปล่า? สนับสนุนคำตอบของคุณด้วยข้อมูล!\n",
        "\n",
        "4. การคาดเดาภายใต้สถานการณ์ใดที่การจัดอันดับที่กำหนดโดยเพศหนึ่งสามารถใช้เพื่อทำนายการจัดอันดับที่กำหนดโดยเพศอื่นได้\n",
        "\n",
        "ตัวอย่างเช่น ชายและหญิงมีความคล้ายคลึงกันมากขึ้นเมื่ออายุน้อยกว่าหรือมากกว่านั้น?\n",
        "\n",
        "อย่าลืมคิดสมมติฐานของคุณเองและสนับสนุนข้อมูลเหล่านั้น!"
      ]
    },
    {
      "cell_type": "markdown",
      "source": [
        "###3.1\n",
        "Make a scatter plot of men versus women and their mean rating for every movie. จัดทำโครงเรื่องแยกระหว่างผู้ชายกับผู้หญิง และเรตติ้งเฉลี่ยสำหรับภาพยนตร์ทุกเรื่อง"
      ],
      "metadata": {
        "id": "ud18_1sQo2jh"
      }
    },
    {
      "cell_type": "code",
      "execution_count": 77,
      "metadata": {
        "id": "Bx_W_Aq8EJ2F",
        "outputId": "651fa668-6192-43a5-8c54-426e45dccbe5",
        "colab": {
          "base_uri": "https://localhost:8080/",
          "height": 564
        }
      },
      "outputs": [
        {
          "output_type": "stream",
          "name": "stderr",
          "text": [
            "<ipython-input-77-cd0a3272e606>:4: FutureWarning: The default value of numeric_only in DataFrameGroupBy.mean is deprecated. In a future version, numeric_only will default to False. Either specify numeric_only or select only columns which should be valid for the function.\n",
            "  data_MaleMean = data_Male.groupby('Title').mean()\n",
            "<ipython-input-77-cd0a3272e606>:5: FutureWarning: The default value of numeric_only in DataFrameGroupBy.mean is deprecated. In a future version, numeric_only will default to False. Either specify numeric_only or select only columns which should be valid for the function.\n",
            "  data_FemaleMean = data_Female.groupby('Title').mean()\n"
          ]
        },
        {
          "output_type": "display_data",
          "data": {
            "text/plain": [
              "<Figure size 640x480 with 1 Axes>"
            ],
            "image/png": "[encoded data removed]"
          },
          "metadata": {}
        }
      ],
      "source": [
        "dataMaleFemale1 = df1[['Title','Gender','Rating']]\n",
        "data_Male = dataMaleFemale1[dataMaleFemale1['Gender']=='M']\n",
        "data_Female = dataMaleFemale1[dataMaleFemale1['Gender']=='F']\n",
        "data_MaleMean = data_Male.groupby('Title').mean()\n",
        "data_FemaleMean = data_Female.groupby('Title').mean()\n",
        "data_plot = data_MaleMean.merge(data_FemaleMean,how='left',on='Title')\n",
        "data_plot1 = data_plot.dropna()\n",
        "plt.scatter(data_plot1['Rating_x'], data_plot1['Rating_y'])\n",
        "plt.title('A scatter plot of men VS. women and their mean rating for every movie')\n",
        "plt.xlabel('mean rating men')\n",
        "plt.ylabel('mean rating women')\n",
        "plt.show()"
      ]
    },
    {
      "cell_type": "markdown",
      "source": [
        "###3.2\n",
        "Make a scatter plot of men versus women and their mean rating for movies rated more than 200 times. จัดทำพล็อตเรื่องระหว่างผู้ชายกับผู้หญิงและเรตเฉลี่ยสำหรับภาพยนตร์ที่มีเรตมากกว่า 200 ครั้ง"
      ],
      "metadata": {
        "id": "NG9BqDpqqW5W"
      }
    },
    {
      "cell_type": "code",
      "execution_count": 78,
      "metadata": {
        "id": "Ya2v4GJLEJ2G",
        "outputId": "bc8371fd-0fc9-4abc-e1b9-ab7cd7931929",
        "colab": {
          "base_uri": "https://localhost:8080/",
          "height": 564
        }
      },
      "outputs": [
        {
          "output_type": "stream",
          "name": "stderr",
          "text": [
            "<ipython-input-78-1befa2001e2f>:9: FutureWarning: The default value of numeric_only in DataFrameGroupBy.mean is deprecated. In a future version, numeric_only will default to False. Either specify numeric_only or select only columns which should be valid for the function.\n",
            "  data_MaleMean = data_Male.groupby('Title').mean()\n",
            "<ipython-input-78-1befa2001e2f>:10: FutureWarning: The default value of numeric_only in DataFrameGroupBy.mean is deprecated. In a future version, numeric_only will default to False. Either specify numeric_only or select only columns which should be valid for the function.\n",
            "  data_FemaleMean = data_Female.groupby('Title').mean()\n"
          ]
        },
        {
          "output_type": "display_data",
          "data": {
            "text/plain": [
              "<Figure size 640x480 with 1 Axes>"
            ],
            "image/png": "[encoded data removed]"
          },
          "metadata": {}
        }
      ],
      "source": [
        "data_MaleFemale0 = df1[['Title','Gender','Rating']]\n",
        "data_MF01 = data_MaleFemale0[['Title','Rating']]\n",
        "data_MF02 = data_MF01.groupby('Title').count().sort_values(by='Rating',ascending = False)\n",
        "data_MF03 = data_MF02.reset_index()\n",
        "\n",
        "data_Male = dataMaleFemale1[dataMaleFemale1['Gender']=='M'] #ข้อที่แล้ว\n",
        "data_Female = dataMaleFemale1[dataMaleFemale1['Gender']=='F'] #same on\n",
        "\n",
        "data_MaleMean = data_Male.groupby('Title').mean()\n",
        "data_FemaleMean = data_Female.groupby('Title').mean()\n",
        "\n",
        "data_MF04 = data_MF03.merge(data_MaleMean,how='left',on='Title')\n",
        "data_MF05 = data_MF03.merge(data_FemaleMean,how='left',on='Title')\n",
        "\n",
        "data_MF06 = data_MF04[data_MF04['Rating_x'] >= 200]\n",
        "datafullMale = data_MF06[['Title','Rating_y']]\n",
        "datafullMale = datafullMale.set_index('Title')\n",
        "\n",
        "data_MF07 = data_MF05[data_MF05['Rating_x'] >= 200]\n",
        "datafullaemale = data_MF07[['Title','Rating_y']]\n",
        "datafullaemale = datafullaemale.set_index('Title')\n",
        "\n",
        "plt.scatter(datafullMale, datafullaemale)\n",
        "plt.title('A scatter plot of men VS. women and their mean rating for every movie')\n",
        "plt.xlabel('mean rating men')\n",
        "plt.ylabel('mean rating women')\n",
        "plt.show()"
      ]
    },
    {
      "cell_type": "markdown",
      "metadata": {
        "id": "u3yh86uGEJ2G"
      },
      "source": [
        "###3.3\n",
        "Compute the correlation coefficent between the ratings of men and women. What do you observe? Are the ratings similiar or not? Support your answer with data! คำนวณค่าสัมประสิทธิ์สหสัมพันธ์ระหว่างการจัดอันดับของชายและหญิง?คุณสังเกตอะไร?เรตติ้งใกล้เคียงกันหรือเปล่า? สนับสนุนคำตอบของคุณด้วยข้อมูล!"
      ]
    },
    {
      "cell_type": "code",
      "execution_count": null,
      "metadata": {
        "id": "_lVFM48tEJ2G",
        "colab": {
          "base_uri": "https://localhost:8080/"
        },
        "outputId": "92171113-5363-40e8-c909-06e8632b1125"
      },
      "outputs": [
        {
          "output_type": "stream",
          "name": "stdout",
          "text": [
            "[[1.         0.76318989]\n",
            " [0.76318989 1.        ]]\n",
            "[[1.         0.91896272]\n",
            " [0.91896272 1.        ]]\n"
          ]
        }
      ],
      "source": [
        "# 3The correlation mean rating for every movie\n",
        "print(np.corrcoef(data_plot_nonna['Rating_x'],data_plot_nonna['Rating_y']))\n",
        "# The correlation movies rated more than 200 times\n",
        "print(np.corrcoef(use_full_M['Rating_y'],use_full_F['Rating_y']))\n"
      ]
    },
    {
      "cell_type": "markdown",
      "source": [
        "ชายและหญิงมีความคล้ายคลึงกันมากขึ้นเมื่ออายุน้อยกว่าหรือมากกว่านั้น\n",
        "\n",
        "H0 : เพศหญิงจะมีการให้คะแนนมากกว่าเพศชายในช่วงอายุเท่า ๆ กัน\n",
        "\n",
        "H1 : เพศหญิงจะมีการให้คะแนนน้อยกว่าเพศชายในช่วงอายุเท่า ๆ กัน\n",
        "\n",
        "ตอบ\n",
        "\n",
        "เพศหญิงจะมีการให้คะแนนมากกว่าเพศชายในช่วงอายุเท่า ๆ กัน"
      ],
      "metadata": {
        "id": "VLSu1YGbtaxm"
      }
    },
    {
      "cell_type": "code",
      "source": [
        "#4\n",
        "df_hist3 = df1[['Age','Rating']]\n",
        "df1_hist3 = df_hist3.groupby('Age').count().sort_values(by='Rating',ascending = False)\n",
        "df1_hist_100_MA3 = df_hist3.groupby('Age').mean()\n",
        "df1_hist_100_MARe3 = df1_hist_100_MA3.reset_index()\n",
        "df1_hist_1003 = df1_hist_100_MARe3.merge(df1_hist3,how = 'left',on='Age')\n",
        "df1_hist_100forplot3 = df1_hist_1003[df1_hist_1003['Rating_y'] >= 100]\n",
        "df1_full3 = df1_hist_100forplot3[['Age','Rating_x']]\n",
        "df1_full3 = df1_full3.set_index('Age')\n",
        "plt.hist(df1_full3)\n",
        "plt.title('Plot a histogram of the average rating for movies (Rating and age) which are rated more than 100 times.')\n",
        "plt.xlabel('average rating ')\n",
        "plt.ylabel('Frequency')\n",
        "plt.show()"
      ],
      "metadata": {
        "colab": {
          "base_uri": "https://localhost:8080/",
          "height": 472
        },
        "id": "hdGxiNdCp0aM",
        "outputId": "5b2f2774-7e2c-48b4-dea2-0b0790ab0aa7"
      },
      "execution_count": null,
      "outputs": [
        {
          "output_type": "display_data",
          "data": {
            "text/plain": [
              "<Figure size 640x480 with 1 Axes>"
            ],
            "image/png": "[encoded data removed]"
          },
          "metadata": {}
        }
      ]
    },
    {
      "cell_type": "code",
      "source": [
        "#4\n",
        "df_hist = df1[['Age','Rating']]\n",
        "df_hist = df_hist.set_index('Rating')\n",
        "plt.hist(df_hist)\n",
        "plt.title('Plot a histogram of the ratings of all movies')\n",
        "plt.xlabel('Ratings')\n",
        "plt.ylabel('Frequency')\n",
        "plt.show()"
      ],
      "metadata": {
        "colab": {
          "base_uri": "https://localhost:8080/",
          "height": 472
        },
        "id": "cKhgkLSvrwMo",
        "outputId": "67a0b36a-a35e-41e6-d079-022272959ec5"
      },
      "execution_count": null,
      "outputs": [
        {
          "output_type": "display_data",
          "data": {
            "text/plain": [
              "<Figure size 640x480 with 1 Axes>"
            ],
            "image/png": "[encoded data removed]"
          },
          "metadata": {}
        }
      ]
    },
    {
      "cell_type": "code",
      "source": [
        "#4\n",
        "df_hist = df1[['Gender','Rating']]\n",
        "df_hist = df_hist.set_index('Rating')\n",
        "plt.hist(df_hist)\n",
        "plt.title('Plot a histogram of the ratings of all movies')\n",
        "plt.xlabel('Ratings')\n",
        "plt.ylabel('Frequency')\n",
        "plt.show()"
      ],
      "metadata": {
        "colab": {
          "base_uri": "https://localhost:8080/",
          "height": 472
        },
        "id": "11Tu8bcSsiqN",
        "outputId": "9d38628f-9c17-4920-a4f4-614db91e5798"
      },
      "execution_count": null,
      "outputs": [
        {
          "output_type": "display_data",
          "data": {
            "text/plain": [
              "<Figure size 640x480 with 1 Axes>"
            ],
            "image/png": "[encoded data removed]"
          },
          "metadata": {}
        }
      ]
    },
    {
      "cell_type": "markdown",
      "metadata": {
        "id": "BTEV-FejEJ2G"
      },
      "source": [
        "Conjecture under what circumstances the rating given by one gender can be used to predict the rating given by the other gender\n",
        "Example\n",
        "Conjecture 1: Men and women are more similar when they are older, consider their rating over the same genres.\n",
        "\n",
        "Conjecture 2: Men and women more similar when they are academic/educator, artist, college/grad student, and programmer.\n",
        "\n",
        "Conjecture 3: Men and women more similar when they watch Action, Drama, War, and Triller.\n",
        "การประเมินภายใต้สถานการณ์ใดที่การจัดอันดับที่กำหนดโดยเพศหนึ่งสามารถใช้เพื่อทำนายการจัดอันดับที่กำหนดโดยเพศอื่นได้\n",
        "\n",
        "ตัวอย่าง\n",
        "\n",
        "การคาดเดาที่ 1: ชายและหญิงมีความคล้ายคลึงกันมากขึ้นเมื่ออายุมากขึ้น ลองพิจารณาการให้คะแนนมากกว่าประเภทเดียวกัน\n",
        "\n",
        "การคาดเดาที่ 2: ชายและหญิงมีความคล้ายคลึงกันมากขึ้นเมื่อพวกเขาเป็นนักวิชาการ/นักการศึกษา ศิลปิน นักศึกษาวิทยาลัย/บัณฑิต และโปรแกรมเมอร์\n",
        "\n",
        "การคาดเดาที่ 3: ชายและหญิงมีความคล้ายคลึงกันมากขึ้นเมื่อดูแอ็คชั่น ดราม่า สงคราม และทริลเลอร์'\n",
        "Conjecture 3: Men and women more similar when they watch Action, Drama, War, and Triller.\n",
        "\n"
      ]
    },
    {
      "cell_type": "code",
      "execution_count": null,
      "metadata": {
        "id": "wMVKEDLxEJ2H"
      },
      "outputs": [],
      "source": [
        "#1\n",
        "data_3_1 = df1[['Title','Gender','Age','Rating']]\n",
        "data_3_30 = data_3_1[data_3_1['Age']<30]\n",
        "data_3_40 = data_3_1[data_3_1['Age']>30]"
      ]
    },
    {
      "cell_type": "code",
      "source": [
        "#1_30\n",
        "data_3_30_TR = data_3_30[['Title','Gender','Rating']]\n",
        "data_Male_30 = data_3_30_TR[data_M_and_F['Gender']=='M']\n",
        "data_Femal_30 = data_3_30_TR[data_M_and_F['Gender']=='F']\n",
        "data_Male_30_Mean = data_Male_30.groupby('Title').mean()\n",
        "data_Female_30_Mean = data_Femal_30.groupby('Title').mean()\n",
        "data_plot_30 = data_Male_30_Mean.merge(data_Female_30_Mean,how='left',on='Title')\n",
        "data_plot_30_nonna = data_plot_30.dropna()\n",
        "plt.scatter(data_plot_30_nonna['Rating_x'], data_plot_30_nonna['Rating_x'])"
      ],
      "metadata": {
        "colab": {
          "base_uri": "https://localhost:8080/",
          "height": 606
        },
        "id": "NEknYgBAyAz8",
        "outputId": "7c9401ae-48a2-4861-a174-3fb8fcef1e66"
      },
      "execution_count": null,
      "outputs": [
        {
          "output_type": "stream",
          "name": "stderr",
          "text": [
            "<ipython-input-162-ad4a4edaf296>:3: UserWarning: Boolean Series key will be reindexed to match DataFrame index.\n",
            "  data_Male_30 = data_3_30_TR[data_M_and_F['Gender']=='M']\n",
            "<ipython-input-162-ad4a4edaf296>:4: UserWarning: Boolean Series key will be reindexed to match DataFrame index.\n",
            "  data_Femal_30 = data_3_30_TR[data_M_and_F['Gender']=='F']\n",
            "<ipython-input-162-ad4a4edaf296>:5: FutureWarning: The default value of numeric_only in DataFrameGroupBy.mean is deprecated. In a future version, numeric_only will default to False. Either specify numeric_only or select only columns which should be valid for the function.\n",
            "  data_Male_30_Mean = data_Male_30.groupby('Title').mean()\n",
            "<ipython-input-162-ad4a4edaf296>:6: FutureWarning: The default value of numeric_only in DataFrameGroupBy.mean is deprecated. In a future version, numeric_only will default to False. Either specify numeric_only or select only columns which should be valid for the function.\n",
            "  data_Female_30_Mean = data_Femal_30.groupby('Title').mean()\n"
          ]
        },
        {
          "output_type": "execute_result",
          "data": {
            "text/plain": [
              "<matplotlib.collections.PathCollection at 0x7f05f1954fd0>"
            ]
          },
          "metadata": {},
          "execution_count": 162
        },
        {
          "output_type": "display_data",
          "data": {
            "text/plain": [
              "<Figure size 640x480 with 1 Axes>"
            ],
            "image/png": "[encoded data removed]"
          },
          "metadata": {}
        }
      ]
    },
    {
      "cell_type": "code",
      "source": [
        "#1_40\n",
        "data_3_40_TR = data_3_40[['Title','Gender','Rating']]\n",
        "data_Male_40 = data_3_40_TR[data_M_and_F['Gender']=='M']\n",
        "data_Femal_40 = data_3_40_TR[data_M_and_F['Gender']=='F']\n",
        "data_Male_40_Mean = data_Male_40.groupby('Title').mean()\n",
        "data_Female_40_Mean = data_Femal_40.groupby('Title').mean()\n",
        "data_plot_40 = data_Male_40_Mean.merge(data_Female_40_Mean,how='left',on='Title')\n",
        "data_plot_40_nonna = data_plot_40.dropna()\n",
        "plt.scatter(data_plot_40_nonna['Rating_x'], data_plot_40_nonna['Rating_x'])"
      ],
      "metadata": {
        "colab": {
          "base_uri": "https://localhost:8080/",
          "height": 606
        },
        "id": "KX-pviAD1NRx",
        "outputId": "0f895e5e-d743-4b9d-885b-6ee5bff4b5e7"
      },
      "execution_count": null,
      "outputs": [
        {
          "output_type": "stream",
          "name": "stderr",
          "text": [
            "<ipython-input-163-01338495644f>:3: UserWarning: Boolean Series key will be reindexed to match DataFrame index.\n",
            "  data_Male_40 = data_3_40_TR[data_M_and_F['Gender']=='M']\n",
            "<ipython-input-163-01338495644f>:4: UserWarning: Boolean Series key will be reindexed to match DataFrame index.\n",
            "  data_Femal_40 = data_3_40_TR[data_M_and_F['Gender']=='F']\n",
            "<ipython-input-163-01338495644f>:5: FutureWarning: The default value of numeric_only in DataFrameGroupBy.mean is deprecated. In a future version, numeric_only will default to False. Either specify numeric_only or select only columns which should be valid for the function.\n",
            "  data_Male_40_Mean = data_Male_40.groupby('Title').mean()\n",
            "<ipython-input-163-01338495644f>:6: FutureWarning: The default value of numeric_only in DataFrameGroupBy.mean is deprecated. In a future version, numeric_only will default to False. Either specify numeric_only or select only columns which should be valid for the function.\n",
            "  data_Female_40_Mean = data_Femal_40.groupby('Title').mean()\n"
          ]
        },
        {
          "output_type": "execute_result",
          "data": {
            "text/plain": [
              "<matplotlib.collections.PathCollection at 0x7f05f37bf040>"
            ]
          },
          "metadata": {},
          "execution_count": 163
        },
        {
          "output_type": "display_data",
          "data": {
            "text/plain": [
              "<Figure size 640x480 with 1 Axes>"
            ],
            "image/png": "[encoded data removed]"
          },
          "metadata": {}
        }
      ]
    },
    {
      "cell_type": "code",
      "source": [
        "#2\n",
        "data_3_3 = df1[['Title','Gender','Occupation','Rating']]\n",
        "data_3_academic = data_3_3[data_3_3['Occupation']==15]\n",
        "data_3_programmer = data_3_3[data_3_3['Occupation']==12]\n",
        "data_3_college = data_3_3[data_3_3['Occupation']==6]"
      ],
      "metadata": {
        "id": "mfm_-1EC1s0p"
      },
      "execution_count": null,
      "outputs": []
    },
    {
      "cell_type": "code",
      "source": [
        "#2academic\n",
        "data_3_academic_TR = data_3_academic[['Title','Gender','Rating']]\n",
        "data_Male_academic = data_3_academic_TR[data_M_and_F['Gender']=='M']\n",
        "data_Femal_academic = data_3_academic_TR[data_M_and_F['Gender']=='F']\n",
        "data_Male_academic_Mean = data_Male_academic.groupby('Title').mean()\n",
        "data_Female_academic_Mean = data_Femal_academic.groupby('Title').mean()\n",
        "data_plot_academic = data_Male_academic_Mean.merge(data_Female_academic_Mean,how='left',on='Title')\n",
        "data_plot_academic_nonna = data_plot_academic.dropna()\n",
        "plt.scatter(data_plot_academic_nonna['Rating_x'], data_plot_academic_nonna['Rating_y'])"
      ],
      "metadata": {
        "id": "wUiDbpQx1rSS",
        "outputId": "9e0cd24f-c4a6-4481-a83e-7049acd0d25d",
        "colab": {
          "base_uri": "https://localhost:8080/",
          "height": 606
        }
      },
      "execution_count": null,
      "outputs": [
        {
          "output_type": "stream",
          "name": "stderr",
          "text": [
            "<ipython-input-82-aaa641a05af3>:3: UserWarning: Boolean Series key will be reindexed to match DataFrame index.\n",
            "  data_Male_academic = data_3_academic_TR[data_M_and_F['Gender']=='M']\n",
            "<ipython-input-82-aaa641a05af3>:4: UserWarning: Boolean Series key will be reindexed to match DataFrame index.\n",
            "  data_Femal_academic = data_3_academic_TR[data_M_and_F['Gender']=='F']\n",
            "<ipython-input-82-aaa641a05af3>:5: FutureWarning: The default value of numeric_only in DataFrameGroupBy.mean is deprecated. In a future version, numeric_only will default to False. Either specify numeric_only or select only columns which should be valid for the function.\n",
            "  data_Male_academic_Mean = data_Male_academic.groupby('Title').mean()\n",
            "<ipython-input-82-aaa641a05af3>:6: FutureWarning: The default value of numeric_only in DataFrameGroupBy.mean is deprecated. In a future version, numeric_only will default to False. Either specify numeric_only or select only columns which should be valid for the function.\n",
            "  data_Female_academic_Mean = data_Femal_academic.groupby('Title').mean()\n"
          ]
        },
        {
          "output_type": "execute_result",
          "data": {
            "text/plain": [
              "<matplotlib.collections.PathCollection at 0x7f05f9a067d0>"
            ]
          },
          "metadata": {},
          "execution_count": 82
        },
        {
          "output_type": "display_data",
          "data": {
            "text/plain": [
              "<Figure size 640x480 with 1 Axes>"
            ],
            "image/png": "[encoded data removed]"
          },
          "metadata": {}
        }
      ]
    },
    {
      "cell_type": "code",
      "source": [
        "#2programmer\n",
        "data_3_programmer_TR = data_3_programmer[['Title','Gender','Rating']]\n",
        "data_Male_programmer = data_3_programmer_TR[data_M_and_F['Gender']=='M']\n",
        "data_Femal_programmer = data_3_programmer_TR[data_M_and_F['Gender']=='F']\n",
        "data_Male_programmer_Mean = data_Male_programmer.groupby('Title').mean()\n",
        "data_Female_programmer_Mean = data_Femal_programmer.groupby('Title').mean()\n",
        "data_plot_programmer = data_Male_programmer_Mean.merge(data_Female_programmer_Mean,how='left',on='Title')\n",
        "data_plot_programmer_nonna = data_plot_programmer.dropna()\n",
        "plt.scatter(data_plot_programmer_nonna['Rating_x'], data_plot_programmer_nonna['Rating_y'])"
      ],
      "metadata": {
        "id": "WG_rWOCF1N-t",
        "outputId": "91717260-527e-46f6-bd94-b8e16a951675",
        "colab": {
          "base_uri": "https://localhost:8080/",
          "height": 606
        }
      },
      "execution_count": null,
      "outputs": [
        {
          "output_type": "stream",
          "name": "stderr",
          "text": [
            "<ipython-input-83-ded7dd502adf>:3: UserWarning: Boolean Series key will be reindexed to match DataFrame index.\n",
            "  data_Male_programmer = data_3_programmer_TR[data_M_and_F['Gender']=='M']\n",
            "<ipython-input-83-ded7dd502adf>:4: UserWarning: Boolean Series key will be reindexed to match DataFrame index.\n",
            "  data_Femal_programmer = data_3_programmer_TR[data_M_and_F['Gender']=='F']\n",
            "<ipython-input-83-ded7dd502adf>:5: FutureWarning: The default value of numeric_only in DataFrameGroupBy.mean is deprecated. In a future version, numeric_only will default to False. Either specify numeric_only or select only columns which should be valid for the function.\n",
            "  data_Male_programmer_Mean = data_Male_programmer.groupby('Title').mean()\n",
            "<ipython-input-83-ded7dd502adf>:6: FutureWarning: The default value of numeric_only in DataFrameGroupBy.mean is deprecated. In a future version, numeric_only will default to False. Either specify numeric_only or select only columns which should be valid for the function.\n",
            "  data_Female_programmer_Mean = data_Femal_programmer.groupby('Title').mean()\n"
          ]
        },
        {
          "output_type": "execute_result",
          "data": {
            "text/plain": [
              "<matplotlib.collections.PathCollection at 0x7f05f9aa5270>"
            ]
          },
          "metadata": {},
          "execution_count": 83
        },
        {
          "output_type": "display_data",
          "data": {
            "text/plain": [
              "<Figure size 640x480 with 1 Axes>"
            ],
            "image/png": "[encoded data removed]"
          },
          "metadata": {}
        }
      ]
    },
    {
      "cell_type": "code",
      "source": [
        "#2college\n",
        "data_3_college_TR = data_3_college[['Title','Gender','Rating']]\n",
        "data_Male_college = data_3_college_TR[data_M_and_F['Gender']=='M']\n",
        "data_Femal_college = data_3_college_TR[data_M_and_F['Gender']=='F']\n",
        "data_Male_college_Mean = data_Male_college.groupby('Title').mean()\n",
        "data_Female_college_Mean = data_Femal_college.groupby('Title').mean()\n",
        "data_plot_college = data_Male_college_Mean.merge(data_Female_college_Mean,how='left',on='Title')\n",
        "data_plot_college_nonna = data_plot_college.dropna()\n",
        "plt.scatter(data_plot_college_nonna['Rating_x'], data_plot_college_nonna['Rating_y'])"
      ],
      "metadata": {
        "id": "QLUtmkKx3hkb",
        "outputId": "38f02491-13e5-4ed2-984e-0ff779740973",
        "colab": {
          "base_uri": "https://localhost:8080/",
          "height": 606
        }
      },
      "execution_count": null,
      "outputs": [
        {
          "output_type": "stream",
          "name": "stderr",
          "text": [
            "<ipython-input-84-0cebd43cb724>:3: UserWarning: Boolean Series key will be reindexed to match DataFrame index.\n",
            "  data_Male_college = data_3_college_TR[data_M_and_F['Gender']=='M']\n",
            "<ipython-input-84-0cebd43cb724>:4: UserWarning: Boolean Series key will be reindexed to match DataFrame index.\n",
            "  data_Femal_college = data_3_college_TR[data_M_and_F['Gender']=='F']\n",
            "<ipython-input-84-0cebd43cb724>:5: FutureWarning: The default value of numeric_only in DataFrameGroupBy.mean is deprecated. In a future version, numeric_only will default to False. Either specify numeric_only or select only columns which should be valid for the function.\n",
            "  data_Male_college_Mean = data_Male_college.groupby('Title').mean()\n",
            "<ipython-input-84-0cebd43cb724>:6: FutureWarning: The default value of numeric_only in DataFrameGroupBy.mean is deprecated. In a future version, numeric_only will default to False. Either specify numeric_only or select only columns which should be valid for the function.\n",
            "  data_Female_college_Mean = data_Femal_college.groupby('Title').mean()\n"
          ]
        },
        {
          "output_type": "execute_result",
          "data": {
            "text/plain": [
              "<matplotlib.collections.PathCollection at 0x7f05f9932c80>"
            ]
          },
          "metadata": {},
          "execution_count": 84
        },
        {
          "output_type": "display_data",
          "data": {
            "text/plain": [
              "<Figure size 640x480 with 1 Axes>"
            ],
            "image/png": "[encoded data removed]"
          },
          "metadata": {}
        }
      ]
    },
    {
      "cell_type": "code",
      "source": [
        "#scientist\n",
        "print(np.corrcoef(data_plot_academic_nonna['Rating_x'],data_plot_academic_nonna['Rating_y']))\n",
        "#programmer\n",
        "print(np.corrcoef(data_plot_programmer_nonna['Rating_x'],data_plot_programmer_nonna['Rating_y']))\n",
        "#doctor\n",
        "print(np.corrcoef(data_plot_college_nonna['Rating_x'],data_plot_college_nonna['Rating_y']))"
      ],
      "metadata": {
        "id": "YMwovrm23jvp",
        "outputId": "8f9db9ba-fdd3-4746-c4d0-55c9fc651a26",
        "colab": {
          "base_uri": "https://localhost:8080/"
        }
      },
      "execution_count": null,
      "outputs": [
        {
          "output_type": "stream",
          "name": "stdout",
          "text": [
            "[[1.         0.47962135]\n",
            " [0.47962135 1.        ]]\n",
            "[[1.         0.45008376]\n",
            " [0.45008376 1.        ]]\n",
            "[[1.         0.51847883]\n",
            " [0.51847883 1.        ]]\n"
          ]
        }
      ]
    },
    {
      "cell_type": "code",
      "source": [
        "#3 Action, Drama, War, and Triller. 3554\n",
        "data_3_0 = df1[['Title','Gender','Genres','Rating']]\n",
        "data_3_Action = data_3_0[data_3_0['Genres']==6]\n",
        "data_3_Drama = data_3_0[data_3_0['Genres']==4]\n",
        "data_3_War = data_3_0[data_3_0['Genres']==3]"
      ],
      "metadata": {
        "id": "a1skshrU4DRe"
      },
      "execution_count": null,
      "outputs": []
    },
    {
      "cell_type": "code",
      "source": [
        "#Drama\n",
        "data_3_Drama_TR = data_3_Drama[['Title','Gender','Genres','Rating']]\n",
        "data_Male_Drama = data_3_Drama_TR[data_M_and_F['Gender']=='M']\n",
        "data_Femal_Drama= data_3_Drama_TR[data_M_and_F['Gender']=='F']\n",
        "data_Male_Drama_Mean = data_Male_Drama.groupby('Title').mean()\n",
        "data_Female_Drama_Mean = data_Femal_Drama.groupby('Title').mean()\n",
        "data_plot_Drama = data_Male_Drama_Mean.merge(data_Female_Drama_Mean,how='left',on='Title')\n",
        "data_plot_Drama_nonna = data_plot_Drama.dropna()\n",
        "plt.scatter(data_plot_Drama_nonna['Rating_x'], data_plot_Drama_nonna['Rating_y'])"
      ],
      "metadata": {
        "colab": {
          "base_uri": "https://localhost:8080/",
          "height": 606
        },
        "id": "K26Fw1ae6yqV",
        "outputId": "9740b68d-0797-43a3-b5ee-48e482d98225"
      },
      "execution_count": null,
      "outputs": [
        {
          "output_type": "stream",
          "name": "stderr",
          "text": [
            "<ipython-input-207-46ecf4d6205e>:3: UserWarning: Boolean Series key will be reindexed to match DataFrame index.\n",
            "  data_Male_Drama = data_3_Drama_TR[data_M_and_F['Gender']=='M']\n",
            "<ipython-input-207-46ecf4d6205e>:4: UserWarning: Boolean Series key will be reindexed to match DataFrame index.\n",
            "  data_Femal_Drama= data_3_Drama_TR[data_M_and_F['Gender']=='F']\n",
            "<ipython-input-207-46ecf4d6205e>:5: FutureWarning: The default value of numeric_only in DataFrameGroupBy.mean is deprecated. In a future version, numeric_only will default to False. Either specify numeric_only or select only columns which should be valid for the function.\n",
            "  data_Male_Drama_Mean = data_Male_Drama.groupby('Title').mean()\n",
            "<ipython-input-207-46ecf4d6205e>:6: FutureWarning: The default value of numeric_only in DataFrameGroupBy.mean is deprecated. In a future version, numeric_only will default to False. Either specify numeric_only or select only columns which should be valid for the function.\n",
            "  data_Female_Drama_Mean = data_Femal_Drama.groupby('Title').mean()\n"
          ]
        },
        {
          "output_type": "execute_result",
          "data": {
            "text/plain": [
              "<matplotlib.collections.PathCollection at 0x7f05f2f2dde0>"
            ]
          },
          "metadata": {},
          "execution_count": 207
        },
        {
          "output_type": "display_data",
          "data": {
            "text/plain": [
              "<Figure size 640x480 with 1 Axes>"
            ],
            "image/png": "[encoded data removed]"
          },
          "metadata": {}
        }
      ]
    },
    {
      "cell_type": "code",
      "source": [
        "#Action\n",
        "data_3_Action_TR = data_3_Action[['Title','Gender','Genres','Rating']]\n",
        "data_Male_Action = data_3_Action_TR[data_M_and_F['Gender']=='M']\n",
        "data_Femal_Action= data_3_Action_TR[data_M_and_F['Gender']=='F']\n",
        "data_Male_Action_Mean = data_Male_Action.groupby('Title').mean()\n",
        "data_Female_Action_Mean = data_Femal_Action.groupby('Title').mean()\n",
        "data_plot_Action = data_Male_Action_Mean.merge(data_Female_Action_Mean,how='left',on='Title')\n",
        "data_plot_Action_nonna = data_plot_Action.dropna()\n",
        "plt.scatter(data_plot_Action_nonna['Rating_x'], data_plot_Action_nonna['Rating_y'])"
      ],
      "metadata": {
        "colab": {
          "base_uri": "https://localhost:8080/",
          "height": 606
        },
        "id": "S5IUwOEo1_Pj",
        "outputId": "429f5928-f440-4d4f-e50d-2e26a2302487"
      },
      "execution_count": null,
      "outputs": [
        {
          "output_type": "stream",
          "name": "stderr",
          "text": [
            "<ipython-input-191-1e68df93d629>:3: UserWarning: Boolean Series key will be reindexed to match DataFrame index.\n",
            "  data_Male_Action = data_3_Action_TR[data_M_and_F['Gender']=='M']\n",
            "<ipython-input-191-1e68df93d629>:4: UserWarning: Boolean Series key will be reindexed to match DataFrame index.\n",
            "  data_Femal_Action= data_3_Action_TR[data_M_and_F['Gender']=='F']\n",
            "<ipython-input-191-1e68df93d629>:5: FutureWarning: The default value of numeric_only in DataFrameGroupBy.mean is deprecated. In a future version, numeric_only will default to False. Either specify numeric_only or select only columns which should be valid for the function.\n",
            "  data_Male_Action_Mean = data_Male_Action.groupby('Title').mean()\n",
            "<ipython-input-191-1e68df93d629>:6: FutureWarning: The default value of numeric_only in DataFrameGroupBy.mean is deprecated. In a future version, numeric_only will default to False. Either specify numeric_only or select only columns which should be valid for the function.\n",
            "  data_Female_Action_Mean = data_Femal_Action.groupby('Title').mean()\n"
          ]
        },
        {
          "output_type": "execute_result",
          "data": {
            "text/plain": [
              "<matplotlib.collections.PathCollection at 0x7f05f32ceaa0>"
            ]
          },
          "metadata": {},
          "execution_count": 191
        },
        {
          "output_type": "display_data",
          "data": {
            "text/plain": [
              "<Figure size 640x480 with 1 Axes>"
            ],
            "image/png": "[encoded data removed]"
          },
          "metadata": {}
        }
      ]
    },
    {
      "cell_type": "markdown",
      "metadata": {
        "id": "XJNNGoUoEJ2H"
      },
      "source": [
        "# Problem 4:\n",
        "## Open Ended Question:  Business Intelligence"
      ]
    },
    {
      "cell_type": "markdown",
      "metadata": {
        "id": "-FlkbKozEJ2H"
      },
      "source": [
        "* Do any of your conjectures in Problems 1, 2, and 3 provide insights that a movie company might be interested in?\n",
        "* Propose a business question that you think this data can answer.\n",
        "* Suppose you are a Data Sciencetist at a movie company.  **Convince your boss that your conjecture is correct!**\n",
        "\n",
        "ปัญหาที่ 4:\n",
        "คำถามปลายเปิด: ระบบธุรกิจอัจฉริยะ\n",
        "\n",
        "1การคาดเดาของคุณในปัญหาที่ 1, 2 และ 3 ให้ข้อมูลเชิงลึกที่บริษัทภาพยนตร์อาจสนใจหรือไม่\n",
        "\n",
        "2เสนอคำถามทางธุรกิจที่คุณคิดว่าข้อมูลนี้สามารถตอบได้\n",
        "สมมติว่าคุณเป็นนักวิทยาศาสตร์ข้อมูลที่บริษัทภาพยนตร์แห่งหนึ่ง\n",
        "\n",
        "3โน้มน้าวเจ้านายของคุณว่าการคาดเดาของคุณถูกต้อง!\n",
        "เช่น ภาพยนตร์เรื่องไหนที่ควรทำ/ซื้อ? (แยกตามประเภท?)"
      ]
    },
    {
      "cell_type": "markdown",
      "metadata": {
        "id": "4bukoAZpEJ2H"
      },
      "source": [
        "### For example, which movie to make/buy? (seperating via Genre?)"
      ]
    },
    {
      "cell_type": "code",
      "source": [
        "\n",
        "data_4 = df1[['Title','Age','Occupation','Genres','Rating']]\n",
        "data_4_claen_Age = data_4[data_4['Age'] >= 30]\n",
        "data_4_claen_Age['count'] = range(len(data_4_claen_Age))\n",
        "data_4_claen_Age_C = data_4_claen_Age[['Genres','count']]\n",
        "data_4_claen_Age_count = data_4_claen_Age_C.groupby('Genres').count().sort_values(by='count',ascending = False)\n",
        "data_4_claen_Age_count.head(2)\n"
      ],
      "metadata": {
        "id": "aMk86rWXTYFv",
        "outputId": "369e9da0-c025-4aa1-f834-58baf45d9449",
        "colab": {
          "base_uri": "https://localhost:8080/",
          "height": 247
        }
      },
      "execution_count": null,
      "outputs": [
        {
          "output_type": "stream",
          "name": "stderr",
          "text": [
            "<ipython-input-199-851b0c3265ca>:3: SettingWithCopyWarning: \n",
            "A value is trying to be set on a copy of a slice from a DataFrame.\n",
            "Try using .loc[row_indexer,col_indexer] = value instead\n",
            "\n",
            "See the caveats in the documentation: https://pandas.pydata.org/pandas-docs/stable/user_guide/indexing.html#returning-a-view-versus-a-copy\n",
            "  data_4_claen_Age['count'] = range(len(data_4_claen_Age))\n"
          ]
        },
        {
          "output_type": "execute_result",
          "data": {
            "text/plain": [
              "        count\n",
              "Genres       \n",
              "Drama   48672\n",
              "Comedy  40532"
            ],
            "text/html": [
              "\n",
              "  <div id=\"df-a70da107-5345-439f-bee5-168f794487aa\" class=\"colab-df-container\">\n",
              "    <div>\n",
              "<style scoped>\n",
              "    .dataframe tbody tr th:only-of-type {\n",
              "        vertical-align: middle;\n",
              "    }\n",
              "\n",
              "    .dataframe tbody tr th {\n",
              "        vertical-align: top;\n",
              "    }\n",
              "\n",
              "    .dataframe thead th {\n",
              "        text-align: right;\n",
              "    }\n",
              "</style>\n",
              "<table border=\"1\" class=\"dataframe\">\n",
              "  <thead>\n",
              "    <tr style=\"text-align: right;\">\n",
              "      <th></th>\n",
              "      <th>count</th>\n",
              "    </tr>\n",
              "    <tr>\n",
              "      <th>Genres</th>\n",
              "      <th></th>\n",
              "    </tr>\n",
              "  </thead>\n",
              "  <tbody>\n",
              "    <tr>\n",
              "      <th>Drama</th>\n",
              "      <td>48672</td>\n",
              "    </tr>\n",
              "    <tr>\n",
              "      <th>Comedy</th>\n",
              "      <td>40532</td>\n",
              "    </tr>\n",
              "  </tbody>\n",
              "</table>\n",
              "</div>\n",
              "    <div class=\"colab-df-buttons\">\n",
              "\n",
              "  <div class=\"colab-df-container\">\n",
              "    <button class=\"colab-df-convert\" onclick=\"convertToInteractive('df-a70da107-5345-439f-bee5-168f794487aa')\"\n",
              "            title=\"Convert this dataframe to an interactive table.\"\n",
              "            style=\"display:none;\">\n",
              "\n",
              "  <svg xmlns=\"http://www.w3.org/2000/svg\" height=\"24px\" viewBox=\"0 -960 960 960\">\n",
              "    <path d=\"M120-120v-720h720v720H120Zm60-500h600v-160H180v160Zm220 220h160v-160H400v160Zm0 220h160v-160H400v160ZM180-400h160v-160H180v160Zm440 0h160v-160H620v160ZM180-180h160v-160H180v160Zm440 0h160v-160H620v160Z\"/>\n",
              "  </svg>\n",
              "    </button>\n",
              "\n",
              "  <style>\n",
              "    .colab-df-container {\n",
              "      display:flex;\n",
              "      gap: 12px;\n",
              "    }\n",
              "\n",
              "    .colab-df-convert {\n",
              "      background-color: #E8F0FE;\n",
              "      border: none;\n",
              "      border-radius: 50%;\n",
              "      cursor: pointer;\n",
              "      display: none;\n",
              "      fill: #1967D2;\n",
              "      height: 32px;\n",
              "      padding: 0 0 0 0;\n",
              "      width: 32px;\n",
              "    }\n",
              "\n",
              "    .colab-df-convert:hover {\n",
              "      background-color: #E2EBFA;\n",
              "      box-shadow: 0px 1px 2px rgba(60, 64, 67, 0.3), 0px 1px 3px 1px rgba(60, 64, 67, 0.15);\n",
              "      fill: #174EA6;\n",
              "    }\n",
              "\n",
              "    .colab-df-buttons div {\n",
              "      margin-bottom: 4px;\n",
              "    }\n",
              "\n",
              "    [theme=dark] .colab-df-convert {\n",
              "      background-color: #3B4455;\n",
              "      fill: #D2E3FC;\n",
              "    }\n",
              "\n",
              "    [theme=dark] .colab-df-convert:hover {\n",
              "      background-color: #434B5C;\n",
              "      box-shadow: 0px 1px 3px 1px rgba(0, 0, 0, 0.15);\n",
              "      filter: drop-shadow(0px 1px 2px rgba(0, 0, 0, 0.3));\n",
              "      fill: #FFFFFF;\n",
              "    }\n",
              "  </style>\n",
              "\n",
              "    <script>\n",
              "      const buttonEl =\n",
              "        document.querySelector('#df-a70da107-5345-439f-bee5-168f794487aa button.colab-df-convert');\n",
              "      buttonEl.style.display =\n",
              "        google.colab.kernel.accessAllowed ? 'block' : 'none';\n",
              "\n",
              "      async function convertToInteractive(key) {\n",
              "        const element = document.querySelector('#df-a70da107-5345-439f-bee5-168f794487aa');\n",
              "        const dataTable =\n",
              "          await google.colab.kernel.invokeFunction('convertToInteractive',\n",
              "                                                    [key], {});\n",
              "        if (!dataTable) return;\n",
              "\n",
              "        const docLinkHtml = 'Like what you see? Visit the ' +\n",
              "          '<a target=\"_blank\" href=https://colab.research.google.com/notebooks/data_table.ipynb>data table notebook</a>'\n",
              "          + ' to learn more about interactive tables.';\n",
              "        element.innerHTML = '';\n",
              "        dataTable['output_type'] = 'display_data';\n",
              "        await google.colab.output.renderOutput(dataTable, element);\n",
              "        const docLink = document.createElement('div');\n",
              "        docLink.innerHTML = docLinkHtml;\n",
              "        element.appendChild(docLink);\n",
              "      }\n",
              "    </script>\n",
              "  </div>\n",
              "\n",
              "\n",
              "<div id=\"df-9e487f43-f3f8-4d34-b0e9-fa516d3169ea\">\n",
              "  <button class=\"colab-df-quickchart\" onclick=\"quickchart('df-9e487f43-f3f8-4d34-b0e9-fa516d3169ea')\"\n",
              "            title=\"Suggest charts.\"\n",
              "            style=\"display:none;\">\n",
              "\n",
              "<svg xmlns=\"http://www.w3.org/2000/svg\" height=\"24px\"viewBox=\"0 0 24 24\"\n",
              "     width=\"24px\">\n",
              "    <g>\n",
              "        <path d=\"M19 3H5c-1.1 0-2 .9-2 2v14c0 1.1.9 2 2 2h14c1.1 0 2-.9 2-2V5c0-1.1-.9-2-2-2zM9 17H7v-7h2v7zm4 0h-2V7h2v10zm4 0h-2v-4h2v4z\"/>\n",
              "    </g>\n",
              "</svg>\n",
              "  </button>\n",
              "\n",
              "<style>\n",
              "  .colab-df-quickchart {\n",
              "      --bg-color: #E8F0FE;\n",
              "      --fill-color: #1967D2;\n",
              "      --hover-bg-color: #E2EBFA;\n",
              "      --hover-fill-color: #174EA6;\n",
              "      --disabled-fill-color: #AAA;\n",
              "      --disabled-bg-color: #DDD;\n",
              "  }\n",
              "\n",
              "  [theme=dark] .colab-df-quickchart {\n",
              "      --bg-color: #3B4455;\n",
              "      --fill-color: #D2E3FC;\n",
              "      --hover-bg-color: #434B5C;\n",
              "      --hover-fill-color: #FFFFFF;\n",
              "      --disabled-bg-color: #3B4455;\n",
              "      --disabled-fill-color: #666;\n",
              "  }\n",
              "\n",
              "  .colab-df-quickchart {\n",
              "    background-color: var(--bg-color);\n",
              "    border: none;\n",
              "    border-radius: 50%;\n",
              "    cursor: pointer;\n",
              "    display: none;\n",
              "    fill: var(--fill-color);\n",
              "    height: 32px;\n",
              "    padding: 0;\n",
              "    width: 32px;\n",
              "  }\n",
              "\n",
              "  .colab-df-quickchart:hover {\n",
              "    background-color: var(--hover-bg-color);\n",
              "    box-shadow: 0 1px 2px rgba(60, 64, 67, 0.3), 0 1px 3px 1px rgba(60, 64, 67, 0.15);\n",
              "    fill: var(--button-hover-fill-color);\n",
              "  }\n",
              "\n",
              "  .colab-df-quickchart-complete:disabled,\n",
              "  .colab-df-quickchart-complete:disabled:hover {\n",
              "    background-color: var(--disabled-bg-color);\n",
              "    fill: var(--disabled-fill-color);\n",
              "    box-shadow: none;\n",
              "  }\n",
              "\n",
              "  .colab-df-spinner {\n",
              "    border: 2px solid var(--fill-color);\n",
              "    border-color: transparent;\n",
              "    border-bottom-color: var(--fill-color);\n",
              "    animation:\n",
              "      spin 1s steps(1) infinite;\n",
              "  }\n",
              "\n",
              "  @keyframes spin {\n",
              "    0% {\n",
              "      border-color: transparent;\n",
              "      border-bottom-color: var(--fill-color);\n",
              "      border-left-color: var(--fill-color);\n",
              "    }\n",
              "    20% {\n",
              "      border-color: transparent;\n",
              "      border-left-color: var(--fill-color);\n",
              "      border-top-color: var(--fill-color);\n",
              "    }\n",
              "    30% {\n",
              "      border-color: transparent;\n",
              "      border-left-color: var(--fill-color);\n",
              "      border-top-color: var(--fill-color);\n",
              "      border-right-color: var(--fill-color);\n",
              "    }\n",
              "    40% {\n",
              "      border-color: transparent;\n",
              "      border-right-color: var(--fill-color);\n",
              "      border-top-color: var(--fill-color);\n",
              "    }\n",
              "    60% {\n",
              "      border-color: transparent;\n",
              "      border-right-color: var(--fill-color);\n",
              "    }\n",
              "    80% {\n",
              "      border-color: transparent;\n",
              "      border-right-color: var(--fill-color);\n",
              "      border-bottom-color: var(--fill-color);\n",
              "    }\n",
              "    90% {\n",
              "      border-color: transparent;\n",
              "      border-bottom-color: var(--fill-color);\n",
              "    }\n",
              "  }\n",
              "</style>\n",
              "\n",
              "  <script>\n",
              "    async function quickchart(key) {\n",
              "      const quickchartButtonEl =\n",
              "        document.querySelector('#' + key + ' button');\n",
              "      quickchartButtonEl.disabled = true;  // To prevent multiple clicks.\n",
              "      quickchartButtonEl.classList.add('colab-df-spinner');\n",
              "      try {\n",
              "        const charts = await google.colab.kernel.invokeFunction(\n",
              "            'suggestCharts', [key], {});\n",
              "      } catch (error) {\n",
              "        console.error('Error during call to suggestCharts:', error);\n",
              "      }\n",
              "      quickchartButtonEl.classList.remove('colab-df-spinner');\n",
              "      quickchartButtonEl.classList.add('colab-df-quickchart-complete');\n",
              "    }\n",
              "    (() => {\n",
              "      let quickchartButtonEl =\n",
              "        document.querySelector('#df-9e487f43-f3f8-4d34-b0e9-fa516d3169ea button');\n",
              "      quickchartButtonEl.style.display =\n",
              "        google.colab.kernel.accessAllowed ? 'block' : 'none';\n",
              "    })();\n",
              "  </script>\n",
              "</div>\n",
              "    </div>\n",
              "  </div>\n"
            ]
          },
          "metadata": {},
          "execution_count": 199
        }
      ]
    },
    {
      "cell_type": "code",
      "source": [
        "data_4_claen_Genres = data_4[data_4['Age'] >= 30]\n",
        "data_4_claen_Genres['count'] = range(len(data_4_claen_Age))\n",
        "data_4_claen_Genres_C = data_4_claen_Age[['Genres','count']]\n",
        "data_4_claen_Genres_count =data_4_claen_Genres_C.groupby('Genres').count().sort_values(by='count',ascending = False).reindex()\n",
        "data_4_claen_Genres_count.head(10)"
      ],
      "metadata": {
        "colab": {
          "base_uri": "https://localhost:8080/",
          "height": 498
        },
        "id": "PzbmL7tB6J9O",
        "outputId": "488c32a0-c73f-40d2-8a0c-e3bba0ad8dcc"
      },
      "execution_count": null,
      "outputs": [
        {
          "output_type": "stream",
          "name": "stderr",
          "text": [
            "<ipython-input-203-1bf72a484add>:2: SettingWithCopyWarning: \n",
            "A value is trying to be set on a copy of a slice from a DataFrame.\n",
            "Try using .loc[row_indexer,col_indexer] = value instead\n",
            "\n",
            "See the caveats in the documentation: https://pandas.pydata.org/pandas-docs/stable/user_guide/indexing.html#returning-a-view-versus-a-copy\n",
            "  data_4_claen_Genres['count'] = range(len(data_4_claen_Age))\n"
          ]
        },
        {
          "output_type": "execute_result",
          "data": {
            "text/plain": [
              "                 count\n",
              "Genres                \n",
              "Drama            48672\n",
              "Comedy           40532\n",
              "Comedy|Romance   16739\n",
              "Comedy|Drama     16339\n",
              "Drama|Romance    12408\n",
              "Action|Thriller   9023\n",
              "Horror            8341\n",
              "Drama|Thriller    7182\n",
              "Thriller          7102\n",
              "Drama|War         7082"
            ],
            "text/html": [
              "\n",
              "  <div id=\"df-3d9ee75e-7dec-4108-acb9-f8d0199fc0e4\" class=\"colab-df-container\">\n",
              "    <div>\n",
              "<style scoped>\n",
              "    .dataframe tbody tr th:only-of-type {\n",
              "        vertical-align: middle;\n",
              "    }\n",
              "\n",
              "    .dataframe tbody tr th {\n",
              "        vertical-align: top;\n",
              "    }\n",
              "\n",
              "    .dataframe thead th {\n",
              "        text-align: right;\n",
              "    }\n",
              "</style>\n",
              "<table border=\"1\" class=\"dataframe\">\n",
              "  <thead>\n",
              "    <tr style=\"text-align: right;\">\n",
              "      <th></th>\n",
              "      <th>count</th>\n",
              "    </tr>\n",
              "    <tr>\n",
              "      <th>Genres</th>\n",
              "      <th></th>\n",
              "    </tr>\n",
              "  </thead>\n",
              "  <tbody>\n",
              "    <tr>\n",
              "      <th>Drama</th>\n",
              "      <td>48672</td>\n",
              "    </tr>\n",
              "    <tr>\n",
              "      <th>Comedy</th>\n",
              "      <td>40532</td>\n",
              "    </tr>\n",
              "    <tr>\n",
              "      <th>Comedy|Romance</th>\n",
              "      <td>16739</td>\n",
              "    </tr>\n",
              "    <tr>\n",
              "      <th>Comedy|Drama</th>\n",
              "      <td>16339</td>\n",
              "    </tr>\n",
              "    <tr>\n",
              "      <th>Drama|Romance</th>\n",
              "      <td>12408</td>\n",
              "    </tr>\n",
              "    <tr>\n",
              "      <th>Action|Thriller</th>\n",
              "      <td>9023</td>\n",
              "    </tr>\n",
              "    <tr>\n",
              "      <th>Horror</th>\n",
              "      <td>8341</td>\n",
              "    </tr>\n",
              "    <tr>\n",
              "      <th>Drama|Thriller</th>\n",
              "      <td>7182</td>\n",
              "    </tr>\n",
              "    <tr>\n",
              "      <th>Thriller</th>\n",
              "      <td>7102</td>\n",
              "    </tr>\n",
              "    <tr>\n",
              "      <th>Drama|War</th>\n",
              "      <td>7082</td>\n",
              "    </tr>\n",
              "  </tbody>\n",
              "</table>\n",
              "</div>\n",
              "    <div class=\"colab-df-buttons\">\n",
              "\n",
              "  <div class=\"colab-df-container\">\n",
              "    <button class=\"colab-df-convert\" onclick=\"convertToInteractive('df-3d9ee75e-7dec-4108-acb9-f8d0199fc0e4')\"\n",
              "            title=\"Convert this dataframe to an interactive table.\"\n",
              "            style=\"display:none;\">\n",
              "\n",
              "  <svg xmlns=\"http://www.w3.org/2000/svg\" height=\"24px\" viewBox=\"0 -960 960 960\">\n",
              "    <path d=\"M120-120v-720h720v720H120Zm60-500h600v-160H180v160Zm220 220h160v-160H400v160Zm0 220h160v-160H400v160ZM180-400h160v-160H180v160Zm440 0h160v-160H620v160ZM180-180h160v-160H180v160Zm440 0h160v-160H620v160Z\"/>\n",
              "  </svg>\n",
              "    </button>\n",
              "\n",
              "  <style>\n",
              "    .colab-df-container {\n",
              "      display:flex;\n",
              "      gap: 12px;\n",
              "    }\n",
              "\n",
              "    .colab-df-convert {\n",
              "      background-color: #E8F0FE;\n",
              "      border: none;\n",
              "      border-radius: 50%;\n",
              "      cursor: pointer;\n",
              "      display: none;\n",
              "      fill: #1967D2;\n",
              "      height: 32px;\n",
              "      padding: 0 0 0 0;\n",
              "      width: 32px;\n",
              "    }\n",
              "\n",
              "    .colab-df-convert:hover {\n",
              "      background-color: #E2EBFA;\n",
              "      box-shadow: 0px 1px 2px rgba(60, 64, 67, 0.3), 0px 1px 3px 1px rgba(60, 64, 67, 0.15);\n",
              "      fill: #174EA6;\n",
              "    }\n",
              "\n",
              "    .colab-df-buttons div {\n",
              "      margin-bottom: 4px;\n",
              "    }\n",
              "\n",
              "    [theme=dark] .colab-df-convert {\n",
              "      background-color: #3B4455;\n",
              "      fill: #D2E3FC;\n",
              "    }\n",
              "\n",
              "    [theme=dark] .colab-df-convert:hover {\n",
              "      background-color: #434B5C;\n",
              "      box-shadow: 0px 1px 3px 1px rgba(0, 0, 0, 0.15);\n",
              "      filter: drop-shadow(0px 1px 2px rgba(0, 0, 0, 0.3));\n",
              "      fill: #FFFFFF;\n",
              "    }\n",
              "  </style>\n",
              "\n",
              "    <script>\n",
              "      const buttonEl =\n",
              "        document.querySelector('#df-3d9ee75e-7dec-4108-acb9-f8d0199fc0e4 button.colab-df-convert');\n",
              "      buttonEl.style.display =\n",
              "        google.colab.kernel.accessAllowed ? 'block' : 'none';\n",
              "\n",
              "      async function convertToInteractive(key) {\n",
              "        const element = document.querySelector('#df-3d9ee75e-7dec-4108-acb9-f8d0199fc0e4');\n",
              "        const dataTable =\n",
              "          await google.colab.kernel.invokeFunction('convertToInteractive',\n",
              "                                                    [key], {});\n",
              "        if (!dataTable) return;\n",
              "\n",
              "        const docLinkHtml = 'Like what you see? Visit the ' +\n",
              "          '<a target=\"_blank\" href=https://colab.research.google.com/notebooks/data_table.ipynb>data table notebook</a>'\n",
              "          + ' to learn more about interactive tables.';\n",
              "        element.innerHTML = '';\n",
              "        dataTable['output_type'] = 'display_data';\n",
              "        await google.colab.output.renderOutput(dataTable, element);\n",
              "        const docLink = document.createElement('div');\n",
              "        docLink.innerHTML = docLinkHtml;\n",
              "        element.appendChild(docLink);\n",
              "      }\n",
              "    </script>\n",
              "  </div>\n",
              "\n",
              "\n",
              "<div id=\"df-3c38e807-2c84-4755-8a2e-640cfe722b13\">\n",
              "  <button class=\"colab-df-quickchart\" onclick=\"quickchart('df-3c38e807-2c84-4755-8a2e-640cfe722b13')\"\n",
              "            title=\"Suggest charts.\"\n",
              "            style=\"display:none;\">\n",
              "\n",
              "<svg xmlns=\"http://www.w3.org/2000/svg\" height=\"24px\"viewBox=\"0 0 24 24\"\n",
              "     width=\"24px\">\n",
              "    <g>\n",
              "        <path d=\"M19 3H5c-1.1 0-2 .9-2 2v14c0 1.1.9 2 2 2h14c1.1 0 2-.9 2-2V5c0-1.1-.9-2-2-2zM9 17H7v-7h2v7zm4 0h-2V7h2v10zm4 0h-2v-4h2v4z\"/>\n",
              "    </g>\n",
              "</svg>\n",
              "  </button>\n",
              "\n",
              "<style>\n",
              "  .colab-df-quickchart {\n",
              "      --bg-color: #E8F0FE;\n",
              "      --fill-color: #1967D2;\n",
              "      --hover-bg-color: #E2EBFA;\n",
              "      --hover-fill-color: #174EA6;\n",
              "      --disabled-fill-color: #AAA;\n",
              "      --disabled-bg-color: #DDD;\n",
              "  }\n",
              "\n",
              "  [theme=dark] .colab-df-quickchart {\n",
              "      --bg-color: #3B4455;\n",
              "      --fill-color: #D2E3FC;\n",
              "      --hover-bg-color: #434B5C;\n",
              "      --hover-fill-color: #FFFFFF;\n",
              "      --disabled-bg-color: #3B4455;\n",
              "      --disabled-fill-color: #666;\n",
              "  }\n",
              "\n",
              "  .colab-df-quickchart {\n",
              "    background-color: var(--bg-color);\n",
              "    border: none;\n",
              "    border-radius: 50%;\n",
              "    cursor: pointer;\n",
              "    display: none;\n",
              "    fill: var(--fill-color);\n",
              "    height: 32px;\n",
              "    padding: 0;\n",
              "    width: 32px;\n",
              "  }\n",
              "\n",
              "  .colab-df-quickchart:hover {\n",
              "    background-color: var(--hover-bg-color);\n",
              "    box-shadow: 0 1px 2px rgba(60, 64, 67, 0.3), 0 1px 3px 1px rgba(60, 64, 67, 0.15);\n",
              "    fill: var(--button-hover-fill-color);\n",
              "  }\n",
              "\n",
              "  .colab-df-quickchart-complete:disabled,\n",
              "  .colab-df-quickchart-complete:disabled:hover {\n",
              "    background-color: var(--disabled-bg-color);\n",
              "    fill: var(--disabled-fill-color);\n",
              "    box-shadow: none;\n",
              "  }\n",
              "\n",
              "  .colab-df-spinner {\n",
              "    border: 2px solid var(--fill-color);\n",
              "    border-color: transparent;\n",
              "    border-bottom-color: var(--fill-color);\n",
              "    animation:\n",
              "      spin 1s steps(1) infinite;\n",
              "  }\n",
              "\n",
              "  @keyframes spin {\n",
              "    0% {\n",
              "      border-color: transparent;\n",
              "      border-bottom-color: var(--fill-color);\n",
              "      border-left-color: var(--fill-color);\n",
              "    }\n",
              "    20% {\n",
              "      border-color: transparent;\n",
              "      border-left-color: var(--fill-color);\n",
              "      border-top-color: var(--fill-color);\n",
              "    }\n",
              "    30% {\n",
              "      border-color: transparent;\n",
              "      border-left-color: var(--fill-color);\n",
              "      border-top-color: var(--fill-color);\n",
              "      border-right-color: var(--fill-color);\n",
              "    }\n",
              "    40% {\n",
              "      border-color: transparent;\n",
              "      border-right-color: var(--fill-color);\n",
              "      border-top-color: var(--fill-color);\n",
              "    }\n",
              "    60% {\n",
              "      border-color: transparent;\n",
              "      border-right-color: var(--fill-color);\n",
              "    }\n",
              "    80% {\n",
              "      border-color: transparent;\n",
              "      border-right-color: var(--fill-color);\n",
              "      border-bottom-color: var(--fill-color);\n",
              "    }\n",
              "    90% {\n",
              "      border-color: transparent;\n",
              "      border-bottom-color: var(--fill-color);\n",
              "    }\n",
              "  }\n",
              "</style>\n",
              "\n",
              "  <script>\n",
              "    async function quickchart(key) {\n",
              "      const quickchartButtonEl =\n",
              "        document.querySelector('#' + key + ' button');\n",
              "      quickchartButtonEl.disabled = true;  // To prevent multiple clicks.\n",
              "      quickchartButtonEl.classList.add('colab-df-spinner');\n",
              "      try {\n",
              "        const charts = await google.colab.kernel.invokeFunction(\n",
              "            'suggestCharts', [key], {});\n",
              "      } catch (error) {\n",
              "        console.error('Error during call to suggestCharts:', error);\n",
              "      }\n",
              "      quickchartButtonEl.classList.remove('colab-df-spinner');\n",
              "      quickchartButtonEl.classList.add('colab-df-quickchart-complete');\n",
              "    }\n",
              "    (() => {\n",
              "      let quickchartButtonEl =\n",
              "        document.querySelector('#df-3c38e807-2c84-4755-8a2e-640cfe722b13 button');\n",
              "      quickchartButtonEl.style.display =\n",
              "        google.colab.kernel.accessAllowed ? 'block' : 'none';\n",
              "    })();\n",
              "  </script>\n",
              "</div>\n",
              "    </div>\n",
              "  </div>\n"
            ]
          },
          "metadata": {},
          "execution_count": 203
        }
      ]
    },
    {
      "cell_type": "code",
      "source": [
        "data_4_claen_Age_TOP2 = data_4_claen_Age[(data_4_claen_Age['Genres']== 13) | (data_4_claen_Age['Genres']==1)]\n",
        "data_TOP = data_4_claen_Age_TOP2[['Title','Genres','Rating']]\n",
        "data_academic = data_TOP[data_TOP['Genres']== 13]\n",
        "data_academic1 = data_academic[['Title','Rating']]\n",
        "data_retired = data_TOP[data_TOP['Genres']==1]\n",
        "data_retired1 = data_retired[['Title','Rating']]\n",
        "#--------------------------------------------------------------------------------------\n",
        "data_academic2 = data_academic1.groupby('Title').count().sort_values(by='Rating',ascending = False)\n",
        "data_academic3 = data_academic2.reset_index()\n",
        "data_retired2 = data_retired1.groupby('Title').count().sort_values(by='Rating',ascending = False)\n",
        "data_retired3 = data_retired2.reset_index()\n",
        "#--------------------------------------------------------------------------------------\n",
        "data_academic_Mean = data_academic1.groupby('Title').mean()\n",
        "data_retired_Mean = data_retired1.groupby('Title').mean()\n",
        "#-------------------------------------------------------------------------------------------\n",
        "data_academic4 = data_academic3.merge(data_academic_Mean,how='left',on='Title')\n",
        "data_retired4 = data_retired3.merge(data_retired_Mean,how='left',on='Title')\n",
        "#----------------------------------------------------------------------------------------\n",
        "data_academic5 = data_academic4[data_academic4['Rating_x'] >= 10]\n",
        "use_data_academic5 = data_academic5[['Title','Rating_y']]\n",
        "#use_data_academic5 = use_data_academic5.set_index('Title')\n",
        "#---------------------------------------------------------------------------------------\n",
        "data_retired5 = data_retired4[data_retired4['Rating_x'] >= 10]\n",
        "use_data_retired5 = data_retired5[['Title','Rating_y']]\n",
        "#use_data_retired5 = use_data_retired5.set_index('Title')\n",
        "#---------------------------------------------------------------------------------------\n",
        "data_plot_Occupation = use_data_academic5.merge(use_data_retired5,how='left',on='Title')\n",
        "data_plot_Occupation_nonna = data_plot_Occupation.dropna()\n",
        "plt.scatter(data_plot_Occupation_nonna['Rating_y_x'], data_plot_Occupation_nonna['Rating_y_y'])\n",
        "print(np.corrcoef(data_plot_Occupation_nonna['Rating_y_x'],data_plot_Occupation_nonna['Rating_y_y']))"
      ],
      "metadata": {
        "id": "gJuaY9zHXV2_",
        "outputId": "cd677c74-c050-49d9-9d68-527c12864132",
        "colab": {
          "base_uri": "https://localhost:8080/",
          "height": 638
        }
      },
      "execution_count": null,
      "outputs": [
        {
          "output_type": "stream",
          "name": "stdout",
          "text": [
            "[[nan nan]\n",
            " [nan nan]]\n"
          ]
        },
        {
          "output_type": "stream",
          "name": "stderr",
          "text": [
            "/usr/local/lib/python3.10/dist-packages/numpy/lib/function_base.py:518: RuntimeWarning: Mean of empty slice.\n",
            "  avg = a.mean(axis, **keepdims_kw)\n",
            "/usr/local/lib/python3.10/dist-packages/numpy/core/_methods.py:182: RuntimeWarning: invalid value encountered in divide\n",
            "  ret = um.true_divide(\n",
            "/usr/local/lib/python3.10/dist-packages/numpy/lib/function_base.py:2845: RuntimeWarning: Degrees of freedom <= 0 for slice\n",
            "  c = cov(x, y, rowvar, dtype=dtype)\n",
            "/usr/local/lib/python3.10/dist-packages/numpy/lib/function_base.py:2704: RuntimeWarning: divide by zero encountered in divide\n",
            "  c *= np.true_divide(1, fact)\n",
            "/usr/local/lib/python3.10/dist-packages/numpy/lib/function_base.py:2704: RuntimeWarning: invalid value encountered in multiply\n",
            "  c *= np.true_divide(1, fact)\n"
          ]
        },
        {
          "output_type": "display_data",
          "data": {
            "text/plain": [
              "<Figure size 640x480 with 1 Axes>"
            ],
            "image/png": "[encoded data removed]"
          },
          "metadata": {}
        }
      ]
    },
    {
      "cell_type": "code",
      "source": [
        "data_plot_Occupation"
      ],
      "metadata": {
        "id": "ilxIQiS6XOJF"
      },
      "execution_count": null,
      "outputs": []
    },
    {
      "cell_type": "code",
      "source": [
        "data_retired_Mean\n"
      ],
      "metadata": {
        "id": "817aocZUYpT0"
      },
      "execution_count": null,
      "outputs": []
    },
    {
      "cell_type": "markdown",
      "metadata": {
        "id": "8bO8FP1OEJ2I"
      },
      "source": [
        "# Done!\n",
        "\n",
        "**What do you need to submit?**\n",
        "\n",
        "* **Notebook File**: This is the file you need to submit. Please make sure all the plotted tables and figures are in the notebook.\n",
        "\n",
        "\n",
        "* **PPT Slides**: please prepare PPT slides (10 minutes)\n",
        "    * Motivation about the data collection, why the topic is interesting to you. อธิบายเกี่ยวกับข้อมูล สร้างแรงบันดาลใจเดี่ยวกับข้อมูลให้ผู้รับฟัง ให้ผู้ฟังเข้าใจความเป็นมาและความสำคัญของข้อมูล\n",
        "    * What is the relationship between this topic and Business Intelligence?\n",
        "    * How did you analyse the data?\n",
        "    * What conjectures did you make and how did you support or disprove them using data?\n",
        "    * Communicating Results with figures or tables\n",
        "    * Did you find anything suprising in the data?\n",
        "    * What business decision do you think this data could help answer?  Why?\n",
        "\n",
        "     (please include figures or tables in the report)\n",
        "     \n",
        "**How to submit:**\n",
        "\n",
        "        ส่ง link ของ ipynb และ slides ในรูปแบบ pdf ใน Google Classroom\n",
        "        \n",
        "**Note: Each team just needs only one submission**\n",
        "\n",
        "เสร็จแล้ว!\n",
        "คุณต้องส่งอะไรบ้าง?\n",
        "\n",
        "ไฟล์สมุดบันทึก: นี่คือไฟล์ที่คุณต้องส่ง โปรดตรวจสอบให้แน่ใจว่าตารางและรูปภาพที่ลงจุดทั้งหมดอยู่ในสมุดบันทึก\n",
        "PPT Slides: โปรดเตรียมสไลด์ PPT (10 นาที)\n",
        "\n",
        "แรงจูงใจในการรวบรวมข้อมูล เหตุใดหัวข้อนี้จึงน่าสนใจสำหรับคุณ อธิบายเกี่ยวกับข้อมูลในส่วนเดี่ยวกับข้อมูลที่ให้ผู้รับฟังฟังเข้าใจความเป็นมาและแจ้งให้ทราบข้อมูล\n",
        "\n",
        "ความสัมพันธ์ระหว่างหัวข้อนี้กับ Business Intelligence คืออะไร?\n",
        "\n",
        "คุณวิเคราะห์ข้อมูลอย่างไร?\n",
        "\n",
        "คุณคาดเดาอะไร และคุณสนับสนุนหรือพิสูจน์หักล้างโดยใช้ข้อมูลอย่างไร\n",
        "\n",
        "การสื่อสารผลลัพธ์ด้วยตัวเลขหรือตาราง\n",
        "\n",
        "คุณพบสิ่งที่น่าประหลาดใจในข้อมูลหรือไม่\n",
        "\n",
        "คุณคิดว่าการตัดสินใจทางธุรกิจเรื่องใดสามารถช่วยตอบได้ ทำไม\n",
        "\n",
        "(โปรดระบุตัวเลขหรือตารางในรายงาน)"
      ]
    },
    {
      "cell_type": "code",
      "execution_count": null,
      "metadata": {
        "id": "iakXTtPxEJ2I"
      },
      "outputs": [],
      "source": []
    }
  ],
  "metadata": {
    "anaconda-cloud": {},
    "kernelspec": {
      "display_name": "Python 3 (ipykernel)",
      "language": "python",
      "name": "python3"
    },
    "language_info": {
      "codemirror_mode": {
        "name": "ipython",
        "version": 3
      },
      "file_extension": ".py",
      "mimetype": "text/x-python",
      "name": "python",
      "nbconvert_exporter": "python",
      "pygments_lexer": "ipython3",
      "version": "3.8.8"
    },
    "colab": {
      "provenance": [],
      "include_colab_link": true
    }
  },
  "nbformat": 4,
  "nbformat_minor": 0
}