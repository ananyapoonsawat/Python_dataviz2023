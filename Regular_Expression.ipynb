{
  "cells": [
    {
      "cell_type": "markdown",
      "metadata": {
        "id": "view-in-github",
        "colab_type": "text"
      },
      "source": [
        "<a href=\"https://colab.research.google.com/github/ananyapoonsawat/Python_dataviz2023/blob/main/Regular_Expression.ipynb\" target=\"_parent\"><img src=\"https://colab.research.google.com/assets/colab-badge.svg\" alt=\"Open In Colab\"/></a>"
      ]
    },
    {
      "cell_type": "markdown",
      "id": "f9d4c542",
      "metadata": {
        "id": "f9d4c542"
      },
      "source": [
        "# Regular Expression"
      ]
    },
    {
      "cell_type": "markdown",
      "id": "7e167883",
      "metadata": {
        "id": "7e167883"
      },
      "source": [
        "A RegEx, or Regular Expression, is a sequence of characters that forms a search pattern.\n",
        "\n",
        "RegEx can be used to check if a string contains the specified search pattern.\n",
        "\n",
        "Python has a built-in package called re, which can be used to work with Regular Expressions."
      ]
    },
    {
      "cell_type": "code",
      "execution_count": 1,
      "id": "0ff0a32e",
      "metadata": {
        "id": "0ff0a32e"
      },
      "outputs": [],
      "source": [
        "import re #หาฟังก์ชั้นเกี่ยวกับstring"
      ]
    },
    {
      "cell_type": "markdown",
      "id": "89a525f8",
      "metadata": {
        "id": "89a525f8"
      },
      "source": [
        "### Basic re functions\n",
        "`findall`\tReturns a list containing all matches<br>\n",
        "`search`\tReturns a Match object if there is a match anywhere in the string<br>\n",
        "`split`\t    Returns a list where the string has been split at each match<br>\n",
        "`sub`\t    Replaces one or many matches with a string<br>\n",
        "Link to more: https://www.w3schools.com/python/python_regex.asp"
      ]
    },
    {
      "cell_type": "code",
      "execution_count": null,
      "id": "8d6fd56e",
      "metadata": {
        "id": "8d6fd56e",
        "outputId": "884e193c-8c82-4e9f-d4bc-f6c1518b6720"
      },
      "outputs": [
        {
          "name": "stdout",
          "output_type": "stream",
          "text": [
            "['ai', 'ai']\n"
          ]
        }
      ],
      "source": [
        "txt = \"The rain in Spain\"\n",
        "x = re.findall(\"ai\", txt)\n",
        "print(x)"
      ]
    },
    {
      "cell_type": "code",
      "execution_count": 2,
      "id": "87db6edb",
      "metadata": {
        "id": "87db6edb",
        "outputId": "c80a2750-7a5a-48d7-eb42-fc7145361705",
        "colab": {
          "base_uri": "https://localhost:8080/"
        }
      },
      "outputs": [
        {
          "output_type": "stream",
          "name": "stdout",
          "text": [
            "<re.Match object; span=(5, 7), match='ai'>\n"
          ]
        }
      ],
      "source": [
        "txt = \"The rain in Spain\"\n",
        "x = re.search(\"ai\", txt)\n",
        "print(x) #this will print an object #ตัวอักษรว่าตัวนั้นอยู่ตรงไหน"
      ]
    },
    {
      "cell_type": "code",
      "execution_count": 3,
      "id": "d2c73a64",
      "metadata": {
        "id": "d2c73a64",
        "outputId": "e7c9df69-ecc9-45af-e811-545a656f1875",
        "colab": {
          "base_uri": "https://localhost:8080/"
        }
      },
      "outputs": [
        {
          "output_type": "stream",
          "name": "stdout",
          "text": [
            "<re.Match object; span=(3, 4), match=' '>\n",
            "The first white-space character is located in position: 3\n"
          ]
        }
      ],
      "source": [
        "txt = \"The rain in Spain\"\n",
        "x = re.search(\"\\s\", txt) #ลบ...ทิ้งหรือแทนค่า...\n",
        "print(x)\n",
        "print(\"The first white-space character is located in position:\", x.start())"
      ]
    },
    {
      "cell_type": "code",
      "execution_count": null,
      "id": "3ce5868d",
      "metadata": {
        "id": "3ce5868d",
        "outputId": "d0073e2c-4fa6-4f9d-ec75-608edea29f09"
      },
      "outputs": [
        {
          "data": {
            "text/plain": [
              "<re.Match object; span=(0, 17), match='The rain in Spain'>"
            ]
          },
          "execution_count": 5,
          "metadata": {},
          "output_type": "execute_result"
        }
      ],
      "source": [
        "# Search the string to see if it starts with \"The\" and ends with \"Spain\"\n",
        "txt = \"The rain in Spain\"\n",
        "x = re.search(\"^The.*Spain$\", txt)\n",
        "x"
      ]
    },
    {
      "cell_type": "code",
      "execution_count": null,
      "id": "8690e344",
      "metadata": {
        "id": "8690e344",
        "outputId": "35452519-0f06-4a6d-ad1f-33c5e03824a4"
      },
      "outputs": [
        {
          "name": "stdout",
          "output_type": "stream",
          "text": [
            "['The', 'rain', 'in', 'Spain']\n"
          ]
        }
      ],
      "source": [
        "txt = \"The rain in Spain\"\n",
        "x = re.split(\"\\s\", txt)\n",
        "print(x)"
      ]
    },
    {
      "cell_type": "code",
      "execution_count": 4,
      "id": "fb76c1be",
      "metadata": {
        "id": "fb76c1be",
        "outputId": "0fa4ce8f-30d9-43f0-c672-bb994871cd46",
        "colab": {
          "base_uri": "https://localhost:8080/"
        }
      },
      "outputs": [
        {
          "output_type": "stream",
          "name": "stdout",
          "text": [
            "The9rain9in9Spain\n"
          ]
        }
      ],
      "source": [
        "txt = \"The rain in Spain\" #ถ้าเจอที่ว่างให้แทนที่ด้วย9\n",
        "x = re.sub(\"\\s\", \"9\", txt)\n",
        "print(x)"
      ]
    },
    {
      "cell_type": "markdown",
      "id": "495c4986",
      "metadata": {
        "id": "495c4986"
      },
      "source": [
        "### Python build-in functions"
      ]
    },
    {
      "cell_type": "code",
      "execution_count": null,
      "id": "753ed96c",
      "metadata": {
        "scrolled": true,
        "id": "753ed96c",
        "outputId": "c7464288-172f-40c9-971f-d1d5c03c27e0"
      },
      "outputs": [
        {
          "data": {
            "text/plain": [
              "'Python is fun!'"
            ]
          },
          "execution_count": 8,
          "metadata": {},
          "output_type": "execute_result"
        }
      ],
      "source": [
        "\"python is FUN!\".capitalize()"
      ]
    },
    {
      "cell_type": "code",
      "execution_count": null,
      "id": "f41e23c1",
      "metadata": {
        "scrolled": true,
        "id": "f41e23c1",
        "outputId": "a76643e1-05a4-4453-aba7-ebd7c407de9c"
      },
      "outputs": [
        {
          "data": {
            "text/plain": [
              "'36 is my age.'"
            ]
          },
          "execution_count": 9,
          "metadata": {},
          "output_type": "execute_result"
        }
      ],
      "source": [
        "\"36 is my age.\".capitalize()"
      ]
    },
    {
      "cell_type": "code",
      "execution_count": null,
      "id": "133cef6e",
      "metadata": {
        "scrolled": true,
        "id": "133cef6e",
        "outputId": "f435fcdf-a16f-4133-fbb4-b6692f8b90f5"
      },
      "outputs": [
        {
          "data": {
            "text/plain": [
              "'hello my friends'"
            ]
          },
          "execution_count": 10,
          "metadata": {},
          "output_type": "execute_result"
        }
      ],
      "source": [
        "\"Hello my FRIENDS\".lower()"
      ]
    },
    {
      "cell_type": "markdown",
      "id": "a87f3318",
      "metadata": {
        "id": "a87f3318"
      },
      "source": [
        "The `replace()` method replaces a specified phrase with another specified phrase.<br>\n",
        "Note: All occurrences of the specified phrase will be replaced, if nothing else is specified.<br>\n",
        "`string.replace(oldvalue, newvalue, count)`<br>\n",
        "oldvalue: Required. The string to search for<br>\n",
        "newvalue: Required. The string to replace the old value with<br>\n",
        "count: Optional. A number specifying how many occurrences of the old value you want to replace. Default is all occurrences"
      ]
    },
    {
      "cell_type": "code",
      "execution_count": null,
      "id": "20300275",
      "metadata": {
        "id": "20300275",
        "outputId": "ff7200a4-dad9-446c-c5ae-99195e70d6ed"
      },
      "outputs": [
        {
          "name": "stdout",
          "output_type": "stream",
          "text": [
            "I like apples\n"
          ]
        }
      ],
      "source": [
        "txt = \"I like bananas\"\n",
        "x = txt.replace(\"bananas\", \"apples\")\n",
        "print(x)"
      ]
    },
    {
      "cell_type": "code",
      "execution_count": null,
      "id": "4563c24b",
      "metadata": {
        "id": "4563c24b",
        "outputId": "d41e20cc-2be1-45e2-9576-22652de53d77"
      },
      "outputs": [
        {
          "name": "stdout",
          "output_type": "stream",
          "text": [
            "three three was a race horse, two two was three too.\n"
          ]
        }
      ],
      "source": [
        "txt = \"one one was a race horse, two two was one too.\"\n",
        "x = txt.replace(\"one\", \"three\")\n",
        "print(x)"
      ]
    },
    {
      "cell_type": "code",
      "execution_count": null,
      "id": "fa57d626",
      "metadata": {
        "id": "fa57d626",
        "outputId": "7ccf7522-93ac-4f06-a435-4d3d61b07e32"
      },
      "outputs": [
        {
          "name": "stdout",
          "output_type": "stream",
          "text": [
            "three three was a race horse, two two was one too.\n"
          ]
        }
      ],
      "source": [
        "txt = \"one one was a race horse, two two was one too.\"\n",
        "x = txt.replace(\"one\", \"three\", 2)\n",
        "print(x)"
      ]
    },
    {
      "cell_type": "markdown",
      "id": "2a729a7b",
      "metadata": {
        "id": "2a729a7b"
      },
      "source": [
        "`string.count(value, start, end)`<br>\n",
        "value: Required. A String. The string to value to search for<br>\n",
        "start: Optional. An Integer. The position to start the search. Default is 0<br>\n",
        "end: Optional. An Integer. The position to end the search. Default is the end of the string"
      ]
    },
    {
      "cell_type": "code",
      "execution_count": null,
      "id": "68b58ad0",
      "metadata": {
        "id": "68b58ad0",
        "outputId": "319054e9-4df0-4c16-cf1a-3386b48ee01c"
      },
      "outputs": [
        {
          "data": {
            "text/plain": [
              "2"
            ]
          },
          "execution_count": 14,
          "metadata": {},
          "output_type": "execute_result"
        }
      ],
      "source": [
        "txt = \"I love apples, apple are my favorite fruit\"\n",
        "x = txt.count(\"apple\")\n",
        "x"
      ]
    },
    {
      "cell_type": "code",
      "execution_count": null,
      "id": "48d6f852",
      "metadata": {
        "scrolled": true,
        "id": "48d6f852",
        "outputId": "78dcbbd9-8094-4fb7-960d-49d7f263558d"
      },
      "outputs": [
        {
          "data": {
            "text/plain": [
              "1"
            ]
          },
          "execution_count": 15,
          "metadata": {},
          "output_type": "execute_result"
        }
      ],
      "source": [
        "txt = \"I love apples, apple are my favorite fruit\"\n",
        "x = txt.count(\"apple\", 10, 24)\n",
        "x"
      ]
    },
    {
      "cell_type": "markdown",
      "id": "c8f22c84",
      "metadata": {
        "id": "c8f22c84"
      },
      "source": [
        "`string.endswith(value, start, end)`<br>\n",
        "value: Required. The value to check if the string ends with<br>\n",
        "start: Optional. The position to start the search. Default is 0<br>\n",
        "end: Optional. The position to end the search. Default is the end of the string"
      ]
    },
    {
      "cell_type": "code",
      "execution_count": null,
      "id": "bae919a8",
      "metadata": {
        "id": "bae919a8",
        "outputId": "09c17b02-8ea4-42db-f1ea-3ab44768d9ff"
      },
      "outputs": [
        {
          "data": {
            "text/plain": [
              "True"
            ]
          },
          "execution_count": 16,
          "metadata": {},
          "output_type": "execute_result"
        }
      ],
      "source": [
        "txt = \"Hello, welcome to my world.\"\n",
        "x = txt.endswith(\".\")\n",
        "x"
      ]
    },
    {
      "cell_type": "code",
      "execution_count": null,
      "id": "cb5b861f",
      "metadata": {
        "id": "cb5b861f",
        "outputId": "7f584d13-1f27-4474-ec38-727a577e879e"
      },
      "outputs": [
        {
          "data": {
            "text/plain": [
              "True"
            ]
          },
          "execution_count": 17,
          "metadata": {},
          "output_type": "execute_result"
        }
      ],
      "source": [
        "txt = \"Hello, welcome to my world.\"\n",
        "x = txt.endswith(\"my world.\")\n",
        "x"
      ]
    },
    {
      "cell_type": "code",
      "execution_count": null,
      "id": "839cf026",
      "metadata": {
        "id": "839cf026",
        "outputId": "399db44c-0645-4f19-c60b-ecd804975be7"
      },
      "outputs": [
        {
          "name": "stdout",
          "output_type": "stream",
          "text": [
            "o\n",
            "False\n"
          ]
        }
      ],
      "source": [
        "txt = \"Hello, welcome to my world.\"\n",
        "x = txt.endswith(\"my world.\", 5, 11)\n",
        "print(txt[11])\n",
        "print(x)"
      ]
    },
    {
      "cell_type": "markdown",
      "id": "b856bda3",
      "metadata": {
        "id": "b856bda3"
      },
      "source": [
        "The `find()` method finds the first occurrence of the specified value.<br>\n",
        "The `find()` method returns -1 if the value is not found.<br>\n",
        "`string.find(value, start, end)`<br>\n",
        "value: Required. The value to search for<br>\n",
        "start: Optional. Where to start the search. Default is 0<br>\n",
        "end: Optional. Where to end the search. Default is to the end of the string"
      ]
    },
    {
      "cell_type": "code",
      "execution_count": null,
      "id": "499b878c",
      "metadata": {
        "id": "499b878c",
        "outputId": "80e9dd11-d51d-4b63-9ffd-236cf37edea5"
      },
      "outputs": [
        {
          "name": "stdout",
          "output_type": "stream",
          "text": [
            "1\n"
          ]
        }
      ],
      "source": [
        "txt = \"Hello, welcome to my world.\"\n",
        "x = txt.find(\"e\")\n",
        "print(x)"
      ]
    },
    {
      "cell_type": "code",
      "execution_count": null,
      "id": "74ec76de",
      "metadata": {
        "id": "74ec76de",
        "outputId": "0a89e590-f3d3-4aae-a7bb-c0d8cd06397c"
      },
      "outputs": [
        {
          "name": "stdout",
          "output_type": "stream",
          "text": [
            "8\n"
          ]
        }
      ],
      "source": [
        "txt = \"Hello, welcome to my world.\"\n",
        "x = txt.find(\"e\", 5, 10)\n",
        "print(x)"
      ]
    },
    {
      "cell_type": "code",
      "execution_count": null,
      "id": "e22cb1b9",
      "metadata": {
        "id": "e22cb1b9",
        "outputId": "91b27e78-dfa9-44d9-be82-16805c6ef6e2"
      },
      "outputs": [
        {
          "name": "stdout",
          "output_type": "stream",
          "text": [
            "13\n"
          ]
        }
      ],
      "source": [
        "txt = \"Hello, welcome to my world.\"\n",
        "print(txt.rfind(\"e\"))"
      ]
    },
    {
      "cell_type": "markdown",
      "id": "820626dc",
      "metadata": {
        "id": "820626dc"
      },
      "source": [
        "The `split()` method splits a string into a list. You can specify the separator, default separator is any whitespace.<br>\n",
        "Note: When maxsplit is specified, the list will contain the specified number of elements plus one.<br>\n",
        "`string.split(separator, maxsplit)`<br>\n",
        "separator: Optional. Specifies the separator to use when splitting the string. By default any whitespace is a separator<br>\n",
        "maxsplit: Optional. Specifies how many splits to do. Default value is -1, which is \"all occurrences\""
      ]
    },
    {
      "cell_type": "code",
      "execution_count": null,
      "id": "65d45a9a",
      "metadata": {
        "id": "65d45a9a",
        "outputId": "1fdbe163-b2ed-45f1-c8a2-73736d562c98"
      },
      "outputs": [
        {
          "name": "stdout",
          "output_type": "stream",
          "text": [
            "['hello', 'my name is Peter', 'I am 26 years old']\n"
          ]
        }
      ],
      "source": [
        "txt = \"hello, my name is Peter, I am 26 years old\"\n",
        "x = txt.split(\", \")\n",
        "print(x)"
      ]
    },
    {
      "cell_type": "code",
      "execution_count": null,
      "id": "7569a41c",
      "metadata": {
        "id": "7569a41c",
        "outputId": "0e628adc-fea4-4d26-d481-0257ee52dcd5"
      },
      "outputs": [
        {
          "name": "stdout",
          "output_type": "stream",
          "text": [
            "['apple', 'banana', 'cherry', 'orange']\n"
          ]
        }
      ],
      "source": [
        "txt = \"apple#banana#cherry#orange\"\n",
        "x = txt.split(\"#\")\n",
        "print(x)"
      ]
    },
    {
      "cell_type": "code",
      "execution_count": null,
      "id": "5ead6446",
      "metadata": {
        "id": "5ead6446",
        "outputId": "79dbff47-1a68-470d-cb0a-71eab5755052"
      },
      "outputs": [
        {
          "name": "stdout",
          "output_type": "stream",
          "text": [
            "['apple', 'banana#cherry#orange']\n"
          ]
        }
      ],
      "source": [
        "txt = \"apple#banana#cherry#orange\"\n",
        "# setting the maxsplit parameter to 1, will return a list with 2 elements!\n",
        "x = txt.split(\"#\", 1)\n",
        "print(x)"
      ]
    },
    {
      "cell_type": "markdown",
      "id": "9b8de4b1",
      "metadata": {
        "id": "9b8de4b1"
      },
      "source": [
        "The `strip()` method removes any leading (spaces at the beginning) and trailing (spaces at the end) characters (space is the default leading character to remove)<br>\n",
        "`string.strip(characters)`<br>\n",
        "characters: Optional. A set of characters to remove as leading/trailing characters"
      ]
    },
    {
      "cell_type": "code",
      "execution_count": null,
      "id": "7d9fda9b",
      "metadata": {
        "id": "7d9fda9b",
        "outputId": "891340d1-79ec-4ae3-973c-65fe775eca8c"
      },
      "outputs": [
        {
          "name": "stdout",
          "output_type": "stream",
          "text": [
            "of all fruits banana is my favorite\n"
          ]
        }
      ],
      "source": [
        "txt = \"     banana     \"\n",
        "x = txt.strip()\n",
        "print(\"of all fruits\", x, \"is my favorite\")"
      ]
    },
    {
      "cell_type": "code",
      "execution_count": null,
      "id": "d0203bab",
      "metadata": {
        "id": "d0203bab",
        "outputId": "4f26480f-5f64-48d6-ea5b-4841bca5ea21"
      },
      "outputs": [
        {
          "name": "stdout",
          "output_type": "stream",
          "text": [
            "banana\n"
          ]
        }
      ],
      "source": [
        "txt = \",,,,,rrttgg.....banana....rrr\"\n",
        "x = txt.strip(\",.grt\")\n",
        "print(x)"
      ]
    },
    {
      "cell_type": "markdown",
      "id": "1b50dd78",
      "metadata": {
        "id": "1b50dd78"
      },
      "source": [
        "The `lstrip()` method removes any leading characters (space is the default leading character to remove)<br>\n",
        "`string.lstrip(characters)`\n",
        "characters: Optional. A set of characters to remove as leading characters"
      ]
    },
    {
      "cell_type": "code",
      "execution_count": null,
      "id": "c9f56a6f",
      "metadata": {
        "id": "c9f56a6f",
        "outputId": "a7752cf3-72c9-4434-f407-1d81ecc9aa5a"
      },
      "outputs": [
        {
          "name": "stdout",
          "output_type": "stream",
          "text": [
            "banana      is yummy\n",
            "     banana is yummy\n"
          ]
        }
      ],
      "source": [
        "txt = \"     banana     \"\n",
        "print(txt.lstrip(), 'is yummy')\n",
        "print(txt.rstrip(), 'is yummy')"
      ]
    },
    {
      "cell_type": "code",
      "execution_count": null,
      "id": "34e06d6a",
      "metadata": {
        "scrolled": true,
        "id": "34e06d6a",
        "outputId": "b6e3c2a3-ec2a-49da-8b09-7c5ae1c3880e"
      },
      "outputs": [
        {
          "name": "stdout",
          "output_type": "stream",
          "text": [
            "banana\n"
          ]
        }
      ],
      "source": [
        "txt = \",,,,,ssaaww.....banana\"\n",
        "x = txt.lstrip(\",.asw\")\n",
        "print(x)"
      ]
    },
    {
      "cell_type": "code",
      "execution_count": null,
      "id": "c770b210",
      "metadata": {
        "id": "c770b210"
      },
      "outputs": [],
      "source": []
    },
    {
      "cell_type": "code",
      "execution_count": null,
      "id": "6f3c6633",
      "metadata": {
        "id": "6f3c6633"
      },
      "outputs": [],
      "source": []
    },
    {
      "cell_type": "code",
      "execution_count": null,
      "id": "5a335b33",
      "metadata": {
        "id": "5a335b33"
      },
      "outputs": [],
      "source": []
    }
  ],
  "metadata": {
    "kernelspec": {
      "display_name": "Python 3 (ipykernel)",
      "language": "python",
      "name": "python3"
    },
    "language_info": {
      "codemirror_mode": {
        "name": "ipython",
        "version": 3
      },
      "file_extension": ".py",
      "mimetype": "text/x-python",
      "name": "python",
      "nbconvert_exporter": "python",
      "pygments_lexer": "ipython3",
      "version": "3.8.8"
    },
    "colab": {
      "provenance": [],
      "include_colab_link": true
    }
  },
  "nbformat": 4,
  "nbformat_minor": 5
}